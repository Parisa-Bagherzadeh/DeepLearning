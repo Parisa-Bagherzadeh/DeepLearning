{
  "nbformat": 4,
  "nbformat_minor": 0,
  "metadata": {
    "colab": {
      "provenance": []
    },
    "kernelspec": {
      "name": "python3",
      "display_name": "Python 3"
    },
    "language_info": {
      "name": "python"
    }
  },
  "cells": [
    {
      "cell_type": "code",
      "source": [
        "!pip install keras-tuner --upgrade"
      ],
      "metadata": {
        "id": "3Vb71SPtha6A"
      },
      "execution_count": null,
      "outputs": []
    },
    {
      "cell_type": "code",
      "execution_count": 3,
      "metadata": {
        "id": "3DdQxI6RZgfZ"
      },
      "outputs": [],
      "source": [
        "import tensorflow as tf\n",
        "from tensorflow import keras\n",
        "import keras_tuner as kt"
      ]
    },
    {
      "cell_type": "code",
      "source": [
        "(X_train,y_train),(X_test,y_test) = keras.datasets.fashion_mnist.load_data()\n"
      ],
      "metadata": {
        "id": "TWuUYPccaRc6"
      },
      "execution_count": null,
      "outputs": []
    },
    {
      "cell_type": "code",
      "source": [
        "X_train, X_test = X_train.astype('float32') / 255.0, X_test.astype('float32') / 255.0\n"
      ],
      "metadata": {
        "id": "xHiQtf2ad3Xo"
      },
      "execution_count": 5,
      "outputs": []
    },
    {
      "cell_type": "code",
      "source": [
        "def model_builder (hp):\n",
        "  model = keras.Sequential()\n",
        "  model.add(keras.layers.Flatten(input_shape=(28, 28)))\n",
        "\n",
        "  hp_units = hp.Int('units', min_value = 32, max_value = 512, step = 32)\n",
        "  model.add(keras.layers.Dense(units = hp_units, activation = 'relu'))\n",
        "  model.add(keras.layers.Dense(10))\n",
        "  hp_learning_rate = hp.Choice('learning_rate', values = [1e-2, 1e-3, 1e-4])\n",
        "\n",
        "  model.compile(optimizer = keras.optimizers.Adam(learning_rate = hp_learning_rate),\n",
        "                loss = keras.losses.SparseCategoricalCrossentropy(from_logits = True),\n",
        "                metrics = ['accuracy'])\n",
        "  \n",
        "  return model\n",
        "  \n"
      ],
      "metadata": {
        "id": "ATlwLdl6hBiN"
      },
      "execution_count": 6,
      "outputs": []
    },
    {
      "cell_type": "code",
      "source": [
        "tuner = kt.Hyperband(model_builder,\n",
        "                      objective = 'val_accuracy',\n",
        "                      max_epochs = 10,\n",
        "                      factor = 3,\n",
        "                      directory = 'my_dir',\n",
        "                      project_name = 'keras_tuner')\n",
        "\n"
      ],
      "metadata": {
        "id": "pnEVUXdSqkJk"
      },
      "execution_count": 7,
      "outputs": []
    },
    {
      "cell_type": "code",
      "source": [
        "stop_early = tf.keras.callbacks.EarlyStopping(monitor='val_loss', patience=5)"
      ],
      "metadata": {
        "id": "kTDEwQjjzILF"
      },
      "execution_count": 8,
      "outputs": []
    },
    {
      "cell_type": "code",
      "source": [
        "tuner.search(X_train, y_train, epochs = 50, validation_split = 0.2, callbacks = [stop_early])"
      ],
      "metadata": {
        "colab": {
          "base_uri": "https://localhost:8080/"
        },
        "id": "GIgBeS3kzkX4",
        "outputId": "dd854dcb-ddd7-43cc-bc37-75339806eb18"
      },
      "execution_count": 9,
      "outputs": [
        {
          "output_type": "stream",
          "name": "stdout",
          "text": [
            "Trial 30 Complete [00h 02m 23s]\n",
            "val_accuracy: 0.8615833520889282\n",
            "\n",
            "Best val_accuracy So Far: 0.8891666531562805\n",
            "Total elapsed time: 00h 23m 06s\n"
          ]
        }
      ]
    },
    {
      "cell_type": "code",
      "source": [
        "best_hps=tuner.get_best_hyperparameters(num_trials=1)[0]\n",
        "\n",
        "\n",
        "print(f\"\"\"\n",
        "The optimal number of units in the first densely-connectedlayer is {best_hps.get('units')} \n",
        "and the optimal learning rate : {best_hps.get('learning_rate')}.\n",
        "\"\"\")\n",
        "      "
      ],
      "metadata": {
        "colab": {
          "base_uri": "https://localhost:8080/"
        },
        "id": "jXzrzD0I0kf5",
        "outputId": "7ab1fcf5-f955-46dd-c480-ec50030deead"
      },
      "execution_count": 10,
      "outputs": [
        {
          "output_type": "stream",
          "name": "stdout",
          "text": [
            "\n",
            "The optimal number of units in the first densely-connectedlayer is 384 \n",
            "and the optimal learning rate : 0.001.\n",
            "\n"
          ]
        }
      ]
    },
    {
      "cell_type": "code",
      "source": [
        "model = tuner.hypermodel.build(best_hps)\n",
        "history = model.fit(X_train, y_train, epochs = 50, validation_split = 0.2)\n",
        "val_accuracy = history.history['val_accuracy']\n",
        "best_epoch = val_accuracy.index(max(val_accuracy)) + 1"
      ],
      "metadata": {
        "colab": {
          "base_uri": "https://localhost:8080/"
        },
        "id": "hfDE22TsYsIB",
        "outputId": "0acf4433-1305-462e-cb26-f68b1e43b49e"
      },
      "execution_count": 12,
      "outputs": [
        {
          "output_type": "stream",
          "name": "stdout",
          "text": [
            "Epoch 1/50\n",
            "1500/1500 [==============================] - 8s 5ms/step - loss: 0.4936 - accuracy: 0.8278 - val_loss: 0.4287 - val_accuracy: 0.8483\n",
            "Epoch 2/50\n",
            "1500/1500 [==============================] - 8s 5ms/step - loss: 0.3705 - accuracy: 0.8645 - val_loss: 0.3974 - val_accuracy: 0.8560\n",
            "Epoch 3/50\n",
            "1500/1500 [==============================] - 8s 5ms/step - loss: 0.3321 - accuracy: 0.8778 - val_loss: 0.3606 - val_accuracy: 0.8673\n",
            "Epoch 4/50\n",
            "1500/1500 [==============================] - 9s 6ms/step - loss: 0.3069 - accuracy: 0.8864 - val_loss: 0.3447 - val_accuracy: 0.8746\n",
            "Epoch 5/50\n",
            "1500/1500 [==============================] - 8s 5ms/step - loss: 0.2862 - accuracy: 0.8935 - val_loss: 0.3343 - val_accuracy: 0.8780\n",
            "Epoch 6/50\n",
            "1500/1500 [==============================] - 8s 5ms/step - loss: 0.2723 - accuracy: 0.8991 - val_loss: 0.3250 - val_accuracy: 0.8832\n",
            "Epoch 7/50\n",
            "1500/1500 [==============================] - 8s 6ms/step - loss: 0.2600 - accuracy: 0.9028 - val_loss: 0.3194 - val_accuracy: 0.8863\n",
            "Epoch 8/50\n",
            "1500/1500 [==============================] - 8s 6ms/step - loss: 0.2461 - accuracy: 0.9073 - val_loss: 0.3455 - val_accuracy: 0.8778\n",
            "Epoch 9/50\n",
            "1500/1500 [==============================] - 9s 6ms/step - loss: 0.2361 - accuracy: 0.9118 - val_loss: 0.3036 - val_accuracy: 0.8919\n",
            "Epoch 10/50\n",
            "1500/1500 [==============================] - 9s 6ms/step - loss: 0.2257 - accuracy: 0.9149 - val_loss: 0.3035 - val_accuracy: 0.8942\n",
            "Epoch 11/50\n",
            "1500/1500 [==============================] - 11s 7ms/step - loss: 0.2187 - accuracy: 0.9177 - val_loss: 0.3126 - val_accuracy: 0.8914\n",
            "Epoch 12/50\n",
            "1500/1500 [==============================] - 10s 6ms/step - loss: 0.2082 - accuracy: 0.9226 - val_loss: 0.3308 - val_accuracy: 0.8900\n",
            "Epoch 13/50\n",
            "1500/1500 [==============================] - 10s 7ms/step - loss: 0.1995 - accuracy: 0.9246 - val_loss: 0.3300 - val_accuracy: 0.8932\n",
            "Epoch 14/50\n",
            "1500/1500 [==============================] - 9s 6ms/step - loss: 0.1951 - accuracy: 0.9274 - val_loss: 0.3144 - val_accuracy: 0.8917\n",
            "Epoch 15/50\n",
            "1500/1500 [==============================] - 8s 5ms/step - loss: 0.1848 - accuracy: 0.9307 - val_loss: 0.3172 - val_accuracy: 0.8943\n",
            "Epoch 16/50\n",
            "1500/1500 [==============================] - 9s 6ms/step - loss: 0.1834 - accuracy: 0.9306 - val_loss: 0.3214 - val_accuracy: 0.8953\n",
            "Epoch 17/50\n",
            "1500/1500 [==============================] - 9s 6ms/step - loss: 0.1739 - accuracy: 0.9345 - val_loss: 0.3353 - val_accuracy: 0.8922\n",
            "Epoch 18/50\n",
            "1500/1500 [==============================] - 9s 6ms/step - loss: 0.1665 - accuracy: 0.9378 - val_loss: 0.3534 - val_accuracy: 0.8899\n",
            "Epoch 19/50\n",
            "1500/1500 [==============================] - 8s 6ms/step - loss: 0.1618 - accuracy: 0.9387 - val_loss: 0.3568 - val_accuracy: 0.8919\n",
            "Epoch 20/50\n",
            "1500/1500 [==============================] - 8s 6ms/step - loss: 0.1566 - accuracy: 0.9411 - val_loss: 0.3297 - val_accuracy: 0.8951\n",
            "Epoch 21/50\n",
            "1500/1500 [==============================] - 9s 6ms/step - loss: 0.1526 - accuracy: 0.9421 - val_loss: 0.3527 - val_accuracy: 0.8947\n",
            "Epoch 22/50\n",
            "1500/1500 [==============================] - 9s 6ms/step - loss: 0.1485 - accuracy: 0.9442 - val_loss: 0.3688 - val_accuracy: 0.8958\n",
            "Epoch 23/50\n",
            "1500/1500 [==============================] - 9s 6ms/step - loss: 0.1420 - accuracy: 0.9465 - val_loss: 0.3682 - val_accuracy: 0.8903\n",
            "Epoch 24/50\n",
            "1500/1500 [==============================] - 9s 6ms/step - loss: 0.1408 - accuracy: 0.9473 - val_loss: 0.3904 - val_accuracy: 0.8907\n",
            "Epoch 25/50\n",
            "1500/1500 [==============================] - 9s 6ms/step - loss: 0.1343 - accuracy: 0.9494 - val_loss: 0.3680 - val_accuracy: 0.8913\n",
            "Epoch 26/50\n",
            "1500/1500 [==============================] - 9s 6ms/step - loss: 0.1340 - accuracy: 0.9495 - val_loss: 0.3772 - val_accuracy: 0.8923\n",
            "Epoch 27/50\n",
            "1500/1500 [==============================] - 8s 6ms/step - loss: 0.1281 - accuracy: 0.9525 - val_loss: 0.3911 - val_accuracy: 0.8894\n",
            "Epoch 28/50\n",
            "1500/1500 [==============================] - 8s 5ms/step - loss: 0.1225 - accuracy: 0.9535 - val_loss: 0.4088 - val_accuracy: 0.8919\n",
            "Epoch 29/50\n",
            "1500/1500 [==============================] - 8s 5ms/step - loss: 0.1195 - accuracy: 0.9556 - val_loss: 0.3937 - val_accuracy: 0.8931\n",
            "Epoch 30/50\n",
            "1500/1500 [==============================] - 9s 6ms/step - loss: 0.1155 - accuracy: 0.9569 - val_loss: 0.4091 - val_accuracy: 0.8906\n",
            "Epoch 31/50\n",
            "1500/1500 [==============================] - 8s 5ms/step - loss: 0.1121 - accuracy: 0.9585 - val_loss: 0.4050 - val_accuracy: 0.8910\n",
            "Epoch 32/50\n",
            "1500/1500 [==============================] - 8s 6ms/step - loss: 0.1120 - accuracy: 0.9584 - val_loss: 0.4101 - val_accuracy: 0.8957\n",
            "Epoch 33/50\n",
            "1500/1500 [==============================] - 8s 6ms/step - loss: 0.1056 - accuracy: 0.9599 - val_loss: 0.4254 - val_accuracy: 0.8933\n",
            "Epoch 34/50\n",
            "1500/1500 [==============================] - 10s 7ms/step - loss: 0.1043 - accuracy: 0.9608 - val_loss: 0.4329 - val_accuracy: 0.8896\n",
            "Epoch 35/50\n",
            "1500/1500 [==============================] - 9s 6ms/step - loss: 0.1027 - accuracy: 0.9619 - val_loss: 0.4283 - val_accuracy: 0.8915\n",
            "Epoch 36/50\n",
            "1500/1500 [==============================] - 9s 6ms/step - loss: 0.1010 - accuracy: 0.9629 - val_loss: 0.4440 - val_accuracy: 0.8895\n",
            "Epoch 37/50\n",
            "1500/1500 [==============================] - 10s 7ms/step - loss: 0.0994 - accuracy: 0.9625 - val_loss: 0.4397 - val_accuracy: 0.8935\n",
            "Epoch 38/50\n",
            "1500/1500 [==============================] - 9s 6ms/step - loss: 0.0972 - accuracy: 0.9630 - val_loss: 0.4701 - val_accuracy: 0.8878\n",
            "Epoch 39/50\n",
            "1500/1500 [==============================] - 9s 6ms/step - loss: 0.0921 - accuracy: 0.9648 - val_loss: 0.4695 - val_accuracy: 0.8924\n",
            "Epoch 40/50\n",
            "1500/1500 [==============================] - 8s 5ms/step - loss: 0.0933 - accuracy: 0.9641 - val_loss: 0.4991 - val_accuracy: 0.8842\n",
            "Epoch 41/50\n",
            "1500/1500 [==============================] - 8s 5ms/step - loss: 0.0892 - accuracy: 0.9664 - val_loss: 0.4671 - val_accuracy: 0.8911\n",
            "Epoch 42/50\n",
            "1500/1500 [==============================] - 8s 5ms/step - loss: 0.0882 - accuracy: 0.9676 - val_loss: 0.4715 - val_accuracy: 0.8934\n",
            "Epoch 43/50\n",
            "1500/1500 [==============================] - 8s 5ms/step - loss: 0.0840 - accuracy: 0.9682 - val_loss: 0.4858 - val_accuracy: 0.8946\n",
            "Epoch 44/50\n",
            "1500/1500 [==============================] - 8s 5ms/step - loss: 0.0848 - accuracy: 0.9692 - val_loss: 0.5077 - val_accuracy: 0.8860\n",
            "Epoch 45/50\n",
            "1500/1500 [==============================] - 8s 5ms/step - loss: 0.0804 - accuracy: 0.9708 - val_loss: 0.5025 - val_accuracy: 0.8892\n",
            "Epoch 46/50\n",
            "1500/1500 [==============================] - 8s 6ms/step - loss: 0.0813 - accuracy: 0.9695 - val_loss: 0.5213 - val_accuracy: 0.8885\n",
            "Epoch 47/50\n",
            "1500/1500 [==============================] - 8s 6ms/step - loss: 0.0796 - accuracy: 0.9702 - val_loss: 0.5239 - val_accuracy: 0.8889\n",
            "Epoch 48/50\n",
            "1500/1500 [==============================] - 8s 5ms/step - loss: 0.0768 - accuracy: 0.9712 - val_loss: 0.5487 - val_accuracy: 0.8934\n",
            "Epoch 49/50\n",
            "1500/1500 [==============================] - 8s 5ms/step - loss: 0.0774 - accuracy: 0.9704 - val_loss: 0.5443 - val_accuracy: 0.8913\n",
            "Epoch 50/50\n",
            "1500/1500 [==============================] - 8s 6ms/step - loss: 0.0723 - accuracy: 0.9725 - val_loss: 0.5490 - val_accuracy: 0.8916\n"
          ]
        }
      ]
    },
    {
      "cell_type": "code",
      "source": [
        "hypermodel = tuner.hypermodel.build(best_hps)\n",
        "\n",
        "hypermodel.fit(X_train, y_train, epochs = best_epoch, validation_split = 0.2)\n"
      ],
      "metadata": {
        "colab": {
          "base_uri": "https://localhost:8080/"
        },
        "id": "9wy92AzJpbhI",
        "outputId": "28f1017e-0da5-4d66-d3fd-fde9d0392506"
      },
      "execution_count": 13,
      "outputs": [
        {
          "output_type": "stream",
          "name": "stdout",
          "text": [
            "Epoch 1/22\n",
            "1500/1500 [==============================] - 8s 5ms/step - loss: 0.4943 - accuracy: 0.8234 - val_loss: 0.4208 - val_accuracy: 0.8432\n",
            "Epoch 2/22\n",
            "1500/1500 [==============================] - 7s 5ms/step - loss: 0.3693 - accuracy: 0.8659 - val_loss: 0.3621 - val_accuracy: 0.8683\n",
            "Epoch 3/22\n",
            "1500/1500 [==============================] - 11s 7ms/step - loss: 0.3333 - accuracy: 0.8779 - val_loss: 0.3318 - val_accuracy: 0.8810\n",
            "Epoch 4/22\n",
            "1500/1500 [==============================] - 8s 5ms/step - loss: 0.3064 - accuracy: 0.8866 - val_loss: 0.3287 - val_accuracy: 0.8812\n",
            "Epoch 5/22\n",
            "1500/1500 [==============================] - 8s 5ms/step - loss: 0.2882 - accuracy: 0.8925 - val_loss: 0.3385 - val_accuracy: 0.8783\n",
            "Epoch 6/22\n",
            "1500/1500 [==============================] - 8s 6ms/step - loss: 0.2720 - accuracy: 0.8993 - val_loss: 0.3266 - val_accuracy: 0.8834\n",
            "Epoch 7/22\n",
            "1500/1500 [==============================] - 8s 5ms/step - loss: 0.2575 - accuracy: 0.9034 - val_loss: 0.3154 - val_accuracy: 0.8877\n",
            "Epoch 8/22\n",
            "1500/1500 [==============================] - 8s 5ms/step - loss: 0.2443 - accuracy: 0.9078 - val_loss: 0.3253 - val_accuracy: 0.8826\n",
            "Epoch 9/22\n",
            "1500/1500 [==============================] - 8s 5ms/step - loss: 0.2358 - accuracy: 0.9113 - val_loss: 0.3266 - val_accuracy: 0.8883\n",
            "Epoch 10/22\n",
            "1500/1500 [==============================] - 8s 6ms/step - loss: 0.2271 - accuracy: 0.9152 - val_loss: 0.3109 - val_accuracy: 0.8917\n",
            "Epoch 11/22\n",
            "1500/1500 [==============================] - 8s 6ms/step - loss: 0.2169 - accuracy: 0.9185 - val_loss: 0.3249 - val_accuracy: 0.8888\n",
            "Epoch 12/22\n",
            "1500/1500 [==============================] - 9s 6ms/step - loss: 0.2110 - accuracy: 0.9196 - val_loss: 0.3166 - val_accuracy: 0.8937\n",
            "Epoch 13/22\n",
            "1500/1500 [==============================] - 8s 5ms/step - loss: 0.2015 - accuracy: 0.9242 - val_loss: 0.3451 - val_accuracy: 0.8823\n",
            "Epoch 14/22\n",
            "1500/1500 [==============================] - 9s 6ms/step - loss: 0.1972 - accuracy: 0.9250 - val_loss: 0.3241 - val_accuracy: 0.8906\n",
            "Epoch 15/22\n",
            "1500/1500 [==============================] - 9s 6ms/step - loss: 0.1890 - accuracy: 0.9295 - val_loss: 0.3171 - val_accuracy: 0.8913\n",
            "Epoch 16/22\n",
            "1500/1500 [==============================] - 9s 6ms/step - loss: 0.1808 - accuracy: 0.9312 - val_loss: 0.3430 - val_accuracy: 0.8888\n",
            "Epoch 17/22\n",
            "1500/1500 [==============================] - 9s 6ms/step - loss: 0.1751 - accuracy: 0.9349 - val_loss: 0.3400 - val_accuracy: 0.8944\n",
            "Epoch 18/22\n",
            "1500/1500 [==============================] - 10s 7ms/step - loss: 0.1701 - accuracy: 0.9358 - val_loss: 0.3355 - val_accuracy: 0.8957\n",
            "Epoch 19/22\n",
            "1500/1500 [==============================] - 9s 6ms/step - loss: 0.1620 - accuracy: 0.9389 - val_loss: 0.3500 - val_accuracy: 0.8945\n",
            "Epoch 20/22\n",
            "1500/1500 [==============================] - 9s 6ms/step - loss: 0.1577 - accuracy: 0.9412 - val_loss: 0.3427 - val_accuracy: 0.8877\n",
            "Epoch 21/22\n",
            "1500/1500 [==============================] - 9s 6ms/step - loss: 0.1552 - accuracy: 0.9409 - val_loss: 0.3665 - val_accuracy: 0.8878\n",
            "Epoch 22/22\n",
            "1500/1500 [==============================] - 8s 5ms/step - loss: 0.1501 - accuracy: 0.9438 - val_loss: 0.3807 - val_accuracy: 0.8900\n"
          ]
        },
        {
          "output_type": "execute_result",
          "data": {
            "text/plain": [
              "<keras.callbacks.History at 0x7f320362c5e0>"
            ]
          },
          "metadata": {},
          "execution_count": 13
        }
      ]
    },
    {
      "cell_type": "code",
      "source": [
        "eval_result = hypermodel.evaluate(X_test, y_test)\n",
        "print('[test_loss, test accuracy] : ', eval_result)"
      ],
      "metadata": {
        "colab": {
          "base_uri": "https://localhost:8080/"
        },
        "id": "XL91okx7q-yj",
        "outputId": "f21b052b-2631-457b-bff1-72f4da5eaeb5"
      },
      "execution_count": 14,
      "outputs": [
        {
          "output_type": "stream",
          "name": "stdout",
          "text": [
            "313/313 [==============================] - 1s 3ms/step - loss: 0.4120 - accuracy: 0.8851\n",
            "[test_loss, test accuracy] :  [0.41196656227111816, 0.8851000070571899]\n"
          ]
        }
      ]
    }
  ]
}