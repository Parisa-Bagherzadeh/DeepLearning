{
  "nbformat": 4,
  "nbformat_minor": 0,
  "metadata": {
    "colab": {
      "name": "mnist_tensorflow.ipynb",
      "provenance": []
    },
    "kernelspec": {
      "name": "python3",
      "display_name": "Python 3"
    },
    "language_info": {
      "name": "python"
    }
  },
  "cells": [
    {
      "cell_type": "code",
      "metadata": {
        "colab": {
          "base_uri": "https://localhost:8080/"
        },
        "id": "8scVjU2GVvxR",
        "outputId": "7aa278d8-288d-4eec-de5f-a5180c1e001d"
      },
      "source": [
        "import tensorflow as tf\n",
        "print('tensorflow_version',tf.__version__)"
      ],
      "execution_count": 122,
      "outputs": [
        {
          "output_type": "stream",
          "name": "stdout",
          "text": [
            "tensorflow_version 2.6.0\n"
          ]
        }
      ]
    },
    {
      "cell_type": "code",
      "metadata": {
        "id": "sNyAfXhfWAfm"
      },
      "source": [
        "mnist=tf.keras.datasets.mnist\n",
        "(x_train,y_train),(x_test,y_test)=mnist.load_data()\n",
        "x_train,x_test=x_train/255.0,x_test/255.0\n"
      ],
      "execution_count": 123,
      "outputs": []
    },
    {
      "cell_type": "code",
      "metadata": {
        "id": "cd_KwDY8XbQN"
      },
      "source": [
        "model=tf.keras.models.Sequential([\n",
        "                                  tf.keras.layers.Flatten(input_shape=(28,28)),\n",
        "                                  tf.keras.layers.Dense(128,activation='relu'),\n",
        "                                  tf.keras.layers.Dropout(0.2),\n",
        "                                  tf.keras.layers.Dense(10),\n",
        "                                  #tf.keras.layers.Softmax()\n",
        "])\n",
        "\n",
        "\n"
      ],
      "execution_count": 124,
      "outputs": []
    },
    {
      "cell_type": "code",
      "metadata": {
        "colab": {
          "base_uri": "https://localhost:8080/"
        },
        "id": "qe-JlCqfaXbX",
        "outputId": "aa493c6a-c57a-42ac-cfc7-30bded371631"
      },
      "source": [
        "predictions=model(x_train[:1]).numpy()\n",
        "predictions"
      ],
      "execution_count": 125,
      "outputs": [
        {
          "output_type": "execute_result",
          "data": {
            "text/plain": [
              "array([[ 0.45307875, -0.18067646, -0.19675766,  0.07672346, -0.0764754 ,\n",
              "        -0.04128955, -0.08816738,  0.743087  , -0.32578474,  0.15249586]],\n",
              "      dtype=float32)"
            ]
          },
          "metadata": {},
          "execution_count": 125
        }
      ]
    },
    {
      "cell_type": "code",
      "metadata": {
        "colab": {
          "base_uri": "https://localhost:8080/"
        },
        "id": "r-nRkex8bRC2",
        "outputId": "48f4e6c4-ed44-4645-90d7-6bee56b508ad"
      },
      "source": [
        "tf.nn.softmax(predictions).numpy()"
      ],
      "execution_count": 126,
      "outputs": [
        {
          "output_type": "execute_result",
          "data": {
            "text/plain": [
              "array([[0.14172971, 0.07520115, 0.0740015 , 0.09727737, 0.08346002,\n",
              "        0.0864489 , 0.08248989, 0.18941304, 0.06504363, 0.10493477]],\n",
              "      dtype=float32)"
            ]
          },
          "metadata": {},
          "execution_count": 126
        }
      ]
    },
    {
      "cell_type": "code",
      "metadata": {
        "id": "ty8KsU5phYKX"
      },
      "source": [
        "loss_fn = tf.keras.losses.SparseCategoricalCrossentropy(from_logits=True)\n"
      ],
      "execution_count": 127,
      "outputs": []
    },
    {
      "cell_type": "code",
      "metadata": {
        "colab": {
          "base_uri": "https://localhost:8080/"
        },
        "id": "S0yCnnhHh94I",
        "outputId": "0037c032-eca2-4c40-c07b-e5b7fe249d33"
      },
      "source": [
        "loss_fn(y_train[:1],predictions).numpy()"
      ],
      "execution_count": 128,
      "outputs": [
        {
          "output_type": "execute_result",
          "data": {
            "text/plain": [
              "2.448202"
            ]
          },
          "metadata": {},
          "execution_count": 128
        }
      ]
    },
    {
      "cell_type": "code",
      "metadata": {
        "id": "K1rbebtcjH5y"
      },
      "source": [
        "model.compile(optimizer='adam',\n",
        "              loss=loss_fn,\n",
        "              metrics=['accuracy']\n",
        "              )"
      ],
      "execution_count": 129,
      "outputs": []
    },
    {
      "cell_type": "code",
      "metadata": {
        "colab": {
          "base_uri": "https://localhost:8080/"
        },
        "id": "-1zTC6tXwssp",
        "outputId": "2682028b-faae-49bd-e537-f87fa64e1684"
      },
      "source": [
        "model.fit(x_train,y_train,epochs=5)"
      ],
      "execution_count": 130,
      "outputs": [
        {
          "output_type": "stream",
          "name": "stdout",
          "text": [
            "Epoch 1/5\n",
            "1875/1875 [==============================] - 5s 2ms/step - loss: 0.2988 - accuracy: 0.9140\n",
            "Epoch 2/5\n",
            "1875/1875 [==============================] - 4s 2ms/step - loss: 0.1450 - accuracy: 0.9577\n",
            "Epoch 3/5\n",
            "1875/1875 [==============================] - 4s 2ms/step - loss: 0.1075 - accuracy: 0.9683\n",
            "Epoch 4/5\n",
            "1875/1875 [==============================] - 4s 2ms/step - loss: 0.0895 - accuracy: 0.9727\n",
            "Epoch 5/5\n",
            "1875/1875 [==============================] - 4s 2ms/step - loss: 0.0767 - accuracy: 0.9758\n"
          ]
        },
        {
          "output_type": "execute_result",
          "data": {
            "text/plain": [
              "<keras.callbacks.History at 0x7f5c06e38550>"
            ]
          },
          "metadata": {},
          "execution_count": 130
        }
      ]
    },
    {
      "cell_type": "code",
      "metadata": {
        "colab": {
          "base_uri": "https://localhost:8080/"
        },
        "id": "N01NOvoJxJJp",
        "outputId": "ff9d8569-71eb-4be1-e633-ef4af3284fe2"
      },
      "source": [
        "model.evaluate(x_test,y_test,verbose=2)"
      ],
      "execution_count": 131,
      "outputs": [
        {
          "output_type": "stream",
          "name": "stdout",
          "text": [
            "313/313 - 0s - loss: 0.0751 - accuracy: 0.9774\n"
          ]
        },
        {
          "output_type": "execute_result",
          "data": {
            "text/plain": [
              "[0.07512661814689636, 0.977400004863739]"
            ]
          },
          "metadata": {},
          "execution_count": 131
        }
      ]
    },
    {
      "cell_type": "code",
      "metadata": {
        "id": "msczD41u44v_"
      },
      "source": [
        "probability_model = tf.keras.Sequential([\n",
        "  model,\n",
        "  tf.keras.layers.Softmax()\n",
        "])\n"
      ],
      "execution_count": 132,
      "outputs": []
    },
    {
      "cell_type": "code",
      "metadata": {
        "colab": {
          "base_uri": "https://localhost:8080/"
        },
        "id": "lK0j25JW4-Qv",
        "outputId": "08917e43-0f8b-4ebd-bfa3-0079eb151358"
      },
      "source": [
        "probability_model(x_test[:5])\n"
      ],
      "execution_count": 133,
      "outputs": [
        {
          "output_type": "execute_result",
          "data": {
            "text/plain": [
              "<tf.Tensor: shape=(5, 10), dtype=float32, numpy=\n",
              "array([[7.43737232e-08, 1.69305514e-09, 8.69926964e-07, 6.07956572e-05,\n",
              "        8.48117410e-10, 8.02687872e-09, 1.50895071e-13, 9.99937415e-01,\n",
              "        7.41350732e-08, 7.04937349e-07],\n",
              "       [4.61093862e-07, 1.85385783e-04, 9.99805748e-01, 7.46271462e-06,\n",
              "        8.18607713e-18, 3.04089156e-07, 1.63189888e-08, 3.09639602e-13,\n",
              "        5.71473151e-07, 4.49231310e-14],\n",
              "       [3.76966227e-07, 9.97443438e-01, 2.55065825e-04, 8.52417088e-06,\n",
              "        7.56742229e-05, 1.90395167e-05, 1.34650099e-05, 1.78996741e-03,\n",
              "        3.92935646e-04, 1.43845944e-06],\n",
              "       [9.99873757e-01, 1.63440053e-10, 1.20202785e-04, 1.13484777e-08,\n",
              "        3.54069329e-10, 3.27784193e-07, 4.73150777e-07, 4.59872081e-06,\n",
              "        8.63529976e-08, 6.83050132e-07],\n",
              "       [1.06801963e-05, 2.80067125e-09, 4.85387773e-06, 1.92659861e-08,\n",
              "        9.84663904e-01, 7.62257883e-08, 7.99058398e-07, 4.19386633e-05,\n",
              "        2.94391157e-07, 1.52774332e-02]], dtype=float32)>"
            ]
          },
          "metadata": {},
          "execution_count": 133
        }
      ]
    }
  ]
}