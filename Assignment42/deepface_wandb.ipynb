{
  "nbformat": 4,
  "nbformat_minor": 0,
  "metadata": {
    "colab": {
      "name": "deepface_wandb.ipynb",
      "provenance": []
    },
    "kernelspec": {
      "name": "python3",
      "display_name": "Python 3"
    },
    "language_info": {
      "name": "python"
    }
  },
  "cells": [
    {
      "cell_type": "code",
      "execution_count": 1,
      "metadata": {
        "colab": {
          "base_uri": "https://localhost:8080/"
        },
        "id": "NjrtjC4fLCaQ",
        "outputId": "1aa2fe5f-3baa-4f12-bebc-eea8206c9f96"
      },
      "outputs": [
        {
          "output_type": "stream",
          "name": "stdout",
          "text": [
            "Collecting wandb\n",
            "  Downloading wandb-0.12.11-py2.py3-none-any.whl (1.7 MB)\n",
            "\u001b[K     |████████████████████████████████| 1.7 MB 4.2 MB/s \n",
            "\u001b[?25hCollecting GitPython>=1.0.0\n",
            "  Downloading GitPython-3.1.27-py3-none-any.whl (181 kB)\n",
            "\u001b[K     |████████████████████████████████| 181 kB 42.3 MB/s \n",
            "\u001b[?25hRequirement already satisfied: psutil>=5.0.0 in /usr/local/lib/python3.7/dist-packages (from wandb) (5.4.8)\n",
            "Collecting pathtools\n",
            "  Downloading pathtools-0.1.2.tar.gz (11 kB)\n",
            "Collecting docker-pycreds>=0.4.0\n",
            "  Downloading docker_pycreds-0.4.0-py2.py3-none-any.whl (9.0 kB)\n",
            "Requirement already satisfied: requests<3,>=2.0.0 in /usr/local/lib/python3.7/dist-packages (from wandb) (2.23.0)\n",
            "Requirement already satisfied: Click!=8.0.0,>=7.0 in /usr/local/lib/python3.7/dist-packages (from wandb) (7.1.2)\n",
            "Requirement already satisfied: python-dateutil>=2.6.1 in /usr/local/lib/python3.7/dist-packages (from wandb) (2.8.2)\n",
            "Requirement already satisfied: promise<3,>=2.0 in /usr/local/lib/python3.7/dist-packages (from wandb) (2.3)\n",
            "Collecting sentry-sdk>=1.0.0\n",
            "  Downloading sentry_sdk-1.5.6-py2.py3-none-any.whl (144 kB)\n",
            "\u001b[K     |████████████████████████████████| 144 kB 49.2 MB/s \n",
            "\u001b[?25hCollecting setproctitle\n",
            "  Downloading setproctitle-1.2.2-cp37-cp37m-manylinux1_x86_64.whl (36 kB)\n",
            "Collecting shortuuid>=0.5.0\n",
            "  Downloading shortuuid-1.0.8-py3-none-any.whl (9.5 kB)\n",
            "Collecting yaspin>=1.0.0\n",
            "  Downloading yaspin-2.1.0-py3-none-any.whl (18 kB)\n",
            "Requirement already satisfied: six>=1.13.0 in /usr/local/lib/python3.7/dist-packages (from wandb) (1.15.0)\n",
            "Requirement already satisfied: protobuf>=3.12.0 in /usr/local/lib/python3.7/dist-packages (from wandb) (3.17.3)\n",
            "Requirement already satisfied: PyYAML in /usr/local/lib/python3.7/dist-packages (from wandb) (3.13)\n",
            "Collecting gitdb<5,>=4.0.1\n",
            "  Downloading gitdb-4.0.9-py3-none-any.whl (63 kB)\n",
            "\u001b[K     |████████████████████████████████| 63 kB 1.5 MB/s \n",
            "\u001b[?25hRequirement already satisfied: typing-extensions>=3.7.4.3 in /usr/local/lib/python3.7/dist-packages (from GitPython>=1.0.0->wandb) (3.10.0.2)\n",
            "Collecting smmap<6,>=3.0.1\n",
            "  Downloading smmap-5.0.0-py3-none-any.whl (24 kB)\n",
            "Requirement already satisfied: urllib3!=1.25.0,!=1.25.1,<1.26,>=1.21.1 in /usr/local/lib/python3.7/dist-packages (from requests<3,>=2.0.0->wandb) (1.24.3)\n",
            "Requirement already satisfied: idna<3,>=2.5 in /usr/local/lib/python3.7/dist-packages (from requests<3,>=2.0.0->wandb) (2.10)\n",
            "Requirement already satisfied: certifi>=2017.4.17 in /usr/local/lib/python3.7/dist-packages (from requests<3,>=2.0.0->wandb) (2021.10.8)\n",
            "Requirement already satisfied: chardet<4,>=3.0.2 in /usr/local/lib/python3.7/dist-packages (from requests<3,>=2.0.0->wandb) (3.0.4)\n",
            "Requirement already satisfied: termcolor<2.0.0,>=1.1.0 in /usr/local/lib/python3.7/dist-packages (from yaspin>=1.0.0->wandb) (1.1.0)\n",
            "Building wheels for collected packages: pathtools\n",
            "  Building wheel for pathtools (setup.py) ... \u001b[?25l\u001b[?25hdone\n",
            "  Created wheel for pathtools: filename=pathtools-0.1.2-py3-none-any.whl size=8806 sha256=488fe36e2dec8234e0e3e6f6dafce979c1a65560bd7c22302a9911df31d5627e\n",
            "  Stored in directory: /root/.cache/pip/wheels/3e/31/09/fa59cef12cdcfecc627b3d24273699f390e71828921b2cbba2\n",
            "Successfully built pathtools\n",
            "Installing collected packages: smmap, gitdb, yaspin, shortuuid, setproctitle, sentry-sdk, pathtools, GitPython, docker-pycreds, wandb\n",
            "Successfully installed GitPython-3.1.27 docker-pycreds-0.4.0 gitdb-4.0.9 pathtools-0.1.2 sentry-sdk-1.5.6 setproctitle-1.2.2 shortuuid-1.0.8 smmap-5.0.0 wandb-0.12.11 yaspin-2.1.0\n"
          ]
        }
      ],
      "source": [
        "!pip install wandb"
      ]
    },
    {
      "cell_type": "code",
      "source": [
        "!pip install deepface"
      ],
      "metadata": {
        "colab": {
          "base_uri": "https://localhost:8080/"
        },
        "id": "f4oSNUTyMbry",
        "outputId": "18669ede-aa7e-4eda-b84c-059edb50c001"
      },
      "execution_count": 7,
      "outputs": [
        {
          "output_type": "stream",
          "name": "stdout",
          "text": [
            "Collecting deepface\n",
            "  Downloading deepface-0.0.73-py3-none-any.whl (63 kB)\n",
            "\u001b[?25l\r\u001b[K     |█████▏                          | 10 kB 19.6 MB/s eta 0:00:01\r\u001b[K     |██████████▎                     | 20 kB 8.8 MB/s eta 0:00:01\r\u001b[K     |███████████████▌                | 30 kB 7.6 MB/s eta 0:00:01\r\u001b[K     |████████████████████▋           | 40 kB 3.5 MB/s eta 0:00:01\r\u001b[K     |█████████████████████████▉      | 51 kB 4.0 MB/s eta 0:00:01\r\u001b[K     |███████████████████████████████ | 61 kB 4.2 MB/s eta 0:00:01\r\u001b[K     |████████████████████████████████| 63 kB 1.1 MB/s \n",
            "\u001b[?25hRequirement already satisfied: gdown>=3.10.1 in /usr/local/lib/python3.7/dist-packages (from deepface) (4.2.2)\n",
            "Collecting mtcnn>=0.1.0\n",
            "  Downloading mtcnn-0.1.1-py3-none-any.whl (2.3 MB)\n",
            "\u001b[K     |████████████████████████████████| 2.3 MB 9.0 MB/s \n",
            "\u001b[?25hRequirement already satisfied: numpy>=1.14.0 in /usr/local/lib/python3.7/dist-packages (from deepface) (1.21.5)\n",
            "Requirement already satisfied: keras>=2.2.0 in /usr/local/lib/python3.7/dist-packages (from deepface) (2.8.0)\n",
            "Requirement already satisfied: opencv-python>=3.4.4 in /usr/local/lib/python3.7/dist-packages (from deepface) (4.1.2.30)\n",
            "Requirement already satisfied: Flask>=1.1.2 in /usr/local/lib/python3.7/dist-packages (from deepface) (1.1.4)\n",
            "Collecting retina-face>=0.0.1\n",
            "  Downloading retina_face-0.0.10-py3-none-any.whl (15 kB)\n",
            "Requirement already satisfied: Pillow>=5.2.0 in /usr/local/lib/python3.7/dist-packages (from deepface) (7.1.2)\n",
            "Requirement already satisfied: pandas>=0.23.4 in /usr/local/lib/python3.7/dist-packages (from deepface) (1.3.5)\n",
            "Requirement already satisfied: tensorflow>=1.9.0 in /usr/local/lib/python3.7/dist-packages (from deepface) (2.8.0)\n",
            "Requirement already satisfied: tqdm>=4.30.0 in /usr/local/lib/python3.7/dist-packages (from deepface) (4.63.0)\n",
            "Requirement already satisfied: itsdangerous<2.0,>=0.24 in /usr/local/lib/python3.7/dist-packages (from Flask>=1.1.2->deepface) (1.1.0)\n",
            "Requirement already satisfied: Jinja2<3.0,>=2.10.1 in /usr/local/lib/python3.7/dist-packages (from Flask>=1.1.2->deepface) (2.11.3)\n",
            "Requirement already satisfied: Werkzeug<2.0,>=0.15 in /usr/local/lib/python3.7/dist-packages (from Flask>=1.1.2->deepface) (1.0.1)\n",
            "Requirement already satisfied: click<8.0,>=5.1 in /usr/local/lib/python3.7/dist-packages (from Flask>=1.1.2->deepface) (7.1.2)\n",
            "Requirement already satisfied: six in /usr/local/lib/python3.7/dist-packages (from gdown>=3.10.1->deepface) (1.15.0)\n",
            "Requirement already satisfied: requests[socks] in /usr/local/lib/python3.7/dist-packages (from gdown>=3.10.1->deepface) (2.23.0)\n",
            "Requirement already satisfied: filelock in /usr/local/lib/python3.7/dist-packages (from gdown>=3.10.1->deepface) (3.6.0)\n",
            "Requirement already satisfied: beautifulsoup4 in /usr/local/lib/python3.7/dist-packages (from gdown>=3.10.1->deepface) (4.6.3)\n",
            "Requirement already satisfied: MarkupSafe>=0.23 in /usr/local/lib/python3.7/dist-packages (from Jinja2<3.0,>=2.10.1->Flask>=1.1.2->deepface) (2.0.1)\n",
            "Requirement already satisfied: pytz>=2017.3 in /usr/local/lib/python3.7/dist-packages (from pandas>=0.23.4->deepface) (2018.9)\n",
            "Requirement already satisfied: python-dateutil>=2.7.3 in /usr/local/lib/python3.7/dist-packages (from pandas>=0.23.4->deepface) (2.8.2)\n",
            "Requirement already satisfied: libclang>=9.0.1 in /usr/local/lib/python3.7/dist-packages (from tensorflow>=1.9.0->deepface) (13.0.0)\n",
            "Requirement already satisfied: gast>=0.2.1 in /usr/local/lib/python3.7/dist-packages (from tensorflow>=1.9.0->deepface) (0.5.3)\n",
            "Requirement already satisfied: astunparse>=1.6.0 in /usr/local/lib/python3.7/dist-packages (from tensorflow>=1.9.0->deepface) (1.6.3)\n",
            "Requirement already satisfied: setuptools in /usr/local/lib/python3.7/dist-packages (from tensorflow>=1.9.0->deepface) (57.4.0)\n",
            "Requirement already satisfied: wrapt>=1.11.0 in /usr/local/lib/python3.7/dist-packages (from tensorflow>=1.9.0->deepface) (1.13.3)\n",
            "Requirement already satisfied: tensorflow-io-gcs-filesystem>=0.23.1 in /usr/local/lib/python3.7/dist-packages (from tensorflow>=1.9.0->deepface) (0.24.0)\n",
            "Requirement already satisfied: absl-py>=0.4.0 in /usr/local/lib/python3.7/dist-packages (from tensorflow>=1.9.0->deepface) (1.0.0)\n",
            "Requirement already satisfied: typing-extensions>=3.6.6 in /usr/local/lib/python3.7/dist-packages (from tensorflow>=1.9.0->deepface) (3.10.0.2)\n",
            "Requirement already satisfied: protobuf>=3.9.2 in /usr/local/lib/python3.7/dist-packages (from tensorflow>=1.9.0->deepface) (3.17.3)\n",
            "Requirement already satisfied: termcolor>=1.1.0 in /usr/local/lib/python3.7/dist-packages (from tensorflow>=1.9.0->deepface) (1.1.0)\n",
            "Requirement already satisfied: grpcio<2.0,>=1.24.3 in /usr/local/lib/python3.7/dist-packages (from tensorflow>=1.9.0->deepface) (1.44.0)\n",
            "Collecting tf-estimator-nightly==2.8.0.dev2021122109\n",
            "  Downloading tf_estimator_nightly-2.8.0.dev2021122109-py2.py3-none-any.whl (462 kB)\n",
            "\u001b[K     |████████████████████████████████| 462 kB 57.3 MB/s \n",
            "\u001b[?25hRequirement already satisfied: tensorboard<2.9,>=2.8 in /usr/local/lib/python3.7/dist-packages (from tensorflow>=1.9.0->deepface) (2.8.0)\n",
            "Requirement already satisfied: google-pasta>=0.1.1 in /usr/local/lib/python3.7/dist-packages (from tensorflow>=1.9.0->deepface) (0.2.0)\n",
            "Requirement already satisfied: h5py>=2.9.0 in /usr/local/lib/python3.7/dist-packages (from tensorflow>=1.9.0->deepface) (3.1.0)\n",
            "Requirement already satisfied: keras-preprocessing>=1.1.1 in /usr/local/lib/python3.7/dist-packages (from tensorflow>=1.9.0->deepface) (1.1.2)\n",
            "Requirement already satisfied: opt-einsum>=2.3.2 in /usr/local/lib/python3.7/dist-packages (from tensorflow>=1.9.0->deepface) (3.3.0)\n",
            "Requirement already satisfied: flatbuffers>=1.12 in /usr/local/lib/python3.7/dist-packages (from tensorflow>=1.9.0->deepface) (2.0)\n",
            "Requirement already satisfied: wheel<1.0,>=0.23.0 in /usr/local/lib/python3.7/dist-packages (from astunparse>=1.6.0->tensorflow>=1.9.0->deepface) (0.37.1)\n",
            "Requirement already satisfied: cached-property in /usr/local/lib/python3.7/dist-packages (from h5py>=2.9.0->tensorflow>=1.9.0->deepface) (1.5.2)\n",
            "Requirement already satisfied: tensorboard-data-server<0.7.0,>=0.6.0 in /usr/local/lib/python3.7/dist-packages (from tensorboard<2.9,>=2.8->tensorflow>=1.9.0->deepface) (0.6.1)\n",
            "Requirement already satisfied: google-auth<3,>=1.6.3 in /usr/local/lib/python3.7/dist-packages (from tensorboard<2.9,>=2.8->tensorflow>=1.9.0->deepface) (1.35.0)\n",
            "Requirement already satisfied: markdown>=2.6.8 in /usr/local/lib/python3.7/dist-packages (from tensorboard<2.9,>=2.8->tensorflow>=1.9.0->deepface) (3.3.6)\n",
            "Requirement already satisfied: tensorboard-plugin-wit>=1.6.0 in /usr/local/lib/python3.7/dist-packages (from tensorboard<2.9,>=2.8->tensorflow>=1.9.0->deepface) (1.8.1)\n",
            "Requirement already satisfied: google-auth-oauthlib<0.5,>=0.4.1 in /usr/local/lib/python3.7/dist-packages (from tensorboard<2.9,>=2.8->tensorflow>=1.9.0->deepface) (0.4.6)\n",
            "Requirement already satisfied: cachetools<5.0,>=2.0.0 in /usr/local/lib/python3.7/dist-packages (from google-auth<3,>=1.6.3->tensorboard<2.9,>=2.8->tensorflow>=1.9.0->deepface) (4.2.4)\n",
            "Requirement already satisfied: rsa<5,>=3.1.4 in /usr/local/lib/python3.7/dist-packages (from google-auth<3,>=1.6.3->tensorboard<2.9,>=2.8->tensorflow>=1.9.0->deepface) (4.8)\n",
            "Requirement already satisfied: pyasn1-modules>=0.2.1 in /usr/local/lib/python3.7/dist-packages (from google-auth<3,>=1.6.3->tensorboard<2.9,>=2.8->tensorflow>=1.9.0->deepface) (0.2.8)\n",
            "Requirement already satisfied: requests-oauthlib>=0.7.0 in /usr/local/lib/python3.7/dist-packages (from google-auth-oauthlib<0.5,>=0.4.1->tensorboard<2.9,>=2.8->tensorflow>=1.9.0->deepface) (1.3.1)\n",
            "Requirement already satisfied: importlib-metadata>=4.4 in /usr/local/lib/python3.7/dist-packages (from markdown>=2.6.8->tensorboard<2.9,>=2.8->tensorflow>=1.9.0->deepface) (4.11.2)\n",
            "Requirement already satisfied: zipp>=0.5 in /usr/local/lib/python3.7/dist-packages (from importlib-metadata>=4.4->markdown>=2.6.8->tensorboard<2.9,>=2.8->tensorflow>=1.9.0->deepface) (3.7.0)\n",
            "Requirement already satisfied: pyasn1<0.5.0,>=0.4.6 in /usr/local/lib/python3.7/dist-packages (from pyasn1-modules>=0.2.1->google-auth<3,>=1.6.3->tensorboard<2.9,>=2.8->tensorflow>=1.9.0->deepface) (0.4.8)\n",
            "Requirement already satisfied: certifi>=2017.4.17 in /usr/local/lib/python3.7/dist-packages (from requests[socks]->gdown>=3.10.1->deepface) (2021.10.8)\n",
            "Requirement already satisfied: chardet<4,>=3.0.2 in /usr/local/lib/python3.7/dist-packages (from requests[socks]->gdown>=3.10.1->deepface) (3.0.4)\n",
            "Requirement already satisfied: idna<3,>=2.5 in /usr/local/lib/python3.7/dist-packages (from requests[socks]->gdown>=3.10.1->deepface) (2.10)\n",
            "Requirement already satisfied: urllib3!=1.25.0,!=1.25.1,<1.26,>=1.21.1 in /usr/local/lib/python3.7/dist-packages (from requests[socks]->gdown>=3.10.1->deepface) (1.24.3)\n",
            "Requirement already satisfied: oauthlib>=3.0.0 in /usr/local/lib/python3.7/dist-packages (from requests-oauthlib>=0.7.0->google-auth-oauthlib<0.5,>=0.4.1->tensorboard<2.9,>=2.8->tensorflow>=1.9.0->deepface) (3.2.0)\n",
            "Requirement already satisfied: PySocks!=1.5.7,>=1.5.6 in /usr/local/lib/python3.7/dist-packages (from requests[socks]->gdown>=3.10.1->deepface) (1.7.1)\n",
            "Installing collected packages: tf-estimator-nightly, retina-face, mtcnn, deepface\n",
            "Successfully installed deepface-0.0.73 mtcnn-0.1.1 retina-face-0.0.10 tf-estimator-nightly-2.8.0.dev2021122109\n"
          ]
        }
      ]
    },
    {
      "cell_type": "code",
      "source": [
        "import numpy as np\n",
        "import tensorflow as tf\n",
        "from tensorflow.keras.layers import Dense\n",
        "import pandas as pd\n",
        "import matplotlib.pyplot as plt\n",
        "from sklearn.model_selection import train_test_split\n",
        "import wandb\n",
        "from wandb.keras import WandbCallback\n",
        "import glob\n",
        "from deepface import DeepFace\n",
        "import csv"
      ],
      "metadata": {
        "id": "GRDDBWi-LNCl"
      },
      "execution_count": 18,
      "outputs": []
    },
    {
      "cell_type": "code",
      "source": [
        "wandb.init(project='face recognition')"
      ],
      "metadata": {
        "colab": {
          "base_uri": "https://localhost:8080/",
          "height": 165
        },
        "id": "1qSpyMYOLVEU",
        "outputId": "8e849dee-37cb-481f-bb06-e4c0bfaac57c"
      },
      "execution_count": 3,
      "outputs": [
        {
          "output_type": "display_data",
          "data": {
            "application/javascript": [
              "\n",
              "        window._wandbApiKey = new Promise((resolve, reject) => {\n",
              "            function loadScript(url) {\n",
              "            return new Promise(function(resolve, reject) {\n",
              "                let newScript = document.createElement(\"script\");\n",
              "                newScript.onerror = reject;\n",
              "                newScript.onload = resolve;\n",
              "                document.body.appendChild(newScript);\n",
              "                newScript.src = url;\n",
              "            });\n",
              "            }\n",
              "            loadScript(\"https://cdn.jsdelivr.net/npm/postmate/build/postmate.min.js\").then(() => {\n",
              "            const iframe = document.createElement('iframe')\n",
              "            iframe.style.cssText = \"width:0;height:0;border:none\"\n",
              "            document.body.appendChild(iframe)\n",
              "            const handshake = new Postmate({\n",
              "                container: iframe,\n",
              "                url: 'https://wandb.ai/authorize'\n",
              "            });\n",
              "            const timeout = setTimeout(() => reject(\"Couldn't auto authenticate\"), 5000)\n",
              "            handshake.then(function(child) {\n",
              "                child.on('authorize', data => {\n",
              "                    clearTimeout(timeout)\n",
              "                    resolve(data)\n",
              "                });\n",
              "            });\n",
              "            })\n",
              "        });\n",
              "    "
            ],
            "text/plain": [
              "<IPython.core.display.Javascript object>"
            ]
          },
          "metadata": {}
        },
        {
          "output_type": "stream",
          "name": "stderr",
          "text": [
            "\u001b[34m\u001b[1mwandb\u001b[0m: You can find your API key in your browser here: https://wandb.ai/authorize\n"
          ]
        },
        {
          "name": "stdout",
          "output_type": "stream",
          "text": [
            "wandb: Paste an API key from your profile and hit enter, or press ctrl+c to quit: ··········\n"
          ]
        },
        {
          "output_type": "stream",
          "name": "stderr",
          "text": [
            "\u001b[34m\u001b[1mwandb\u001b[0m: Appending key for api.wandb.ai to your netrc file: /root/.netrc\n"
          ]
        },
        {
          "output_type": "display_data",
          "data": {
            "text/html": [
              "Tracking run with wandb version 0.12.11"
            ],
            "text/plain": [
              "<IPython.core.display.HTML object>"
            ]
          },
          "metadata": {}
        },
        {
          "output_type": "display_data",
          "data": {
            "text/html": [
              "Run data is saved locally in <code>/content/wandb/run-20220305_082511-1575ipfb</code>"
            ],
            "text/plain": [
              "<IPython.core.display.HTML object>"
            ]
          },
          "metadata": {}
        },
        {
          "output_type": "display_data",
          "data": {
            "text/html": [
              "Syncing run <strong><a href=\"https://wandb.ai/parisa_pb/face%20recognition/runs/1575ipfb\" target=\"_blank\">stilted-paper-1</a></strong> to <a href=\"https://wandb.ai/parisa_pb/face%20recognition\" target=\"_blank\">Weights & Biases</a> (<a href=\"https://wandb.me/run\" target=\"_blank\">docs</a>)<br/>"
            ],
            "text/plain": [
              "<IPython.core.display.HTML object>"
            ]
          },
          "metadata": {}
        },
        {
          "output_type": "execute_result",
          "data": {
            "text/plain": [
              "<wandb.sdk.wandb_run.Run at 0x7f7848027210>"
            ],
            "text/html": [
              "<button onClick=\"this.nextSibling.style.display='block';this.style.display='none';\">Display W&B run</button><iframe src=\"https://wandb.ai/parisa_pb/face%20recognition/runs/1575ipfb?jupyter=true\" style=\"border:none;width:100%;height:420px;display:none;\"></iframe>"
            ]
          },
          "metadata": {},
          "execution_count": 3
        }
      ]
    },
    {
      "cell_type": "code",
      "source": [
        "config=wandb.config\n",
        "config.learning_rate=0.001"
      ],
      "metadata": {
        "id": "J6PZDwBcNJpZ"
      },
      "execution_count": 10,
      "outputs": []
    },
    {
      "cell_type": "code",
      "source": [
        "embedding1=[]\n",
        "for i in range(20):\n",
        "   for img in glob.glob((f'./drive/MyDrive/images/behnosh_tabatabei/{i}.jpg')):\n",
        "       embedding1.append(DeepFace.represent(img_path=img,model_name='ArcFace'))\n",
        "\n",
        "embedding1=np.array(embedding1)       \n"
      ],
      "metadata": {
        "colab": {
          "base_uri": "https://localhost:8080/"
        },
        "id": "3AzDKgnkMP9z",
        "outputId": "bc54c1dc-2d75-4376-b20f-49decf7500b3"
      },
      "execution_count": 9,
      "outputs": [
        {
          "output_type": "stream",
          "name": "stdout",
          "text": [
            "arcface_weights.h5  will be downloaded to  /root/.deepface/weights/arcface_weights.h5\n"
          ]
        },
        {
          "output_type": "stream",
          "name": "stderr",
          "text": [
            "Downloading...\n",
            "From: https://github.com/serengil/deepface_models/releases/download/v1.0/arcface_weights.h5\n",
            "To: /root/.deepface/weights/arcface_weights.h5\n",
            "100%|██████████| 137M/137M [00:11<00:00, 11.9MB/s]\n"
          ]
        }
      ]
    },
    {
      "cell_type": "code",
      "source": [
        "embedding2=[]\n",
        "for i in range(0,15):\n",
        "   for img in glob.glob((f'./drive/MyDrive/images/Golshifteh_Farahani/{i}.jpg')):\n",
        "       embedding2.append(DeepFace.represent(img_path=img,model_name='ArcFace'))\n",
        "\n",
        "embedding2=np.array(embedding2)         "
      ],
      "metadata": {
        "id": "MDdb4il4LuyS"
      },
      "execution_count": 11,
      "outputs": []
    },
    {
      "cell_type": "code",
      "source": [
        "embedding4=[]\n",
        "for i in range(20):\n",
        "   for img in glob.glob((f'./drive/MyDrive/images/Bahram Radan/{i}.jpg')):\n",
        "       embedding4.append(DeepFace.represent(img_path=img,model_name='ArcFace'))\n",
        "\n",
        "embedding4=np.array(embedding4)         "
      ],
      "metadata": {
        "id": "yRltHtgoNaLX"
      },
      "execution_count": 12,
      "outputs": []
    },
    {
      "cell_type": "code",
      "source": [
        "embedding5=[]\n",
        "for i in range(20):\n",
        "   for img in glob.glob((f'./drive/MyDrive/images/shaghayegh_dehghan/{i}.jpg')):\n",
        "       embedding5.append(DeepFace.represent(img_path=img,model_name='ArcFace'))\n",
        "\n",
        "embedding5=np.array(embedding5)   \n",
        "     "
      ],
      "metadata": {
        "id": "Z3Bo6-VHL8uk"
      },
      "execution_count": 14,
      "outputs": []
    },
    {
      "cell_type": "code",
      "source": [
        "embedding=np.concatenate((embedding1,embedding2,embedding4,embedding5))"
      ],
      "metadata": {
        "id": "pzbW6XIIO6Ns"
      },
      "execution_count": 15,
      "outputs": []
    },
    {
      "cell_type": "code",
      "source": [
        "file=open('./drive/MyDrive/images/weights.csv','w',newline='')\n",
        "\n",
        "with file:\n",
        "    write=csv.writer(file)\n",
        "    write.writerows(embedding)"
      ],
      "metadata": {
        "id": "XfQTzHzgPXKe"
      },
      "execution_count": 19,
      "outputs": []
    },
    {
      "cell_type": "code",
      "source": [
        "print(embedding.shape)"
      ],
      "metadata": {
        "colab": {
          "base_uri": "https://localhost:8080/"
        },
        "id": "pC29Dve0Po1q",
        "outputId": "6cf56500-921d-4fa3-9140-c06067cdab6d"
      },
      "execution_count": 91,
      "outputs": [
        {
          "output_type": "stream",
          "name": "stdout",
          "text": [
            "(75, 512)\n"
          ]
        }
      ]
    },
    {
      "cell_type": "code",
      "source": [
        "data=pd.read_csv('./drive/MyDrive/images/weights.csv')"
      ],
      "metadata": {
        "id": "LD-P0NoLPzK9"
      },
      "execution_count": 92,
      "outputs": []
    },
    {
      "cell_type": "code",
      "source": [
        "X=data.iloc[:,:]\n",
        "Y=data.iloc[0:,-1]\n",
        "X=np.array(X)\n",
        "Y=np.array(Y)\n"
      ],
      "metadata": {
        "id": "aA7icXfESeiZ"
      },
      "execution_count": 93,
      "outputs": []
    },
    {
      "cell_type": "code",
      "source": [
        "print(Y)"
      ],
      "metadata": {
        "colab": {
          "base_uri": "https://localhost:8080/"
        },
        "id": "600KBM8tSkOF",
        "outputId": "0422127f-7fc7-4227-b484-172dacde601a"
      },
      "execution_count": 94,
      "outputs": [
        {
          "output_type": "stream",
          "name": "stdout",
          "text": [
            "[0 0 0 0 0 0 0 0 0 0 0 0 0 0 0 0 0 0 0 1 1 1 1 1 1 1 1 1 1 1 1 1 1 1 2 2 2\n",
            " 2 2 2 2 2 2 2 2 2 2 2 2 2 2 2 2 2 3 3 3 3 3 3 3 3 3 3 3 3 3 3 3 3 3 3 3 3]\n"
          ]
        }
      ]
    },
    {
      "cell_type": "code",
      "source": [
        "X_train,X_test,Y_train,Y_test=train_test_split(X,Y,test_size=0.3)"
      ],
      "metadata": {
        "id": "sFr64oRHZGdj"
      },
      "execution_count": 95,
      "outputs": []
    },
    {
      "cell_type": "code",
      "source": [
        "Y_train=Y_train.reshape(-1,1)\n",
        "Y_test=Y_test.reshape(-1,1)"
      ],
      "metadata": {
        "id": "TqvWTotAZQaA"
      },
      "execution_count": 96,
      "outputs": []
    },
    {
      "cell_type": "code",
      "source": [
        "model=tf.keras.models.Sequential([\n",
        "                                  tf.keras.layers.Dense(8,activation='relu'),\n",
        "                                  tf.keras.layers.Dense(16,activation='relu'),\n",
        "                                  tf.keras.layers.Dense(4,activation='softmax')\n",
        "                                  ])"
      ],
      "metadata": {
        "id": "tZ8IteAfZT35"
      },
      "execution_count": 101,
      "outputs": []
    },
    {
      "cell_type": "code",
      "source": [
        "model.compile(optimizer=tf.keras.optimizers.Adam(learning_rate=config.learning_rate),\n",
        "             loss=tf.losses.sparse_categorical_crossentropy,\n",
        "              metrics=['accuracy'])"
      ],
      "metadata": {
        "id": "7CFWvalrZVNV"
      },
      "execution_count": 102,
      "outputs": []
    },
    {
      "cell_type": "code",
      "source": [
        "model.fit(X_train,Y_train,epochs=200,callbacks=[WandbCallback()])"
      ],
      "metadata": {
        "colab": {
          "base_uri": "https://localhost:8080/"
        },
        "id": "2XuyC5mZZjrg",
        "outputId": "84a791cf-ba86-4ad8-b6cc-47831c99d609"
      },
      "execution_count": 103,
      "outputs": [
        {
          "output_type": "stream",
          "name": "stdout",
          "text": [
            "Epoch 1/200\n",
            "2/2 [==============================] - 0s 8ms/step - loss: 1.4591 - accuracy: 0.1176 - _timestamp: 1646473018.0000 - _runtime: 4307.0000\n",
            "Epoch 2/200\n",
            "2/2 [==============================] - 0s 7ms/step - loss: 1.3981 - accuracy: 0.1765 - _timestamp: 1646473018.0000 - _runtime: 4307.0000\n",
            "Epoch 3/200\n",
            "2/2 [==============================] - 0s 10ms/step - loss: 1.3762 - accuracy: 0.2549 - _timestamp: 1646473018.0000 - _runtime: 4307.0000\n",
            "Epoch 4/200\n",
            "2/2 [==============================] - 0s 11ms/step - loss: 1.3593 - accuracy: 0.2941 - _timestamp: 1646473018.0000 - _runtime: 4307.0000\n",
            "Epoch 5/200\n",
            "2/2 [==============================] - 0s 7ms/step - loss: 1.3477 - accuracy: 0.3922 - _timestamp: 1646473018.0000 - _runtime: 4307.0000\n",
            "Epoch 6/200\n",
            "2/2 [==============================] - 0s 8ms/step - loss: 1.3347 - accuracy: 0.4510 - _timestamp: 1646473018.0000 - _runtime: 4307.0000\n",
            "Epoch 7/200\n",
            "2/2 [==============================] - 0s 8ms/step - loss: 1.3207 - accuracy: 0.5882 - _timestamp: 1646473018.0000 - _runtime: 4307.0000\n",
            "Epoch 8/200\n",
            "2/2 [==============================] - 0s 7ms/step - loss: 1.3043 - accuracy: 0.6667 - _timestamp: 1646473018.0000 - _runtime: 4307.0000\n",
            "Epoch 9/200\n",
            "2/2 [==============================] - 0s 7ms/step - loss: 1.2891 - accuracy: 0.6078 - _timestamp: 1646473018.0000 - _runtime: 4307.0000\n",
            "Epoch 10/200\n",
            "2/2 [==============================] - 0s 7ms/step - loss: 1.2749 - accuracy: 0.6471 - _timestamp: 1646473018.0000 - _runtime: 4307.0000\n",
            "Epoch 11/200\n",
            "2/2 [==============================] - 0s 7ms/step - loss: 1.2588 - accuracy: 0.6667 - _timestamp: 1646473018.0000 - _runtime: 4307.0000\n",
            "Epoch 12/200\n",
            "2/2 [==============================] - 0s 7ms/step - loss: 1.2372 - accuracy: 0.6667 - _timestamp: 1646473018.0000 - _runtime: 4307.0000\n",
            "Epoch 13/200\n",
            "2/2 [==============================] - 0s 7ms/step - loss: 1.2152 - accuracy: 0.7451 - _timestamp: 1646473018.0000 - _runtime: 4307.0000\n",
            "Epoch 14/200\n",
            "2/2 [==============================] - 0s 11ms/step - loss: 1.1959 - accuracy: 0.7451 - _timestamp: 1646473018.0000 - _runtime: 4307.0000\n",
            "Epoch 15/200\n",
            "2/2 [==============================] - 0s 7ms/step - loss: 1.1746 - accuracy: 0.7647 - _timestamp: 1646473018.0000 - _runtime: 4307.0000\n",
            "Epoch 16/200\n",
            "2/2 [==============================] - 0s 5ms/step - loss: 1.1468 - accuracy: 0.7843 - _timestamp: 1646473018.0000 - _runtime: 4307.0000\n",
            "Epoch 17/200\n",
            "2/2 [==============================] - 0s 7ms/step - loss: 1.1159 - accuracy: 0.8235 - _timestamp: 1646473018.0000 - _runtime: 4307.0000\n",
            "Epoch 18/200\n",
            "2/2 [==============================] - 0s 7ms/step - loss: 1.0906 - accuracy: 0.8431 - _timestamp: 1646473018.0000 - _runtime: 4307.0000\n",
            "Epoch 19/200\n",
            "2/2 [==============================] - 0s 6ms/step - loss: 1.0697 - accuracy: 0.7451 - _timestamp: 1646473018.0000 - _runtime: 4307.0000\n",
            "Epoch 20/200\n",
            "2/2 [==============================] - 0s 18ms/step - loss: 1.0458 - accuracy: 0.7451 - _timestamp: 1646473018.0000 - _runtime: 4307.0000\n",
            "Epoch 21/200\n",
            "2/2 [==============================] - 0s 9ms/step - loss: 1.0101 - accuracy: 0.8039 - _timestamp: 1646473018.0000 - _runtime: 4307.0000\n",
            "Epoch 22/200\n",
            "2/2 [==============================] - 0s 9ms/step - loss: 0.9810 - accuracy: 0.8039 - _timestamp: 1646473018.0000 - _runtime: 4307.0000\n",
            "Epoch 23/200\n",
            "2/2 [==============================] - 0s 8ms/step - loss: 0.9573 - accuracy: 0.8235 - _timestamp: 1646473018.0000 - _runtime: 4307.0000\n",
            "Epoch 24/200\n",
            "2/2 [==============================] - 0s 8ms/step - loss: 0.9313 - accuracy: 0.8235 - _timestamp: 1646473018.0000 - _runtime: 4307.0000\n",
            "Epoch 25/200\n",
            "2/2 [==============================] - 0s 7ms/step - loss: 0.9056 - accuracy: 0.8235 - _timestamp: 1646473018.0000 - _runtime: 4307.0000\n",
            "Epoch 26/200\n",
            "2/2 [==============================] - 0s 7ms/step - loss: 0.8793 - accuracy: 0.8235 - _timestamp: 1646473018.0000 - _runtime: 4307.0000\n",
            "Epoch 27/200\n",
            "2/2 [==============================] - 0s 7ms/step - loss: 0.8563 - accuracy: 0.8235 - _timestamp: 1646473018.0000 - _runtime: 4307.0000\n",
            "Epoch 28/200\n",
            "2/2 [==============================] - 0s 6ms/step - loss: 0.8332 - accuracy: 0.8431 - _timestamp: 1646473018.0000 - _runtime: 4307.0000\n",
            "Epoch 29/200\n",
            "2/2 [==============================] - 0s 7ms/step - loss: 0.8106 - accuracy: 0.8627 - _timestamp: 1646473018.0000 - _runtime: 4307.0000\n",
            "Epoch 30/200\n",
            "2/2 [==============================] - 0s 8ms/step - loss: 0.7863 - accuracy: 0.8627 - _timestamp: 1646473018.0000 - _runtime: 4307.0000\n",
            "Epoch 31/200\n",
            "2/2 [==============================] - 0s 8ms/step - loss: 0.7631 - accuracy: 0.9020 - _timestamp: 1646473018.0000 - _runtime: 4307.0000\n",
            "Epoch 32/200\n",
            "2/2 [==============================] - 0s 7ms/step - loss: 0.7483 - accuracy: 0.8627 - _timestamp: 1646473018.0000 - _runtime: 4307.0000\n",
            "Epoch 33/200\n",
            "2/2 [==============================] - 0s 7ms/step - loss: 0.7204 - accuracy: 0.8431 - _timestamp: 1646473018.0000 - _runtime: 4307.0000\n",
            "Epoch 34/200\n",
            "2/2 [==============================] - 0s 7ms/step - loss: 0.6991 - accuracy: 0.8431 - _timestamp: 1646473018.0000 - _runtime: 4307.0000\n",
            "Epoch 35/200\n",
            "2/2 [==============================] - 0s 6ms/step - loss: 0.6807 - accuracy: 0.8431 - _timestamp: 1646473018.0000 - _runtime: 4307.0000\n",
            "Epoch 36/200\n",
            "2/2 [==============================] - 0s 8ms/step - loss: 0.6644 - accuracy: 0.8431 - _timestamp: 1646473018.0000 - _runtime: 4307.0000\n",
            "Epoch 37/200\n",
            "2/2 [==============================] - 0s 7ms/step - loss: 0.6456 - accuracy: 0.8431 - _timestamp: 1646473018.0000 - _runtime: 4307.0000\n",
            "Epoch 38/200\n",
            "2/2 [==============================] - 0s 8ms/step - loss: 0.6262 - accuracy: 0.8824 - _timestamp: 1646473018.0000 - _runtime: 4307.0000\n",
            "Epoch 39/200\n",
            "2/2 [==============================] - 0s 10ms/step - loss: 0.6100 - accuracy: 0.8824 - _timestamp: 1646473018.0000 - _runtime: 4307.0000\n",
            "Epoch 40/200\n",
            "2/2 [==============================] - 0s 14ms/step - loss: 0.5972 - accuracy: 0.8824 - _timestamp: 1646473018.0000 - _runtime: 4307.0000\n",
            "Epoch 41/200\n",
            "2/2 [==============================] - 0s 9ms/step - loss: 0.5795 - accuracy: 0.8824 - _timestamp: 1646473018.0000 - _runtime: 4307.0000\n",
            "Epoch 42/200\n",
            "2/2 [==============================] - 0s 8ms/step - loss: 0.5650 - accuracy: 0.8627 - _timestamp: 1646473018.0000 - _runtime: 4307.0000\n",
            "Epoch 43/200\n",
            "2/2 [==============================] - 0s 8ms/step - loss: 0.5530 - accuracy: 0.8431 - _timestamp: 1646473018.0000 - _runtime: 4307.0000\n",
            "Epoch 44/200\n",
            "2/2 [==============================] - 0s 6ms/step - loss: 0.5394 - accuracy: 0.8431 - _timestamp: 1646473018.0000 - _runtime: 4307.0000\n",
            "Epoch 45/200\n",
            "2/2 [==============================] - 0s 9ms/step - loss: 0.5259 - accuracy: 0.8431 - _timestamp: 1646473018.0000 - _runtime: 4307.0000\n",
            "Epoch 46/200\n",
            "2/2 [==============================] - 0s 41ms/step - loss: 0.5171 - accuracy: 0.8431 - _timestamp: 1646473018.0000 - _runtime: 4307.0000\n",
            "Epoch 47/200\n",
            "2/2 [==============================] - 0s 6ms/step - loss: 0.5051 - accuracy: 0.8431 - _timestamp: 1646473019.0000 - _runtime: 4308.0000\n",
            "Epoch 48/200\n",
            "2/2 [==============================] - 0s 6ms/step - loss: 0.4960 - accuracy: 0.8431 - _timestamp: 1646473019.0000 - _runtime: 4308.0000\n",
            "Epoch 49/200\n",
            "2/2 [==============================] - 0s 5ms/step - loss: 0.4810 - accuracy: 0.8431 - _timestamp: 1646473019.0000 - _runtime: 4308.0000\n",
            "Epoch 50/200\n",
            "2/2 [==============================] - 0s 6ms/step - loss: 0.4673 - accuracy: 0.9020 - _timestamp: 1646473019.0000 - _runtime: 4308.0000\n",
            "Epoch 51/200\n",
            "2/2 [==============================] - 0s 8ms/step - loss: 0.4584 - accuracy: 0.9216 - _timestamp: 1646473019.0000 - _runtime: 4308.0000\n",
            "Epoch 52/200\n",
            "2/2 [==============================] - 0s 8ms/step - loss: 0.4531 - accuracy: 0.9020 - _timestamp: 1646473019.0000 - _runtime: 4308.0000\n",
            "Epoch 53/200\n",
            "2/2 [==============================] - 0s 13ms/step - loss: 0.4444 - accuracy: 0.9216 - _timestamp: 1646473019.0000 - _runtime: 4308.0000\n",
            "Epoch 54/200\n",
            "2/2 [==============================] - 0s 9ms/step - loss: 0.4360 - accuracy: 0.9216 - _timestamp: 1646473019.0000 - _runtime: 4308.0000\n",
            "Epoch 55/200\n",
            "2/2 [==============================] - 0s 13ms/step - loss: 0.4240 - accuracy: 0.9412 - _timestamp: 1646473019.0000 - _runtime: 4308.0000\n",
            "Epoch 56/200\n",
            "2/2 [==============================] - 0s 7ms/step - loss: 0.4152 - accuracy: 0.9412 - _timestamp: 1646473019.0000 - _runtime: 4308.0000\n",
            "Epoch 57/200\n",
            "2/2 [==============================] - 0s 7ms/step - loss: 0.4064 - accuracy: 0.9412 - _timestamp: 1646473019.0000 - _runtime: 4308.0000\n",
            "Epoch 58/200\n",
            "2/2 [==============================] - 0s 9ms/step - loss: 0.4010 - accuracy: 0.8824 - _timestamp: 1646473019.0000 - _runtime: 4308.0000\n",
            "Epoch 59/200\n",
            "2/2 [==============================] - 0s 7ms/step - loss: 0.3932 - accuracy: 0.8824 - _timestamp: 1646473019.0000 - _runtime: 4308.0000\n",
            "Epoch 60/200\n",
            "2/2 [==============================] - 0s 7ms/step - loss: 0.3852 - accuracy: 0.9020 - _timestamp: 1646473019.0000 - _runtime: 4308.0000\n",
            "Epoch 61/200\n",
            "2/2 [==============================] - 0s 8ms/step - loss: 0.3781 - accuracy: 0.9412 - _timestamp: 1646473019.0000 - _runtime: 4308.0000\n",
            "Epoch 62/200\n",
            "2/2 [==============================] - 0s 7ms/step - loss: 0.3697 - accuracy: 0.9412 - _timestamp: 1646473019.0000 - _runtime: 4308.0000\n",
            "Epoch 63/200\n",
            "2/2 [==============================] - 0s 8ms/step - loss: 0.3640 - accuracy: 0.9412 - _timestamp: 1646473019.0000 - _runtime: 4308.0000\n",
            "Epoch 64/200\n",
            "2/2 [==============================] - 0s 7ms/step - loss: 0.3571 - accuracy: 0.9412 - _timestamp: 1646473019.0000 - _runtime: 4308.0000\n",
            "Epoch 65/200\n",
            "2/2 [==============================] - 0s 7ms/step - loss: 0.3518 - accuracy: 0.9412 - _timestamp: 1646473019.0000 - _runtime: 4308.0000\n",
            "Epoch 66/200\n",
            "2/2 [==============================] - 0s 7ms/step - loss: 0.3452 - accuracy: 0.9412 - _timestamp: 1646473019.0000 - _runtime: 4308.0000\n",
            "Epoch 67/200\n",
            "2/2 [==============================] - 0s 7ms/step - loss: 0.3382 - accuracy: 0.9412 - _timestamp: 1646473019.0000 - _runtime: 4308.0000\n",
            "Epoch 68/200\n",
            "2/2 [==============================] - 0s 8ms/step - loss: 0.3347 - accuracy: 0.9412 - _timestamp: 1646473019.0000 - _runtime: 4308.0000\n",
            "Epoch 69/200\n",
            "2/2 [==============================] - 0s 7ms/step - loss: 0.3306 - accuracy: 0.9412 - _timestamp: 1646473019.0000 - _runtime: 4308.0000\n",
            "Epoch 70/200\n",
            "2/2 [==============================] - 0s 15ms/step - loss: 0.3254 - accuracy: 0.9412 - _timestamp: 1646473019.0000 - _runtime: 4308.0000\n",
            "Epoch 71/200\n",
            "2/2 [==============================] - 0s 10ms/step - loss: 0.3160 - accuracy: 0.9412 - _timestamp: 1646473019.0000 - _runtime: 4308.0000\n",
            "Epoch 72/200\n",
            "2/2 [==============================] - 0s 7ms/step - loss: 0.3117 - accuracy: 0.9412 - _timestamp: 1646473019.0000 - _runtime: 4308.0000\n",
            "Epoch 73/200\n",
            "2/2 [==============================] - 0s 10ms/step - loss: 0.3101 - accuracy: 0.9412 - _timestamp: 1646473019.0000 - _runtime: 4308.0000\n",
            "Epoch 74/200\n",
            "2/2 [==============================] - 0s 8ms/step - loss: 0.3041 - accuracy: 0.9412 - _timestamp: 1646473019.0000 - _runtime: 4308.0000\n",
            "Epoch 75/200\n",
            "2/2 [==============================] - 0s 8ms/step - loss: 0.2997 - accuracy: 0.9412 - _timestamp: 1646473019.0000 - _runtime: 4308.0000\n",
            "Epoch 76/200\n",
            "2/2 [==============================] - 0s 8ms/step - loss: 0.2965 - accuracy: 0.9412 - _timestamp: 1646473019.0000 - _runtime: 4308.0000\n",
            "Epoch 77/200\n",
            "2/2 [==============================] - 0s 6ms/step - loss: 0.2900 - accuracy: 0.9412 - _timestamp: 1646473019.0000 - _runtime: 4308.0000\n",
            "Epoch 78/200\n",
            "2/2 [==============================] - 0s 7ms/step - loss: 0.2859 - accuracy: 0.9412 - _timestamp: 1646473019.0000 - _runtime: 4308.0000\n",
            "Epoch 79/200\n",
            "2/2 [==============================] - 0s 6ms/step - loss: 0.2850 - accuracy: 0.9412 - _timestamp: 1646473019.0000 - _runtime: 4308.0000\n",
            "Epoch 80/200\n",
            "2/2 [==============================] - 0s 7ms/step - loss: 0.2775 - accuracy: 0.9412 - _timestamp: 1646473019.0000 - _runtime: 4308.0000\n",
            "Epoch 81/200\n",
            "2/2 [==============================] - 0s 7ms/step - loss: 0.2708 - accuracy: 0.9412 - _timestamp: 1646473019.0000 - _runtime: 4308.0000\n",
            "Epoch 82/200\n",
            "2/2 [==============================] - 0s 8ms/step - loss: 0.2707 - accuracy: 0.9412 - _timestamp: 1646473019.0000 - _runtime: 4308.0000\n",
            "Epoch 83/200\n",
            "2/2 [==============================] - 0s 8ms/step - loss: 0.2691 - accuracy: 0.9412 - _timestamp: 1646473019.0000 - _runtime: 4308.0000\n",
            "Epoch 84/200\n",
            "2/2 [==============================] - 0s 7ms/step - loss: 0.2628 - accuracy: 0.9412 - _timestamp: 1646473019.0000 - _runtime: 4308.0000\n",
            "Epoch 85/200\n",
            "2/2 [==============================] - 0s 6ms/step - loss: 0.2586 - accuracy: 0.9412 - _timestamp: 1646473019.0000 - _runtime: 4308.0000\n",
            "Epoch 86/200\n",
            "2/2 [==============================] - 0s 7ms/step - loss: 0.2547 - accuracy: 0.9412 - _timestamp: 1646473019.0000 - _runtime: 4308.0000\n",
            "Epoch 87/200\n",
            "2/2 [==============================] - 0s 7ms/step - loss: 0.2505 - accuracy: 0.9412 - _timestamp: 1646473019.0000 - _runtime: 4308.0000\n",
            "Epoch 88/200\n",
            "2/2 [==============================] - 0s 7ms/step - loss: 0.2483 - accuracy: 0.9412 - _timestamp: 1646473019.0000 - _runtime: 4308.0000\n",
            "Epoch 89/200\n",
            "2/2 [==============================] - 0s 12ms/step - loss: 0.2446 - accuracy: 0.9412 - _timestamp: 1646473019.0000 - _runtime: 4308.0000\n",
            "Epoch 90/200\n",
            "2/2 [==============================] - 0s 6ms/step - loss: 0.2410 - accuracy: 0.9412 - _timestamp: 1646473019.0000 - _runtime: 4308.0000\n",
            "Epoch 91/200\n",
            "2/2 [==============================] - 0s 7ms/step - loss: 0.2351 - accuracy: 0.9412 - _timestamp: 1646473019.0000 - _runtime: 4308.0000\n",
            "Epoch 92/200\n",
            "2/2 [==============================] - 0s 6ms/step - loss: 0.2306 - accuracy: 0.9412 - _timestamp: 1646473019.0000 - _runtime: 4308.0000\n",
            "Epoch 93/200\n",
            "2/2 [==============================] - 0s 8ms/step - loss: 0.2303 - accuracy: 0.9804 - _timestamp: 1646473019.0000 - _runtime: 4308.0000\n",
            "Epoch 94/200\n",
            "2/2 [==============================] - 0s 7ms/step - loss: 0.2275 - accuracy: 0.9804 - _timestamp: 1646473019.0000 - _runtime: 4308.0000\n",
            "Epoch 95/200\n",
            "2/2 [==============================] - 0s 8ms/step - loss: 0.2234 - accuracy: 0.9608 - _timestamp: 1646473020.0000 - _runtime: 4309.0000\n",
            "Epoch 96/200\n",
            "2/2 [==============================] - 0s 32ms/step - loss: 0.2211 - accuracy: 0.9412 - _timestamp: 1646473020.0000 - _runtime: 4309.0000\n",
            "Epoch 97/200\n",
            "2/2 [==============================] - 0s 6ms/step - loss: 0.2167 - accuracy: 0.9608 - _timestamp: 1646473020.0000 - _runtime: 4309.0000\n",
            "Epoch 98/200\n",
            "2/2 [==============================] - 0s 7ms/step - loss: 0.2125 - accuracy: 0.9804 - _timestamp: 1646473020.0000 - _runtime: 4309.0000\n",
            "Epoch 99/200\n",
            "2/2 [==============================] - 0s 8ms/step - loss: 0.2097 - accuracy: 0.9804 - _timestamp: 1646473020.0000 - _runtime: 4309.0000\n",
            "Epoch 100/200\n",
            "2/2 [==============================] - 0s 7ms/step - loss: 0.2077 - accuracy: 0.9804 - _timestamp: 1646473020.0000 - _runtime: 4309.0000\n",
            "Epoch 101/200\n",
            "2/2 [==============================] - 0s 7ms/step - loss: 0.2028 - accuracy: 0.9804 - _timestamp: 1646473020.0000 - _runtime: 4309.0000\n",
            "Epoch 102/200\n",
            "2/2 [==============================] - 0s 6ms/step - loss: 0.2006 - accuracy: 0.9804 - _timestamp: 1646473020.0000 - _runtime: 4309.0000\n",
            "Epoch 103/200\n",
            "2/2 [==============================] - 0s 10ms/step - loss: 0.1991 - accuracy: 0.9804 - _timestamp: 1646473020.0000 - _runtime: 4309.0000\n",
            "Epoch 104/200\n",
            "2/2 [==============================] - 0s 8ms/step - loss: 0.1965 - accuracy: 0.9804 - _timestamp: 1646473020.0000 - _runtime: 4309.0000\n",
            "Epoch 105/200\n",
            "2/2 [==============================] - 0s 7ms/step - loss: 0.1911 - accuracy: 0.9804 - _timestamp: 1646473020.0000 - _runtime: 4309.0000\n",
            "Epoch 106/200\n",
            "2/2 [==============================] - 0s 7ms/step - loss: 0.1893 - accuracy: 0.9804 - _timestamp: 1646473020.0000 - _runtime: 4309.0000\n",
            "Epoch 107/200\n",
            "2/2 [==============================] - 0s 8ms/step - loss: 0.1880 - accuracy: 0.9804 - _timestamp: 1646473020.0000 - _runtime: 4309.0000\n",
            "Epoch 108/200\n",
            "2/2 [==============================] - 0s 7ms/step - loss: 0.1829 - accuracy: 0.9804 - _timestamp: 1646473020.0000 - _runtime: 4309.0000\n",
            "Epoch 109/200\n",
            "2/2 [==============================] - 0s 7ms/step - loss: 0.1796 - accuracy: 0.9804 - _timestamp: 1646473020.0000 - _runtime: 4309.0000\n",
            "Epoch 110/200\n",
            "2/2 [==============================] - 0s 6ms/step - loss: 0.1756 - accuracy: 0.9804 - _timestamp: 1646473020.0000 - _runtime: 4309.0000\n",
            "Epoch 111/200\n",
            "2/2 [==============================] - 0s 7ms/step - loss: 0.1723 - accuracy: 0.9804 - _timestamp: 1646473020.0000 - _runtime: 4309.0000\n",
            "Epoch 112/200\n",
            "2/2 [==============================] - 0s 8ms/step - loss: 0.1681 - accuracy: 0.9804 - _timestamp: 1646473020.0000 - _runtime: 4309.0000\n",
            "Epoch 113/200\n",
            "2/2 [==============================] - 0s 6ms/step - loss: 0.1654 - accuracy: 0.9804 - _timestamp: 1646473020.0000 - _runtime: 4309.0000\n",
            "Epoch 114/200\n",
            "2/2 [==============================] - 0s 9ms/step - loss: 0.1643 - accuracy: 0.9804 - _timestamp: 1646473020.0000 - _runtime: 4309.0000\n",
            "Epoch 115/200\n",
            "2/2 [==============================] - 0s 7ms/step - loss: 0.1629 - accuracy: 0.9804 - _timestamp: 1646473020.0000 - _runtime: 4309.0000\n",
            "Epoch 116/200\n",
            "2/2 [==============================] - 0s 7ms/step - loss: 0.1581 - accuracy: 0.9804 - _timestamp: 1646473020.0000 - _runtime: 4309.0000\n",
            "Epoch 117/200\n",
            "2/2 [==============================] - 0s 9ms/step - loss: 0.1547 - accuracy: 0.9804 - _timestamp: 1646473020.0000 - _runtime: 4309.0000\n",
            "Epoch 118/200\n",
            "2/2 [==============================] - 0s 8ms/step - loss: 0.1527 - accuracy: 0.9804 - _timestamp: 1646473020.0000 - _runtime: 4309.0000\n",
            "Epoch 119/200\n",
            "2/2 [==============================] - 0s 9ms/step - loss: 0.1481 - accuracy: 0.9804 - _timestamp: 1646473020.0000 - _runtime: 4309.0000\n",
            "Epoch 120/200\n",
            "2/2 [==============================] - 0s 31ms/step - loss: 0.1439 - accuracy: 0.9804 - _timestamp: 1646473020.0000 - _runtime: 4309.0000\n",
            "Epoch 121/200\n",
            "2/2 [==============================] - 0s 9ms/step - loss: 0.1440 - accuracy: 0.9804 - _timestamp: 1646473020.0000 - _runtime: 4309.0000\n",
            "Epoch 122/200\n",
            "2/2 [==============================] - 0s 8ms/step - loss: 0.1433 - accuracy: 0.9804 - _timestamp: 1646473020.0000 - _runtime: 4309.0000\n",
            "Epoch 123/200\n",
            "2/2 [==============================] - 0s 8ms/step - loss: 0.1385 - accuracy: 0.9804 - _timestamp: 1646473020.0000 - _runtime: 4309.0000\n",
            "Epoch 124/200\n",
            "2/2 [==============================] - 0s 7ms/step - loss: 0.1380 - accuracy: 0.9804 - _timestamp: 1646473020.0000 - _runtime: 4309.0000\n",
            "Epoch 125/200\n",
            "2/2 [==============================] - 0s 10ms/step - loss: 0.1335 - accuracy: 0.9804 - _timestamp: 1646473020.0000 - _runtime: 4309.0000\n",
            "Epoch 126/200\n",
            "2/2 [==============================] - 0s 7ms/step - loss: 0.1299 - accuracy: 0.9804 - _timestamp: 1646473020.0000 - _runtime: 4309.0000\n",
            "Epoch 127/200\n",
            "2/2 [==============================] - 0s 10ms/step - loss: 0.1307 - accuracy: 0.9804 - _timestamp: 1646473020.0000 - _runtime: 4309.0000\n",
            "Epoch 128/200\n",
            "2/2 [==============================] - 0s 8ms/step - loss: 0.1277 - accuracy: 0.9804 - _timestamp: 1646473020.0000 - _runtime: 4309.0000\n",
            "Epoch 129/200\n",
            "2/2 [==============================] - 0s 7ms/step - loss: 0.1226 - accuracy: 0.9804 - _timestamp: 1646473020.0000 - _runtime: 4309.0000\n",
            "Epoch 130/200\n",
            "2/2 [==============================] - 0s 8ms/step - loss: 0.1241 - accuracy: 0.9804 - _timestamp: 1646473020.0000 - _runtime: 4309.0000\n",
            "Epoch 131/200\n",
            "2/2 [==============================] - 0s 8ms/step - loss: 0.1270 - accuracy: 0.9804 - _timestamp: 1646473020.0000 - _runtime: 4309.0000\n",
            "Epoch 132/200\n",
            "2/2 [==============================] - 0s 6ms/step - loss: 0.1207 - accuracy: 0.9804 - _timestamp: 1646473020.0000 - _runtime: 4309.0000\n",
            "Epoch 133/200\n",
            "2/2 [==============================] - 0s 10ms/step - loss: 0.1187 - accuracy: 0.9804 - _timestamp: 1646473020.0000 - _runtime: 4309.0000\n",
            "Epoch 134/200\n",
            "2/2 [==============================] - 0s 7ms/step - loss: 0.1190 - accuracy: 0.9804 - _timestamp: 1646473020.0000 - _runtime: 4309.0000\n",
            "Epoch 135/200\n",
            "2/2 [==============================] - 0s 9ms/step - loss: 0.1148 - accuracy: 0.9804 - _timestamp: 1646473020.0000 - _runtime: 4309.0000\n",
            "Epoch 136/200\n",
            "2/2 [==============================] - 0s 7ms/step - loss: 0.1123 - accuracy: 0.9804 - _timestamp: 1646473020.0000 - _runtime: 4309.0000\n",
            "Epoch 137/200\n",
            "2/2 [==============================] - 0s 10ms/step - loss: 0.1098 - accuracy: 0.9804 - _timestamp: 1646473020.0000 - _runtime: 4309.0000\n",
            "Epoch 138/200\n",
            "2/2 [==============================] - 0s 8ms/step - loss: 0.1095 - accuracy: 0.9804 - _timestamp: 1646473021.0000 - _runtime: 4310.0000\n",
            "Epoch 139/200\n",
            "2/2 [==============================] - 0s 7ms/step - loss: 0.1070 - accuracy: 0.9804 - _timestamp: 1646473021.0000 - _runtime: 4310.0000\n",
            "Epoch 140/200\n",
            "2/2 [==============================] - 0s 8ms/step - loss: 0.1062 - accuracy: 0.9804 - _timestamp: 1646473021.0000 - _runtime: 4310.0000\n",
            "Epoch 141/200\n",
            "2/2 [==============================] - 0s 9ms/step - loss: 0.1049 - accuracy: 1.0000 - _timestamp: 1646473021.0000 - _runtime: 4310.0000\n",
            "Epoch 142/200\n",
            "2/2 [==============================] - 0s 5ms/step - loss: 0.1048 - accuracy: 1.0000 - _timestamp: 1646473021.0000 - _runtime: 4310.0000\n",
            "Epoch 143/200\n",
            "2/2 [==============================] - 0s 44ms/step - loss: 0.1032 - accuracy: 0.9804 - _timestamp: 1646473021.0000 - _runtime: 4310.0000\n",
            "Epoch 144/200\n",
            "2/2 [==============================] - 0s 8ms/step - loss: 0.1014 - accuracy: 0.9804 - _timestamp: 1646473021.0000 - _runtime: 4310.0000\n",
            "Epoch 145/200\n",
            "2/2 [==============================] - 0s 7ms/step - loss: 0.1004 - accuracy: 0.9804 - _timestamp: 1646473021.0000 - _runtime: 4310.0000\n",
            "Epoch 146/200\n",
            "2/2 [==============================] - 0s 5ms/step - loss: 0.0972 - accuracy: 0.9804 - _timestamp: 1646473021.0000 - _runtime: 4310.0000\n",
            "Epoch 147/200\n",
            "2/2 [==============================] - 0s 9ms/step - loss: 0.0950 - accuracy: 0.9804 - _timestamp: 1646473021.0000 - _runtime: 4310.0000\n",
            "Epoch 148/200\n",
            "2/2 [==============================] - 0s 7ms/step - loss: 0.0939 - accuracy: 0.9804 - _timestamp: 1646473021.0000 - _runtime: 4310.0000\n",
            "Epoch 149/200\n",
            "2/2 [==============================] - 0s 7ms/step - loss: 0.0919 - accuracy: 1.0000 - _timestamp: 1646473021.0000 - _runtime: 4310.0000\n",
            "Epoch 150/200\n",
            "2/2 [==============================] - 0s 9ms/step - loss: 0.0911 - accuracy: 0.9804 - _timestamp: 1646473021.0000 - _runtime: 4310.0000\n",
            "Epoch 151/200\n",
            "2/2 [==============================] - 0s 8ms/step - loss: 0.0888 - accuracy: 0.9804 - _timestamp: 1646473021.0000 - _runtime: 4310.0000\n",
            "Epoch 152/200\n",
            "2/2 [==============================] - 0s 8ms/step - loss: 0.0880 - accuracy: 0.9804 - _timestamp: 1646473021.0000 - _runtime: 4310.0000\n",
            "Epoch 153/200\n",
            "2/2 [==============================] - 0s 8ms/step - loss: 0.0863 - accuracy: 1.0000 - _timestamp: 1646473021.0000 - _runtime: 4310.0000\n",
            "Epoch 154/200\n",
            "2/2 [==============================] - 0s 8ms/step - loss: 0.0856 - accuracy: 1.0000 - _timestamp: 1646473021.0000 - _runtime: 4310.0000\n",
            "Epoch 155/200\n",
            "2/2 [==============================] - 0s 8ms/step - loss: 0.0857 - accuracy: 1.0000 - _timestamp: 1646473021.0000 - _runtime: 4310.0000\n",
            "Epoch 156/200\n",
            "2/2 [==============================] - 0s 8ms/step - loss: 0.0826 - accuracy: 1.0000 - _timestamp: 1646473021.0000 - _runtime: 4310.0000\n",
            "Epoch 157/200\n",
            "2/2 [==============================] - 0s 9ms/step - loss: 0.0819 - accuracy: 1.0000 - _timestamp: 1646473021.0000 - _runtime: 4310.0000\n",
            "Epoch 158/200\n",
            "2/2 [==============================] - 0s 8ms/step - loss: 0.0825 - accuracy: 0.9804 - _timestamp: 1646473021.0000 - _runtime: 4310.0000\n",
            "Epoch 159/200\n",
            "2/2 [==============================] - 0s 8ms/step - loss: 0.0804 - accuracy: 0.9804 - _timestamp: 1646473021.0000 - _runtime: 4310.0000\n",
            "Epoch 160/200\n",
            "2/2 [==============================] - 0s 9ms/step - loss: 0.0781 - accuracy: 1.0000 - _timestamp: 1646473021.0000 - _runtime: 4310.0000\n",
            "Epoch 161/200\n",
            "2/2 [==============================] - 0s 10ms/step - loss: 0.0788 - accuracy: 1.0000 - _timestamp: 1646473021.0000 - _runtime: 4310.0000\n",
            "Epoch 162/200\n",
            "2/2 [==============================] - 0s 7ms/step - loss: 0.0766 - accuracy: 1.0000 - _timestamp: 1646473021.0000 - _runtime: 4310.0000\n",
            "Epoch 163/200\n",
            "2/2 [==============================] - 0s 27ms/step - loss: 0.0752 - accuracy: 1.0000 - _timestamp: 1646473021.0000 - _runtime: 4310.0000\n",
            "Epoch 164/200\n",
            "2/2 [==============================] - 0s 7ms/step - loss: 0.0744 - accuracy: 1.0000 - _timestamp: 1646473021.0000 - _runtime: 4310.0000\n",
            "Epoch 165/200\n",
            "2/2 [==============================] - 0s 8ms/step - loss: 0.0740 - accuracy: 1.0000 - _timestamp: 1646473021.0000 - _runtime: 4310.0000\n",
            "Epoch 166/200\n",
            "2/2 [==============================] - 0s 8ms/step - loss: 0.0718 - accuracy: 1.0000 - _timestamp: 1646473021.0000 - _runtime: 4310.0000\n",
            "Epoch 167/200\n",
            "2/2 [==============================] - 0s 7ms/step - loss: 0.0706 - accuracy: 1.0000 - _timestamp: 1646473021.0000 - _runtime: 4310.0000\n",
            "Epoch 168/200\n",
            "2/2 [==============================] - 0s 7ms/step - loss: 0.0694 - accuracy: 1.0000 - _timestamp: 1646473021.0000 - _runtime: 4310.0000\n",
            "Epoch 169/200\n",
            "2/2 [==============================] - 0s 7ms/step - loss: 0.0688 - accuracy: 1.0000 - _timestamp: 1646473021.0000 - _runtime: 4310.0000\n",
            "Epoch 170/200\n",
            "2/2 [==============================] - 0s 10ms/step - loss: 0.0683 - accuracy: 1.0000 - _timestamp: 1646473021.0000 - _runtime: 4310.0000\n",
            "Epoch 171/200\n",
            "2/2 [==============================] - 0s 7ms/step - loss: 0.0675 - accuracy: 1.0000 - _timestamp: 1646473021.0000 - _runtime: 4310.0000\n",
            "Epoch 172/200\n",
            "2/2 [==============================] - 0s 7ms/step - loss: 0.0664 - accuracy: 1.0000 - _timestamp: 1646473021.0000 - _runtime: 4310.0000\n",
            "Epoch 173/200\n",
            "2/2 [==============================] - 0s 9ms/step - loss: 0.0647 - accuracy: 1.0000 - _timestamp: 1646473021.0000 - _runtime: 4310.0000\n",
            "Epoch 174/200\n",
            "2/2 [==============================] - 0s 7ms/step - loss: 0.0641 - accuracy: 1.0000 - _timestamp: 1646473021.0000 - _runtime: 4310.0000\n",
            "Epoch 175/200\n",
            "2/2 [==============================] - 0s 6ms/step - loss: 0.0640 - accuracy: 1.0000 - _timestamp: 1646473021.0000 - _runtime: 4310.0000\n",
            "Epoch 176/200\n",
            "2/2 [==============================] - 0s 7ms/step - loss: 0.0624 - accuracy: 1.0000 - _timestamp: 1646473021.0000 - _runtime: 4310.0000\n",
            "Epoch 177/200\n",
            "2/2 [==============================] - 0s 10ms/step - loss: 0.0613 - accuracy: 1.0000 - _timestamp: 1646473021.0000 - _runtime: 4310.0000\n",
            "Epoch 178/200\n",
            "2/2 [==============================] - 0s 8ms/step - loss: 0.0607 - accuracy: 1.0000 - _timestamp: 1646473022.0000 - _runtime: 4311.0000\n",
            "Epoch 179/200\n",
            "2/2 [==============================] - 0s 7ms/step - loss: 0.0596 - accuracy: 1.0000 - _timestamp: 1646473022.0000 - _runtime: 4311.0000\n",
            "Epoch 180/200\n",
            "2/2 [==============================] - 0s 8ms/step - loss: 0.0588 - accuracy: 1.0000 - _timestamp: 1646473022.0000 - _runtime: 4311.0000\n",
            "Epoch 181/200\n",
            "2/2 [==============================] - 0s 7ms/step - loss: 0.0579 - accuracy: 1.0000 - _timestamp: 1646473022.0000 - _runtime: 4311.0000\n",
            "Epoch 182/200\n",
            "2/2 [==============================] - 0s 7ms/step - loss: 0.0578 - accuracy: 1.0000 - _timestamp: 1646473022.0000 - _runtime: 4311.0000\n",
            "Epoch 183/200\n",
            "2/2 [==============================] - 0s 7ms/step - loss: 0.0568 - accuracy: 1.0000 - _timestamp: 1646473022.0000 - _runtime: 4311.0000\n",
            "Epoch 184/200\n",
            "2/2 [==============================] - 0s 7ms/step - loss: 0.0562 - accuracy: 1.0000 - _timestamp: 1646473022.0000 - _runtime: 4311.0000\n",
            "Epoch 185/200\n",
            "2/2 [==============================] - 0s 8ms/step - loss: 0.0548 - accuracy: 1.0000 - _timestamp: 1646473022.0000 - _runtime: 4311.0000\n",
            "Epoch 186/200\n",
            "2/2 [==============================] - 0s 7ms/step - loss: 0.0546 - accuracy: 1.0000 - _timestamp: 1646473022.0000 - _runtime: 4311.0000\n",
            "Epoch 187/200\n",
            "2/2 [==============================] - 0s 7ms/step - loss: 0.0537 - accuracy: 1.0000 - _timestamp: 1646473022.0000 - _runtime: 4311.0000\n",
            "Epoch 188/200\n",
            "2/2 [==============================] - 0s 7ms/step - loss: 0.0534 - accuracy: 1.0000 - _timestamp: 1646473022.0000 - _runtime: 4311.0000\n",
            "Epoch 189/200\n",
            "2/2 [==============================] - 0s 7ms/step - loss: 0.0520 - accuracy: 1.0000 - _timestamp: 1646473022.0000 - _runtime: 4311.0000\n",
            "Epoch 190/200\n",
            "2/2 [==============================] - 0s 6ms/step - loss: 0.0521 - accuracy: 1.0000 - _timestamp: 1646473022.0000 - _runtime: 4311.0000\n",
            "Epoch 191/200\n",
            "2/2 [==============================] - 0s 7ms/step - loss: 0.0506 - accuracy: 1.0000 - _timestamp: 1646473022.0000 - _runtime: 4311.0000\n",
            "Epoch 192/200\n",
            "2/2 [==============================] - 0s 8ms/step - loss: 0.0501 - accuracy: 1.0000 - _timestamp: 1646473022.0000 - _runtime: 4311.0000\n",
            "Epoch 193/200\n",
            "2/2 [==============================] - 0s 9ms/step - loss: 0.0492 - accuracy: 1.0000 - _timestamp: 1646473022.0000 - _runtime: 4311.0000\n",
            "Epoch 194/200\n",
            "2/2 [==============================] - 0s 9ms/step - loss: 0.0483 - accuracy: 1.0000 - _timestamp: 1646473022.0000 - _runtime: 4311.0000\n",
            "Epoch 195/200\n",
            "2/2 [==============================] - 0s 7ms/step - loss: 0.0478 - accuracy: 1.0000 - _timestamp: 1646473022.0000 - _runtime: 4311.0000\n",
            "Epoch 196/200\n",
            "2/2 [==============================] - 0s 6ms/step - loss: 0.0472 - accuracy: 1.0000 - _timestamp: 1646473022.0000 - _runtime: 4311.0000\n",
            "Epoch 197/200\n",
            "2/2 [==============================] - 0s 8ms/step - loss: 0.0467 - accuracy: 1.0000 - _timestamp: 1646473022.0000 - _runtime: 4311.0000\n",
            "Epoch 198/200\n",
            "2/2 [==============================] - 0s 10ms/step - loss: 0.0460 - accuracy: 1.0000 - _timestamp: 1646473022.0000 - _runtime: 4311.0000\n",
            "Epoch 199/200\n",
            "2/2 [==============================] - 0s 6ms/step - loss: 0.0453 - accuracy: 1.0000 - _timestamp: 1646473022.0000 - _runtime: 4311.0000\n",
            "Epoch 200/200\n",
            "2/2 [==============================] - 0s 6ms/step - loss: 0.0449 - accuracy: 1.0000 - _timestamp: 1646473022.0000 - _runtime: 4311.0000\n"
          ]
        },
        {
          "output_type": "execute_result",
          "data": {
            "text/plain": [
              "<keras.callbacks.History at 0x7f7829e6a610>"
            ]
          },
          "metadata": {},
          "execution_count": 103
        }
      ]
    },
    {
      "cell_type": "code",
      "source": [
        "model.evaluate(X_test,Y_test)"
      ],
      "metadata": {
        "colab": {
          "base_uri": "https://localhost:8080/"
        },
        "id": "wqj3HiSbZpcz",
        "outputId": "8e013a04-96e8-44d5-ddb4-0d2e4cfd8972"
      },
      "execution_count": 104,
      "outputs": [
        {
          "output_type": "stream",
          "name": "stdout",
          "text": [
            "1/1 [==============================] - 0s 108ms/step - loss: 0.4129 - accuracy: 0.8261\n"
          ]
        },
        {
          "output_type": "execute_result",
          "data": {
            "text/plain": [
              "[0.41293343901634216, 0.8260869383811951]"
            ]
          },
          "metadata": {},
          "execution_count": 104
        }
      ]
    }
  ]
}