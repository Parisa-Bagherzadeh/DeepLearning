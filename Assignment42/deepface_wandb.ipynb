{
  "cells": [
    {
      "cell_type": "code",
      "execution_count": null,
      "metadata": {
        "id": "NjrtjC4fLCaQ"
      },
      "outputs": [],
      "source": [
        "!pip install wandb"
      ]
    },
    {
      "cell_type": "code",
      "execution_count": null,
      "metadata": {
        "id": "f4oSNUTyMbry"
      },
      "outputs": [],
      "source": [
        "!pip install deepface"
      ]
    },
    {
      "cell_type": "code",
      "execution_count": null,
      "metadata": {
        "id": "GRDDBWi-LNCl"
      },
      "outputs": [],
      "source": [
        "import numpy as np\n",
        "import tensorflow as tf\n",
        "from tensorflow.keras.layers import Dense\n",
        "import pandas as pd\n",
        "import matplotlib.pyplot as plt\n",
        "from sklearn.model_selection import train_test_split\n",
        "import wandb\n",
        "from wandb.keras import WandbCallback\n",
        "import glob\n",
        "from deepface import DeepFace\n",
        "import csv"
      ]
    },
    {
      "cell_type": "code",
      "execution_count": null,
      "metadata": {
        "id": "1qSpyMYOLVEU"
      },
      "outputs": [],
      "source": [
        "wandb.init(project='face recognition')"
      ]
    },
    {
      "cell_type": "code",
      "execution_count": null,
      "metadata": {
        "id": "J6PZDwBcNJpZ"
      },
      "outputs": [],
      "source": [
        "config=wandb.config\n",
        "config.learning_rate=0.001"
      ]
    },
    {
      "cell_type": "code",
      "execution_count": null,
      "metadata": {
        "id": "3AzDKgnkMP9z"
      },
      "outputs": [],
      "source": [
        "embedding1=[]\n",
        "for i in range(20):\n",
        "   for img in glob.glob((f'./drive/MyDrive/images/behnosh_tabatabei/{i}.jpg')):\n",
        "       embedding1.append(DeepFace.represent(img_path=img,model_name='ArcFace'))\n",
        "\n",
        "embedding1=np.array(embedding1)       \n"
      ]
    },
    {
      "cell_type": "code",
      "execution_count": null,
      "metadata": {
        "id": "MDdb4il4LuyS"
      },
      "outputs": [],
      "source": [
        "embedding2=[]\n",
        "for i in range(0,15):\n",
        "   for img in glob.glob((f'./drive/MyDrive/images/Golshifteh_Farahani/{i}.jpg')):\n",
        "       embedding2.append(DeepFace.represent(img_path=img,model_name='ArcFace'))\n",
        "\n",
        "embedding2=np.array(embedding2)         "
      ]
    },
    {
      "cell_type": "code",
      "execution_count": null,
      "metadata": {
        "id": "yRltHtgoNaLX"
      },
      "outputs": [],
      "source": [
        "embedding4=[]\n",
        "for i in range(20):\n",
        "   for img in glob.glob((f'./drive/MyDrive/images/Bahram Radan/{i}.jpg')):\n",
        "       embedding4.append(DeepFace.represent(img_path=img,model_name='ArcFace'))\n",
        "\n",
        "embedding4=np.array(embedding4)         "
      ]
    },
    {
      "cell_type": "code",
      "execution_count": null,
      "metadata": {
        "id": "Z3Bo6-VHL8uk"
      },
      "outputs": [],
      "source": [
        "embedding5=[]\n",
        "for i in range(20):\n",
        "   for img in glob.glob((f'./drive/MyDrive/images/shaghayegh_dehghan/{i}.jpg')):\n",
        "       embedding5.append(DeepFace.represent(img_path=img,model_name='ArcFace'))\n",
        "\n",
        "embedding5=np.array(embedding5)   \n",
        "     "
      ]
    },
    {
      "cell_type": "code",
      "execution_count": null,
      "metadata": {
        "id": "pzbW6XIIO6Ns"
      },
      "outputs": [],
      "source": [
        "embedding=np.concatenate((embedding1,embedding2,embedding4,embedding5))"
      ]
    },
    {
      "cell_type": "code",
      "execution_count": null,
      "metadata": {
        "id": "XfQTzHzgPXKe"
      },
      "outputs": [],
      "source": [
        "file=open('./drive/MyDrive/images/weights.csv','w',newline='')\n",
        "\n",
        "with file:\n",
        "    write=csv.writer(file)\n",
        "    write.writerows(embedding)"
      ]
    },
    {
      "cell_type": "code",
      "execution_count": null,
      "metadata": {
        "colab": {
          "base_uri": "https://localhost:8080/"
        },
        "id": "pC29Dve0Po1q",
        "outputId": "6cf56500-921d-4fa3-9140-c06067cdab6d"
      },
      "outputs": [
        {
          "name": "stdout",
          "output_type": "stream",
          "text": [
            "(75, 512)\n"
          ]
        }
      ],
      "source": [
        "print(embedding.shape)"
      ]
    },
    {
      "cell_type": "code",
      "execution_count": null,
      "metadata": {
        "id": "LD-P0NoLPzK9"
      },
      "outputs": [],
      "source": [
        "data=pd.read_csv('./drive/MyDrive/images/weights.csv')"
      ]
    },
    {
      "cell_type": "code",
      "execution_count": null,
      "metadata": {
        "id": "aA7icXfESeiZ"
      },
      "outputs": [],
      "source": [
        "X=data.iloc[:,:]\n",
        "Y=data.iloc[0:,-1]\n",
        "X=np.array(X)\n",
        "Y=np.array(Y)\n"
      ]
    },
    {
      "cell_type": "code",
      "execution_count": null,
      "metadata": {
        "id": "sFr64oRHZGdj"
      },
      "outputs": [],
      "source": [
        "X_train,X_test,Y_train,Y_test=train_test_split(X,Y,test_size=0.3)"
      ]
    },
    {
      "cell_type": "code",
      "execution_count": null,
      "metadata": {
        "id": "TqvWTotAZQaA"
      },
      "outputs": [],
      "source": [
        "Y_train=Y_train.reshape(-1,1)\n",
        "Y_test=Y_test.reshape(-1,1)"
      ]
    },
    {
      "cell_type": "code",
      "execution_count": null,
      "metadata": {
        "id": "tZ8IteAfZT35"
      },
      "outputs": [],
      "source": [
        "model=tf.keras.models.Sequential([\n",
        "                                  tf.keras.layers.Dense(8,activation='relu'),\n",
        "                                  tf.keras.layers.Dense(16,activation='relu'),\n",
        "                                  tf.keras.layers.Dense(4,activation='softmax')\n",
        "                                  ])"
      ]
    },
    {
      "cell_type": "code",
      "execution_count": null,
      "metadata": {
        "id": "7CFWvalrZVNV"
      },
      "outputs": [],
      "source": [
        "model.compile(optimizer=tf.keras.optimizers.Adam(learning_rate=config.learning_rate),\n",
        "             loss=tf.losses.sparse_categorical_crossentropy,\n",
        "              metrics=['accuracy'])"
      ]
    },
    {
      "cell_type": "code",
      "execution_count": null,
      "metadata": {
        "colab": {
          "base_uri": "https://localhost:8080/"
        },
        "id": "2XuyC5mZZjrg",
        "outputId": "84a791cf-ba86-4ad8-b6cc-47831c99d609"
      },
      "outputs": [
        {
          "name": "stdout",
          "output_type": "stream",
          "text": [
            "Epoch 1/200\n",
            "2/2 [==============================] - 0s 8ms/step - loss: 1.4591 - accuracy: 0.1176 - _timestamp: 1646473018.0000 - _runtime: 4307.0000\n",
            "Epoch 2/200\n",
            "2/2 [==============================] - 0s 7ms/step - loss: 1.3981 - accuracy: 0.1765 - _timestamp: 1646473018.0000 - _runtime: 4307.0000\n",
            "Epoch 3/200\n",
            "2/2 [==============================] - 0s 10ms/step - loss: 1.3762 - accuracy: 0.2549 - _timestamp: 1646473018.0000 - _runtime: 4307.0000\n",
            "Epoch 4/200\n",
            "2/2 [==============================] - 0s 11ms/step - loss: 1.3593 - accuracy: 0.2941 - _timestamp: 1646473018.0000 - _runtime: 4307.0000\n",
            "Epoch 5/200\n",
            "2/2 [==============================] - 0s 7ms/step - loss: 1.3477 - accuracy: 0.3922 - _timestamp: 1646473018.0000 - _runtime: 4307.0000\n",
            "Epoch 6/200\n",
            "2/2 [==============================] - 0s 8ms/step - loss: 1.3347 - accuracy: 0.4510 - _timestamp: 1646473018.0000 - _runtime: 4307.0000\n",
            "Epoch 7/200\n",
            "2/2 [==============================] - 0s 8ms/step - loss: 1.3207 - accuracy: 0.5882 - _timestamp: 1646473018.0000 - _runtime: 4307.0000\n",
            "Epoch 8/200\n",
            "2/2 [==============================] - 0s 7ms/step - loss: 1.3043 - accuracy: 0.6667 - _timestamp: 1646473018.0000 - _runtime: 4307.0000\n",
            "Epoch 9/200\n",
            "2/2 [==============================] - 0s 7ms/step - loss: 1.2891 - accuracy: 0.6078 - _timestamp: 1646473018.0000 - _runtime: 4307.0000\n",
            "Epoch 10/200\n",
            "2/2 [==============================] - 0s 7ms/step - loss: 1.2749 - accuracy: 0.6471 - _timestamp: 1646473018.0000 - _runtime: 4307.0000\n",
            "Epoch 11/200\n",
            "2/2 [==============================] - 0s 7ms/step - loss: 1.2588 - accuracy: 0.6667 - _timestamp: 1646473018.0000 - _runtime: 4307.0000\n",
            "Epoch 12/200\n",
            "2/2 [==============================] - 0s 7ms/step - loss: 1.2372 - accuracy: 0.6667 - _timestamp: 1646473018.0000 - _runtime: 4307.0000\n",
            "Epoch 13/200\n",
            "2/2 [==============================] - 0s 7ms/step - loss: 1.2152 - accuracy: 0.7451 - _timestamp: 1646473018.0000 - _runtime: 4307.0000\n",
            "Epoch 14/200\n",
            "2/2 [==============================] - 0s 11ms/step - loss: 1.1959 - accuracy: 0.7451 - _timestamp: 1646473018.0000 - _runtime: 4307.0000\n",
            "Epoch 15/200\n",
            "2/2 [==============================] - 0s 7ms/step - loss: 1.1746 - accuracy: 0.7647 - _timestamp: 1646473018.0000 - _runtime: 4307.0000\n",
            "Epoch 16/200\n",
            "2/2 [==============================] - 0s 5ms/step - loss: 1.1468 - accuracy: 0.7843 - _timestamp: 1646473018.0000 - _runtime: 4307.0000\n",
            "Epoch 17/200\n",
            "2/2 [==============================] - 0s 7ms/step - loss: 1.1159 - accuracy: 0.8235 - _timestamp: 1646473018.0000 - _runtime: 4307.0000\n",
            "Epoch 18/200\n",
            "2/2 [==============================] - 0s 7ms/step - loss: 1.0906 - accuracy: 0.8431 - _timestamp: 1646473018.0000 - _runtime: 4307.0000\n",
            "Epoch 19/200\n",
            "2/2 [==============================] - 0s 6ms/step - loss: 1.0697 - accuracy: 0.7451 - _timestamp: 1646473018.0000 - _runtime: 4307.0000\n",
            "Epoch 20/200\n",
            "2/2 [==============================] - 0s 18ms/step - loss: 1.0458 - accuracy: 0.7451 - _timestamp: 1646473018.0000 - _runtime: 4307.0000\n",
            "Epoch 21/200\n",
            "2/2 [==============================] - 0s 9ms/step - loss: 1.0101 - accuracy: 0.8039 - _timestamp: 1646473018.0000 - _runtime: 4307.0000\n",
            "Epoch 22/200\n",
            "2/2 [==============================] - 0s 9ms/step - loss: 0.9810 - accuracy: 0.8039 - _timestamp: 1646473018.0000 - _runtime: 4307.0000\n",
            "Epoch 23/200\n",
            "2/2 [==============================] - 0s 8ms/step - loss: 0.9573 - accuracy: 0.8235 - _timestamp: 1646473018.0000 - _runtime: 4307.0000\n",
            "Epoch 24/200\n",
            "2/2 [==============================] - 0s 8ms/step - loss: 0.9313 - accuracy: 0.8235 - _timestamp: 1646473018.0000 - _runtime: 4307.0000\n",
            "Epoch 25/200\n",
            "2/2 [==============================] - 0s 7ms/step - loss: 0.9056 - accuracy: 0.8235 - _timestamp: 1646473018.0000 - _runtime: 4307.0000\n",
            "Epoch 26/200\n",
            "2/2 [==============================] - 0s 7ms/step - loss: 0.8793 - accuracy: 0.8235 - _timestamp: 1646473018.0000 - _runtime: 4307.0000\n",
            "Epoch 27/200\n",
            "2/2 [==============================] - 0s 7ms/step - loss: 0.8563 - accuracy: 0.8235 - _timestamp: 1646473018.0000 - _runtime: 4307.0000\n",
            "Epoch 28/200\n",
            "2/2 [==============================] - 0s 6ms/step - loss: 0.8332 - accuracy: 0.8431 - _timestamp: 1646473018.0000 - _runtime: 4307.0000\n",
            "Epoch 29/200\n",
            "2/2 [==============================] - 0s 7ms/step - loss: 0.8106 - accuracy: 0.8627 - _timestamp: 1646473018.0000 - _runtime: 4307.0000\n",
            "Epoch 30/200\n",
            "2/2 [==============================] - 0s 8ms/step - loss: 0.7863 - accuracy: 0.8627 - _timestamp: 1646473018.0000 - _runtime: 4307.0000\n",
            "Epoch 31/200\n",
            "2/2 [==============================] - 0s 8ms/step - loss: 0.7631 - accuracy: 0.9020 - _timestamp: 1646473018.0000 - _runtime: 4307.0000\n",
            "Epoch 32/200\n",
            "2/2 [==============================] - 0s 7ms/step - loss: 0.7483 - accuracy: 0.8627 - _timestamp: 1646473018.0000 - _runtime: 4307.0000\n",
            "Epoch 33/200\n",
            "2/2 [==============================] - 0s 7ms/step - loss: 0.7204 - accuracy: 0.8431 - _timestamp: 1646473018.0000 - _runtime: 4307.0000\n",
            "Epoch 34/200\n",
            "2/2 [==============================] - 0s 7ms/step - loss: 0.6991 - accuracy: 0.8431 - _timestamp: 1646473018.0000 - _runtime: 4307.0000\n",
            "Epoch 35/200\n",
            "2/2 [==============================] - 0s 6ms/step - loss: 0.6807 - accuracy: 0.8431 - _timestamp: 1646473018.0000 - _runtime: 4307.0000\n",
            "Epoch 36/200\n",
            "2/2 [==============================] - 0s 8ms/step - loss: 0.6644 - accuracy: 0.8431 - _timestamp: 1646473018.0000 - _runtime: 4307.0000\n",
            "Epoch 37/200\n",
            "2/2 [==============================] - 0s 7ms/step - loss: 0.6456 - accuracy: 0.8431 - _timestamp: 1646473018.0000 - _runtime: 4307.0000\n",
            "Epoch 38/200\n",
            "2/2 [==============================] - 0s 8ms/step - loss: 0.6262 - accuracy: 0.8824 - _timestamp: 1646473018.0000 - _runtime: 4307.0000\n",
            "Epoch 39/200\n",
            "2/2 [==============================] - 0s 10ms/step - loss: 0.6100 - accuracy: 0.8824 - _timestamp: 1646473018.0000 - _runtime: 4307.0000\n",
            "Epoch 40/200\n",
            "2/2 [==============================] - 0s 14ms/step - loss: 0.5972 - accuracy: 0.8824 - _timestamp: 1646473018.0000 - _runtime: 4307.0000\n",
            "Epoch 41/200\n",
            "2/2 [==============================] - 0s 9ms/step - loss: 0.5795 - accuracy: 0.8824 - _timestamp: 1646473018.0000 - _runtime: 4307.0000\n",
            "Epoch 42/200\n",
            "2/2 [==============================] - 0s 8ms/step - loss: 0.5650 - accuracy: 0.8627 - _timestamp: 1646473018.0000 - _runtime: 4307.0000\n",
            "Epoch 43/200\n",
            "2/2 [==============================] - 0s 8ms/step - loss: 0.5530 - accuracy: 0.8431 - _timestamp: 1646473018.0000 - _runtime: 4307.0000\n",
            "Epoch 44/200\n",
            "2/2 [==============================] - 0s 6ms/step - loss: 0.5394 - accuracy: 0.8431 - _timestamp: 1646473018.0000 - _runtime: 4307.0000\n",
            "Epoch 45/200\n",
            "2/2 [==============================] - 0s 9ms/step - loss: 0.5259 - accuracy: 0.8431 - _timestamp: 1646473018.0000 - _runtime: 4307.0000\n",
            "Epoch 46/200\n",
            "2/2 [==============================] - 0s 41ms/step - loss: 0.5171 - accuracy: 0.8431 - _timestamp: 1646473018.0000 - _runtime: 4307.0000\n",
            "Epoch 47/200\n",
            "2/2 [==============================] - 0s 6ms/step - loss: 0.5051 - accuracy: 0.8431 - _timestamp: 1646473019.0000 - _runtime: 4308.0000\n",
            "Epoch 48/200\n",
            "2/2 [==============================] - 0s 6ms/step - loss: 0.4960 - accuracy: 0.8431 - _timestamp: 1646473019.0000 - _runtime: 4308.0000\n",
            "Epoch 49/200\n",
            "2/2 [==============================] - 0s 5ms/step - loss: 0.4810 - accuracy: 0.8431 - _timestamp: 1646473019.0000 - _runtime: 4308.0000\n",
            "Epoch 50/200\n",
            "2/2 [==============================] - 0s 6ms/step - loss: 0.4673 - accuracy: 0.9020 - _timestamp: 1646473019.0000 - _runtime: 4308.0000\n",
            "Epoch 51/200\n",
            "2/2 [==============================] - 0s 8ms/step - loss: 0.4584 - accuracy: 0.9216 - _timestamp: 1646473019.0000 - _runtime: 4308.0000\n",
            "Epoch 52/200\n",
            "2/2 [==============================] - 0s 8ms/step - loss: 0.4531 - accuracy: 0.9020 - _timestamp: 1646473019.0000 - _runtime: 4308.0000\n",
            "Epoch 53/200\n",
            "2/2 [==============================] - 0s 13ms/step - loss: 0.4444 - accuracy: 0.9216 - _timestamp: 1646473019.0000 - _runtime: 4308.0000\n",
            "Epoch 54/200\n",
            "2/2 [==============================] - 0s 9ms/step - loss: 0.4360 - accuracy: 0.9216 - _timestamp: 1646473019.0000 - _runtime: 4308.0000\n",
            "Epoch 55/200\n",
            "2/2 [==============================] - 0s 13ms/step - loss: 0.4240 - accuracy: 0.9412 - _timestamp: 1646473019.0000 - _runtime: 4308.0000\n",
            "Epoch 56/200\n",
            "2/2 [==============================] - 0s 7ms/step - loss: 0.4152 - accuracy: 0.9412 - _timestamp: 1646473019.0000 - _runtime: 4308.0000\n",
            "Epoch 57/200\n",
            "2/2 [==============================] - 0s 7ms/step - loss: 0.4064 - accuracy: 0.9412 - _timestamp: 1646473019.0000 - _runtime: 4308.0000\n",
            "Epoch 58/200\n",
            "2/2 [==============================] - 0s 9ms/step - loss: 0.4010 - accuracy: 0.8824 - _timestamp: 1646473019.0000 - _runtime: 4308.0000\n",
            "Epoch 59/200\n",
            "2/2 [==============================] - 0s 7ms/step - loss: 0.3932 - accuracy: 0.8824 - _timestamp: 1646473019.0000 - _runtime: 4308.0000\n",
            "Epoch 60/200\n",
            "2/2 [==============================] - 0s 7ms/step - loss: 0.3852 - accuracy: 0.9020 - _timestamp: 1646473019.0000 - _runtime: 4308.0000\n",
            "Epoch 61/200\n",
            "2/2 [==============================] - 0s 8ms/step - loss: 0.3781 - accuracy: 0.9412 - _timestamp: 1646473019.0000 - _runtime: 4308.0000\n",
            "Epoch 62/200\n",
            "2/2 [==============================] - 0s 7ms/step - loss: 0.3697 - accuracy: 0.9412 - _timestamp: 1646473019.0000 - _runtime: 4308.0000\n",
            "Epoch 63/200\n",
            "2/2 [==============================] - 0s 8ms/step - loss: 0.3640 - accuracy: 0.9412 - _timestamp: 1646473019.0000 - _runtime: 4308.0000\n",
            "Epoch 64/200\n",
            "2/2 [==============================] - 0s 7ms/step - loss: 0.3571 - accuracy: 0.9412 - _timestamp: 1646473019.0000 - _runtime: 4308.0000\n",
            "Epoch 65/200\n",
            "2/2 [==============================] - 0s 7ms/step - loss: 0.3518 - accuracy: 0.9412 - _timestamp: 1646473019.0000 - _runtime: 4308.0000\n",
            "Epoch 66/200\n",
            "2/2 [==============================] - 0s 7ms/step - loss: 0.3452 - accuracy: 0.9412 - _timestamp: 1646473019.0000 - _runtime: 4308.0000\n",
            "Epoch 67/200\n",
            "2/2 [==============================] - 0s 7ms/step - loss: 0.3382 - accuracy: 0.9412 - _timestamp: 1646473019.0000 - _runtime: 4308.0000\n",
            "Epoch 68/200\n",
            "2/2 [==============================] - 0s 8ms/step - loss: 0.3347 - accuracy: 0.9412 - _timestamp: 1646473019.0000 - _runtime: 4308.0000\n",
            "Epoch 69/200\n",
            "2/2 [==============================] - 0s 7ms/step - loss: 0.3306 - accuracy: 0.9412 - _timestamp: 1646473019.0000 - _runtime: 4308.0000\n",
            "Epoch 70/200\n",
            "2/2 [==============================] - 0s 15ms/step - loss: 0.3254 - accuracy: 0.9412 - _timestamp: 1646473019.0000 - _runtime: 4308.0000\n",
            "Epoch 71/200\n",
            "2/2 [==============================] - 0s 10ms/step - loss: 0.3160 - accuracy: 0.9412 - _timestamp: 1646473019.0000 - _runtime: 4308.0000\n",
            "Epoch 72/200\n",
            "2/2 [==============================] - 0s 7ms/step - loss: 0.3117 - accuracy: 0.9412 - _timestamp: 1646473019.0000 - _runtime: 4308.0000\n",
            "Epoch 73/200\n",
            "2/2 [==============================] - 0s 10ms/step - loss: 0.3101 - accuracy: 0.9412 - _timestamp: 1646473019.0000 - _runtime: 4308.0000\n",
            "Epoch 74/200\n",
            "2/2 [==============================] - 0s 8ms/step - loss: 0.3041 - accuracy: 0.9412 - _timestamp: 1646473019.0000 - _runtime: 4308.0000\n",
            "Epoch 75/200\n",
            "2/2 [==============================] - 0s 8ms/step - loss: 0.2997 - accuracy: 0.9412 - _timestamp: 1646473019.0000 - _runtime: 4308.0000\n",
            "Epoch 76/200\n",
            "2/2 [==============================] - 0s 8ms/step - loss: 0.2965 - accuracy: 0.9412 - _timestamp: 1646473019.0000 - _runtime: 4308.0000\n",
            "Epoch 77/200\n",
            "2/2 [==============================] - 0s 6ms/step - loss: 0.2900 - accuracy: 0.9412 - _timestamp: 1646473019.0000 - _runtime: 4308.0000\n",
            "Epoch 78/200\n",
            "2/2 [==============================] - 0s 7ms/step - loss: 0.2859 - accuracy: 0.9412 - _timestamp: 1646473019.0000 - _runtime: 4308.0000\n",
            "Epoch 79/200\n",
            "2/2 [==============================] - 0s 6ms/step - loss: 0.2850 - accuracy: 0.9412 - _timestamp: 1646473019.0000 - _runtime: 4308.0000\n",
            "Epoch 80/200\n",
            "2/2 [==============================] - 0s 7ms/step - loss: 0.2775 - accuracy: 0.9412 - _timestamp: 1646473019.0000 - _runtime: 4308.0000\n",
            "Epoch 81/200\n",
            "2/2 [==============================] - 0s 7ms/step - loss: 0.2708 - accuracy: 0.9412 - _timestamp: 1646473019.0000 - _runtime: 4308.0000\n",
            "Epoch 82/200\n",
            "2/2 [==============================] - 0s 8ms/step - loss: 0.2707 - accuracy: 0.9412 - _timestamp: 1646473019.0000 - _runtime: 4308.0000\n",
            "Epoch 83/200\n",
            "2/2 [==============================] - 0s 8ms/step - loss: 0.2691 - accuracy: 0.9412 - _timestamp: 1646473019.0000 - _runtime: 4308.0000\n",
            "Epoch 84/200\n",
            "2/2 [==============================] - 0s 7ms/step - loss: 0.2628 - accuracy: 0.9412 - _timestamp: 1646473019.0000 - _runtime: 4308.0000\n",
            "Epoch 85/200\n",
            "2/2 [==============================] - 0s 6ms/step - loss: 0.2586 - accuracy: 0.9412 - _timestamp: 1646473019.0000 - _runtime: 4308.0000\n",
            "Epoch 86/200\n",
            "2/2 [==============================] - 0s 7ms/step - loss: 0.2547 - accuracy: 0.9412 - _timestamp: 1646473019.0000 - _runtime: 4308.0000\n",
            "Epoch 87/200\n",
            "2/2 [==============================] - 0s 7ms/step - loss: 0.2505 - accuracy: 0.9412 - _timestamp: 1646473019.0000 - _runtime: 4308.0000\n",
            "Epoch 88/200\n",
            "2/2 [==============================] - 0s 7ms/step - loss: 0.2483 - accuracy: 0.9412 - _timestamp: 1646473019.0000 - _runtime: 4308.0000\n",
            "Epoch 89/200\n",
            "2/2 [==============================] - 0s 12ms/step - loss: 0.2446 - accuracy: 0.9412 - _timestamp: 1646473019.0000 - _runtime: 4308.0000\n",
            "Epoch 90/200\n",
            "2/2 [==============================] - 0s 6ms/step - loss: 0.2410 - accuracy: 0.9412 - _timestamp: 1646473019.0000 - _runtime: 4308.0000\n",
            "Epoch 91/200\n",
            "2/2 [==============================] - 0s 7ms/step - loss: 0.2351 - accuracy: 0.9412 - _timestamp: 1646473019.0000 - _runtime: 4308.0000\n",
            "Epoch 92/200\n",
            "2/2 [==============================] - 0s 6ms/step - loss: 0.2306 - accuracy: 0.9412 - _timestamp: 1646473019.0000 - _runtime: 4308.0000\n",
            "Epoch 93/200\n",
            "2/2 [==============================] - 0s 8ms/step - loss: 0.2303 - accuracy: 0.9804 - _timestamp: 1646473019.0000 - _runtime: 4308.0000\n",
            "Epoch 94/200\n",
            "2/2 [==============================] - 0s 7ms/step - loss: 0.2275 - accuracy: 0.9804 - _timestamp: 1646473019.0000 - _runtime: 4308.0000\n",
            "Epoch 95/200\n",
            "2/2 [==============================] - 0s 8ms/step - loss: 0.2234 - accuracy: 0.9608 - _timestamp: 1646473020.0000 - _runtime: 4309.0000\n",
            "Epoch 96/200\n",
            "2/2 [==============================] - 0s 32ms/step - loss: 0.2211 - accuracy: 0.9412 - _timestamp: 1646473020.0000 - _runtime: 4309.0000\n",
            "Epoch 97/200\n",
            "2/2 [==============================] - 0s 6ms/step - loss: 0.2167 - accuracy: 0.9608 - _timestamp: 1646473020.0000 - _runtime: 4309.0000\n",
            "Epoch 98/200\n",
            "2/2 [==============================] - 0s 7ms/step - loss: 0.2125 - accuracy: 0.9804 - _timestamp: 1646473020.0000 - _runtime: 4309.0000\n",
            "Epoch 99/200\n",
            "2/2 [==============================] - 0s 8ms/step - loss: 0.2097 - accuracy: 0.9804 - _timestamp: 1646473020.0000 - _runtime: 4309.0000\n",
            "Epoch 100/200\n",
            "2/2 [==============================] - 0s 7ms/step - loss: 0.2077 - accuracy: 0.9804 - _timestamp: 1646473020.0000 - _runtime: 4309.0000\n",
            "Epoch 101/200\n",
            "2/2 [==============================] - 0s 7ms/step - loss: 0.2028 - accuracy: 0.9804 - _timestamp: 1646473020.0000 - _runtime: 4309.0000\n",
            "Epoch 102/200\n",
            "2/2 [==============================] - 0s 6ms/step - loss: 0.2006 - accuracy: 0.9804 - _timestamp: 1646473020.0000 - _runtime: 4309.0000\n",
            "Epoch 103/200\n",
            "2/2 [==============================] - 0s 10ms/step - loss: 0.1991 - accuracy: 0.9804 - _timestamp: 1646473020.0000 - _runtime: 4309.0000\n",
            "Epoch 104/200\n",
            "2/2 [==============================] - 0s 8ms/step - loss: 0.1965 - accuracy: 0.9804 - _timestamp: 1646473020.0000 - _runtime: 4309.0000\n",
            "Epoch 105/200\n",
            "2/2 [==============================] - 0s 7ms/step - loss: 0.1911 - accuracy: 0.9804 - _timestamp: 1646473020.0000 - _runtime: 4309.0000\n",
            "Epoch 106/200\n",
            "2/2 [==============================] - 0s 7ms/step - loss: 0.1893 - accuracy: 0.9804 - _timestamp: 1646473020.0000 - _runtime: 4309.0000\n",
            "Epoch 107/200\n",
            "2/2 [==============================] - 0s 8ms/step - loss: 0.1880 - accuracy: 0.9804 - _timestamp: 1646473020.0000 - _runtime: 4309.0000\n",
            "Epoch 108/200\n",
            "2/2 [==============================] - 0s 7ms/step - loss: 0.1829 - accuracy: 0.9804 - _timestamp: 1646473020.0000 - _runtime: 4309.0000\n",
            "Epoch 109/200\n",
            "2/2 [==============================] - 0s 7ms/step - loss: 0.1796 - accuracy: 0.9804 - _timestamp: 1646473020.0000 - _runtime: 4309.0000\n",
            "Epoch 110/200\n",
            "2/2 [==============================] - 0s 6ms/step - loss: 0.1756 - accuracy: 0.9804 - _timestamp: 1646473020.0000 - _runtime: 4309.0000\n",
            "Epoch 111/200\n",
            "2/2 [==============================] - 0s 7ms/step - loss: 0.1723 - accuracy: 0.9804 - _timestamp: 1646473020.0000 - _runtime: 4309.0000\n",
            "Epoch 112/200\n",
            "2/2 [==============================] - 0s 8ms/step - loss: 0.1681 - accuracy: 0.9804 - _timestamp: 1646473020.0000 - _runtime: 4309.0000\n",
            "Epoch 113/200\n",
            "2/2 [==============================] - 0s 6ms/step - loss: 0.1654 - accuracy: 0.9804 - _timestamp: 1646473020.0000 - _runtime: 4309.0000\n",
            "Epoch 114/200\n",
            "2/2 [==============================] - 0s 9ms/step - loss: 0.1643 - accuracy: 0.9804 - _timestamp: 1646473020.0000 - _runtime: 4309.0000\n",
            "Epoch 115/200\n",
            "2/2 [==============================] - 0s 7ms/step - loss: 0.1629 - accuracy: 0.9804 - _timestamp: 1646473020.0000 - _runtime: 4309.0000\n",
            "Epoch 116/200\n",
            "2/2 [==============================] - 0s 7ms/step - loss: 0.1581 - accuracy: 0.9804 - _timestamp: 1646473020.0000 - _runtime: 4309.0000\n",
            "Epoch 117/200\n",
            "2/2 [==============================] - 0s 9ms/step - loss: 0.1547 - accuracy: 0.9804 - _timestamp: 1646473020.0000 - _runtime: 4309.0000\n",
            "Epoch 118/200\n",
            "2/2 [==============================] - 0s 8ms/step - loss: 0.1527 - accuracy: 0.9804 - _timestamp: 1646473020.0000 - _runtime: 4309.0000\n",
            "Epoch 119/200\n",
            "2/2 [==============================] - 0s 9ms/step - loss: 0.1481 - accuracy: 0.9804 - _timestamp: 1646473020.0000 - _runtime: 4309.0000\n",
            "Epoch 120/200\n",
            "2/2 [==============================] - 0s 31ms/step - loss: 0.1439 - accuracy: 0.9804 - _timestamp: 1646473020.0000 - _runtime: 4309.0000\n",
            "Epoch 121/200\n",
            "2/2 [==============================] - 0s 9ms/step - loss: 0.1440 - accuracy: 0.9804 - _timestamp: 1646473020.0000 - _runtime: 4309.0000\n",
            "Epoch 122/200\n",
            "2/2 [==============================] - 0s 8ms/step - loss: 0.1433 - accuracy: 0.9804 - _timestamp: 1646473020.0000 - _runtime: 4309.0000\n",
            "Epoch 123/200\n",
            "2/2 [==============================] - 0s 8ms/step - loss: 0.1385 - accuracy: 0.9804 - _timestamp: 1646473020.0000 - _runtime: 4309.0000\n",
            "Epoch 124/200\n",
            "2/2 [==============================] - 0s 7ms/step - loss: 0.1380 - accuracy: 0.9804 - _timestamp: 1646473020.0000 - _runtime: 4309.0000\n",
            "Epoch 125/200\n",
            "2/2 [==============================] - 0s 10ms/step - loss: 0.1335 - accuracy: 0.9804 - _timestamp: 1646473020.0000 - _runtime: 4309.0000\n",
            "Epoch 126/200\n",
            "2/2 [==============================] - 0s 7ms/step - loss: 0.1299 - accuracy: 0.9804 - _timestamp: 1646473020.0000 - _runtime: 4309.0000\n",
            "Epoch 127/200\n",
            "2/2 [==============================] - 0s 10ms/step - loss: 0.1307 - accuracy: 0.9804 - _timestamp: 1646473020.0000 - _runtime: 4309.0000\n",
            "Epoch 128/200\n",
            "2/2 [==============================] - 0s 8ms/step - loss: 0.1277 - accuracy: 0.9804 - _timestamp: 1646473020.0000 - _runtime: 4309.0000\n",
            "Epoch 129/200\n",
            "2/2 [==============================] - 0s 7ms/step - loss: 0.1226 - accuracy: 0.9804 - _timestamp: 1646473020.0000 - _runtime: 4309.0000\n",
            "Epoch 130/200\n",
            "2/2 [==============================] - 0s 8ms/step - loss: 0.1241 - accuracy: 0.9804 - _timestamp: 1646473020.0000 - _runtime: 4309.0000\n",
            "Epoch 131/200\n",
            "2/2 [==============================] - 0s 8ms/step - loss: 0.1270 - accuracy: 0.9804 - _timestamp: 1646473020.0000 - _runtime: 4309.0000\n",
            "Epoch 132/200\n",
            "2/2 [==============================] - 0s 6ms/step - loss: 0.1207 - accuracy: 0.9804 - _timestamp: 1646473020.0000 - _runtime: 4309.0000\n",
            "Epoch 133/200\n",
            "2/2 [==============================] - 0s 10ms/step - loss: 0.1187 - accuracy: 0.9804 - _timestamp: 1646473020.0000 - _runtime: 4309.0000\n",
            "Epoch 134/200\n",
            "2/2 [==============================] - 0s 7ms/step - loss: 0.1190 - accuracy: 0.9804 - _timestamp: 1646473020.0000 - _runtime: 4309.0000\n",
            "Epoch 135/200\n",
            "2/2 [==============================] - 0s 9ms/step - loss: 0.1148 - accuracy: 0.9804 - _timestamp: 1646473020.0000 - _runtime: 4309.0000\n",
            "Epoch 136/200\n",
            "2/2 [==============================] - 0s 7ms/step - loss: 0.1123 - accuracy: 0.9804 - _timestamp: 1646473020.0000 - _runtime: 4309.0000\n",
            "Epoch 137/200\n",
            "2/2 [==============================] - 0s 10ms/step - loss: 0.1098 - accuracy: 0.9804 - _timestamp: 1646473020.0000 - _runtime: 4309.0000\n",
            "Epoch 138/200\n",
            "2/2 [==============================] - 0s 8ms/step - loss: 0.1095 - accuracy: 0.9804 - _timestamp: 1646473021.0000 - _runtime: 4310.0000\n",
            "Epoch 139/200\n",
            "2/2 [==============================] - 0s 7ms/step - loss: 0.1070 - accuracy: 0.9804 - _timestamp: 1646473021.0000 - _runtime: 4310.0000\n",
            "Epoch 140/200\n",
            "2/2 [==============================] - 0s 8ms/step - loss: 0.1062 - accuracy: 0.9804 - _timestamp: 1646473021.0000 - _runtime: 4310.0000\n",
            "Epoch 141/200\n",
            "2/2 [==============================] - 0s 9ms/step - loss: 0.1049 - accuracy: 1.0000 - _timestamp: 1646473021.0000 - _runtime: 4310.0000\n",
            "Epoch 142/200\n",
            "2/2 [==============================] - 0s 5ms/step - loss: 0.1048 - accuracy: 1.0000 - _timestamp: 1646473021.0000 - _runtime: 4310.0000\n",
            "Epoch 143/200\n",
            "2/2 [==============================] - 0s 44ms/step - loss: 0.1032 - accuracy: 0.9804 - _timestamp: 1646473021.0000 - _runtime: 4310.0000\n",
            "Epoch 144/200\n",
            "2/2 [==============================] - 0s 8ms/step - loss: 0.1014 - accuracy: 0.9804 - _timestamp: 1646473021.0000 - _runtime: 4310.0000\n",
            "Epoch 145/200\n",
            "2/2 [==============================] - 0s 7ms/step - loss: 0.1004 - accuracy: 0.9804 - _timestamp: 1646473021.0000 - _runtime: 4310.0000\n",
            "Epoch 146/200\n",
            "2/2 [==============================] - 0s 5ms/step - loss: 0.0972 - accuracy: 0.9804 - _timestamp: 1646473021.0000 - _runtime: 4310.0000\n",
            "Epoch 147/200\n",
            "2/2 [==============================] - 0s 9ms/step - loss: 0.0950 - accuracy: 0.9804 - _timestamp: 1646473021.0000 - _runtime: 4310.0000\n",
            "Epoch 148/200\n",
            "2/2 [==============================] - 0s 7ms/step - loss: 0.0939 - accuracy: 0.9804 - _timestamp: 1646473021.0000 - _runtime: 4310.0000\n",
            "Epoch 149/200\n",
            "2/2 [==============================] - 0s 7ms/step - loss: 0.0919 - accuracy: 1.0000 - _timestamp: 1646473021.0000 - _runtime: 4310.0000\n",
            "Epoch 150/200\n",
            "2/2 [==============================] - 0s 9ms/step - loss: 0.0911 - accuracy: 0.9804 - _timestamp: 1646473021.0000 - _runtime: 4310.0000\n",
            "Epoch 151/200\n",
            "2/2 [==============================] - 0s 8ms/step - loss: 0.0888 - accuracy: 0.9804 - _timestamp: 1646473021.0000 - _runtime: 4310.0000\n",
            "Epoch 152/200\n",
            "2/2 [==============================] - 0s 8ms/step - loss: 0.0880 - accuracy: 0.9804 - _timestamp: 1646473021.0000 - _runtime: 4310.0000\n",
            "Epoch 153/200\n",
            "2/2 [==============================] - 0s 8ms/step - loss: 0.0863 - accuracy: 1.0000 - _timestamp: 1646473021.0000 - _runtime: 4310.0000\n",
            "Epoch 154/200\n",
            "2/2 [==============================] - 0s 8ms/step - loss: 0.0856 - accuracy: 1.0000 - _timestamp: 1646473021.0000 - _runtime: 4310.0000\n",
            "Epoch 155/200\n",
            "2/2 [==============================] - 0s 8ms/step - loss: 0.0857 - accuracy: 1.0000 - _timestamp: 1646473021.0000 - _runtime: 4310.0000\n",
            "Epoch 156/200\n",
            "2/2 [==============================] - 0s 8ms/step - loss: 0.0826 - accuracy: 1.0000 - _timestamp: 1646473021.0000 - _runtime: 4310.0000\n",
            "Epoch 157/200\n",
            "2/2 [==============================] - 0s 9ms/step - loss: 0.0819 - accuracy: 1.0000 - _timestamp: 1646473021.0000 - _runtime: 4310.0000\n",
            "Epoch 158/200\n",
            "2/2 [==============================] - 0s 8ms/step - loss: 0.0825 - accuracy: 0.9804 - _timestamp: 1646473021.0000 - _runtime: 4310.0000\n",
            "Epoch 159/200\n",
            "2/2 [==============================] - 0s 8ms/step - loss: 0.0804 - accuracy: 0.9804 - _timestamp: 1646473021.0000 - _runtime: 4310.0000\n",
            "Epoch 160/200\n",
            "2/2 [==============================] - 0s 9ms/step - loss: 0.0781 - accuracy: 1.0000 - _timestamp: 1646473021.0000 - _runtime: 4310.0000\n",
            "Epoch 161/200\n",
            "2/2 [==============================] - 0s 10ms/step - loss: 0.0788 - accuracy: 1.0000 - _timestamp: 1646473021.0000 - _runtime: 4310.0000\n",
            "Epoch 162/200\n",
            "2/2 [==============================] - 0s 7ms/step - loss: 0.0766 - accuracy: 1.0000 - _timestamp: 1646473021.0000 - _runtime: 4310.0000\n",
            "Epoch 163/200\n",
            "2/2 [==============================] - 0s 27ms/step - loss: 0.0752 - accuracy: 1.0000 - _timestamp: 1646473021.0000 - _runtime: 4310.0000\n",
            "Epoch 164/200\n",
            "2/2 [==============================] - 0s 7ms/step - loss: 0.0744 - accuracy: 1.0000 - _timestamp: 1646473021.0000 - _runtime: 4310.0000\n",
            "Epoch 165/200\n",
            "2/2 [==============================] - 0s 8ms/step - loss: 0.0740 - accuracy: 1.0000 - _timestamp: 1646473021.0000 - _runtime: 4310.0000\n",
            "Epoch 166/200\n",
            "2/2 [==============================] - 0s 8ms/step - loss: 0.0718 - accuracy: 1.0000 - _timestamp: 1646473021.0000 - _runtime: 4310.0000\n",
            "Epoch 167/200\n",
            "2/2 [==============================] - 0s 7ms/step - loss: 0.0706 - accuracy: 1.0000 - _timestamp: 1646473021.0000 - _runtime: 4310.0000\n",
            "Epoch 168/200\n",
            "2/2 [==============================] - 0s 7ms/step - loss: 0.0694 - accuracy: 1.0000 - _timestamp: 1646473021.0000 - _runtime: 4310.0000\n",
            "Epoch 169/200\n",
            "2/2 [==============================] - 0s 7ms/step - loss: 0.0688 - accuracy: 1.0000 - _timestamp: 1646473021.0000 - _runtime: 4310.0000\n",
            "Epoch 170/200\n",
            "2/2 [==============================] - 0s 10ms/step - loss: 0.0683 - accuracy: 1.0000 - _timestamp: 1646473021.0000 - _runtime: 4310.0000\n",
            "Epoch 171/200\n",
            "2/2 [==============================] - 0s 7ms/step - loss: 0.0675 - accuracy: 1.0000 - _timestamp: 1646473021.0000 - _runtime: 4310.0000\n",
            "Epoch 172/200\n",
            "2/2 [==============================] - 0s 7ms/step - loss: 0.0664 - accuracy: 1.0000 - _timestamp: 1646473021.0000 - _runtime: 4310.0000\n",
            "Epoch 173/200\n",
            "2/2 [==============================] - 0s 9ms/step - loss: 0.0647 - accuracy: 1.0000 - _timestamp: 1646473021.0000 - _runtime: 4310.0000\n",
            "Epoch 174/200\n",
            "2/2 [==============================] - 0s 7ms/step - loss: 0.0641 - accuracy: 1.0000 - _timestamp: 1646473021.0000 - _runtime: 4310.0000\n",
            "Epoch 175/200\n",
            "2/2 [==============================] - 0s 6ms/step - loss: 0.0640 - accuracy: 1.0000 - _timestamp: 1646473021.0000 - _runtime: 4310.0000\n",
            "Epoch 176/200\n",
            "2/2 [==============================] - 0s 7ms/step - loss: 0.0624 - accuracy: 1.0000 - _timestamp: 1646473021.0000 - _runtime: 4310.0000\n",
            "Epoch 177/200\n",
            "2/2 [==============================] - 0s 10ms/step - loss: 0.0613 - accuracy: 1.0000 - _timestamp: 1646473021.0000 - _runtime: 4310.0000\n",
            "Epoch 178/200\n",
            "2/2 [==============================] - 0s 8ms/step - loss: 0.0607 - accuracy: 1.0000 - _timestamp: 1646473022.0000 - _runtime: 4311.0000\n",
            "Epoch 179/200\n",
            "2/2 [==============================] - 0s 7ms/step - loss: 0.0596 - accuracy: 1.0000 - _timestamp: 1646473022.0000 - _runtime: 4311.0000\n",
            "Epoch 180/200\n",
            "2/2 [==============================] - 0s 8ms/step - loss: 0.0588 - accuracy: 1.0000 - _timestamp: 1646473022.0000 - _runtime: 4311.0000\n",
            "Epoch 181/200\n",
            "2/2 [==============================] - 0s 7ms/step - loss: 0.0579 - accuracy: 1.0000 - _timestamp: 1646473022.0000 - _runtime: 4311.0000\n",
            "Epoch 182/200\n",
            "2/2 [==============================] - 0s 7ms/step - loss: 0.0578 - accuracy: 1.0000 - _timestamp: 1646473022.0000 - _runtime: 4311.0000\n",
            "Epoch 183/200\n",
            "2/2 [==============================] - 0s 7ms/step - loss: 0.0568 - accuracy: 1.0000 - _timestamp: 1646473022.0000 - _runtime: 4311.0000\n",
            "Epoch 184/200\n",
            "2/2 [==============================] - 0s 7ms/step - loss: 0.0562 - accuracy: 1.0000 - _timestamp: 1646473022.0000 - _runtime: 4311.0000\n",
            "Epoch 185/200\n",
            "2/2 [==============================] - 0s 8ms/step - loss: 0.0548 - accuracy: 1.0000 - _timestamp: 1646473022.0000 - _runtime: 4311.0000\n",
            "Epoch 186/200\n",
            "2/2 [==============================] - 0s 7ms/step - loss: 0.0546 - accuracy: 1.0000 - _timestamp: 1646473022.0000 - _runtime: 4311.0000\n",
            "Epoch 187/200\n",
            "2/2 [==============================] - 0s 7ms/step - loss: 0.0537 - accuracy: 1.0000 - _timestamp: 1646473022.0000 - _runtime: 4311.0000\n",
            "Epoch 188/200\n",
            "2/2 [==============================] - 0s 7ms/step - loss: 0.0534 - accuracy: 1.0000 - _timestamp: 1646473022.0000 - _runtime: 4311.0000\n",
            "Epoch 189/200\n",
            "2/2 [==============================] - 0s 7ms/step - loss: 0.0520 - accuracy: 1.0000 - _timestamp: 1646473022.0000 - _runtime: 4311.0000\n",
            "Epoch 190/200\n",
            "2/2 [==============================] - 0s 6ms/step - loss: 0.0521 - accuracy: 1.0000 - _timestamp: 1646473022.0000 - _runtime: 4311.0000\n",
            "Epoch 191/200\n",
            "2/2 [==============================] - 0s 7ms/step - loss: 0.0506 - accuracy: 1.0000 - _timestamp: 1646473022.0000 - _runtime: 4311.0000\n",
            "Epoch 192/200\n",
            "2/2 [==============================] - 0s 8ms/step - loss: 0.0501 - accuracy: 1.0000 - _timestamp: 1646473022.0000 - _runtime: 4311.0000\n",
            "Epoch 193/200\n",
            "2/2 [==============================] - 0s 9ms/step - loss: 0.0492 - accuracy: 1.0000 - _timestamp: 1646473022.0000 - _runtime: 4311.0000\n",
            "Epoch 194/200\n",
            "2/2 [==============================] - 0s 9ms/step - loss: 0.0483 - accuracy: 1.0000 - _timestamp: 1646473022.0000 - _runtime: 4311.0000\n",
            "Epoch 195/200\n",
            "2/2 [==============================] - 0s 7ms/step - loss: 0.0478 - accuracy: 1.0000 - _timestamp: 1646473022.0000 - _runtime: 4311.0000\n",
            "Epoch 196/200\n",
            "2/2 [==============================] - 0s 6ms/step - loss: 0.0472 - accuracy: 1.0000 - _timestamp: 1646473022.0000 - _runtime: 4311.0000\n",
            "Epoch 197/200\n",
            "2/2 [==============================] - 0s 8ms/step - loss: 0.0467 - accuracy: 1.0000 - _timestamp: 1646473022.0000 - _runtime: 4311.0000\n",
            "Epoch 198/200\n",
            "2/2 [==============================] - 0s 10ms/step - loss: 0.0460 - accuracy: 1.0000 - _timestamp: 1646473022.0000 - _runtime: 4311.0000\n",
            "Epoch 199/200\n",
            "2/2 [==============================] - 0s 6ms/step - loss: 0.0453 - accuracy: 1.0000 - _timestamp: 1646473022.0000 - _runtime: 4311.0000\n",
            "Epoch 200/200\n",
            "2/2 [==============================] - 0s 6ms/step - loss: 0.0449 - accuracy: 1.0000 - _timestamp: 1646473022.0000 - _runtime: 4311.0000\n"
          ]
        },
        {
          "data": {
            "text/plain": [
              "<keras.callbacks.History at 0x7f7829e6a610>"
            ]
          },
          "execution_count": 103,
          "metadata": {},
          "output_type": "execute_result"
        }
      ],
      "source": [
        "model.fit(X_train,Y_train,epochs=200,callbacks=[WandbCallback()])"
      ]
    },
    {
      "cell_type": "code",
      "execution_count": null,
      "metadata": {
        "colab": {
          "base_uri": "https://localhost:8080/"
        },
        "id": "wqj3HiSbZpcz",
        "outputId": "8e013a04-96e8-44d5-ddb4-0d2e4cfd8972"
      },
      "outputs": [
        {
          "name": "stdout",
          "output_type": "stream",
          "text": [
            "1/1 [==============================] - 0s 108ms/step - loss: 0.4129 - accuracy: 0.8261\n"
          ]
        },
        {
          "data": {
            "text/plain": [
              "[0.41293343901634216, 0.8260869383811951]"
            ]
          },
          "execution_count": 104,
          "metadata": {},
          "output_type": "execute_result"
        }
      ],
      "source": [
        "model.evaluate(X_test,Y_test)"
      ]
    }
  ],
  "metadata": {
    "colab": {
      "name": "deepface_wandb.ipynb",
      "provenance": []
    },
    "kernelspec": {
      "display_name": "Python 3",
      "name": "python3"
    },
    "language_info": {
      "name": "python"
    }
  },
  "nbformat": 4,
  "nbformat_minor": 0
}
