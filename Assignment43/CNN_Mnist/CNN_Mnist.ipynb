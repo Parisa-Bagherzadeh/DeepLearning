{
  "nbformat": 4,
  "nbformat_minor": 0,
  "metadata": {
    "colab": {
      "name": "CNN-Mnist.ipynb",
      "provenance": []
    },
    "kernelspec": {
      "name": "python3",
      "display_name": "Python 3"
    },
    "language_info": {
      "name": "python"
    },
    "accelerator": "GPU"
  },
  "cells": [
    {
      "cell_type": "code",
      "execution_count": 24,
      "metadata": {
        "id": "O4DVT5V7XdI7"
      },
      "outputs": [],
      "source": [
        "import tensorflow as tf\n",
        "from tensorflow.keras import layers\n",
        "import numpy as np\n",
        "from sklearn.model_selection import train_test_split\n",
        "import matplotlib.pyplot as plt\n"
      ]
    },
    {
      "cell_type": "code",
      "source": [
        "mnist=tf.keras.datasets.mnist\n",
        "(X_train,Y_train),(X_test,Y_test)=mnist.load_data()\n",
        "\n",
        "#normalize\n",
        "X_train=X_train/255.0\n",
        "X_test=X_test/255.0\n",
        "\n"
      ],
      "metadata": {
        "id": "TFwm5RyaYOoD"
      },
      "execution_count": 15,
      "outputs": []
    },
    {
      "cell_type": "code",
      "source": [
        "plt.imshow(X_train[0],cmap='gray')\n",
        "print(Y_train[0])"
      ],
      "metadata": {
        "colab": {
          "base_uri": "https://localhost:8080/",
          "height": 283
        },
        "id": "Uv-ggBJ3lawU",
        "outputId": "2363ecbe-fcdb-457b-a041-57d99d4d23aa"
      },
      "execution_count": 27,
      "outputs": [
        {
          "output_type": "stream",
          "name": "stdout",
          "text": [
            "5\n"
          ]
        },
        {
          "output_type": "display_data",
          "data": {
            "image/png": "[encoded data removed]",
            "text/plain": [
              "<Figure size 432x288 with 1 Axes>"
            ]
          },
          "metadata": {
            "needs_background": "light"
          }
        }
      ]
    },
    {
      "cell_type": "code",
      "source": [
        "\n",
        "X_train,X_val,Y_train,Y_val=train_test_split(X_train,Y_train,test_size=0.2,random_state=42)\n",
        "\n"
      ],
      "metadata": {
        "id": "dzE1NaqtUOuG"
      },
      "execution_count": 16,
      "outputs": []
    },
    {
      "cell_type": "code",
      "source": [
        "model=tf.keras.models.Sequential([\n",
        "       #feature extraction                           \n",
        "       layers.Conv2D(32,(3,3),activation='relu',input_shape=(28,28,1)),\n",
        "       layers.MaxPooling2D(),\n",
        "       layers.Conv2D(64,(3,3),activation='relu'),\n",
        "       layers.MaxPooling2D(),\n",
        "       layers.Conv2D(64,(5,5),activation='relu'),\n",
        "       layers.Flatten(),\n",
        "\n",
        "       #classification\n",
        "       layers.Dense(64,activation='relu'),\n",
        "       layers.Dense(10,activation='softmax')\n",
        "\n",
        "\n",
        "                                  ])"
      ],
      "metadata": {
        "id": "NTeFRG_KaMCp"
      },
      "execution_count": 17,
      "outputs": []
    },
    {
      "cell_type": "code",
      "source": [
        "model.summary()"
      ],
      "metadata": {
        "colab": {
          "base_uri": "https://localhost:8080/"
        },
        "id": "0GvEHosOesXk",
        "outputId": "2292c408-5412-42e2-dc7c-2185e058e9fc"
      },
      "execution_count": 18,
      "outputs": [
        {
          "output_type": "stream",
          "name": "stdout",
          "text": [
            "Model: \"sequential_1\"\n",
            "_________________________________________________________________\n",
            " Layer (type)                Output Shape              Param #   \n",
            "=================================================================\n",
            " conv2d_3 (Conv2D)           (None, 26, 26, 32)        320       \n",
            "                                                                 \n",
            " max_pooling2d_2 (MaxPooling  (None, 13, 13, 32)       0         \n",
            " 2D)                                                             \n",
            "                                                                 \n",
            " conv2d_4 (Conv2D)           (None, 11, 11, 64)        18496     \n",
            "                                                                 \n",
            " max_pooling2d_3 (MaxPooling  (None, 5, 5, 64)         0         \n",
            " 2D)                                                             \n",
            "                                                                 \n",
            " conv2d_5 (Conv2D)           (None, 1, 1, 64)          102464    \n",
            "                                                                 \n",
            " flatten_1 (Flatten)         (None, 64)                0         \n",
            "                                                                 \n",
            " dense_2 (Dense)             (None, 64)                4160      \n",
            "                                                                 \n",
            " dense_3 (Dense)             (None, 10)                650       \n",
            "                                                                 \n",
            "=================================================================\n",
            "Total params: 126,090\n",
            "Trainable params: 126,090\n",
            "Non-trainable params: 0\n",
            "_________________________________________________________________\n"
          ]
        }
      ]
    },
    {
      "cell_type": "code",
      "source": [
        "model.compile(optimizer=tf.keras.optimizers.SGD(learning_rate=0.001),\n",
        "              loss=tf.keras.losses.sparse_categorical_crossentropy,\n",
        "              metrics=['accuracy'])\n",
        "\n",
        "   "
      ],
      "metadata": {
        "id": "Y05uf8XGZCP9"
      },
      "execution_count": 19,
      "outputs": []
    },
    {
      "cell_type": "code",
      "source": [
        "model.fit(X_train,Y_train,epochs=10,validation_data=(X_val,Y_val))\n"
      ],
      "metadata": {
        "colab": {
          "base_uri": "https://localhost:8080/"
        },
        "id": "dzRkd0_4h7Bq",
        "outputId": "3de71047-8592-4fea-bb2a-fef6032cdb28"
      },
      "execution_count": 20,
      "outputs": [
        {
          "output_type": "stream",
          "name": "stdout",
          "text": [
            "Epoch 1/10\n",
            "1500/1500 [==============================] - 12s 7ms/step - loss: 2.2464 - accuracy: 0.2109 - val_loss: 2.1513 - val_accuracy: 0.3260\n",
            "Epoch 2/10\n",
            "1500/1500 [==============================] - 11s 7ms/step - loss: 1.6936 - accuracy: 0.5679 - val_loss: 0.9667 - val_accuracy: 0.7736\n",
            "Epoch 3/10\n",
            "1500/1500 [==============================] - 11s 7ms/step - loss: 0.6487 - accuracy: 0.8258 - val_loss: 0.4799 - val_accuracy: 0.8638\n",
            "Epoch 4/10\n",
            "1500/1500 [==============================] - 11s 7ms/step - loss: 0.4313 - accuracy: 0.8735 - val_loss: 0.3772 - val_accuracy: 0.8914\n",
            "Epoch 5/10\n",
            "1500/1500 [==============================] - 10s 7ms/step - loss: 0.3540 - accuracy: 0.8953 - val_loss: 0.3160 - val_accuracy: 0.9103\n",
            "Epoch 6/10\n",
            "1500/1500 [==============================] - 10s 7ms/step - loss: 0.3057 - accuracy: 0.9097 - val_loss: 0.2747 - val_accuracy: 0.9214\n",
            "Epoch 7/10\n",
            "1500/1500 [==============================] - 11s 7ms/step - loss: 0.2695 - accuracy: 0.9190 - val_loss: 0.2499 - val_accuracy: 0.9297\n",
            "Epoch 8/10\n",
            "1500/1500 [==============================] - 11s 7ms/step - loss: 0.2407 - accuracy: 0.9281 - val_loss: 0.2181 - val_accuracy: 0.9377\n",
            "Epoch 9/10\n",
            "1500/1500 [==============================] - 11s 7ms/step - loss: 0.2166 - accuracy: 0.9354 - val_loss: 0.1981 - val_accuracy: 0.9443\n",
            "Epoch 10/10\n",
            "1500/1500 [==============================] - 10s 7ms/step - loss: 0.1967 - accuracy: 0.9413 - val_loss: 0.1846 - val_accuracy: 0.9446\n"
          ]
        },
        {
          "output_type": "execute_result",
          "data": {
            "text/plain": [
              "<keras.callbacks.History at 0x7f6d4f63b790>"
            ]
          },
          "metadata": {},
          "execution_count": 20
        }
      ]
    },
    {
      "cell_type": "code",
      "source": [
        "model.evaluate(X_test,Y_test)"
      ],
      "metadata": {
        "colab": {
          "base_uri": "https://localhost:8080/"
        },
        "id": "bMyTHdb_kURd",
        "outputId": "97d86209-1581-4b8b-c59d-836152fa4ad2"
      },
      "execution_count": 21,
      "outputs": [
        {
          "output_type": "stream",
          "name": "stdout",
          "text": [
            "313/313 [==============================] - 2s 5ms/step - loss: 0.1693 - accuracy: 0.9492\n"
          ]
        },
        {
          "output_type": "execute_result",
          "data": {
            "text/plain": [
              "[0.1692640334367752, 0.9491999745368958]"
            ]
          },
          "metadata": {},
          "execution_count": 21
        }
      ]
    },
    {
      "cell_type": "code",
      "source": [
        "import cv2\n",
        "img=cv2.imread('img3.png')\n",
        "img=cv2.resize(img,(28,28))\n",
        "img=cv2.cvtColor(img,cv2.COLOR_BGR2GRAY)\n",
        "\n",
        "img=img/255.0\n",
        "img=img.reshape(1,28,28)\n",
        "result=model.predict([img])\n",
        "np.argmax(result)"
      ],
      "metadata": {
        "id": "v5zkmxgwl-Cw",
        "colab": {
          "base_uri": "https://localhost:8080/"
        },
        "outputId": "aa8b4832-58cf-46a1-d83e-5d387efa17d3"
      },
      "execution_count": 22,
      "outputs": [
        {
          "output_type": "execute_result",
          "data": {
            "text/plain": [
              "3"
            ]
          },
          "metadata": {},
          "execution_count": 22
        }
      ]
    },
    {
      "cell_type": "code",
      "source": [
        "import cv2\n",
        "img=cv2.imread('img6.png')\n",
        "img=cv2.resize(img,(28,28))\n",
        "img=cv2.cvtColor(img,cv2.COLOR_BGR2GRAY)\n",
        "\n",
        "img=img/255.0\n",
        "img=img.reshape(1,28,28)\n",
        "result=model.predict([img])\n",
        "np.argmax(result)"
      ],
      "metadata": {
        "colab": {
          "base_uri": "https://localhost:8080/"
        },
        "id": "dNP5xc5-lLxr",
        "outputId": "78617b9c-630c-4882-c166-5d51e4375e93"
      },
      "execution_count": 23,
      "outputs": [
        {
          "output_type": "execute_result",
          "data": {
            "text/plain": [
              "6"
            ]
          },
          "metadata": {},
          "execution_count": 23
        }
      ]
    }
  ]
}