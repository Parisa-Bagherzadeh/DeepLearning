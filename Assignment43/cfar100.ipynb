{
  "cells": [
    {
      "cell_type": "code",
      "execution_count": null,
      "metadata": {
        "id": "fSi092bbePhh"
      },
      "outputs": [],
      "source": [
        "!pip install wandb"
      ]
    },
    {
      "cell_type": "code",
      "source": [
        "import tensorflow as tf\n",
        "from tensorflow.keras.layers import Dense\n",
        "import matplotlib.pyplot as plt\n",
        "from sklearn.model_selection import train_test_split\n",
        "from tensorflow.keras.layers import Dense, Conv2D, MaxPool2D, Flatten\n",
        "from tensorflow.keras import layers\n",
        "import wandb\n",
        "from wandb.keras import WandbCallback"
      ],
      "metadata": {
        "id": "VLg8acM90B4l"
      },
      "execution_count": null,
      "outputs": []
    },
    {
      "cell_type": "code",
      "source": [
        "wandb.init(project='cfar100')"
      ],
      "metadata": {
        "id": "2_LiMMfM0Sil"
      },
      "execution_count": null,
      "outputs": []
    },
    {
      "cell_type": "code",
      "source": [
        "\n",
        "\n",
        "config=wandb.config\n",
        "config.learning_rate=0.001\n",
        "\n"
      ],
      "metadata": {
        "id": "rLyaz9_F0LAZ"
      },
      "execution_count": null,
      "outputs": []
    },
    {
      "cell_type": "code",
      "execution_count": null,
      "metadata": {
        "id": "bG7RO_zgechK"
      },
      "outputs": [],
      "source": [
        "dataset=tf.keras.datasets.cifar100\n",
        "(X_train,Y_train),(X_test,Y_test)=dataset.load_data()\n",
        "(X_train_deep,Y_train_deep),(X_test_deep,Y_test_deep)=dataset.load_data()"
      ]
    },
    {
      "cell_type": "code",
      "execution_count": null,
      "metadata": {
        "colab": {
          "base_uri": "https://localhost:8080/",
          "height": 284
        },
        "id": "vaYxhLqxfYj3",
        "outputId": "890ee761-e358-4029-9b41-160f37123b10"
      },
      "outputs": [
        {
          "output_type": "stream",
          "name": "stdout",
          "text": [
            "[19]\n"
          ]
        },
        {
          "output_type": "display_data",
          "data": {
            "image/png": "[encoded data removed]",
            "text/plain": [
              "<Figure size 432x288 with 1 Axes>"
            ]
          },
          "metadata": {
            "needs_background": "light"
          }
        }
      ],
      "source": [
        "plt.imshow(X_train[0])\n",
        "print(Y_train[0])"
      ]
    },
    {
      "cell_type": "code",
      "source": [
        "print(X_train.shape)\n",
        "print(Y_train.shape)"
      ],
      "metadata": {
        "colab": {
          "base_uri": "https://localhost:8080/"
        },
        "id": "2ueTcoameyFi",
        "outputId": "cf63f395-f723-4f5d-e959-5cb70b3948a8"
      },
      "execution_count": null,
      "outputs": [
        {
          "output_type": "stream",
          "name": "stdout",
          "text": [
            "(50000, 32, 32, 3)\n",
            "(50000, 1)\n"
          ]
        }
      ]
    },
    {
      "cell_type": "code",
      "execution_count": null,
      "metadata": {
        "id": "vZiDcmSNiLqk"
      },
      "outputs": [],
      "source": [
        "\n",
        "X_train=X_train.reshape(X_train.shape[0],X_train.shape[1]*X_train.shape[2]*X_train.shape[3])"
      ]
    },
    {
      "cell_type": "code",
      "source": [
        "X_train.shape"
      ],
      "metadata": {
        "colab": {
          "base_uri": "https://localhost:8080/"
        },
        "id": "pFiX6ug55tR-",
        "outputId": "7a48af74-af08-409f-b20a-dd14758f052c"
      },
      "execution_count": null,
      "outputs": [
        {
          "output_type": "execute_result",
          "data": {
            "text/plain": [
              "(50000, 3072)"
            ]
          },
          "metadata": {},
          "execution_count": 10
        }
      ]
    },
    {
      "cell_type": "code",
      "execution_count": null,
      "metadata": {
        "id": "Nk-qBik0IpPi"
      },
      "outputs": [],
      "source": [
        "X_train,X_val,Y_train,Y_val=train_test_split(X_train,Y_train,test_size=0.2,random_state=42)"
      ]
    },
    {
      "cell_type": "code",
      "source": [
        "X_train,X_val,X_test = X_train / 255.0,X_val/255.0,X_test / 255.0"
      ],
      "metadata": {
        "id": "GC4DQH3QuYkM"
      },
      "execution_count": null,
      "outputs": []
    },
    {
      "cell_type": "code",
      "execution_count": null,
      "metadata": {
        "id": "5Y6wDitSgMZk"
      },
      "outputs": [],
      "source": [
        "#mlp\n",
        "model=tf.keras.models.Sequential([\n",
        "    Dense(64,input_dim=X_train.shape[1],activation='relu'),#input_layer\n",
        "    Dense(32,activation='relu'),\n",
        "    Dense(100,activation='softmax')#output_layer\n",
        "\n",
        "])"
      ]
    },
    {
      "cell_type": "code",
      "execution_count": null,
      "metadata": {
        "id": "OF_Ar3NGiaXa"
      },
      "outputs": [],
      "source": [
        "model.compile(optimizer=tf.keras.optimizers.Adam(learning_rate=config.learning_rate),\n",
        "              loss=tf.keras.losses.sparse_categorical_crossentropy,\n",
        "              metrics=['accuracy'])"
      ]
    },
    {
      "cell_type": "code",
      "execution_count": null,
      "metadata": {
        "colab": {
          "base_uri": "https://localhost:8080/"
        },
        "id": "q28pCruwi3BQ",
        "outputId": "e7dcf376-6a9a-46cd-b376-ae53a696c4e1"
      },
      "outputs": [
        {
          "output_type": "stream",
          "name": "stdout",
          "text": [
            "Epoch 1/10\n",
            "1250/1250 [==============================] - 8s 5ms/step - loss: 4.2713 - accuracy: 0.0459 - val_loss: 3.9902 - val_accuracy: 0.0853 - _timestamp: 1646729647.0000 - _runtime: 25.0000\n",
            "Epoch 2/10\n",
            "1250/1250 [==============================] - 6s 4ms/step - loss: 3.9233 - accuracy: 0.0926 - val_loss: 3.8225 - val_accuracy: 0.1152 - _timestamp: 1646729652.0000 - _runtime: 30.0000\n",
            "Epoch 3/10\n",
            "1250/1250 [==============================] - 5s 4ms/step - loss: 3.7809 - accuracy: 0.1181 - val_loss: 3.7362 - val_accuracy: 0.1285 - _timestamp: 1646729657.0000 - _runtime: 35.0000\n",
            "Epoch 4/10\n",
            "1250/1250 [==============================] - 5s 4ms/step - loss: 3.6996 - accuracy: 0.1338 - val_loss: 3.7488 - val_accuracy: 0.1266 - _timestamp: 1646729662.0000 - _runtime: 40.0000\n",
            "Epoch 5/10\n",
            "1250/1250 [==============================] - 5s 4ms/step - loss: 3.6473 - accuracy: 0.1438 - val_loss: 3.6576 - val_accuracy: 0.1401 - _timestamp: 1646729668.0000 - _runtime: 46.0000\n",
            "Epoch 6/10\n",
            "1250/1250 [==============================] - 6s 4ms/step - loss: 3.6051 - accuracy: 0.1487 - val_loss: 3.6264 - val_accuracy: 0.1462 - _timestamp: 1646729673.0000 - _runtime: 51.0000\n",
            "Epoch 7/10\n",
            "1250/1250 [==============================] - 5s 4ms/step - loss: 3.5707 - accuracy: 0.1540 - val_loss: 3.6057 - val_accuracy: 0.1490 - _timestamp: 1646729678.0000 - _runtime: 56.0000\n",
            "Epoch 8/10\n",
            "1250/1250 [==============================] - 6s 5ms/step - loss: 3.5419 - accuracy: 0.1604 - val_loss: 3.5902 - val_accuracy: 0.1546 - _timestamp: 1646729684.0000 - _runtime: 62.0000\n",
            "Epoch 9/10\n",
            "1250/1250 [==============================] - 5s 4ms/step - loss: 3.5216 - accuracy: 0.1623 - val_loss: 3.5754 - val_accuracy: 0.1583 - _timestamp: 1646729689.0000 - _runtime: 67.0000\n",
            "Epoch 10/10\n",
            "1250/1250 [==============================] - 5s 4ms/step - loss: 3.5034 - accuracy: 0.1652 - val_loss: 3.5897 - val_accuracy: 0.1501 - _timestamp: 1646729695.0000 - _runtime: 73.0000\n"
          ]
        }
      ],
      "source": [
        "output=model.fit(X_train,Y_train,validation_data=(X_val,Y_val),epochs=10,callbacks=[WandbCallback()])"
      ]
    },
    {
      "cell_type": "code",
      "source": [
        "plt.plot(output.history['loss'])\n",
        "plt.plot(output.history['accuracy'])\n",
        "plt.xlabel('epoch')\n",
        "plt.legend(['loss', 'accuracy'], loc='upper right')\n",
        "plt.title('Loss and Accuracy of MLP model on cfar100 dataset')\n",
        "plt.show()"
      ],
      "metadata": {
        "colab": {
          "base_uri": "https://localhost:8080/",
          "height": 295
        },
        "id": "IJuup__eXI4F",
        "outputId": "d26c4555-1c8b-4635-a413-03dcbc2d7a3b"
      },
      "execution_count": null,
      "outputs": [
        {
          "output_type": "display_data",
          "data": {
            "image/png": "[encoded data removed]",
            "text/plain": [
              "<Figure size 432x288 with 1 Axes>"
            ]
          },
          "metadata": {
            "needs_background": "light"
          }
        }
      ]
    },
    {
      "cell_type": "code",
      "execution_count": null,
      "metadata": {
        "colab": {
          "base_uri": "https://localhost:8080/"
        },
        "id": "C3EKcBsWm9MM",
        "outputId": "0e5a4f5a-1056-4cb4-aafd-fd1313a6d41d"
      },
      "outputs": [
        {
          "output_type": "stream",
          "name": "stdout",
          "text": [
            "(10000, 32, 32, 3)\n",
            "(10000, 1)\n",
            "(10000, 3072)\n"
          ]
        }
      ],
      "source": [
        "print(X_test.shape)\n",
        "print(Y_test.shape)\n",
        "X_test=X_test.reshape(X_test.shape[0],X_test.shape[1]*X_test.shape[2]*X_test.shape[3])\n",
        "print(X_test.shape)"
      ]
    },
    {
      "cell_type": "code",
      "execution_count": null,
      "metadata": {
        "colab": {
          "base_uri": "https://localhost:8080/"
        },
        "id": "SarkV5BUnIl4",
        "outputId": "e16814f0-1fb0-45ba-ed8b-57a38c0876ed"
      },
      "outputs": [
        {
          "output_type": "stream",
          "name": "stdout",
          "text": [
            "313/313 [==============================] - 1s 3ms/step - loss: 3.6115 - accuracy: 0.1534\n"
          ]
        }
      ],
      "source": [
        "\n",
        "accuracy = model.evaluate(X_test,Y_test)\n"
      ]
    },
    {
      "cell_type": "code",
      "source": [
        "X_train_deep,X_val_deep,Y_train_deep,Y_val_deep=train_test_split(X_train_deep,Y_train_deep,test_size=0.2,random_state=42)"
      ],
      "metadata": {
        "id": "u-vN2fotSBFx"
      },
      "execution_count": null,
      "outputs": []
    },
    {
      "cell_type": "code",
      "source": [
        "X_train_deep,X_val_deep,X_test_deep = X_train_deep / 255.0,X_val_deep/255.0,X_test_deep / 255.0"
      ],
      "metadata": {
        "id": "xkPOmncb4dvF"
      },
      "execution_count": null,
      "outputs": []
    },
    {
      "cell_type": "code",
      "source": [
        "model_deep=tf.keras.models.Sequential([\n",
        "                                       layers.Conv2D(16,(3,3),activation='relu',input_shape=(32,32,3)),\n",
        "                                       layers.Conv2D(16,(3,3),activation='relu'),\n",
        "                                       layers.MaxPooling2D((2,2)),\n",
        "                                       layers.Conv2D(32,(3,3),activation='relu'),\n",
        "                                       layers.Conv2D(32,(3,3),activation='relu'),\n",
        "                                       layers.MaxPooling2D((2,2)),\n",
        "                                       layers.Conv2D(64,(3,3),activation='relu'),\n",
        "                                       layers.Conv2D(64,(3,3),activation='relu'),\n",
        "                                       layers.Flatten(),\n",
        "                                       layers.Dense(64,activation='relu'),\n",
        "                                       layers.Dense(100,activation='softmax')\n",
        "\n",
        "])"
      ],
      "metadata": {
        "id": "t25CuPeN9acZ"
      },
      "execution_count": null,
      "outputs": []
    },
    {
      "cell_type": "code",
      "source": [
        "model_deep.summary()"
      ],
      "metadata": {
        "colab": {
          "base_uri": "https://localhost:8080/"
        },
        "id": "zpYgduZ3J4Z-",
        "outputId": "a0f49c45-60b5-4598-9552-cd41d82970cd"
      },
      "execution_count": null,
      "outputs": [
        {
          "output_type": "stream",
          "name": "stdout",
          "text": [
            "Model: \"sequential_1\"\n",
            "_________________________________________________________________\n",
            " Layer (type)                Output Shape              Param #   \n",
            "=================================================================\n",
            " conv2d (Conv2D)             (None, 30, 30, 16)        448       \n",
            "                                                                 \n",
            " conv2d_1 (Conv2D)           (None, 28, 28, 16)        2320      \n",
            "                                                                 \n",
            " max_pooling2d (MaxPooling2D  (None, 14, 14, 16)       0         \n",
            " )                                                               \n",
            "                                                                 \n",
            " conv2d_2 (Conv2D)           (None, 12, 12, 32)        4640      \n",
            "                                                                 \n",
            " conv2d_3 (Conv2D)           (None, 10, 10, 32)        9248      \n",
            "                                                                 \n",
            " max_pooling2d_1 (MaxPooling  (None, 5, 5, 32)         0         \n",
            " 2D)                                                             \n",
            "                                                                 \n",
            " conv2d_4 (Conv2D)           (None, 3, 3, 64)          18496     \n",
            "                                                                 \n",
            " conv2d_5 (Conv2D)           (None, 1, 1, 64)          36928     \n",
            "                                                                 \n",
            " flatten (Flatten)           (None, 64)                0         \n",
            "                                                                 \n",
            " dense_3 (Dense)             (None, 64)                4160      \n",
            "                                                                 \n",
            " dense_4 (Dense)             (None, 100)               6500      \n",
            "                                                                 \n",
            "=================================================================\n",
            "Total params: 82,740\n",
            "Trainable params: 82,740\n",
            "Non-trainable params: 0\n",
            "_________________________________________________________________\n"
          ]
        }
      ]
    },
    {
      "cell_type": "code",
      "source": [
        "model_deep.compile(tf.keras.optimizers.Adam(learning_rate=config.learning_rate),\n",
        "              loss=tf.keras.losses.sparse_categorical_crossentropy,\n",
        "              metrics=['accuracy'])"
      ],
      "metadata": {
        "id": "mpUglSvDL1Nk"
      },
      "execution_count": null,
      "outputs": []
    },
    {
      "cell_type": "code",
      "source": [
        "\n",
        "output_deep=model_deep.fit(X_train_deep,Y_train_deep,validation_data=(X_val_deep,Y_val_deep),epochs=10,callbacks=[WandbCallback()])"
      ],
      "metadata": {
        "colab": {
          "base_uri": "https://localhost:8080/"
        },
        "id": "qauwohrNNBaQ",
        "outputId": "9baef349-90fc-4048-a487-93a3e7464af2"
      },
      "execution_count": null,
      "outputs": [
        {
          "output_type": "stream",
          "name": "stdout",
          "text": [
            "Epoch 1/10\n",
            "1250/1250 [==============================] - 20s 10ms/step - loss: 4.3413 - accuracy: 0.0288 - val_loss: 4.0517 - val_accuracy: 0.0555 - _timestamp: 1646729744.0000 - _runtime: 122.0000\n",
            "Epoch 2/10\n",
            "1250/1250 [==============================] - 11s 9ms/step - loss: 3.9288 - accuracy: 0.0841 - val_loss: 3.7563 - val_accuracy: 0.1145 - _timestamp: 1646729755.0000 - _runtime: 133.0000\n",
            "Epoch 3/10\n",
            "1250/1250 [==============================] - 11s 9ms/step - loss: 3.6633 - accuracy: 0.1346 - val_loss: 3.5150 - val_accuracy: 0.1564 - _timestamp: 1646729766.0000 - _runtime: 144.0000\n",
            "Epoch 4/10\n",
            "1250/1250 [==============================] - 11s 9ms/step - loss: 3.4418 - accuracy: 0.1733 - val_loss: 3.4081 - val_accuracy: 0.1824 - _timestamp: 1646729776.0000 - _runtime: 154.0000\n",
            "Epoch 5/10\n",
            "1250/1250 [==============================] - 11s 9ms/step - loss: 3.2891 - accuracy: 0.1995 - val_loss: 3.2553 - val_accuracy: 0.2112 - _timestamp: 1646729787.0000 - _runtime: 165.0000\n",
            "Epoch 6/10\n",
            "1250/1250 [==============================] - 11s 9ms/step - loss: 3.1682 - accuracy: 0.2241 - val_loss: 3.2525 - val_accuracy: 0.2131 - _timestamp: 1646729798.0000 - _runtime: 176.0000\n",
            "Epoch 7/10\n",
            "1250/1250 [==============================] - 11s 9ms/step - loss: 3.0775 - accuracy: 0.2394 - val_loss: 3.1802 - val_accuracy: 0.2211 - _timestamp: 1646729809.0000 - _runtime: 187.0000\n",
            "Epoch 8/10\n",
            "1250/1250 [==============================] - 11s 9ms/step - loss: 2.9863 - accuracy: 0.2571 - val_loss: 3.0689 - val_accuracy: 0.2525 - _timestamp: 1646729819.0000 - _runtime: 197.0000\n",
            "Epoch 9/10\n",
            "1250/1250 [==============================] - 11s 9ms/step - loss: 2.9047 - accuracy: 0.2766 - val_loss: 3.0246 - val_accuracy: 0.2575 - _timestamp: 1646729831.0000 - _runtime: 209.0000\n",
            "Epoch 10/10\n",
            "1250/1250 [==============================] - 11s 9ms/step - loss: 2.8357 - accuracy: 0.2864 - val_loss: 3.0239 - val_accuracy: 0.2625 - _timestamp: 1646729842.0000 - _runtime: 220.0000\n"
          ]
        }
      ]
    },
    {
      "cell_type": "code",
      "source": [
        "plt.plot(output_deep.history['loss'])\n",
        "plt.plot(output_deep.history['accuracy'])\n",
        "plt.xlabel('epoch')\n",
        "plt.legend(['loss', 'accuracy'], loc='upper right')\n",
        "plt.title('Loss and Accuracy of deeplearning model on cfar100 dataset')\n",
        "plt.show()"
      ],
      "metadata": {
        "colab": {
          "base_uri": "https://localhost:8080/",
          "height": 295
        },
        "id": "b1aWzywbXkj7",
        "outputId": "5272d114-e226-4c01-f75a-b3f308b84fc8"
      },
      "execution_count": null,
      "outputs": [
        {
          "output_type": "display_data",
          "data": {
            "image/png": "[encoded data removed]",
            "text/plain": [
              "<Figure size 432x288 with 1 Axes>"
            ]
          },
          "metadata": {
            "needs_background": "light"
          }
        }
      ]
    },
    {
      "cell_type": "code",
      "source": [
        "model_deep.evaluate(X_test_deep,Y_test_deep)"
      ],
      "metadata": {
        "colab": {
          "base_uri": "https://localhost:8080/"
        },
        "id": "BHnQHHUtROzn",
        "outputId": "408e7b36-0c67-4a91-dcf5-3180c9826ed6"
      },
      "execution_count": null,
      "outputs": [
        {
          "output_type": "stream",
          "name": "stdout",
          "text": [
            "313/313 [==============================] - 2s 5ms/step - loss: 3.0286 - accuracy: 0.2612\n"
          ]
        },
        {
          "output_type": "execute_result",
          "data": {
            "text/plain": [
              "[3.028580904006958, 0.2612000107765198]"
            ]
          },
          "metadata": {},
          "execution_count": 26
        }
      ]
    },
    {
      "cell_type": "markdown",
      "source": [
        ""
      ],
      "metadata": {
        "id": "vVWrk04nRgLi"
      }
    }
  ],
  "metadata": {
    "colab": {
      "collapsed_sections": [],
      "name": "cfar100.ipynb",
      "provenance": []
    },
    "kernelspec": {
      "display_name": "Python 3",
      "name": "python3"
    },
    "language_info": {
      "codemirror_mode": {
        "name": "ipython",
        "version": 3
      },
      "file_extension": ".py",
      "mimetype": "text/x-python",
      "name": "python",
      "nbconvert_exporter": "python",
      "pygments_lexer": "ipython3",
      "version": "3.8.9"
    },
    "accelerator": "GPU"
  },
  "nbformat": 4,
  "nbformat_minor": 0
}