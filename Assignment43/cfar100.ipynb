{
  "cells": [
    {
      "cell_type": "code",
      "execution_count": null,
      "metadata": {
        "id": "fSi092bbePhh"
      },
      "outputs": [],
      "source": [
        "!pip install wandb"
      ]
    },
    {
      "cell_type": "code",
      "source": [
        "import tensorflow as tf\n",
        "from tensorflow.keras.layers import Dense\n",
        "import matplotlib.pyplot as plt\n",
        "from sklearn.model_selection import train_test_split\n",
        "from tensorflow.keras.layers import Dense, Conv2D, MaxPool2D, Flatten\n",
        "from tensorflow.keras import layers\n",
        "import wandb\n",
        "from wandb.keras import WandbCallback"
      ],
      "metadata": {
        "id": "VLg8acM90B4l"
      },
      "execution_count": 46,
      "outputs": []
    },
    {
      "cell_type": "code",
      "source": [
        "wandb.init(project='cfar100')"
      ],
      "metadata": {
        "id": "2_LiMMfM0Sil"
      },
      "execution_count": null,
      "outputs": []
    },
    {
      "cell_type": "code",
      "source": [
        "\n",
        "\n",
        "config=wandb.config\n",
        "config.learning_rate=0.001\n",
        "\n"
      ],
      "metadata": {
        "id": "rLyaz9_F0LAZ"
      },
      "execution_count": 48,
      "outputs": []
    },
    {
      "cell_type": "code",
      "execution_count": 49,
      "metadata": {
        "id": "bG7RO_zgechK"
      },
      "outputs": [],
      "source": [
        "dataset=tf.keras.datasets.cifar100\n",
        "(X_train,Y_train),(X_test,Y_test)=dataset.load_data()\n",
        "(X_train_deep,Y_train_deep),(X_test_deep,Y_test_deep)=dataset.load_data()"
      ]
    },
    {
      "cell_type": "code",
      "execution_count": 50,
      "metadata": {
        "colab": {
          "base_uri": "https://localhost:8080/",
          "height": 284
        },
        "id": "vaYxhLqxfYj3",
        "outputId": "72da3b42-13a2-4dc2-9bfd-5cb3031acc3d"
      },
      "outputs": [
        {
          "output_type": "stream",
          "name": "stdout",
          "text": [
            "[19]\n"
          ]
        },
        {
          "output_type": "display_data",
          "data": {
            "image/png": "[encoded data removed]",
            "text/plain": [
              "<Figure size 432x288 with 1 Axes>"
            ]
          },
          "metadata": {
            "needs_background": "light"
          }
        }
      ],
      "source": [
        "plt.imshow(X_train[0])\n",
        "print(Y_train[0])"
      ]
    },
    {
      "cell_type": "code",
      "source": [
        "print(X_train.shape)\n",
        "print(Y_train.shape)"
      ],
      "metadata": {
        "colab": {
          "base_uri": "https://localhost:8080/"
        },
        "id": "2ueTcoameyFi",
        "outputId": "56ff0d70-b590-4f87-f6a7-d3d88ccf8289"
      },
      "execution_count": 51,
      "outputs": [
        {
          "output_type": "stream",
          "name": "stdout",
          "text": [
            "(50000, 32, 32, 3)\n",
            "(50000, 1)\n"
          ]
        }
      ]
    },
    {
      "cell_type": "code",
      "execution_count": 52,
      "metadata": {
        "id": "vZiDcmSNiLqk"
      },
      "outputs": [],
      "source": [
        "\n",
        "X_train=X_train.reshape(X_train.shape[0],X_train.shape[1]*X_train.shape[2]*X_train.shape[3])"
      ]
    },
    {
      "cell_type": "code",
      "source": [
        "X_train.shape"
      ],
      "metadata": {
        "colab": {
          "base_uri": "https://localhost:8080/"
        },
        "id": "pFiX6ug55tR-",
        "outputId": "05de7723-d8a7-4c8e-845e-55cf1762d58a"
      },
      "execution_count": 53,
      "outputs": [
        {
          "output_type": "execute_result",
          "data": {
            "text/plain": [
              "(50000, 3072)"
            ]
          },
          "metadata": {},
          "execution_count": 53
        }
      ]
    },
    {
      "cell_type": "code",
      "execution_count": 54,
      "metadata": {
        "id": "Nk-qBik0IpPi"
      },
      "outputs": [],
      "source": [
        "X_train,X_val,Y_train,Y_val=train_test_split(X_train,Y_train,test_size=0.2,random_state=42)"
      ]
    },
    {
      "cell_type": "code",
      "execution_count": 55,
      "metadata": {
        "id": "5Y6wDitSgMZk"
      },
      "outputs": [],
      "source": [
        "#mlp\n",
        "model=tf.keras.models.Sequential([\n",
        "    Dense(64,input_dim=X_train.shape[1],activation='relu'),#input_layer\n",
        "    Dense(32,activation='relu'),\n",
        "    Dense(100,activation='softmax')#output_layer\n",
        "\n",
        "])"
      ]
    },
    {
      "cell_type": "code",
      "execution_count": 56,
      "metadata": {
        "id": "OF_Ar3NGiaXa"
      },
      "outputs": [],
      "source": [
        "model.compile(optimizer=tf.keras.optimizers.Adam(learning_rate=config.learning_rate),\n",
        "              loss=tf.keras.losses.sparse_categorical_crossentropy,\n",
        "              metrics=['accuracy'])"
      ]
    },
    {
      "cell_type": "code",
      "execution_count": 57,
      "metadata": {
        "colab": {
          "base_uri": "https://localhost:8080/"
        },
        "id": "q28pCruwi3BQ",
        "outputId": "62441ec9-c61b-47b9-e8ae-e4388ba7ab11"
      },
      "outputs": [
        {
          "output_type": "stream",
          "name": "stdout",
          "text": [
            "Epoch 1/10\n",
            "1250/1250 [==============================] - 6s 4ms/step - loss: 5.7194 - accuracy: 0.0091 - val_loss: 4.6062 - val_accuracy: 0.0089 - _timestamp: 1646563465.0000 - _runtime: 16.0000\n",
            "Epoch 2/10\n",
            "1250/1250 [==============================] - 5s 4ms/step - loss: 4.6061 - accuracy: 0.0091 - val_loss: 4.6065 - val_accuracy: 0.0086 - _timestamp: 1646563469.0000 - _runtime: 20.0000\n",
            "Epoch 3/10\n",
            "1250/1250 [==============================] - 5s 4ms/step - loss: 4.6061 - accuracy: 0.0097 - val_loss: 4.6224 - val_accuracy: 0.0086 - _timestamp: 1646563475.0000 - _runtime: 26.0000\n",
            "Epoch 4/10\n",
            "1250/1250 [==============================] - 5s 4ms/step - loss: 4.7210 - accuracy: 0.0092 - val_loss: 4.6068 - val_accuracy: 0.0086 - _timestamp: 1646563479.0000 - _runtime: 30.0000\n",
            "Epoch 5/10\n",
            "1250/1250 [==============================] - 5s 4ms/step - loss: 4.6058 - accuracy: 0.0095 - val_loss: 4.6070 - val_accuracy: 0.0086 - _timestamp: 1646563484.0000 - _runtime: 35.0000\n",
            "Epoch 6/10\n",
            "1250/1250 [==============================] - 5s 4ms/step - loss: 4.6058 - accuracy: 0.0090 - val_loss: 4.6069 - val_accuracy: 0.0088 - _timestamp: 1646563489.0000 - _runtime: 40.0000\n",
            "Epoch 7/10\n",
            "1250/1250 [==============================] - 5s 4ms/step - loss: 4.6058 - accuracy: 0.0090 - val_loss: 4.6069 - val_accuracy: 0.0082 - _timestamp: 1646563494.0000 - _runtime: 45.0000\n",
            "Epoch 8/10\n",
            "1250/1250 [==============================] - 5s 4ms/step - loss: 4.6057 - accuracy: 0.0098 - val_loss: 4.6069 - val_accuracy: 0.0082 - _timestamp: 1646563499.0000 - _runtime: 50.0000\n",
            "Epoch 9/10\n",
            "1250/1250 [==============================] - 6s 5ms/step - loss: 4.6057 - accuracy: 0.0096 - val_loss: 4.6069 - val_accuracy: 0.0087 - _timestamp: 1646563504.0000 - _runtime: 55.0000\n",
            "Epoch 10/10\n",
            "1250/1250 [==============================] - 10s 8ms/step - loss: 4.6057 - accuracy: 0.0093 - val_loss: 4.6069 - val_accuracy: 0.0086 - _timestamp: 1646563514.0000 - _runtime: 65.0000\n"
          ]
        }
      ],
      "source": [
        "output=model.fit(X_train,Y_train,validation_data=(X_val,Y_val),epochs=10,callbacks=[WandbCallback()])"
      ]
    },
    {
      "cell_type": "code",
      "source": [
        "plt.plot(output.history['loss'])\n",
        "plt.plot(output.history['accuracy'])\n",
        "plt.xlabel('epoch')\n",
        "plt.legend(['loss', 'accuracy'], loc='upper right')\n",
        "plt.title('Loss and Accuracy of MLP model on cfar100 dataset')\n",
        "plt.show()"
      ],
      "metadata": {
        "colab": {
          "base_uri": "https://localhost:8080/",
          "height": 295
        },
        "id": "IJuup__eXI4F",
        "outputId": "3fcc56b8-f7a9-4152-baaa-6d669e6ca311"
      },
      "execution_count": 58,
      "outputs": [
        {
          "output_type": "display_data",
          "data": {
            "image/png": "[encoded data removed]",
            "text/plain": [
              "<Figure size 432x288 with 1 Axes>"
            ]
          },
          "metadata": {
            "needs_background": "light"
          }
        }
      ]
    },
    {
      "cell_type": "code",
      "execution_count": 59,
      "metadata": {
        "colab": {
          "base_uri": "https://localhost:8080/"
        },
        "id": "C3EKcBsWm9MM",
        "outputId": "576686f1-dc34-49ce-c3ef-ecabf20675be"
      },
      "outputs": [
        {
          "output_type": "stream",
          "name": "stdout",
          "text": [
            "(10000, 32, 32, 3)\n",
            "(10000, 1)\n",
            "(10000, 3072)\n"
          ]
        }
      ],
      "source": [
        "print(X_test.shape)\n",
        "print(Y_test.shape)\n",
        "X_test=X_test.reshape(X_test.shape[0],X_test.shape[1]*X_test.shape[2]*X_test.shape[3])\n",
        "print(X_test.shape)"
      ]
    },
    {
      "cell_type": "code",
      "execution_count": 60,
      "metadata": {
        "colab": {
          "base_uri": "https://localhost:8080/"
        },
        "id": "SarkV5BUnIl4",
        "outputId": "427fd1f2-9636-40a9-e832-e59654db3e64"
      },
      "outputs": [
        {
          "output_type": "stream",
          "name": "stdout",
          "text": [
            "313/313 [==============================] - 2s 6ms/step - loss: 4.6054 - accuracy: 0.0100\n"
          ]
        }
      ],
      "source": [
        "\n",
        "accuracy = model.evaluate(X_test,Y_test)\n"
      ]
    },
    {
      "cell_type": "code",
      "source": [
        "X_train_deep,X_val_deep,Y_train_deep,Y_val_deep=train_test_split(X_train_deep,Y_train_deep,test_size=0.2,random_state=42)"
      ],
      "metadata": {
        "id": "u-vN2fotSBFx"
      },
      "execution_count": 61,
      "outputs": []
    },
    {
      "cell_type": "code",
      "source": [
        "X_train_deep,X_val_deep,X_test_deep = X_train_deep / 255.0,X_val_deep/255.0,X_test_deep / 255.0"
      ],
      "metadata": {
        "id": "xkPOmncb4dvF"
      },
      "execution_count": 62,
      "outputs": []
    },
    {
      "cell_type": "code",
      "source": [
        "model_deep=tf.keras.models.Sequential([\n",
        "                                       layers.Conv2D(16,(3,3),activation='relu',input_shape=(32,32,3)),\n",
        "                                       layers.Conv2D(16,(3,3),activation='relu'),\n",
        "                                       layers.MaxPooling2D((2,2)),\n",
        "                                       layers.Conv2D(32,(3,3),activation='relu'),\n",
        "                                       layers.Conv2D(32,(3,3),activation='relu'),\n",
        "                                       layers.MaxPooling2D((2,2)),\n",
        "                                       layers.Conv2D(64,(3,3),activation='relu'),\n",
        "                                       layers.Conv2D(64,(3,3),activation='relu'),\n",
        "                                       layers.Flatten(),\n",
        "                                       layers.Dense(64,activation='relu'),\n",
        "                                       layers.Dense(100,activation='softmax')\n",
        "\n",
        "])"
      ],
      "metadata": {
        "id": "t25CuPeN9acZ"
      },
      "execution_count": 63,
      "outputs": []
    },
    {
      "cell_type": "code",
      "source": [
        "model_deep.summary()"
      ],
      "metadata": {
        "colab": {
          "base_uri": "https://localhost:8080/"
        },
        "id": "zpYgduZ3J4Z-",
        "outputId": "5ff02d80-3789-4923-eaca-4fe673b9b79a"
      },
      "execution_count": 64,
      "outputs": [
        {
          "output_type": "stream",
          "name": "stdout",
          "text": [
            "Model: \"sequential_5\"\n",
            "_________________________________________________________________\n",
            " Layer (type)                Output Shape              Param #   \n",
            "=================================================================\n",
            " conv2d_12 (Conv2D)          (None, 30, 30, 16)        448       \n",
            "                                                                 \n",
            " conv2d_13 (Conv2D)          (None, 28, 28, 16)        2320      \n",
            "                                                                 \n",
            " max_pooling2d_4 (MaxPooling  (None, 14, 14, 16)       0         \n",
            " 2D)                                                             \n",
            "                                                                 \n",
            " conv2d_14 (Conv2D)          (None, 12, 12, 32)        4640      \n",
            "                                                                 \n",
            " conv2d_15 (Conv2D)          (None, 10, 10, 32)        9248      \n",
            "                                                                 \n",
            " max_pooling2d_5 (MaxPooling  (None, 5, 5, 32)         0         \n",
            " 2D)                                                             \n",
            "                                                                 \n",
            " conv2d_16 (Conv2D)          (None, 3, 3, 64)          18496     \n",
            "                                                                 \n",
            " conv2d_17 (Conv2D)          (None, 1, 1, 64)          36928     \n",
            "                                                                 \n",
            " flatten_2 (Flatten)         (None, 64)                0         \n",
            "                                                                 \n",
            " dense_13 (Dense)            (None, 64)                4160      \n",
            "                                                                 \n",
            " dense_14 (Dense)            (None, 100)               6500      \n",
            "                                                                 \n",
            "=================================================================\n",
            "Total params: 82,740\n",
            "Trainable params: 82,740\n",
            "Non-trainable params: 0\n",
            "_________________________________________________________________\n"
          ]
        }
      ]
    },
    {
      "cell_type": "code",
      "source": [
        "model_deep.compile(tf.keras.optimizers.Adam(learning_rate=config.learning_rate),\n",
        "              loss=tf.keras.losses.sparse_categorical_crossentropy,\n",
        "              metrics=['accuracy'])"
      ],
      "metadata": {
        "id": "mpUglSvDL1Nk"
      },
      "execution_count": 65,
      "outputs": []
    },
    {
      "cell_type": "code",
      "source": [
        "\n",
        "output_deep=model_deep.fit(X_train_deep,Y_train_deep,validation_data=(X_val_deep,Y_val_deep),epochs=10,callbacks=[WandbCallback()])"
      ],
      "metadata": {
        "colab": {
          "base_uri": "https://localhost:8080/"
        },
        "id": "qauwohrNNBaQ",
        "outputId": "f142499b-2f5b-4b89-ee36-927fd47bb8a6"
      },
      "execution_count": 66,
      "outputs": [
        {
          "output_type": "stream",
          "name": "stdout",
          "text": [
            "Epoch 1/10\n",
            "1250/1250 [==============================] - 13s 9ms/step - loss: 4.1653 - accuracy: 0.0557 - val_loss: 3.8690 - val_accuracy: 0.0969 - _timestamp: 1646563533.0000 - _runtime: 84.0000\n",
            "Epoch 2/10\n",
            "1250/1250 [==============================] - 13s 10ms/step - loss: 3.6768 - accuracy: 0.1310 - val_loss: 3.4961 - val_accuracy: 0.1592 - _timestamp: 1646563545.0000 - _runtime: 96.0000\n",
            "Epoch 3/10\n",
            "1250/1250 [==============================] - 11s 9ms/step - loss: 3.3922 - accuracy: 0.1809 - val_loss: 3.3377 - val_accuracy: 0.1910 - _timestamp: 1646563557.0000 - _runtime: 108.0000\n",
            "Epoch 4/10\n",
            "1250/1250 [==============================] - 11s 9ms/step - loss: 3.2000 - accuracy: 0.2147 - val_loss: 3.1736 - val_accuracy: 0.2246 - _timestamp: 1646563568.0000 - _runtime: 119.0000\n",
            "Epoch 5/10\n",
            "1250/1250 [==============================] - 11s 9ms/step - loss: 3.0592 - accuracy: 0.2423 - val_loss: 3.1357 - val_accuracy: 0.2312 - _timestamp: 1646563579.0000 - _runtime: 130.0000\n",
            "Epoch 6/10\n",
            "1250/1250 [==============================] - 12s 10ms/step - loss: 2.9452 - accuracy: 0.2627 - val_loss: 3.0540 - val_accuracy: 0.2463 - _timestamp: 1646563591.0000 - _runtime: 142.0000\n",
            "Epoch 7/10\n",
            "1250/1250 [==============================] - 11s 9ms/step - loss: 2.8449 - accuracy: 0.2822 - val_loss: 2.9946 - val_accuracy: 0.2577 - _timestamp: 1646563602.0000 - _runtime: 153.0000\n",
            "Epoch 8/10\n",
            "1250/1250 [==============================] - 11s 9ms/step - loss: 2.7573 - accuracy: 0.3000 - val_loss: 2.9152 - val_accuracy: 0.2759 - _timestamp: 1646563614.0000 - _runtime: 165.0000\n",
            "Epoch 9/10\n",
            "1250/1250 [==============================] - 11s 9ms/step - loss: 2.6802 - accuracy: 0.3162 - val_loss: 2.9228 - val_accuracy: 0.2751 - _timestamp: 1646563625.0000 - _runtime: 176.0000\n",
            "Epoch 10/10\n",
            "1250/1250 [==============================] - 11s 9ms/step - loss: 2.6133 - accuracy: 0.3300 - val_loss: 2.8873 - val_accuracy: 0.2828 - _timestamp: 1646563636.0000 - _runtime: 187.0000\n"
          ]
        }
      ]
    },
    {
      "cell_type": "code",
      "source": [
        "plt.plot(output_deep.history['loss'])\n",
        "plt.plot(output_deep.history['accuracy'])\n",
        "plt.xlabel('epoch')\n",
        "plt.legend(['loss', 'accuracy'], loc='upper right')\n",
        "plt.title('Loss and Accuracy of deeplearning model on cfar100 dataset')\n",
        "plt.show()"
      ],
      "metadata": {
        "colab": {
          "base_uri": "https://localhost:8080/",
          "height": 295
        },
        "id": "b1aWzywbXkj7",
        "outputId": "7c861330-30c1-4474-d484-ad3d4ecce1fe"
      },
      "execution_count": 67,
      "outputs": [
        {
          "output_type": "display_data",
          "data": {
            "image/png": "[encoded data removed]",
            "text/plain": [
              "<Figure size 432x288 with 1 Axes>"
            ]
          },
          "metadata": {
            "needs_background": "light"
          }
        }
      ]
    },
    {
      "cell_type": "code",
      "source": [
        "model_deep.evaluate(X_test_deep,Y_test_deep)"
      ],
      "metadata": {
        "colab": {
          "base_uri": "https://localhost:8080/"
        },
        "id": "BHnQHHUtROzn",
        "outputId": "99e70ffd-a094-4135-9c74-d6e82036fd26"
      },
      "execution_count": 68,
      "outputs": [
        {
          "output_type": "stream",
          "name": "stdout",
          "text": [
            "313/313 [==============================] - 2s 5ms/step - loss: 2.8897 - accuracy: 0.2905\n"
          ]
        },
        {
          "output_type": "execute_result",
          "data": {
            "text/plain": [
              "[2.8897085189819336, 0.2904999852180481]"
            ]
          },
          "metadata": {},
          "execution_count": 68
        }
      ]
    },
    {
      "cell_type": "markdown",
      "source": [
        ""
      ],
      "metadata": {
        "id": "vVWrk04nRgLi"
      }
    }
  ],
  "metadata": {
    "colab": {
      "collapsed_sections": [],
      "name": "cfar100_wandb.ipynb",
      "provenance": []
    },
    "kernelspec": {
      "display_name": "Python 3",
      "name": "python3"
    },
    "language_info": {
      "codemirror_mode": {
        "name": "ipython",
        "version": 3
      },
      "file_extension": ".py",
      "mimetype": "text/x-python",
      "name": "python",
      "nbconvert_exporter": "python",
      "pygments_lexer": "ipython3",
      "version": "3.8.9"
    },
    "accelerator": "GPU"
  },
  "nbformat": 4,
  "nbformat_minor": 0
}