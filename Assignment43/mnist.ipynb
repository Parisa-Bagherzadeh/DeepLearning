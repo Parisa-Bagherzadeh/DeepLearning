{
  "cells": [
    {
      "cell_type": "code",
      "source": [
        "!pip install wandb"
      ],
      "metadata": {
        "id": "tkcovmDU3727"
      },
      "execution_count": null,
      "outputs": []
    },
    {
      "cell_type": "code",
      "execution_count": 2,
      "metadata": {
        "id": "fSi092bbePhh"
      },
      "outputs": [],
      "source": [
        "import tensorflow as tf\n",
        "from tensorflow.keras.layers import Dense\n",
        "import matplotlib.pyplot as plt\n",
        "from sklearn.model_selection import train_test_split\n",
        "from tensorflow.keras.layers import Dense, Conv2D, MaxPool2D, Flatten\n",
        "from tensorflow.keras import layers\n",
        "import wandb\n",
        "from wandb.keras import WandbCallback\n"
      ]
    },
    {
      "cell_type": "code",
      "source": [
        "wandb.init(project='mnist')"
      ],
      "metadata": {
        "id": "muryS_0Q4FY2"
      },
      "execution_count": null,
      "outputs": []
    },
    {
      "cell_type": "code",
      "source": [
        "\n",
        "\n",
        "config=wandb.config\n",
        "config.learning_rate=0.001\n",
        "\n"
      ],
      "metadata": {
        "id": "z_H7ANhe4LDl"
      },
      "execution_count": 4,
      "outputs": []
    },
    {
      "cell_type": "code",
      "execution_count": null,
      "metadata": {
        "id": "bG7RO_zgechK"
      },
      "outputs": [],
      "source": [
        "dataset=tf.keras.datasets.mnist\n",
        "(X_train,Y_train),(X_test,Y_test)=dataset.load_data()\n",
        "(X_train_deep,Y_train_deep),(X_test_deep,Y_test_deep)=dataset.load_data()"
      ]
    },
    {
      "cell_type": "code",
      "execution_count": 6,
      "metadata": {
        "colab": {
          "base_uri": "https://localhost:8080/",
          "height": 283
        },
        "id": "vaYxhLqxfYj3",
        "outputId": "acc75d4f-9097-4879-cee0-b16ea3e15b73"
      },
      "outputs": [
        {
          "output_type": "stream",
          "name": "stdout",
          "text": [
            "5\n"
          ]
        },
        {
          "output_type": "display_data",
          "data": {
            "image/png": "[encoded data removed]",
            "text/plain": [
              "<Figure size 432x288 with 1 Axes>"
            ]
          },
          "metadata": {
            "needs_background": "light"
          }
        }
      ],
      "source": [
        "plt.imshow(X_train[0],cmap='gray')\n",
        "print(Y_train[0])"
      ]
    },
    {
      "cell_type": "code",
      "execution_count": 7,
      "metadata": {
        "colab": {
          "base_uri": "https://localhost:8080/"
        },
        "id": "vZiDcmSNiLqk",
        "outputId": "b52f01a8-b5af-45f9-a38a-1199127b4d60"
      },
      "outputs": [
        {
          "output_type": "stream",
          "name": "stdout",
          "text": [
            "(60000, 28, 28)\n"
          ]
        }
      ],
      "source": [
        "print(X_train.shape)\n",
        "X_train=X_train.reshape(X_train.shape[0],X_train.shape[1]*X_train.shape[2])"
      ]
    },
    {
      "cell_type": "code",
      "source": [
        "X_train.shape"
      ],
      "metadata": {
        "colab": {
          "base_uri": "https://localhost:8080/"
        },
        "id": "pFiX6ug55tR-",
        "outputId": "84487b6b-bf1a-44fe-d19c-807c5ab7fe0e"
      },
      "execution_count": 8,
      "outputs": [
        {
          "output_type": "execute_result",
          "data": {
            "text/plain": [
              "(60000, 784)"
            ]
          },
          "metadata": {},
          "execution_count": 8
        }
      ]
    },
    {
      "cell_type": "code",
      "execution_count": 9,
      "metadata": {
        "id": "Nk-qBik0IpPi"
      },
      "outputs": [],
      "source": [
        "X_train,X_val,Y_train,Y_val=train_test_split(X_train,Y_train,test_size=0.2,random_state=42)"
      ]
    },
    {
      "cell_type": "code",
      "source": [
        "X_train,X_val,X_test = X_train / 255.0,X_val/255.0,X_test / 255.0"
      ],
      "metadata": {
        "id": "kqkV_6jI0EJb"
      },
      "execution_count": 10,
      "outputs": []
    },
    {
      "cell_type": "code",
      "execution_count": 11,
      "metadata": {
        "id": "5Y6wDitSgMZk"
      },
      "outputs": [],
      "source": [
        "#mlp\n",
        "model=tf.keras.models.Sequential([\n",
        "    Dense(64,input_dim=X_train.shape[1],activation='relu'),#input_layer\n",
        "    Dense(32,activation='relu'),\n",
        "    Dense(10,activation='softmax')#output_layer\n",
        "\n",
        "])"
      ]
    },
    {
      "cell_type": "code",
      "execution_count": 12,
      "metadata": {
        "id": "OF_Ar3NGiaXa"
      },
      "outputs": [],
      "source": [
        "model.compile(optimizer=tf.keras.optimizers.Adam(learning_rate=config.learning_rate),\n",
        "              loss=tf.keras.losses.sparse_categorical_crossentropy,\n",
        "              metrics=['accuracy'])"
      ]
    },
    {
      "cell_type": "code",
      "execution_count": 13,
      "metadata": {
        "colab": {
          "base_uri": "https://localhost:8080/"
        },
        "id": "q28pCruwi3BQ",
        "outputId": "8ca2bea5-76b7-4d1e-8f04-1b9d53a4ba30"
      },
      "outputs": [
        {
          "output_type": "stream",
          "name": "stdout",
          "text": [
            "Epoch 1/10\n",
            "   1/1500 [..............................] - ETA: 1:07:32 - loss: 2.2817 - accuracy: 0.1562WARNING:tensorflow:Callback method `on_train_batch_end` is slow compared to the batch time (batch time: 0.0026s vs `on_train_batch_end` time: 0.0028s). Check your callbacks.\n",
            "1500/1500 [==============================] - 8s 4ms/step - loss: 0.3245 - accuracy: 0.9085 - val_loss: 0.1804 - val_accuracy: 0.9459 - _timestamp: 1646731069.0000 - _runtime: 21.0000\n",
            "Epoch 2/10\n",
            "1500/1500 [==============================] - 5s 4ms/step - loss: 0.1489 - accuracy: 0.9558 - val_loss: 0.1372 - val_accuracy: 0.9596 - _timestamp: 1646731075.0000 - _runtime: 27.0000\n",
            "Epoch 3/10\n",
            "1500/1500 [==============================] - 6s 4ms/step - loss: 0.1093 - accuracy: 0.9672 - val_loss: 0.1130 - val_accuracy: 0.9648 - _timestamp: 1646731081.0000 - _runtime: 33.0000\n",
            "Epoch 4/10\n",
            "1500/1500 [==============================] - 5s 3ms/step - loss: 0.0870 - accuracy: 0.9730 - val_loss: 0.1002 - val_accuracy: 0.9686 - _timestamp: 1646731086.0000 - _runtime: 38.0000\n",
            "Epoch 5/10\n",
            "1500/1500 [==============================] - 6s 4ms/step - loss: 0.0713 - accuracy: 0.9775 - val_loss: 0.1066 - val_accuracy: 0.9673 - _timestamp: 1646731092.0000 - _runtime: 44.0000\n",
            "Epoch 6/10\n",
            "1500/1500 [==============================] - 5s 4ms/step - loss: 0.0594 - accuracy: 0.9819 - val_loss: 0.1024 - val_accuracy: 0.9701 - _timestamp: 1646731097.0000 - _runtime: 49.0000\n",
            "Epoch 7/10\n",
            "1500/1500 [==============================] - 6s 4ms/step - loss: 0.0495 - accuracy: 0.9845 - val_loss: 0.1002 - val_accuracy: 0.9724 - _timestamp: 1646731103.0000 - _runtime: 55.0000\n",
            "Epoch 8/10\n",
            "1500/1500 [==============================] - 6s 4ms/step - loss: 0.0442 - accuracy: 0.9857 - val_loss: 0.0909 - val_accuracy: 0.9737 - _timestamp: 1646731109.0000 - _runtime: 61.0000\n",
            "Epoch 9/10\n",
            "1500/1500 [==============================] - 6s 4ms/step - loss: 0.0360 - accuracy: 0.9890 - val_loss: 0.0912 - val_accuracy: 0.9736 - _timestamp: 1646731115.0000 - _runtime: 67.0000\n",
            "Epoch 10/10\n",
            "1500/1500 [==============================] - 6s 4ms/step - loss: 0.0317 - accuracy: 0.9901 - val_loss: 0.1118 - val_accuracy: 0.9700 - _timestamp: 1646731121.0000 - _runtime: 73.0000\n"
          ]
        }
      ],
      "source": [
        "output=model.fit(X_train,Y_train,validation_data=(X_val,Y_val),epochs=10,callbacks=[WandbCallback()])"
      ]
    },
    {
      "cell_type": "code",
      "source": [
        "plt.plot(output.history['loss'])\n",
        "plt.plot(output.history['accuracy'])\n",
        "plt.xlabel('epoch')\n",
        "plt.legend(['loss', 'accuracy'], loc='upper right')\n",
        "plt.title('Loss and Accuracy of MLP model')\n",
        "plt.show()"
      ],
      "metadata": {
        "colab": {
          "base_uri": "https://localhost:8080/",
          "height": 295
        },
        "id": "IJuup__eXI4F",
        "outputId": "e64410f5-1b08-4cac-a0dc-a3dcb99a5a4e"
      },
      "execution_count": 14,
      "outputs": [
        {
          "output_type": "display_data",
          "data": {
            "image/png": "[encoded data removed]",
            "text/plain": [
              "<Figure size 432x288 with 1 Axes>"
            ]
          },
          "metadata": {
            "needs_background": "light"
          }
        }
      ]
    },
    {
      "cell_type": "code",
      "execution_count": 15,
      "metadata": {
        "colab": {
          "base_uri": "https://localhost:8080/"
        },
        "id": "C3EKcBsWm9MM",
        "outputId": "ac02f471-56e2-4120-d0ec-009dfb96478b"
      },
      "outputs": [
        {
          "output_type": "stream",
          "name": "stdout",
          "text": [
            "(10000, 28, 28)\n",
            "(10000,)\n",
            "(10000, 784)\n"
          ]
        }
      ],
      "source": [
        "print(X_test.shape)\n",
        "print(Y_test.shape)\n",
        "X_test=X_test.reshape(X_test.shape[0],X_test.shape[1]*X_test.shape[2])\n",
        "print(X_test.shape)"
      ]
    },
    {
      "cell_type": "code",
      "execution_count": 16,
      "metadata": {
        "colab": {
          "base_uri": "https://localhost:8080/"
        },
        "id": "SarkV5BUnIl4",
        "outputId": "1cc0fadc-f800-4c31-c7e3-cb469e8a4533"
      },
      "outputs": [
        {
          "output_type": "stream",
          "name": "stdout",
          "text": [
            "313/313 [==============================] - 1s 4ms/step - loss: 0.1071 - accuracy: 0.9695\n"
          ]
        }
      ],
      "source": [
        "\n",
        "accuracy = model.evaluate(X_test,Y_test)\n"
      ]
    },
    {
      "cell_type": "code",
      "source": [
        "X_train_deep,X_val_deep,Y_train_deep,Y_val_deep=train_test_split(X_train_deep,Y_train_deep,test_size=0.2,random_state=42)"
      ],
      "metadata": {
        "id": "u-vN2fotSBFx"
      },
      "execution_count": 17,
      "outputs": []
    },
    {
      "cell_type": "code",
      "source": [
        "X_train_deep,X_val_deep,X_test_deep = X_train_deep / 255.0,X_val_deep/255.0,X_test_deep / 255.0"
      ],
      "metadata": {
        "id": "xkPOmncb4dvF"
      },
      "execution_count": 18,
      "outputs": []
    },
    {
      "cell_type": "code",
      "source": [
        "model_deep=tf.keras.models.Sequential([\n",
        "                                  layers.Conv2D(32,(3,3),activation='relu',input_shape=(28,28,1)),\n",
        "                                  layers.MaxPooling2D(),\n",
        "                                  layers.Conv2D(64,(3,3),activation='relu'),\n",
        "                                  layers.MaxPooling2D(),\n",
        "                                  layers.Conv2D(64,(5,5),activation='relu'),\n",
        "\n",
        "                                  layers.Flatten(),\n",
        "\n",
        "                                  layers.Dense(64,activation='relu'),\n",
        "                                  layers.Dense(10,activation='softmax')\n",
        "\n",
        "])"
      ],
      "metadata": {
        "id": "t25CuPeN9acZ"
      },
      "execution_count": 19,
      "outputs": []
    },
    {
      "cell_type": "code",
      "source": [
        "model_deep.summary()"
      ],
      "metadata": {
        "colab": {
          "base_uri": "https://localhost:8080/"
        },
        "id": "zpYgduZ3J4Z-",
        "outputId": "a246df4d-48ee-4a73-c8a7-240ffc458400"
      },
      "execution_count": 20,
      "outputs": [
        {
          "output_type": "stream",
          "name": "stdout",
          "text": [
            "Model: \"sequential_1\"\n",
            "_________________________________________________________________\n",
            " Layer (type)                Output Shape              Param #   \n",
            "=================================================================\n",
            " conv2d (Conv2D)             (None, 26, 26, 32)        320       \n",
            "                                                                 \n",
            " max_pooling2d (MaxPooling2D  (None, 13, 13, 32)       0         \n",
            " )                                                               \n",
            "                                                                 \n",
            " conv2d_1 (Conv2D)           (None, 11, 11, 64)        18496     \n",
            "                                                                 \n",
            " max_pooling2d_1 (MaxPooling  (None, 5, 5, 64)         0         \n",
            " 2D)                                                             \n",
            "                                                                 \n",
            " conv2d_2 (Conv2D)           (None, 1, 1, 64)          102464    \n",
            "                                                                 \n",
            " flatten (Flatten)           (None, 64)                0         \n",
            "                                                                 \n",
            " dense_3 (Dense)             (None, 64)                4160      \n",
            "                                                                 \n",
            " dense_4 (Dense)             (None, 10)                650       \n",
            "                                                                 \n",
            "=================================================================\n",
            "Total params: 126,090\n",
            "Trainable params: 126,090\n",
            "Non-trainable params: 0\n",
            "_________________________________________________________________\n"
          ]
        }
      ]
    },
    {
      "cell_type": "code",
      "source": [
        "model_deep.compile(tf.keras.optimizers.SGD(learning_rate=config.learning_rate),\n",
        "              loss=tf.keras.losses.sparse_categorical_crossentropy,\n",
        "              metrics=['accuracy'])"
      ],
      "metadata": {
        "id": "mpUglSvDL1Nk"
      },
      "execution_count": 21,
      "outputs": []
    },
    {
      "cell_type": "code",
      "source": [
        "output_deep=model_deep.fit(X_train_deep,Y_train_deep,epochs=10,callbacks=[WandbCallback()])"
      ],
      "metadata": {
        "colab": {
          "base_uri": "https://localhost:8080/"
        },
        "id": "qauwohrNNBaQ",
        "outputId": "451bea2d-3cc5-4cd5-f92e-990c4d0b1624"
      },
      "execution_count": 22,
      "outputs": [
        {
          "output_type": "stream",
          "name": "stdout",
          "text": [
            "Epoch 1/10\n",
            "   1/1500 [..............................] - ETA: 3:10:14 - loss: 2.3101 - accuracy: 0.0625WARNING:tensorflow:Callback method `on_train_batch_end` is slow compared to the batch time (batch time: 0.0041s vs `on_train_batch_end` time: 0.0050s). Check your callbacks.\n",
            "1500/1500 [==============================] - 17s 7ms/step - loss: 2.1998 - accuracy: 0.2961 - _timestamp: 1646731142.0000 - _runtime: 94.0000\n",
            "Epoch 2/10\n",
            "1500/1500 [==============================] - 10s 6ms/step - loss: 1.3623 - accuracy: 0.6787 - _timestamp: 1646731151.0000 - _runtime: 103.0000\n",
            "Epoch 3/10\n",
            "1500/1500 [==============================] - 9s 6ms/step - loss: 0.5353 - accuracy: 0.8483 - _timestamp: 1646731161.0000 - _runtime: 113.0000\n",
            "Epoch 4/10\n",
            "1500/1500 [==============================] - 9s 6ms/step - loss: 0.3875 - accuracy: 0.8889 - _timestamp: 1646731170.0000 - _runtime: 122.0000\n",
            "Epoch 5/10\n",
            "1500/1500 [==============================] - 9s 6ms/step - loss: 0.3275 - accuracy: 0.9040 - _timestamp: 1646731180.0000 - _runtime: 132.0000\n",
            "Epoch 6/10\n",
            "1500/1500 [==============================] - 10s 6ms/step - loss: 0.2885 - accuracy: 0.9142 - _timestamp: 1646731189.0000 - _runtime: 141.0000\n",
            "Epoch 7/10\n",
            "1500/1500 [==============================] - 10s 6ms/step - loss: 0.2591 - accuracy: 0.9238 - _timestamp: 1646731199.0000 - _runtime: 151.0000\n",
            "Epoch 8/10\n",
            "1500/1500 [==============================] - 10s 6ms/step - loss: 0.2348 - accuracy: 0.9299 - _timestamp: 1646731209.0000 - _runtime: 161.0000\n",
            "Epoch 9/10\n",
            "1500/1500 [==============================] - 10s 7ms/step - loss: 0.2135 - accuracy: 0.9370 - _timestamp: 1646731218.0000 - _runtime: 170.0000\n",
            "Epoch 10/10\n",
            "1500/1500 [==============================] - 10s 7ms/step - loss: 0.1959 - accuracy: 0.9417 - _timestamp: 1646731228.0000 - _runtime: 180.0000\n"
          ]
        }
      ]
    },
    {
      "cell_type": "code",
      "source": [
        "plt.plot(output_deep.history['loss'])\n",
        "plt.plot(output_deep.history['accuracy'])\n",
        "plt.xlabel('epoch')\n",
        "plt.legend(['loss', 'accuracy'], loc='upper right')\n",
        "plt.title('Loss and Accuracy of deeplearning model')\n",
        "plt.show()"
      ],
      "metadata": {
        "colab": {
          "base_uri": "https://localhost:8080/",
          "height": 295
        },
        "id": "b1aWzywbXkj7",
        "outputId": "cd94d47c-aaeb-43fc-8bd6-645386ed7a3b"
      },
      "execution_count": 23,
      "outputs": [
        {
          "output_type": "display_data",
          "data": {
            "image/png": "[encoded data removed]",
            "text/plain": [
              "<Figure size 432x288 with 1 Axes>"
            ]
          },
          "metadata": {
            "needs_background": "light"
          }
        }
      ]
    },
    {
      "cell_type": "code",
      "source": [
        "model_deep.evaluate(X_test_deep,Y_test_deep)"
      ],
      "metadata": {
        "colab": {
          "base_uri": "https://localhost:8080/"
        },
        "id": "BHnQHHUtROzn",
        "outputId": "bc39f59b-ffed-4898-ef29-aad92e64bb23"
      },
      "execution_count": 24,
      "outputs": [
        {
          "output_type": "stream",
          "name": "stdout",
          "text": [
            "313/313 [==============================] - 2s 5ms/step - loss: 0.1684 - accuracy: 0.9520\n"
          ]
        },
        {
          "output_type": "execute_result",
          "data": {
            "text/plain": [
              "[0.16840264201164246, 0.9520000219345093]"
            ]
          },
          "metadata": {},
          "execution_count": 24
        }
      ]
    },
    {
      "cell_type": "markdown",
      "source": [
        ""
      ],
      "metadata": {
        "id": "vVWrk04nRgLi"
      }
    }
  ],
  "metadata": {
    "colab": {
      "collapsed_sections": [],
      "name": "mnist.ipynb",
      "provenance": []
    },
    "kernelspec": {
      "display_name": "Python 3",
      "name": "python3"
    },
    "language_info": {
      "codemirror_mode": {
        "name": "ipython",
        "version": 3
      },
      "file_extension": ".py",
      "mimetype": "text/x-python",
      "name": "python",
      "nbconvert_exporter": "python",
      "pygments_lexer": "ipython3",
      "version": "3.8.9"
    },
    "accelerator": "GPU"
  },
  "nbformat": 4,
  "nbformat_minor": 0
}