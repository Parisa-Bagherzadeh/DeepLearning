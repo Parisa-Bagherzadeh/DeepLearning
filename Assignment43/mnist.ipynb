{
  "cells": [
    {
      "cell_type": "code",
      "source": [
        "!pip install wandb"
      ],
      "metadata": {
        "id": "tkcovmDU3727"
      },
      "execution_count": null,
      "outputs": []
    },
    {
      "cell_type": "code",
      "execution_count": 2,
      "metadata": {
        "id": "fSi092bbePhh"
      },
      "outputs": [],
      "source": [
        "import tensorflow as tf\n",
        "from tensorflow.keras.layers import Dense\n",
        "import matplotlib.pyplot as plt\n",
        "from sklearn.model_selection import train_test_split\n",
        "from tensorflow.keras.layers import Dense, Conv2D, MaxPool2D, Flatten\n",
        "from tensorflow.keras import layers\n",
        "import wandb\n",
        "from wandb.keras import WandbCallback\n"
      ]
    },
    {
      "cell_type": "code",
      "source": [
        "wandb.init(project='mnist')"
      ],
      "metadata": {
        "id": "muryS_0Q4FY2"
      },
      "execution_count": null,
      "outputs": []
    },
    {
      "cell_type": "code",
      "source": [
        "\n",
        "\n",
        "config=wandb.config\n",
        "config.learning_rate=0.001\n",
        "\n"
      ],
      "metadata": {
        "id": "z_H7ANhe4LDl"
      },
      "execution_count": 4,
      "outputs": []
    },
    {
      "cell_type": "code",
      "execution_count": null,
      "metadata": {
        "id": "bG7RO_zgechK"
      },
      "outputs": [],
      "source": [
        "dataset=tf.keras.datasets.mnist\n",
        "(X_train,Y_train),(X_test,Y_test)=dataset.load_data()\n",
        "(X_train_deep,Y_train_deep),(X_test_deep,Y_test_deep)=dataset.load_data()"
      ]
    },
    {
      "cell_type": "code",
      "execution_count": 6,
      "metadata": {
        "colab": {
          "base_uri": "https://localhost:8080/",
          "height": 283
        },
        "id": "vaYxhLqxfYj3",
        "outputId": "63c34a4a-4ca8-49b2-ec65-3b6767524709"
      },
      "outputs": [
        {
          "output_type": "stream",
          "name": "stdout",
          "text": [
            "5\n"
          ]
        },
        {
          "output_type": "display_data",
          "data": {
            "image/png": "[encoded data removed]",
            "text/plain": [
              "<Figure size 432x288 with 1 Axes>"
            ]
          },
          "metadata": {
            "needs_background": "light"
          }
        }
      ],
      "source": [
        "plt.imshow(X_train[0],cmap='gray')\n",
        "print(Y_train[0])"
      ]
    },
    {
      "cell_type": "code",
      "execution_count": 7,
      "metadata": {
        "colab": {
          "base_uri": "https://localhost:8080/"
        },
        "id": "vZiDcmSNiLqk",
        "outputId": "441b635f-3b86-40e7-d503-3bdc3e13132a"
      },
      "outputs": [
        {
          "output_type": "stream",
          "name": "stdout",
          "text": [
            "(60000, 28, 28)\n"
          ]
        }
      ],
      "source": [
        "print(X_train.shape)\n",
        "X_train=X_train.reshape(X_train.shape[0],X_train.shape[1]*X_train.shape[2])"
      ]
    },
    {
      "cell_type": "code",
      "source": [
        "X_train.shape"
      ],
      "metadata": {
        "colab": {
          "base_uri": "https://localhost:8080/"
        },
        "id": "pFiX6ug55tR-",
        "outputId": "c71477fc-620f-424d-fa72-c42c8d413173"
      },
      "execution_count": 8,
      "outputs": [
        {
          "output_type": "execute_result",
          "data": {
            "text/plain": [
              "(60000, 784)"
            ]
          },
          "metadata": {},
          "execution_count": 8
        }
      ]
    },
    {
      "cell_type": "code",
      "execution_count": 9,
      "metadata": {
        "id": "Nk-qBik0IpPi"
      },
      "outputs": [],
      "source": [
        "X_train,X_val,Y_train,Y_val=train_test_split(X_train,Y_train,test_size=0.2,random_state=42)"
      ]
    },
    {
      "cell_type": "code",
      "execution_count": 10,
      "metadata": {
        "id": "5Y6wDitSgMZk"
      },
      "outputs": [],
      "source": [
        "#mlp\n",
        "model=tf.keras.models.Sequential([\n",
        "    Dense(64,input_dim=X_train.shape[1],activation='relu'),#input_layer\n",
        "    Dense(32,activation='relu'),\n",
        "    Dense(10,activation='softmax')#output_layer\n",
        "\n",
        "])"
      ]
    },
    {
      "cell_type": "code",
      "execution_count": 11,
      "metadata": {
        "id": "OF_Ar3NGiaXa"
      },
      "outputs": [],
      "source": [
        "model.compile(optimizer=tf.keras.optimizers.Adam(learning_rate=config.learning_rate),\n",
        "              loss=tf.keras.losses.sparse_categorical_crossentropy,\n",
        "              metrics=['accuracy'])"
      ]
    },
    {
      "cell_type": "code",
      "execution_count": 12,
      "metadata": {
        "colab": {
          "base_uri": "https://localhost:8080/"
        },
        "id": "q28pCruwi3BQ",
        "outputId": "7d807981-1eb0-4079-b93e-7c6abc1f5ee1"
      },
      "outputs": [
        {
          "output_type": "stream",
          "name": "stdout",
          "text": [
            "Epoch 1/10\n",
            "1500/1500 [==============================] - 9s 4ms/step - loss: 1.7276 - accuracy: 0.6814 - val_loss: 0.6999 - val_accuracy: 0.8399 - _timestamp: 1646564478.0000 - _runtime: 18.0000\n",
            "Epoch 2/10\n",
            "1500/1500 [==============================] - 5s 3ms/step - loss: 0.5655 - accuracy: 0.8627 - val_loss: 0.4412 - val_accuracy: 0.8953 - _timestamp: 1646564483.0000 - _runtime: 23.0000\n",
            "Epoch 3/10\n",
            "1500/1500 [==============================] - 6s 4ms/step - loss: 0.3630 - accuracy: 0.9090 - val_loss: 0.3831 - val_accuracy: 0.9134 - _timestamp: 1646564489.0000 - _runtime: 29.0000\n",
            "Epoch 4/10\n",
            "1500/1500 [==============================] - 5s 4ms/step - loss: 0.2522 - accuracy: 0.9335 - val_loss: 0.2470 - val_accuracy: 0.9397 - _timestamp: 1646564494.0000 - _runtime: 34.0000\n",
            "Epoch 5/10\n",
            "1500/1500 [==============================] - 5s 3ms/step - loss: 0.1922 - accuracy: 0.9478 - val_loss: 0.2028 - val_accuracy: 0.9473 - _timestamp: 1646564499.0000 - _runtime: 39.0000\n",
            "Epoch 6/10\n",
            "1500/1500 [==============================] - 6s 4ms/step - loss: 0.1614 - accuracy: 0.9570 - val_loss: 0.2148 - val_accuracy: 0.9465 - _timestamp: 1646564505.0000 - _runtime: 45.0000\n",
            "Epoch 7/10\n",
            "1500/1500 [==============================] - 6s 4ms/step - loss: 0.1428 - accuracy: 0.9614 - val_loss: 0.1854 - val_accuracy: 0.9540 - _timestamp: 1646564510.0000 - _runtime: 50.0000\n",
            "Epoch 8/10\n",
            "1500/1500 [==============================] - 5s 3ms/step - loss: 0.1326 - accuracy: 0.9635 - val_loss: 0.1773 - val_accuracy: 0.9575 - _timestamp: 1646564515.0000 - _runtime: 55.0000\n",
            "Epoch 9/10\n",
            "1500/1500 [==============================] - 5s 4ms/step - loss: 0.1156 - accuracy: 0.9680 - val_loss: 0.1675 - val_accuracy: 0.9599 - _timestamp: 1646564521.0000 - _runtime: 61.0000\n",
            "Epoch 10/10\n",
            "1500/1500 [==============================] - 5s 3ms/step - loss: 0.1094 - accuracy: 0.9705 - val_loss: 0.1615 - val_accuracy: 0.9603 - _timestamp: 1646564526.0000 - _runtime: 66.0000\n"
          ]
        }
      ],
      "source": [
        "output=model.fit(X_train,Y_train,validation_data=(X_val,Y_val),epochs=10,callbacks=[WandbCallback()])"
      ]
    },
    {
      "cell_type": "code",
      "source": [
        "plt.plot(output.history['loss'])\n",
        "plt.plot(output.history['accuracy'])\n",
        "plt.xlabel('epoch')\n",
        "plt.legend(['loss', 'accuracy'], loc='upper right')\n",
        "plt.title('Loss and Accuracy of MLP model')\n",
        "plt.show()"
      ],
      "metadata": {
        "colab": {
          "base_uri": "https://localhost:8080/",
          "height": 295
        },
        "id": "IJuup__eXI4F",
        "outputId": "83ac7a7e-2d69-41b8-b6f9-4d5f419f8276"
      },
      "execution_count": 13,
      "outputs": [
        {
          "output_type": "display_data",
          "data": {
            "image/png": "[encoded data removed]",
            "text/plain": [
              "<Figure size 432x288 with 1 Axes>"
            ]
          },
          "metadata": {
            "needs_background": "light"
          }
        }
      ]
    },
    {
      "cell_type": "code",
      "execution_count": 14,
      "metadata": {
        "colab": {
          "base_uri": "https://localhost:8080/"
        },
        "id": "C3EKcBsWm9MM",
        "outputId": "20a0511e-a107-4737-dbfc-a259d8c6be1e"
      },
      "outputs": [
        {
          "output_type": "stream",
          "name": "stdout",
          "text": [
            "(10000, 28, 28)\n",
            "(10000,)\n",
            "(10000, 784)\n"
          ]
        }
      ],
      "source": [
        "print(X_test.shape)\n",
        "print(Y_test.shape)\n",
        "X_test=X_test.reshape(X_test.shape[0],X_test.shape[1]*X_test.shape[2])\n",
        "print(X_test.shape)"
      ]
    },
    {
      "cell_type": "code",
      "execution_count": 15,
      "metadata": {
        "colab": {
          "base_uri": "https://localhost:8080/"
        },
        "id": "SarkV5BUnIl4",
        "outputId": "7fd010d5-d6a7-4e4b-93bb-6ddcbe685db2"
      },
      "outputs": [
        {
          "output_type": "stream",
          "name": "stdout",
          "text": [
            "313/313 [==============================] - 1s 3ms/step - loss: 0.1609 - accuracy: 0.9640\n"
          ]
        }
      ],
      "source": [
        "\n",
        "accuracy = model.evaluate(X_test,Y_test)\n"
      ]
    },
    {
      "cell_type": "code",
      "source": [
        "X_train_deep,X_val_deep,Y_train_deep,Y_val_deep=train_test_split(X_train_deep,Y_train_deep,test_size=0.2,random_state=42)"
      ],
      "metadata": {
        "id": "u-vN2fotSBFx"
      },
      "execution_count": 16,
      "outputs": []
    },
    {
      "cell_type": "code",
      "source": [
        "X_train_deep,X_val_deep,X_test_deep = X_train_deep / 255.0,X_val_deep/255.0,X_test_deep / 255.0"
      ],
      "metadata": {
        "id": "xkPOmncb4dvF"
      },
      "execution_count": 17,
      "outputs": []
    },
    {
      "cell_type": "code",
      "source": [
        "model_deep=tf.keras.models.Sequential([\n",
        "                                  layers.Conv2D(32,(3,3),activation='relu',input_shape=(28,28,1)),\n",
        "                                  layers.MaxPooling2D(),\n",
        "                                  layers.Conv2D(64,(3,3),activation='relu'),\n",
        "                                  layers.MaxPooling2D(),\n",
        "                                  layers.Conv2D(64,(5,5),activation='relu'),\n",
        "\n",
        "                                  layers.Flatten(),\n",
        "\n",
        "                                  layers.Dense(64,activation='relu'),\n",
        "                                  layers.Dense(10,activation='softmax')\n",
        "\n",
        "])"
      ],
      "metadata": {
        "id": "t25CuPeN9acZ"
      },
      "execution_count": 18,
      "outputs": []
    },
    {
      "cell_type": "code",
      "source": [
        "model_deep.summary()"
      ],
      "metadata": {
        "colab": {
          "base_uri": "https://localhost:8080/"
        },
        "id": "zpYgduZ3J4Z-",
        "outputId": "f3cc10eb-018b-4cb9-8f56-ff2bd64eff7b"
      },
      "execution_count": 19,
      "outputs": [
        {
          "output_type": "stream",
          "name": "stdout",
          "text": [
            "Model: \"sequential_1\"\n",
            "_________________________________________________________________\n",
            " Layer (type)                Output Shape              Param #   \n",
            "=================================================================\n",
            " conv2d (Conv2D)             (None, 26, 26, 32)        320       \n",
            "                                                                 \n",
            " max_pooling2d (MaxPooling2D  (None, 13, 13, 32)       0         \n",
            " )                                                               \n",
            "                                                                 \n",
            " conv2d_1 (Conv2D)           (None, 11, 11, 64)        18496     \n",
            "                                                                 \n",
            " max_pooling2d_1 (MaxPooling  (None, 5, 5, 64)         0         \n",
            " 2D)                                                             \n",
            "                                                                 \n",
            " conv2d_2 (Conv2D)           (None, 1, 1, 64)          102464    \n",
            "                                                                 \n",
            " flatten (Flatten)           (None, 64)                0         \n",
            "                                                                 \n",
            " dense_3 (Dense)             (None, 64)                4160      \n",
            "                                                                 \n",
            " dense_4 (Dense)             (None, 10)                650       \n",
            "                                                                 \n",
            "=================================================================\n",
            "Total params: 126,090\n",
            "Trainable params: 126,090\n",
            "Non-trainable params: 0\n",
            "_________________________________________________________________\n"
          ]
        }
      ]
    },
    {
      "cell_type": "code",
      "source": [
        "model_deep.compile(tf.keras.optimizers.SGD(learning_rate=config.learning_rate),\n",
        "              loss=tf.keras.losses.sparse_categorical_crossentropy,\n",
        "              metrics=['accuracy'])"
      ],
      "metadata": {
        "id": "mpUglSvDL1Nk"
      },
      "execution_count": 20,
      "outputs": []
    },
    {
      "cell_type": "code",
      "source": [
        "output_deep=model_deep.fit(X_train_deep,Y_train_deep,epochs=10,callbacks=[WandbCallback()])"
      ],
      "metadata": {
        "colab": {
          "base_uri": "https://localhost:8080/"
        },
        "id": "qauwohrNNBaQ",
        "outputId": "84d8e027-55b7-41ba-df9f-57109c2244e6"
      },
      "execution_count": 21,
      "outputs": [
        {
          "output_type": "stream",
          "name": "stdout",
          "text": [
            "Epoch 1/10\n",
            "1500/1500 [==============================] - 17s 6ms/step - loss: 2.2518 - accuracy: 0.2805 - _timestamp: 1646564545.0000 - _runtime: 85.0000\n",
            "Epoch 2/10\n",
            "1500/1500 [==============================] - 9s 6ms/step - loss: 1.7713 - accuracy: 0.5976 - _timestamp: 1646564555.0000 - _runtime: 95.0000\n",
            "Epoch 3/10\n",
            "1500/1500 [==============================] - 9s 6ms/step - loss: 0.6469 - accuracy: 0.8275 - _timestamp: 1646564564.0000 - _runtime: 104.0000\n",
            "Epoch 4/10\n",
            "1500/1500 [==============================] - 9s 6ms/step - loss: 0.4137 - accuracy: 0.8809 - _timestamp: 1646564573.0000 - _runtime: 113.0000\n",
            "Epoch 5/10\n",
            "1500/1500 [==============================] - 9s 6ms/step - loss: 0.3476 - accuracy: 0.8970 - _timestamp: 1646564583.0000 - _runtime: 123.0000\n",
            "Epoch 6/10\n",
            "1500/1500 [==============================] - 9s 6ms/step - loss: 0.3067 - accuracy: 0.9089 - _timestamp: 1646564592.0000 - _runtime: 132.0000\n",
            "Epoch 7/10\n",
            "1500/1500 [==============================] - 9s 6ms/step - loss: 0.2763 - accuracy: 0.9179 - _timestamp: 1646564602.0000 - _runtime: 142.0000\n",
            "Epoch 8/10\n",
            "1500/1500 [==============================] - 9s 6ms/step - loss: 0.2506 - accuracy: 0.9250 - _timestamp: 1646564611.0000 - _runtime: 151.0000\n",
            "Epoch 9/10\n",
            "1500/1500 [==============================] - 9s 6ms/step - loss: 0.2293 - accuracy: 0.9315 - _timestamp: 1646564620.0000 - _runtime: 160.0000\n",
            "Epoch 10/10\n",
            "1500/1500 [==============================] - 9s 6ms/step - loss: 0.2093 - accuracy: 0.9371 - _timestamp: 1646564630.0000 - _runtime: 170.0000\n"
          ]
        }
      ]
    },
    {
      "cell_type": "code",
      "source": [
        "plt.plot(output_deep.history['loss'])\n",
        "plt.plot(output_deep.history['accuracy'])\n",
        "plt.xlabel('epoch')\n",
        "plt.legend(['loss', 'accuracy'], loc='upper right')\n",
        "plt.title('Loss and Accuracy of deeplearning model')\n",
        "plt.show()"
      ],
      "metadata": {
        "colab": {
          "base_uri": "https://localhost:8080/",
          "height": 295
        },
        "id": "b1aWzywbXkj7",
        "outputId": "2505d301-c6df-4381-85a3-0d2ec4235874"
      },
      "execution_count": 22,
      "outputs": [
        {
          "output_type": "display_data",
          "data": {
            "image/png": "[encoded data removed]",
            "text/plain": [
              "<Figure size 432x288 with 1 Axes>"
            ]
          },
          "metadata": {
            "needs_background": "light"
          }
        }
      ]
    },
    {
      "cell_type": "code",
      "source": [
        "model_deep.evaluate(X_test_deep,Y_test_deep)"
      ],
      "metadata": {
        "colab": {
          "base_uri": "https://localhost:8080/"
        },
        "id": "BHnQHHUtROzn",
        "outputId": "5a399323-d773-4740-c4e0-823246291bae"
      },
      "execution_count": 23,
      "outputs": [
        {
          "output_type": "stream",
          "name": "stdout",
          "text": [
            "313/313 [==============================] - 2s 4ms/step - loss: 0.1830 - accuracy: 0.9461\n"
          ]
        },
        {
          "output_type": "execute_result",
          "data": {
            "text/plain": [
              "[0.18297824263572693, 0.9460999965667725]"
            ]
          },
          "metadata": {},
          "execution_count": 23
        }
      ]
    },
    {
      "cell_type": "markdown",
      "source": [
        ""
      ],
      "metadata": {
        "id": "vVWrk04nRgLi"
      }
    }
  ],
  "metadata": {
    "colab": {
      "collapsed_sections": [],
      "name": "mnist_wandb.ipynb",
      "provenance": []
    },
    "kernelspec": {
      "display_name": "Python 3",
      "name": "python3"
    },
    "language_info": {
      "codemirror_mode": {
        "name": "ipython",
        "version": 3
      },
      "file_extension": ".py",
      "mimetype": "text/x-python",
      "name": "python",
      "nbconvert_exporter": "python",
      "pygments_lexer": "ipython3",
      "version": "3.8.9"
    },
    "accelerator": "GPU"
  },
  "nbformat": 4,
  "nbformat_minor": 0
}