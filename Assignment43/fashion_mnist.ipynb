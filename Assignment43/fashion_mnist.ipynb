{
  "cells": [
    {
      "cell_type": "code",
      "source": [
        "!pip install wandb"
      ],
      "metadata": {
        "id": "OYVf3CqV-zqZ"
      },
      "execution_count": null,
      "outputs": []
    },
    {
      "cell_type": "code",
      "execution_count": null,
      "metadata": {
        "id": "fSi092bbePhh"
      },
      "outputs": [],
      "source": [
        "import tensorflow as tf\n",
        "from tensorflow.keras.layers import Dense\n",
        "import matplotlib.pyplot as plt\n",
        "from sklearn.model_selection import train_test_split\n",
        "from tensorflow.keras.layers import Dense, Conv2D, MaxPool2D, Flatten\n",
        "from tensorflow.keras import layers\n",
        "import wandb\n",
        "from wandb.keras import WandbCallback"
      ]
    },
    {
      "cell_type": "code",
      "source": [
        "\n",
        "\n",
        "wandb.init(project='fashion_mnist')\n",
        "\n"
      ],
      "metadata": {
        "colab": {
          "base_uri": "https://localhost:8080/",
          "height": 165
        },
        "id": "nGoDPiLR_AAx",
        "outputId": "f2087a9d-5d43-44e3-e461-06f5a24a599d"
      },
      "execution_count": null,
      "outputs": [
        {
          "output_type": "display_data",
          "data": {
            "application/javascript": [
              "\n",
              "        window._wandbApiKey = new Promise((resolve, reject) => {\n",
              "            function loadScript(url) {\n",
              "            return new Promise(function(resolve, reject) {\n",
              "                let newScript = document.createElement(\"script\");\n",
              "                newScript.onerror = reject;\n",
              "                newScript.onload = resolve;\n",
              "                document.body.appendChild(newScript);\n",
              "                newScript.src = url;\n",
              "            });\n",
              "            }\n",
              "            loadScript(\"https://cdn.jsdelivr.net/npm/postmate/build/postmate.min.js\").then(() => {\n",
              "            const iframe = document.createElement('iframe')\n",
              "            iframe.style.cssText = \"width:0;height:0;border:none\"\n",
              "            document.body.appendChild(iframe)\n",
              "            const handshake = new Postmate({\n",
              "                container: iframe,\n",
              "                url: 'https://wandb.ai/authorize'\n",
              "            });\n",
              "            const timeout = setTimeout(() => reject(\"Couldn't auto authenticate\"), 5000)\n",
              "            handshake.then(function(child) {\n",
              "                child.on('authorize', data => {\n",
              "                    clearTimeout(timeout)\n",
              "                    resolve(data)\n",
              "                });\n",
              "            });\n",
              "            })\n",
              "        });\n",
              "    "
            ],
            "text/plain": [
              "<IPython.core.display.Javascript object>"
            ]
          },
          "metadata": {}
        },
        {
          "output_type": "stream",
          "name": "stderr",
          "text": [
            "\u001b[34m\u001b[1mwandb\u001b[0m: You can find your API key in your browser here: https://wandb.ai/authorize\n"
          ]
        },
        {
          "name": "stdout",
          "output_type": "stream",
          "text": [
            "wandb: Paste an API key from your profile and hit enter, or press ctrl+c to quit: ··········\n"
          ]
        },
        {
          "output_type": "stream",
          "name": "stderr",
          "text": [
            "\u001b[34m\u001b[1mwandb\u001b[0m: Appending key for api.wandb.ai to your netrc file: /root/.netrc\n"
          ]
        },
        {
          "output_type": "display_data",
          "data": {
            "text/html": [
              "Tracking run with wandb version 0.12.11"
            ],
            "text/plain": [
              "<IPython.core.display.HTML object>"
            ]
          },
          "metadata": {}
        },
        {
          "output_type": "display_data",
          "data": {
            "text/html": [
              "Run data is saved locally in <code>/content/wandb/run-20220306_113030-1fcwvav2</code>"
            ],
            "text/plain": [
              "<IPython.core.display.HTML object>"
            ]
          },
          "metadata": {}
        },
        {
          "output_type": "display_data",
          "data": {
            "text/html": [
              "Syncing run <strong><a href=\"https://wandb.ai/parisa_pb/fashion_mnist/runs/1fcwvav2\" target=\"_blank\">firm-glitter-1</a></strong> to <a href=\"https://wandb.ai/parisa_pb/fashion_mnist\" target=\"_blank\">Weights & Biases</a> (<a href=\"https://wandb.me/run\" target=\"_blank\">docs</a>)<br/>"
            ],
            "text/plain": [
              "<IPython.core.display.HTML object>"
            ]
          },
          "metadata": {}
        },
        {
          "output_type": "execute_result",
          "data": {
            "text/plain": [
              "<wandb.sdk.wandb_run.Run at 0x7f225f204050>"
            ],
            "text/html": [
              "<button onClick=\"this.nextSibling.style.display='block';this.style.display='none';\">Display W&B run</button><iframe src=\"https://wandb.ai/parisa_pb/fashion_mnist/runs/1fcwvav2?jupyter=true\" style=\"border:none;width:100%;height:420px;display:none;\"></iframe>"
            ]
          },
          "metadata": {},
          "execution_count": 3
        }
      ]
    },
    {
      "cell_type": "code",
      "source": [
        "\n",
        "\n",
        "config=wandb.config\n",
        "config.learning_rate=0.001\n",
        "\n"
      ],
      "metadata": {
        "id": "ILsMe8Uv_C6_"
      },
      "execution_count": null,
      "outputs": []
    },
    {
      "cell_type": "code",
      "execution_count": null,
      "metadata": {
        "id": "bG7RO_zgechK"
      },
      "outputs": [],
      "source": [
        "dataset=tf.keras.datasets.fashion_mnist\n",
        "(X_train,Y_train),(X_test,Y_test)=dataset.load_data()\n",
        "(X_train_deep,Y_train_deep),(X_test_deep,Y_test_deep)=dataset.load_data()"
      ]
    },
    {
      "cell_type": "code",
      "execution_count": null,
      "metadata": {
        "colab": {
          "base_uri": "https://localhost:8080/",
          "height": 283
        },
        "id": "vaYxhLqxfYj3",
        "outputId": "16c13a0d-b8f7-46ca-d6ce-6ff48a282d43"
      },
      "outputs": [
        {
          "output_type": "stream",
          "name": "stdout",
          "text": [
            "9\n"
          ]
        },
        {
          "output_type": "display_data",
          "data": {
            "image/png": "[encoded data removed]",
            "text/plain": [
              "<Figure size 432x288 with 1 Axes>"
            ]
          },
          "metadata": {
            "needs_background": "light"
          }
        }
      ],
      "source": [
        "plt.imshow(X_train[0],cmap='gray')\n",
        "print(Y_train[0])"
      ]
    },
    {
      "cell_type": "code",
      "execution_count": null,
      "metadata": {
        "colab": {
          "base_uri": "https://localhost:8080/"
        },
        "id": "vZiDcmSNiLqk",
        "outputId": "a627d103-2750-465c-a769-653bd4672506"
      },
      "outputs": [
        {
          "output_type": "stream",
          "name": "stdout",
          "text": [
            "(60000, 28, 28)\n"
          ]
        }
      ],
      "source": [
        "print(X_train.shape)\n",
        "X_train=X_train.reshape(X_train.shape[0],X_train.shape[1]*X_train.shape[2])"
      ]
    },
    {
      "cell_type": "code",
      "source": [
        "X_train.shape"
      ],
      "metadata": {
        "colab": {
          "base_uri": "https://localhost:8080/"
        },
        "id": "pFiX6ug55tR-",
        "outputId": "cab7fbf0-aac5-4ca7-bc60-426b433823dc"
      },
      "execution_count": null,
      "outputs": [
        {
          "output_type": "execute_result",
          "data": {
            "text/plain": [
              "(60000, 784)"
            ]
          },
          "metadata": {},
          "execution_count": 8
        }
      ]
    },
    {
      "cell_type": "code",
      "execution_count": null,
      "metadata": {
        "id": "Nk-qBik0IpPi"
      },
      "outputs": [],
      "source": [
        "X_train,X_val,Y_train,Y_val=train_test_split(X_train,Y_train,test_size=0.2,random_state=42)"
      ]
    },
    {
      "cell_type": "code",
      "execution_count": null,
      "metadata": {
        "id": "5Y6wDitSgMZk"
      },
      "outputs": [],
      "source": [
        "#mlp\n",
        "model=tf.keras.models.Sequential([\n",
        "    Dense(64,input_dim=X_train.shape[1],activation='relu'),#input_layer\n",
        "    Dense(32,activation='relu'),\n",
        "    Dense(10,activation='softmax')#output_layer\n",
        "\n",
        "])"
      ]
    },
    {
      "cell_type": "code",
      "execution_count": null,
      "metadata": {
        "id": "OF_Ar3NGiaXa"
      },
      "outputs": [],
      "source": [
        "model.compile(optimizer=tf.keras.optimizers.Adam(learning_rate=config.learning_rate),\n",
        "              loss=tf.keras.losses.sparse_categorical_crossentropy,\n",
        "              metrics=['accuracy'])"
      ]
    },
    {
      "cell_type": "code",
      "execution_count": null,
      "metadata": {
        "colab": {
          "base_uri": "https://localhost:8080/"
        },
        "id": "q28pCruwi3BQ",
        "outputId": "dcfd7f3e-1f7b-41b9-efe0-efaa4d3e8de6"
      },
      "outputs": [
        {
          "output_type": "stream",
          "name": "stdout",
          "text": [
            "Epoch 1/20\n",
            "1500/1500 [==============================] - 8s 3ms/step - loss: 1.7239 - accuracy: 0.6570 - val_loss: 0.7790 - val_accuracy: 0.7110 - _timestamp: 1646566248.0000 - _runtime: 18.0000\n",
            "Epoch 2/20\n",
            "1500/1500 [==============================] - 5s 3ms/step - loss: 0.7096 - accuracy: 0.7331 - val_loss: 0.7243 - val_accuracy: 0.7072 - _timestamp: 1646566253.0000 - _runtime: 23.0000\n",
            "Epoch 3/20\n",
            "1500/1500 [==============================] - 6s 4ms/step - loss: 0.6248 - accuracy: 0.7650 - val_loss: 0.6312 - val_accuracy: 0.7803 - _timestamp: 1646566259.0000 - _runtime: 29.0000\n",
            "Epoch 4/20\n",
            "1500/1500 [==============================] - 5s 3ms/step - loss: 0.5704 - accuracy: 0.7915 - val_loss: 0.5554 - val_accuracy: 0.8090 - _timestamp: 1646566264.0000 - _runtime: 34.0000\n",
            "Epoch 5/20\n",
            "1500/1500 [==============================] - 6s 4ms/step - loss: 0.5113 - accuracy: 0.8216 - val_loss: 0.5324 - val_accuracy: 0.8180 - _timestamp: 1646566270.0000 - _runtime: 40.0000\n",
            "Epoch 6/20\n",
            "1500/1500 [==============================] - 5s 3ms/step - loss: 0.4731 - accuracy: 0.8310 - val_loss: 0.5356 - val_accuracy: 0.8279 - _timestamp: 1646566275.0000 - _runtime: 45.0000\n",
            "Epoch 7/20\n",
            "1500/1500 [==============================] - 6s 4ms/step - loss: 0.4539 - accuracy: 0.8390 - val_loss: 0.4586 - val_accuracy: 0.8468 - _timestamp: 1646566280.0000 - _runtime: 50.0000\n",
            "Epoch 8/20\n",
            "1500/1500 [==============================] - 5s 3ms/step - loss: 0.4230 - accuracy: 0.8495 - val_loss: 0.4546 - val_accuracy: 0.8458 - _timestamp: 1646566285.0000 - _runtime: 55.0000\n",
            "Epoch 9/20\n",
            "1500/1500 [==============================] - 5s 3ms/step - loss: 0.4183 - accuracy: 0.8543 - val_loss: 0.4383 - val_accuracy: 0.8487 - _timestamp: 1646566290.0000 - _runtime: 60.0000\n",
            "Epoch 10/20\n",
            "1500/1500 [==============================] - 5s 3ms/step - loss: 0.4003 - accuracy: 0.8571 - val_loss: 0.4350 - val_accuracy: 0.8529 - _timestamp: 1646566295.0000 - _runtime: 65.0000\n",
            "Epoch 11/20\n",
            "1500/1500 [==============================] - 5s 3ms/step - loss: 0.3891 - accuracy: 0.8619 - val_loss: 0.4198 - val_accuracy: 0.8537 - _timestamp: 1646566300.0000 - _runtime: 70.0000\n",
            "Epoch 12/20\n",
            "1500/1500 [==============================] - 5s 3ms/step - loss: 0.3855 - accuracy: 0.8608 - val_loss: 0.4274 - val_accuracy: 0.8469 - _timestamp: 1646566305.0000 - _runtime: 75.0000\n",
            "Epoch 13/20\n",
            "1500/1500 [==============================] - 5s 4ms/step - loss: 0.3723 - accuracy: 0.8673 - val_loss: 0.4621 - val_accuracy: 0.8276 - _timestamp: 1646566311.0000 - _runtime: 81.0000\n",
            "Epoch 14/20\n",
            "1500/1500 [==============================] - 5s 3ms/step - loss: 0.3754 - accuracy: 0.8653 - val_loss: 0.4172 - val_accuracy: 0.8561 - _timestamp: 1646566316.0000 - _runtime: 86.0000\n",
            "Epoch 15/20\n",
            "1500/1500 [==============================] - 5s 3ms/step - loss: 0.3626 - accuracy: 0.8686 - val_loss: 0.4189 - val_accuracy: 0.8567 - _timestamp: 1646566321.0000 - _runtime: 91.0000\n",
            "Epoch 16/20\n",
            "1500/1500 [==============================] - 5s 4ms/step - loss: 0.3559 - accuracy: 0.8708 - val_loss: 0.4802 - val_accuracy: 0.8350 - _timestamp: 1646566326.0000 - _runtime: 96.0000\n",
            "Epoch 17/20\n",
            "1500/1500 [==============================] - 6s 4ms/step - loss: 0.3568 - accuracy: 0.8712 - val_loss: 0.4921 - val_accuracy: 0.8444 - _timestamp: 1646566332.0000 - _runtime: 102.0000\n",
            "Epoch 18/20\n",
            "1500/1500 [==============================] - 5s 4ms/step - loss: 0.3536 - accuracy: 0.8739 - val_loss: 0.4392 - val_accuracy: 0.8547 - _timestamp: 1646566337.0000 - _runtime: 107.0000\n",
            "Epoch 19/20\n",
            "1500/1500 [==============================] - 5s 3ms/step - loss: 0.3472 - accuracy: 0.8744 - val_loss: 0.4711 - val_accuracy: 0.8468 - _timestamp: 1646566342.0000 - _runtime: 112.0000\n",
            "Epoch 20/20\n",
            "1500/1500 [==============================] - 6s 4ms/step - loss: 0.3496 - accuracy: 0.8735 - val_loss: 0.4001 - val_accuracy: 0.8613 - _timestamp: 1646566347.0000 - _runtime: 117.0000\n"
          ]
        }
      ],
      "source": [
        "output=model.fit(X_train,Y_train,validation_data=(X_val,Y_val),epochs=20,callbacks=[WandbCallback()])"
      ]
    },
    {
      "cell_type": "code",
      "source": [
        "plt.plot(output.history['loss'])\n",
        "plt.plot(output.history['accuracy'])\n",
        "plt.xlabel('epoch')\n",
        "plt.legend(['loss', 'accuracy'], loc='upper right')\n",
        "plt.title('Loss and Accuracy of MLP model')\n",
        "plt.show()"
      ],
      "metadata": {
        "colab": {
          "base_uri": "https://localhost:8080/",
          "height": 295
        },
        "id": "IJuup__eXI4F",
        "outputId": "cddc8224-18fe-4b38-b159-feb06e27c4b6"
      },
      "execution_count": null,
      "outputs": [
        {
          "output_type": "display_data",
          "data": {
            "image/png": "[encoded data removed]",
            "text/plain": [
              "<Figure size 432x288 with 1 Axes>"
            ]
          },
          "metadata": {
            "needs_background": "light"
          }
        }
      ]
    },
    {
      "cell_type": "code",
      "execution_count": null,
      "metadata": {
        "colab": {
          "base_uri": "https://localhost:8080/"
        },
        "id": "C3EKcBsWm9MM",
        "outputId": "ee2a0d2c-b509-44f8-82f1-d813053cbd6d"
      },
      "outputs": [
        {
          "output_type": "stream",
          "name": "stdout",
          "text": [
            "(10000, 28, 28)\n",
            "(10000,)\n",
            "(10000, 784)\n"
          ]
        }
      ],
      "source": [
        "print(X_test.shape)\n",
        "print(Y_test.shape)\n",
        "X_test=X_test.reshape(X_test.shape[0],X_test.shape[1]*X_test.shape[2])\n",
        "print(X_test.shape)"
      ]
    },
    {
      "cell_type": "code",
      "execution_count": null,
      "metadata": {
        "colab": {
          "base_uri": "https://localhost:8080/"
        },
        "id": "SarkV5BUnIl4",
        "outputId": "e3580c60-2ba4-4926-ce8e-5953424e5608"
      },
      "outputs": [
        {
          "output_type": "stream",
          "name": "stdout",
          "text": [
            "313/313 [==============================] - 1s 3ms/step - loss: 0.4321 - accuracy: 0.8564\n"
          ]
        }
      ],
      "source": [
        "\n",
        "accuracy = model.evaluate(X_test,Y_test)\n"
      ]
    },
    {
      "cell_type": "code",
      "source": [
        "X_train_deep,X_val_deep,Y_train_deep,Y_val_deep=train_test_split(X_train_deep,Y_train_deep,test_size=0.2,random_state=42)"
      ],
      "metadata": {
        "id": "u-vN2fotSBFx"
      },
      "execution_count": null,
      "outputs": []
    },
    {
      "cell_type": "code",
      "source": [
        "X_train_deep,X_val_deep,X_test_deep = X_train_deep / 255.0,X_val_deep/255.0,X_test_deep / 255.0"
      ],
      "metadata": {
        "id": "xkPOmncb4dvF"
      },
      "execution_count": null,
      "outputs": []
    },
    {
      "cell_type": "code",
      "source": [
        "model_deep=tf.keras.models.Sequential([\n",
        "                                  layers.Conv2D(32,(3,3),activation='relu',input_shape=(28,28,1)),\n",
        "                                  layers.MaxPooling2D(),\n",
        "                                  layers.Conv2D(64,(3,3),activation='relu'),\n",
        "                                  layers.MaxPooling2D(),\n",
        "                                  layers.Conv2D(64,(5,5),activation='relu'),\n",
        "\n",
        "                                  layers.Flatten(),\n",
        "\n",
        "                                  layers.Dense(64,activation='relu'),\n",
        "                                  layers.Dense(10,activation='softmax')\n",
        "\n",
        "])"
      ],
      "metadata": {
        "id": "t25CuPeN9acZ"
      },
      "execution_count": null,
      "outputs": []
    },
    {
      "cell_type": "code",
      "source": [
        "model_deep.summary()"
      ],
      "metadata": {
        "colab": {
          "base_uri": "https://localhost:8080/"
        },
        "id": "zpYgduZ3J4Z-",
        "outputId": "17b37058-1809-40f6-80f5-5a0acee5efe8"
      },
      "execution_count": null,
      "outputs": [
        {
          "output_type": "stream",
          "name": "stdout",
          "text": [
            "Model: \"sequential_1\"\n",
            "_________________________________________________________________\n",
            " Layer (type)                Output Shape              Param #   \n",
            "=================================================================\n",
            " conv2d (Conv2D)             (None, 26, 26, 32)        320       \n",
            "                                                                 \n",
            " max_pooling2d (MaxPooling2D  (None, 13, 13, 32)       0         \n",
            " )                                                               \n",
            "                                                                 \n",
            " conv2d_1 (Conv2D)           (None, 11, 11, 64)        18496     \n",
            "                                                                 \n",
            " max_pooling2d_1 (MaxPooling  (None, 5, 5, 64)         0         \n",
            " 2D)                                                             \n",
            "                                                                 \n",
            " conv2d_2 (Conv2D)           (None, 1, 1, 64)          102464    \n",
            "                                                                 \n",
            " flatten (Flatten)           (None, 64)                0         \n",
            "                                                                 \n",
            " dense_3 (Dense)             (None, 64)                4160      \n",
            "                                                                 \n",
            " dense_4 (Dense)             (None, 10)                650       \n",
            "                                                                 \n",
            "=================================================================\n",
            "Total params: 126,090\n",
            "Trainable params: 126,090\n",
            "Non-trainable params: 0\n",
            "_________________________________________________________________\n"
          ]
        }
      ]
    },
    {
      "cell_type": "code",
      "source": [
        "model_deep.compile(tf.keras.optimizers.SGD(learning_rate=config.learning_rate),\n",
        "              loss=tf.keras.losses.sparse_categorical_crossentropy,\n",
        "              metrics=['accuracy'])"
      ],
      "metadata": {
        "id": "mpUglSvDL1Nk"
      },
      "execution_count": null,
      "outputs": []
    },
    {
      "cell_type": "code",
      "source": [
        "output_deep=model_deep.fit(X_train_deep,Y_train_deep,epochs=20,callbacks=[WandbCallback()])"
      ],
      "metadata": {
        "colab": {
          "base_uri": "https://localhost:8080/"
        },
        "id": "qauwohrNNBaQ",
        "outputId": "50c3d024-1f21-4dc7-86ee-90f1dc3ebc2f"
      },
      "execution_count": null,
      "outputs": [
        {
          "output_type": "stream",
          "name": "stdout",
          "text": [
            "Epoch 1/20\n",
            "   1/1500 [..............................] - ETA: 2:52:35 - loss: 2.2974 - accuracy: 0.0000e+00WARNING:tensorflow:Callback method `on_train_batch_end` is slow compared to the batch time (batch time: 0.0043s vs `on_train_batch_end` time: 0.0046s). Check your callbacks.\n",
            "1500/1500 [==============================] - 16s 6ms/step - loss: 2.2473 - accuracy: 0.2755 - _timestamp: 1646566366.0000 - _runtime: 136.0000\n",
            "Epoch 2/20\n",
            "1500/1500 [==============================] - 9s 6ms/step - loss: 1.7404 - accuracy: 0.4761 - _timestamp: 1646566376.0000 - _runtime: 146.0000\n",
            "Epoch 3/20\n",
            "1500/1500 [==============================] - 9s 6ms/step - loss: 1.0383 - accuracy: 0.6093 - _timestamp: 1646566385.0000 - _runtime: 155.0000\n",
            "Epoch 4/20\n",
            "1500/1500 [==============================] - 9s 6ms/step - loss: 0.8866 - accuracy: 0.6672 - _timestamp: 1646566394.0000 - _runtime: 164.0000\n",
            "Epoch 5/20\n",
            "1500/1500 [==============================] - 9s 6ms/step - loss: 0.8158 - accuracy: 0.6983 - _timestamp: 1646566404.0000 - _runtime: 174.0000\n",
            "Epoch 6/20\n",
            "1500/1500 [==============================] - 10s 6ms/step - loss: 0.7670 - accuracy: 0.7185 - _timestamp: 1646566413.0000 - _runtime: 183.0000\n",
            "Epoch 7/20\n",
            "1500/1500 [==============================] - 9s 6ms/step - loss: 0.7300 - accuracy: 0.7322 - _timestamp: 1646566423.0000 - _runtime: 193.0000\n",
            "Epoch 8/20\n",
            "1500/1500 [==============================] - 9s 6ms/step - loss: 0.6988 - accuracy: 0.7437 - _timestamp: 1646566432.0000 - _runtime: 202.0000\n",
            "Epoch 9/20\n",
            "1500/1500 [==============================] - 9s 6ms/step - loss: 0.6703 - accuracy: 0.7519 - _timestamp: 1646566442.0000 - _runtime: 212.0000\n",
            "Epoch 10/20\n",
            "1500/1500 [==============================] - 9s 6ms/step - loss: 0.6465 - accuracy: 0.7620 - _timestamp: 1646566451.0000 - _runtime: 221.0000\n",
            "Epoch 11/20\n",
            "1500/1500 [==============================] - 9s 6ms/step - loss: 0.6258 - accuracy: 0.7673 - _timestamp: 1646566461.0000 - _runtime: 231.0000\n",
            "Epoch 12/20\n",
            "1500/1500 [==============================] - 9s 6ms/step - loss: 0.6069 - accuracy: 0.7744 - _timestamp: 1646566470.0000 - _runtime: 240.0000\n",
            "Epoch 13/20\n",
            "1500/1500 [==============================] - 10s 6ms/step - loss: 0.5911 - accuracy: 0.7788 - _timestamp: 1646566480.0000 - _runtime: 250.0000\n",
            "Epoch 14/20\n",
            "1500/1500 [==============================] - 9s 6ms/step - loss: 0.5756 - accuracy: 0.7869 - _timestamp: 1646566489.0000 - _runtime: 259.0000\n",
            "Epoch 15/20\n",
            "1500/1500 [==============================] - 9s 6ms/step - loss: 0.5627 - accuracy: 0.7904 - _timestamp: 1646566499.0000 - _runtime: 269.0000\n",
            "Epoch 16/20\n",
            "1500/1500 [==============================] - 9s 6ms/step - loss: 0.5497 - accuracy: 0.7954 - _timestamp: 1646566508.0000 - _runtime: 278.0000\n",
            "Epoch 17/20\n",
            "1500/1500 [==============================] - 10s 6ms/step - loss: 0.5377 - accuracy: 0.8010 - _timestamp: 1646566517.0000 - _runtime: 287.0000\n",
            "Epoch 18/20\n",
            "1500/1500 [==============================] - 9s 6ms/step - loss: 0.5276 - accuracy: 0.8043 - _timestamp: 1646566527.0000 - _runtime: 297.0000\n",
            "Epoch 19/20\n",
            "1500/1500 [==============================] - 9s 6ms/step - loss: 0.5173 - accuracy: 0.8081 - _timestamp: 1646566536.0000 - _runtime: 306.0000\n",
            "Epoch 20/20\n",
            "1500/1500 [==============================] - 9s 6ms/step - loss: 0.5098 - accuracy: 0.8110 - _timestamp: 1646566546.0000 - _runtime: 316.0000\n"
          ]
        }
      ]
    },
    {
      "cell_type": "code",
      "source": [
        "plt.plot(output_deep.history['loss'])\n",
        "plt.plot(output_deep.history['accuracy'])\n",
        "plt.xlabel('epoch')\n",
        "plt.legend(['loss', 'accuracy'], loc='upper right')\n",
        "plt.title('Loss and Accuracy of deeplearning model')\n",
        "plt.show()"
      ],
      "metadata": {
        "colab": {
          "base_uri": "https://localhost:8080/",
          "height": 295
        },
        "id": "b1aWzywbXkj7",
        "outputId": "1d5c08e1-f1e2-463d-fb58-97c5b0dee694"
      },
      "execution_count": null,
      "outputs": [
        {
          "output_type": "display_data",
          "data": {
            "image/png": "[encoded data removed]",
            "text/plain": [
              "<Figure size 432x288 with 1 Axes>"
            ]
          },
          "metadata": {
            "needs_background": "light"
          }
        }
      ]
    },
    {
      "cell_type": "code",
      "source": [
        "model_deep.evaluate(X_test_deep,Y_test_deep)"
      ],
      "metadata": {
        "colab": {
          "base_uri": "https://localhost:8080/"
        },
        "id": "BHnQHHUtROzn",
        "outputId": "01efcdc9-8b2b-491c-917a-9f99199ea612"
      },
      "execution_count": null,
      "outputs": [
        {
          "output_type": "stream",
          "name": "stdout",
          "text": [
            "313/313 [==============================] - 2s 4ms/step - loss: 0.5299 - accuracy: 0.8079\n"
          ]
        },
        {
          "output_type": "execute_result",
          "data": {
            "text/plain": [
              "[0.529906690120697, 0.8079000115394592]"
            ]
          },
          "metadata": {},
          "execution_count": 23
        }
      ]
    },
    {
      "cell_type": "markdown",
      "source": [
        ""
      ],
      "metadata": {
        "id": "vVWrk04nRgLi"
      }
    }
  ],
  "metadata": {
    "colab": {
      "collapsed_sections": [],
      "name": "fashion_mnist_wandb.ipynb",
      "provenance": []
    },
    "kernelspec": {
      "display_name": "Python 3",
      "name": "python3"
    },
    "language_info": {
      "codemirror_mode": {
        "name": "ipython",
        "version": 3
      },
      "file_extension": ".py",
      "mimetype": "text/x-python",
      "name": "python",
      "nbconvert_exporter": "python",
      "pygments_lexer": "ipython3",
      "version": "3.8.9"
    },
    "accelerator": "GPU"
  },
  "nbformat": 4,
  "nbformat_minor": 0
}