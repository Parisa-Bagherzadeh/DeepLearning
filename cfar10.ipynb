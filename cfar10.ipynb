{
  "nbformat": 4,
  "nbformat_minor": 0,
  "metadata": {
    "colab": {
      "name": "cfar10.ipynb",
      "provenance": []
    },
    "kernelspec": {
      "name": "python3",
      "display_name": "Python 3"
    },
    "language_info": {
      "name": "python"
    }
  },
  "cells": [
    {
      "cell_type": "code",
      "metadata": {
        "id": "xdD_GsPBg0Z7"
      },
      "source": [
        "import tensorflow as tf\n",
        "from tensorflow.keras.layers import Dense\n",
        "import matplotlib.pyplot as plt\n",
        "from sklearn.model_selection import train_test_split"
      ],
      "execution_count": 1,
      "outputs": []
    },
    {
      "cell_type": "code",
      "metadata": {
        "colab": {
          "base_uri": "https://localhost:8080/"
        },
        "id": "ZfO8Wvwvg6wN",
        "outputId": "03539817-8488-4ff4-c960-7f887e16e466"
      },
      "source": [
        "dataset=tf.keras.datasets.cifar10\n",
        "(X_train,Y_train),(X_test,Y_test)=dataset.load_data()\n",
        "(X_train_deep,Y_train_deep),(X_test_deep,Y_test_deep)=dataset.load_data()"
      ],
      "execution_count": 2,
      "outputs": [
        {
          "output_type": "stream",
          "name": "stdout",
          "text": [
            "Downloading data from https://www.cs.toronto.edu/~kriz/cifar-10-python.tar.gz\n",
            "170500096/170498071 [==============================] - 2s 0us/step\n",
            "170508288/170498071 [==============================] - 2s 0us/step\n"
          ]
        }
      ]
    },
    {
      "cell_type": "code",
      "metadata": {
        "colab": {
          "base_uri": "https://localhost:8080/",
          "height": 285
        },
        "id": "GVv32ze3g-He",
        "outputId": "9d6f9904-e18e-4685-8511-8f429eb5f267"
      },
      "source": [
        "plt.imshow(X_train[28],cmap='gray')\n",
        "print(Y_train[28])"
      ],
      "execution_count": 3,
      "outputs": [
        {
          "output_type": "stream",
          "name": "stdout",
          "text": [
            "[4]\n"
          ]
        },
        {
          "output_type": "display_data",
          "data": {
            "image/png": "[encoded data removed]",
            "text/plain": [
              "<Figure size 432x288 with 1 Axes>"
            ]
          },
          "metadata": {
            "needs_background": "light"
          }
        }
      ]
    },
    {
      "cell_type": "code",
      "metadata": {
        "colab": {
          "base_uri": "https://localhost:8080/"
        },
        "id": "reQ387mohBjj",
        "outputId": "93d59f0b-eacd-4020-fe9e-67cc1f90e958"
      },
      "source": [
        "print(X_train.shape)\n",
        "print(Y_train.shape)"
      ],
      "execution_count": 4,
      "outputs": [
        {
          "output_type": "stream",
          "name": "stdout",
          "text": [
            "(50000, 32, 32, 3)\n",
            "(50000, 1)\n"
          ]
        }
      ]
    },
    {
      "cell_type": "code",
      "metadata": {
        "colab": {
          "base_uri": "https://localhost:8080/"
        },
        "id": "GSGSVWmXhFLJ",
        "outputId": "bece8212-b12f-4722-cd29-0df75f7fdd7f"
      },
      "source": [
        "print(X_train.shape[1]*X_train.shape[2]*X_train.shape[3])\n"
      ],
      "execution_count": 5,
      "outputs": [
        {
          "output_type": "stream",
          "name": "stdout",
          "text": [
            "3072\n"
          ]
        }
      ]
    },
    {
      "cell_type": "code",
      "metadata": {
        "id": "2LbAYaedhUB2"
      },
      "source": [
        "X_train=X_train.reshape(50000,3072)"
      ],
      "execution_count": 6,
      "outputs": []
    },
    {
      "cell_type": "code",
      "metadata": {
        "id": "FxuEmggwhZEK"
      },
      "source": [
        "X_train,X_valid,Y_train,Y_valid=train_test_split(X_train,Y_train,test_size=0.2,random_state=42)"
      ],
      "execution_count": 7,
      "outputs": []
    },
    {
      "cell_type": "code",
      "metadata": {
        "id": "G0iV3a9DhfkO"
      },
      "source": [
        "model=tf.keras.models.Sequential([\n",
        "    Dense(64,input_dim=3072,activation='relu'),#input_layer\n",
        "    Dense(32,activation='relu'),\n",
        "    Dense(10,activation='softmax')#output_layer\n",
        "\n",
        "])"
      ],
      "execution_count": 8,
      "outputs": []
    },
    {
      "cell_type": "code",
      "metadata": {
        "id": "yyeanqE6hiEB"
      },
      "source": [
        "model.compile(optimizer=tf.keras.optimizers.Adam(),\n",
        "              loss=tf.keras.losses.sparse_categorical_crossentropy,\n",
        "              metrics='accuracy')"
      ],
      "execution_count": 9,
      "outputs": []
    },
    {
      "cell_type": "code",
      "metadata": {
        "colab": {
          "base_uri": "https://localhost:8080/"
        },
        "id": "nD8cKA8QhlEx",
        "outputId": "6904b7fc-d505-417c-b708-e980de3f0664"
      },
      "source": [
        "model.fit(X_train,Y_train,validation_data=(X_valid,Y_valid),epochs=10)"
      ],
      "execution_count": 10,
      "outputs": [
        {
          "output_type": "stream",
          "name": "stdout",
          "text": [
            "Epoch 1/10\n",
            "1250/1250 [==============================] - 6s 4ms/step - loss: 5.1496 - accuracy: 0.1020 - val_loss: 2.3030 - val_accuracy: 0.0933\n",
            "Epoch 2/10\n",
            "1250/1250 [==============================] - 5s 4ms/step - loss: 2.3030 - accuracy: 0.1009 - val_loss: 2.3028 - val_accuracy: 0.0996\n",
            "Epoch 3/10\n",
            "1250/1250 [==============================] - 5s 4ms/step - loss: 2.3027 - accuracy: 0.0981 - val_loss: 2.3028 - val_accuracy: 0.0933\n",
            "Epoch 4/10\n",
            "1250/1250 [==============================] - 5s 4ms/step - loss: 2.3026 - accuracy: 0.0992 - val_loss: 2.3028 - val_accuracy: 0.1023\n",
            "Epoch 5/10\n",
            "1250/1250 [==============================] - 5s 4ms/step - loss: 2.3026 - accuracy: 0.1006 - val_loss: 2.3030 - val_accuracy: 0.0996\n",
            "Epoch 6/10\n",
            "1250/1250 [==============================] - 5s 4ms/step - loss: 2.3026 - accuracy: 0.0977 - val_loss: 2.3031 - val_accuracy: 0.0994\n",
            "Epoch 7/10\n",
            "1250/1250 [==============================] - 5s 4ms/step - loss: 2.3028 - accuracy: 0.0986 - val_loss: 2.3029 - val_accuracy: 0.0979\n",
            "Epoch 8/10\n",
            "1250/1250 [==============================] - 5s 4ms/step - loss: 2.3027 - accuracy: 0.0996 - val_loss: 2.3029 - val_accuracy: 0.0933\n",
            "Epoch 9/10\n",
            "1250/1250 [==============================] - 5s 4ms/step - loss: 2.3027 - accuracy: 0.1007 - val_loss: 2.3027 - val_accuracy: 0.0994\n",
            "Epoch 10/10\n",
            "1250/1250 [==============================] - 4s 4ms/step - loss: 2.3027 - accuracy: 0.0983 - val_loss: 2.3030 - val_accuracy: 0.0994\n"
          ]
        },
        {
          "output_type": "execute_result",
          "data": {
            "text/plain": [
              "<keras.callbacks.History at 0x7f9ee9159f10>"
            ]
          },
          "metadata": {},
          "execution_count": 10
        }
      ]
    },
    {
      "cell_type": "code",
      "metadata": {
        "colab": {
          "base_uri": "https://localhost:8080/"
        },
        "id": "GJ_9oaHuhooG",
        "outputId": "f5406f13-2908-402d-e119-c5fe417e653e"
      },
      "source": [
        "print(X_test.shape)\n",
        "print(Y_test.shape)\n",
        "X_test=X_test.reshape(10000,3072)\n",
        "print(X_test.shape)"
      ],
      "execution_count": 12,
      "outputs": [
        {
          "output_type": "stream",
          "name": "stdout",
          "text": [
            "(10000, 32, 32, 3)\n",
            "(10000, 1)\n",
            "(10000, 3072)\n"
          ]
        }
      ]
    },
    {
      "cell_type": "code",
      "metadata": {
        "colab": {
          "base_uri": "https://localhost:8080/"
        },
        "id": "f6EMwAV9iFwM",
        "outputId": "6d8dc4c8-81f3-4a12-8af8-5b306fa76ad2"
      },
      "source": [
        "accuracy = model.evaluate(X_test,Y_test)\n",
        "\n",
        "print(\"accuracy =\", accuracy)"
      ],
      "execution_count": 13,
      "outputs": [
        {
          "output_type": "stream",
          "name": "stdout",
          "text": [
            "313/313 [==============================] - 1s 2ms/step - loss: 2.3027 - accuracy: 0.1000\n",
            "accuracy = [2.302691698074341, 0.10000000149011612]\n"
          ]
        }
      ]
    },
    {
      "cell_type": "code",
      "metadata": {
        "colab": {
          "base_uri": "https://localhost:8080/"
        },
        "id": "wq0muMiwiKE1",
        "outputId": "b4848d80-7b2c-4642-ce6a-8879945e9a33"
      },
      "source": [
        "X_train_deep,X_test_deep = X_train_deep/255.0, X_test_deep/255.0\n",
        "\n",
        "model = tf.keras.models.Sequential([\n",
        "  tf.keras.layers.Flatten(input_shape=(32,32,3)),\n",
        "  tf.keras.layers.Dense(128, activation='relu'),\n",
        "  tf.keras.layers.Dropout(0.2),\n",
        "  tf.keras.layers.Dense(10, activation='softmax')\n",
        "])\n",
        "\n",
        "model.compile(optimizer='adam',\n",
        "              loss='sparse_categorical_crossentropy',\n",
        "              metrics=['accuracy'])\n",
        "\n",
        "model.fit(X_train_deep,Y_train_deep, epochs=10)\n",
        "model.evaluate(X_test_deep, Y_test_deep)\n"
      ],
      "execution_count": 15,
      "outputs": [
        {
          "output_type": "stream",
          "name": "stdout",
          "text": [
            "Epoch 1/10\n",
            "1563/1563 [==============================] - 7s 4ms/step - loss: 2.0745 - accuracy: 0.2451\n",
            "Epoch 2/10\n",
            "1563/1563 [==============================] - 6s 4ms/step - loss: 1.9219 - accuracy: 0.3110\n",
            "Epoch 3/10\n",
            "1563/1563 [==============================] - 6s 4ms/step - loss: 1.8667 - accuracy: 0.3365\n",
            "Epoch 4/10\n",
            "1563/1563 [==============================] - 6s 4ms/step - loss: 1.8234 - accuracy: 0.3513\n",
            "Epoch 5/10\n",
            "1563/1563 [==============================] - 6s 4ms/step - loss: 1.7836 - accuracy: 0.3654\n",
            "Epoch 6/10\n",
            "1563/1563 [==============================] - 6s 4ms/step - loss: 1.7542 - accuracy: 0.3748\n",
            "Epoch 7/10\n",
            "1563/1563 [==============================] - 6s 4ms/step - loss: 1.7305 - accuracy: 0.3823\n",
            "Epoch 8/10\n",
            "1563/1563 [==============================] - 6s 4ms/step - loss: 1.7107 - accuracy: 0.3932\n",
            "Epoch 9/10\n",
            "1563/1563 [==============================] - 7s 4ms/step - loss: 1.6954 - accuracy: 0.3974\n",
            "Epoch 10/10\n",
            "1563/1563 [==============================] - 6s 4ms/step - loss: 1.6794 - accuracy: 0.4048\n",
            "313/313 [==============================] - 1s 2ms/step - loss: 1.6316 - accuracy: 0.4251\n"
          ]
        },
        {
          "output_type": "execute_result",
          "data": {
            "text/plain": [
              "[1.631636381149292, 0.4250999987125397]"
            ]
          },
          "metadata": {},
          "execution_count": 15
        }
      ]
    }
  ]
}