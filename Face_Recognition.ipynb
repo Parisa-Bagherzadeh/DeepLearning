{
  "nbformat": 4,
  "nbformat_minor": 0,
  "metadata": {
    "colab": {
      "provenance": []
    },
    "kernelspec": {
      "name": "python3",
      "display_name": "Python 3"
    },
    "language_info": {
      "name": "python"
    }
  },
  "cells": [
    {
      "cell_type": "code",
      "execution_count": null,
      "metadata": {
        "id": "QVyfsOv25pCJ"
      },
      "outputs": [],
      "source": [
        "from google.colab import drive\n",
        "drive.mount(\"/content/drive\")"
      ]
    },
    {
      "cell_type": "code",
      "source": [
        "import random\n",
        "import os\n",
        "import cv2\n",
        "import numpy as np\n",
        "\n",
        "\n",
        "from scipy.spatial import distance\n",
        "from insightface.app import FaceAnalysis"
      ],
      "metadata": {
        "id": "Pg5L4FE05qAn"
      },
      "execution_count": null,
      "outputs": []
    },
    {
      "cell_type": "code",
      "source": [
        "!pip install onnxruntime"
      ],
      "metadata": {
        "id": "2JGgWOVi5vYc"
      },
      "execution_count": null,
      "outputs": []
    },
    {
      "cell_type": "code",
      "source": [
        "!pip install insightface"
      ],
      "metadata": {
        "id": "RqWkQC-i5wzn"
      },
      "execution_count": null,
      "outputs": []
    },
    {
      "cell_type": "markdown",
      "source": [
        "# تولید فایل txt"
      ],
      "metadata": {
        "id": "rwuz_xZE5698"
      }
    },
    {
      "cell_type": "code",
      "source": [
        "lfw = '/content/drive/MyDrive/images'\n",
        "calfw = '/content/drive/MyDrive/calfw/aligned images'\n",
        "cplfw = '/content/drive/MyDrive/cplfw/aligned images'\n",
        "\n",
        "file_name = ['lfw.txt', 'calfw.txt', 'cplfw.txt']\n",
        "\n",
        "dataset_list = [lfw, calfw, cplfw]\n",
        "\n",
        "for i in range(len(dataset_list)):\n",
        "\n",
        "  dataset = os.listdir(dataset_list[i])\n",
        "\n",
        "  if dataset_list[i] == lfw or dataset_list[i] == calfw:\n",
        "\n",
        "    for j in range(2000):\n",
        "\n",
        "      rand_number = random.randint(1, 100)\n",
        "      if rand_number < 50:\n",
        "\n",
        "        rand_name = random.choice(dataset)\n",
        "        count = rand_name.split('_')[-1].split('.')[0]\n",
        "        count = count[2:4]\n",
        "\n",
        "        if int(count[0]) > 0 :\n",
        "\n",
        "          img1 = random.randint(1, 9)\n",
        "          img2 = random.randint(1, 9)\n",
        "\n",
        "          with open(f'/content/drive/MyDrive/{file_name[i]}', 'a') as txtfile:\n",
        "\n",
        "            frand_name = rand_name.split('_')[0]\n",
        "            lrand_name = rand_name.split('_')[1]\n",
        "\n",
        "            name1 = frand_name + '_' + lrand_name + '_' + '000' + str(img1)  + '.jpg'\n",
        "            name2 = frand_name + '_' + lrand_name + '_' + '000' + str(img2)  + '.jpg'\n",
        "\n",
        "            txtfile.write(name1 + '\\t' + name2 +'\\t' + 'True' + '\\n')\n",
        "\n",
        "\n",
        "        else:\n",
        "          if int(count[1]) > 1:\n",
        "            img1 = random.randint(1, int(count[1]))\n",
        "            img2 = random.randint(1, int(count[1]))\n",
        "\n",
        "            with open(f'/content/drive/MyDrive/{file_name[i]}', 'a') as txtfile:\n",
        "              frand_name = rand_name.split('_')[0]\n",
        "              lrand_name = rand_name.split('_')[1]\n",
        "\n",
        "              name1 = frand_name + '_' + lrand_name + '_' + '000' + str(img1) + '.jpg'\n",
        "              name2 = frand_name + '_' + lrand_name + '_' + '000' + str(img2) + '.jpg'\n",
        "\n",
        "              txtfile.write(name1 +'\\t' + name2 +'\\t' + 'True' + '\\n')\n",
        "\n",
        "          else:\n",
        "            with open(f'/content/drive/MyDrive/{file_name[i]}', 'a') as txtfile:\n",
        "\n",
        "              frand_name = rand_name.split('_')[0]\n",
        "              lrand_name = rand_name.split('_')[1]\n",
        "\n",
        "              name = frand_name + '_' + lrand_name  + '_' + '0001' + '.jpg'\n",
        "              txtfile.write(name +'\\t' + name +'\\t' + 'True' + '\\n')\n",
        "\n",
        "      else:\n",
        "        img1 = random.choice(dataset)\n",
        "        img2 = random.choice(dataset)\n",
        "        name1 = img1\n",
        "        name2 = img2\n",
        "        img1 = img1.split('_')[:2]\n",
        "        img2 = img2.split('_')[:2]\n",
        "\n",
        "        with open(f'/content/drive/MyDrive/{file_name[i]}', 'a') as txtfile:\n",
        "          if img1[0] == img2[0] and img1[1] == img2[1]:\n",
        "            txtfile.write(name1 + '\\t' + name2 + '\\t' + 'True' + '\\n')\n",
        "          else:\n",
        "            txtfile.write(name1 + '\\t' + name2 + '\\t' + 'Flase' + '\\n')\n",
        "  else:\n",
        "\n",
        "    for k in range(2000):\n",
        "      rand_number = random.randint(1,100)\n",
        "      if rand_number < 50:\n",
        "        rand_name = random.choice(dataset)\n",
        "        count = rand_name.split('_')[-1].split('.')[0]\n",
        "\n",
        "        frand_name = rand_name.split('_')[0]\n",
        "        lrand_name = rand_name.split('_')[1]\n",
        "\n",
        "        if int(count) > 1:\n",
        "          img1 = random.randint(1, int(count))\n",
        "          img2 = random.randint(1, int(count))\n",
        "\n",
        "          with open(f'/content/drive/MyDrive/{file_name[i]}', 'a') as txtfile:\n",
        "\n",
        "            name1 = frand_name + '_' + lrand_name + '_' + str(img1)  + '.jpg'\n",
        "            name2 = frand_name + '_' + lrand_name + '_' + str(img2)  + '.jpg'\n",
        "            txtfile.write(name1 + '\\t' + name2 + '\\t' + 'True' + '\\n')\n",
        "\n",
        "        else:\n",
        "          with open(f'/content/drive/MyDrive/{file_name[i]}', 'a') as txtfile:\n",
        "            txtfile.write(frand_name + '_' + lrand_name + '_' + '1' + '.jpg' +\n",
        "                          '\\t' + frand_name + '_' + lrand_name + '_' + '1' + '.jpg' + '\\t' + 'True' + '\\n')\n",
        "\n",
        "      else:\n",
        "        img1 = random.choice(dataset)\n",
        "        img2 = random.choice(dataset)\n",
        "        name1 = img1\n",
        "        name2 = img2\n",
        "        img1 = img1.split('_')[:2]\n",
        "        img2 = img2.split('_')[:2]\n",
        "\n",
        "        with open(f'/content/drive/MyDrive/{file_name[i]}', 'a') as txtfile:\n",
        "          if img1[0] == img2[0] and img1[1] == img2[1]:\n",
        "            txtfile.write(name1 + '\\t' + name2 + '\\t' + 'True' + '\\n')\n",
        "          else:\n",
        "            txtfile.write(name1 + '\\t' + name2 + '\\t' + 'Flase' + '\\n')"
      ],
      "metadata": {
        "id": "G7S5gHSU51ja"
      },
      "execution_count": null,
      "outputs": []
    },
    {
      "cell_type": "markdown",
      "source": [
        "# Face recognition"
      ],
      "metadata": {
        "id": "60jdpJrm6TZl"
      }
    },
    {
      "cell_type": "code",
      "source": [
        "app = FaceAnalysis(providers=[\"CUDAExecutionProvider\", \"CPUExecutionProvider\"])\n",
        "app.prepare(ctx_id=0, det_size=(640, 640))\n",
        "print(\"Model loaded\")\n",
        "\n",
        "\n",
        "\n",
        "lfw = '/content/drive/MyDrive/lfw.txt'\n",
        "\n",
        "lfw_path = '/content/drive/MyDrive/images/'\n",
        "\n",
        "\n",
        "accuracy = 0\n",
        "threshold = 20\n",
        "FMR = 0\n",
        "FNMR = 0\n",
        "\n",
        "\n",
        "dataset_path = [lfw]\n",
        "path = [lfw_path]\n",
        "\n",
        "for index, data_path in enumerate(dataset_path):\n",
        "  with open(data_path, 'r') as myfile:\n",
        "      for line in myfile:\n",
        "          columns = line.split()\n",
        "\n",
        "          image1 = cv2.imread(path[index] + columns[0])\n",
        "          image2 = cv2.imread(path[index] + columns[1])\n",
        "\n",
        "          if image1 is not None and image2 is not None:\n",
        "\n",
        "            faces1 = app.get(image1)\n",
        "            faces2 = app.get(image2)\n",
        "\n",
        "            for face1 in faces1:\n",
        "              for face2 in faces2:\n",
        "                dist = distance.euclidean(face1['embedding'], face2['embedding'])\n",
        "                if dist < threshold:\n",
        "                    print(\"True\" ,'\\t', columns[2])\n",
        "                    if columns[2] == \"True\":\n",
        "                      accuracy += 1\n",
        "                    else:\n",
        "                      FNMR += 1\n",
        "\n",
        "                else :\n",
        "                  print(\"False\", '\\t', columns[2])\n",
        "                  if columns[2] == \"False\":\n",
        "                    accuracy += 1\n",
        "                  else:\n",
        "                    FMR += 1\n",
        "\n",
        "\n",
        "acc = (accuracy / 2000) * 100\n",
        "print(\"Accuracy : \", acc )\n",
        "\n",
        "false_match_rate = (FMR / 2000) * 100\n",
        "flase_not_match_rate = (FNMR / 2000) * 100\n",
        "\n",
        "print(\"FMR : \", false_match_rate)\n",
        "print(\"FNMR : \", flase_not_match_rate)\n",
        "\n"
      ],
      "metadata": {
        "id": "9GoDS2126R40"
      },
      "execution_count": null,
      "outputs": []
    }
  ]
}