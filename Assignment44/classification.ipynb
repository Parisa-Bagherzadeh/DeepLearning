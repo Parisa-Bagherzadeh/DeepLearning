{
  "nbformat": 4,
  "nbformat_minor": 0,
  "metadata": {
    "colab": {
      "name": "test(1)(2).ipynb",
      "provenance": [],
      "collapsed_sections": []
    },
    "kernelspec": {
      "name": "python3",
      "display_name": "Python 3"
    },
    "language_info": {
      "name": "python"
    },
    "accelerator": "GPU"
  },
  "cells": [
    {
      "cell_type": "code",
      "source": [
        "!pip install wandb"
      ],
      "metadata": {
        "id": "hFcIOYILpnXj"
      },
      "execution_count": null,
      "outputs": []
    },
    {
      "cell_type": "code",
      "source": [
        "!pip install pyTelegramBotAPI"
      ],
      "metadata": {
        "id": "KDwDdHMMSlRG"
      },
      "execution_count": null,
      "outputs": []
    },
    {
      "cell_type": "code",
      "source": [
        "import telebot"
      ],
      "metadata": {
        "id": "hI5se8EbS7Rb"
      },
      "execution_count": null,
      "outputs": []
    },
    {
      "cell_type": "code",
      "execution_count": null,
      "metadata": {
        "id": "11b5UsGhIDoL"
      },
      "outputs": [],
      "source": [
        "import tensorflow as tf\n",
        "from tensorflow.keras.preprocessing.image import ImageDataGenerator\n",
        "from tensorflow.keras.layers import Conv2D,MaxPool2D,Flatten,Dense\n",
        "\n",
        "import wandb\n",
        "from wandb.keras import WandbCallback\n",
        "\n",
        "import numpy as np\n",
        "import cv2\n",
        "import matplotlib.pyplot as plt\n",
        "import itertools\n",
        "import seaborn as sns\n",
        "from sklearn.metrics import confusion_matrix,classification_report\n",
        "import requests\n",
        "\n"
      ]
    },
    {
      "cell_type": "code",
      "source": [
        "from PIL import ImageFile\n",
        "ImageFile.LOAD_TRUNCATED_IMAGES = True\n"
      ],
      "metadata": {
        "id": "FWK6k0e38aBz"
      },
      "execution_count": null,
      "outputs": []
    },
    {
      "cell_type": "code",
      "source": [
        "\n",
        "\n",
        "wandb.init(project='classification model')\n",
        "\n"
      ],
      "metadata": {
        "id": "yqDZXqoCVl_F"
      },
      "execution_count": null,
      "outputs": []
    },
    {
      "cell_type": "code",
      "source": [
        "config=wandb.config\n",
        "config.learning_rate=0.0001"
      ],
      "metadata": {
        "id": "n0R0R5Z1VsOf"
      },
      "execution_count": null,
      "outputs": []
    },
    {
      "cell_type": "code",
      "source": [
        "from google.colab import drive\n",
        "drive.mount('/content/drive')"
      ],
      "metadata": {
        "colab": {
          "base_uri": "https://localhost:8080/"
        },
        "id": "34Ez4TGvvcLM",
        "outputId": "0397d11b-6a85-4a90-97cd-1025ee0ec7dc"
      },
      "execution_count": null,
      "outputs": [
        {
          "output_type": "stream",
          "name": "stdout",
          "text": [
            "Drive already mounted at /content/drive; to attempt to forcibly remount, call drive.mount(\"/content/drive\", force_remount=True).\n"
          ]
        }
      ]
    },
    {
      "cell_type": "code",
      "source": [
        "dataset_path='/content/drive/MyDrive/images'\n",
        "\n",
        "width=height=224\n",
        "\n",
        "idg=ImageDataGenerator(\n",
        "    \n",
        "    rescale=1./255,\n",
        "\n",
        "    #Augmentation\n",
        "    horizontal_flip=True,\n",
        "    zoom_range=0.1,\n",
        "    rotation_range=15,\n",
        "    brightness_range=(0.9,1.1),\n",
        "    validation_split=0.2\n",
        ")\n",
        "\n",
        "train_data=idg.flow_from_directory(\n",
        "    dataset_path,\n",
        "    target_size=(width,height),\n",
        "    save_to_dir='/content/drive/MyDrive/datasets/augmented',\n",
        "    class_mode='categorical',\n",
        "    subset='training'\n",
        "\n",
        "\n",
        ")\n",
        "\n",
        "val_data=idg.flow_from_directory(\n",
        "    dataset_path,\n",
        "    target_size=(width,height),\n",
        "    class_mode='categorical',\n",
        "    subset='validation'\n",
        "\n",
        "\n",
        ")"
      ],
      "metadata": {
        "id": "vBxxXbfYJJFK",
        "colab": {
          "base_uri": "https://localhost:8080/"
        },
        "outputId": "d05ca23f-a58d-481e-8eba-87c508c3a7c4"
      },
      "execution_count": null,
      "outputs": [
        {
          "output_type": "stream",
          "name": "stdout",
          "text": [
            "Found 709 images belonging to 4 classes.\n",
            "Found 175 images belonging to 4 classes.\n"
          ]
        }
      ]
    },
    {
      "cell_type": "code",
      "source": [
        "model=tf.keras.models.Sequential([\n",
        "      Conv2D(32,(3,3),activation='relu',input_shape=(width,height,3)),\n",
        "      Conv2D(32,(3,3),activation='relu'),\n",
        "      MaxPool2D(),\n",
        "      Conv2D(32,(3,3),activation='relu'),\n",
        "      Conv2D(32,(3,3),activation='relu'),\n",
        "      MaxPool2D(),\n",
        "      Conv2D(64,(3,3),activation='relu'),\n",
        "      Conv2D(64,(3,3),activation='relu'),\n",
        "      MaxPool2D(),\n",
        "\n",
        "      Flatten(),\n",
        "      Dense(256,activation='relu'),\n",
        "      Dense(4,activation='softmax'),\n",
        "\n",
        "\n",
        "])"
      ],
      "metadata": {
        "id": "PcA7XY_PSb2F"
      },
      "execution_count": null,
      "outputs": []
    },
    {
      "cell_type": "code",
      "source": [
        "model.compile(optimizer=tf.keras.optimizers.Adam(learning_rate=config.learning_rate),\n",
        "              loss=tf.keras.losses.categorical_crossentropy,\n",
        "              metrics=['accuracy'])\n"
      ],
      "metadata": {
        "id": "IpOuX-yoVd_F"
      },
      "execution_count": null,
      "outputs": []
    },
    {
      "cell_type": "code",
      "source": [
        "#train\n",
        "output=model.fit(train_data,validation_data=val_data,epochs=10,callbacks=[WandbCallback()])\n"
      ],
      "metadata": {
        "id": "_FFbua3_VxfU",
        "colab": {
          "base_uri": "https://localhost:8080/"
        },
        "outputId": "3edfdfb5-ca6a-4625-ae31-1f9e64d98254"
      },
      "execution_count": null,
      "outputs": [
        {
          "output_type": "stream",
          "name": "stdout",
          "text": [
            "Epoch 1/10\n",
            "23/23 [==============================] - 67s 3s/step - loss: 1.3515 - accuracy: 0.3456 - val_loss: 1.2823 - val_accuracy: 0.4343 - _timestamp: 1647077516.0000 - _runtime: 78.0000\n",
            "Epoch 2/10\n",
            "23/23 [==============================] - 56s 2s/step - loss: 1.1585 - accuracy: 0.5035 - val_loss: 1.1657 - val_accuracy: 0.5029 - _timestamp: 1647077572.0000 - _runtime: 134.0000\n",
            "Epoch 3/10\n",
            "23/23 [==============================] - 54s 2s/step - loss: 0.9658 - accuracy: 0.5938 - val_loss: 1.0836 - val_accuracy: 0.5086 - _timestamp: 1647077627.0000 - _runtime: 189.0000\n",
            "Epoch 4/10\n",
            "23/23 [==============================] - 55s 2s/step - loss: 0.8246 - accuracy: 0.6629 - val_loss: 0.8434 - val_accuracy: 0.6629 - _timestamp: 1647077681.0000 - _runtime: 243.0000\n",
            "Epoch 5/10\n",
            "23/23 [==============================] - 54s 2s/step - loss: 0.7329 - accuracy: 0.7094 - val_loss: 0.7842 - val_accuracy: 0.6629 - _timestamp: 1647077736.0000 - _runtime: 298.0000\n",
            "Epoch 6/10\n",
            "23/23 [==============================] - 55s 2s/step - loss: 0.6883 - accuracy: 0.7250 - val_loss: 0.9563 - val_accuracy: 0.5943 - _timestamp: 1647077819.0000 - _runtime: 381.0000\n",
            "Epoch 7/10\n",
            "23/23 [==============================] - 54s 2s/step - loss: 0.6401 - accuracy: 0.7588 - val_loss: 0.7298 - val_accuracy: 0.7029 - _timestamp: 1647077873.0000 - _runtime: 435.0000\n",
            "Epoch 8/10\n",
            "23/23 [==============================] - 55s 2s/step - loss: 0.5739 - accuracy: 0.7546 - val_loss: 0.6808 - val_accuracy: 0.7371 - _timestamp: 1647077928.0000 - _runtime: 490.0000\n",
            "Epoch 9/10\n",
            "23/23 [==============================] - 58s 3s/step - loss: 0.5804 - accuracy: 0.7884 - val_loss: 0.7151 - val_accuracy: 0.7371 - _timestamp: 1647077986.0000 - _runtime: 548.0000\n",
            "Epoch 10/10\n",
            "23/23 [==============================] - 55s 2s/step - loss: 0.5442 - accuracy: 0.7913 - val_loss: 0.6757 - val_accuracy: 0.7257 - _timestamp: 1647078041.0000 - _runtime: 603.0000\n"
          ]
        }
      ]
    },
    {
      "cell_type": "code",
      "source": [
        "plt.plot(output.history['loss'])\n",
        "plt.plot(output.history['accuracy'])\n",
        "plt.xlabel('epoch')\n",
        "plt.legend(['loss', 'accuracy'], loc='upper right')\n",
        "plt.title('Loss and Accuracy of classification model')\n",
        "plt.show()"
      ],
      "metadata": {
        "colab": {
          "base_uri": "https://localhost:8080/",
          "height": 295
        },
        "id": "iq0kHGeTKGyB",
        "outputId": "7815129a-700f-43db-e845-f40e8210ad51"
      },
      "execution_count": null,
      "outputs": [
        {
          "output_type": "display_data",
          "data": {
            "text/plain": [
              "<Figure size 432x288 with 1 Axes>"
            ],
            "image/png": "[encoded data removed]"
          },
          "metadata": {
            "needs_background": "light"
          }
        }
      ]
    },
    {
      "cell_type": "code",
      "source": [
        "dataset_path='/content/drive/MyDrive/datasets/classification/test'\n",
        "idg=ImageDataGenerator(\n",
        "    \n",
        "    rescale=1./255,\n",
        "\n",
        "\n",
        ")\n",
        "\n",
        "test_data=idg.flow_from_directory(\n",
        "    dataset_path,\n",
        "    target_size=(width,height),\n",
        "   \n",
        "    class_mode='categorical',\n",
        "    \n",
        "\n",
        "\n",
        ")"
      ],
      "metadata": {
        "id": "tan9VTofaPME",
        "colab": {
          "base_uri": "https://localhost:8080/"
        },
        "outputId": "33451b97-e364-4f2a-9a22-1a142092eac4"
      },
      "execution_count": null,
      "outputs": [
        {
          "output_type": "stream",
          "name": "stdout",
          "text": [
            "Found 115 images belonging to 4 classes.\n"
          ]
        }
      ]
    },
    {
      "cell_type": "code",
      "source": [
        "#test\n",
        "test_result=model.evaluate(test_data)\n"
      ],
      "metadata": {
        "id": "0SNt-xM1V-Ji",
        "colab": {
          "base_uri": "https://localhost:8080/"
        },
        "outputId": "7f244a7c-f8e4-48b6-fa92-cc59f30c2cd0"
      },
      "execution_count": null,
      "outputs": [
        {
          "output_type": "stream",
          "name": "stdout",
          "text": [
            "4/4 [==============================] - 1s 117ms/step - loss: 0.3490 - accuracy: 0.8696\n"
          ]
        }
      ]
    },
    {
      "cell_type": "code",
      "source": [
        "print(test_result)"
      ],
      "metadata": {
        "id": "rZlPRWdFPkkF",
        "outputId": "5117f711-08a4-40b3-9288-e46d18558fe0",
        "colab": {
          "base_uri": "https://localhost:8080/"
        }
      },
      "execution_count": null,
      "outputs": [
        {
          "output_type": "stream",
          "name": "stdout",
          "text": [
            "[0.34895989298820496, 0.8695651888847351]\n"
          ]
        }
      ]
    },
    {
      "cell_type": "code",
      "source": [
        "image=cv2.imread('/content/drive/MyDrive/datasets/classification/house/suburban-house-royalty-free-image-1584972559.jpg')\n",
        "image=cv2.cvtColor(image,cv2.COLOR_BGR2RGB)\n",
        "image=cv2.resize(image,(width,height))\n",
        "image=image/255.0\n",
        "image=image.reshape(1,width,height,3)\n",
        "\n",
        "result=model.predict(image)\n",
        "\n",
        "pred=np.argmax(result)\n",
        "\n",
        "if pred==0:\n",
        "  print('car')\n",
        "elif pred==1:\n",
        "  print('dress')\n",
        "elif pred==2:\n",
        "  print('house')\n",
        "else:\n",
        "  print('pizza')  \n",
        "\n"
      ],
      "metadata": {
        "id": "EElDyh49aOE4",
        "colab": {
          "base_uri": "https://localhost:8080/"
        },
        "outputId": "fd29e356-9cd3-498a-bb94-40f64695db34"
      },
      "execution_count": null,
      "outputs": [
        {
          "output_type": "stream",
          "name": "stdout",
          "text": [
            "house\n"
          ]
        }
      ]
    },
    {
      "cell_type": "code",
      "source": [
        "def plot_confusion_matrix(cm, classes, normalize=True, title='Confusion matrix', cmap=plt.cm.Blues):\n",
        "  plt.figure(figsize=(6,6))\n",
        "  plt.imshow(cm, interpolation='nearest', cmap=cmap)\n",
        "  plt.title(title)\n",
        "  plt.colorbar()\n",
        "  tick_marks = np.arange(len(classes))\n",
        "  plt.xticks(tick_marks, classes, rotation=45)\n",
        "  plt.yticks(tick_marks, classes)\n",
        "\n",
        "  if normalize:\n",
        "        cm = cm.astype('float') / cm.sum(axis=1)[:, np.newaxis]\n",
        "        cm = np.around(cm, decimals=2)\n",
        "        cm[np.isnan(cm)] = 0.0\n",
        "        print(\"Normalized confusion matrix\")\n",
        "  else:\n",
        "        print('Confusion matrix, without normalization')\n",
        "\n",
        "  thresh = cm.max() / 2.\n",
        "  for i, j in itertools.product(range(cm.shape[0]), range(cm.shape[1])):\n",
        "      plt.text(j, i, cm[i, j],\n",
        "                horizontalalignment=\"center\",\n",
        "                color=\"white\" if cm[i, j] > thresh else \"black\")\n",
        "      \n",
        "  plt.tight_layout()\n",
        "  plt.ylabel('True label')\n",
        "  plt.xlabel('Predicted label')    "
      ],
      "metadata": {
        "id": "W0shoFO0rboI"
      },
      "execution_count": null,
      "outputs": []
    },
    {
      "cell_type": "code",
      "source": [
        "target_names = []\n",
        "\n",
        "for key in train_data.class_indices:\n",
        "    target_names.append(key)\n",
        "\n",
        "print(target_names)"
      ],
      "metadata": {
        "colab": {
          "base_uri": "https://localhost:8080/"
        },
        "id": "j3cXUOnEs38x",
        "outputId": "aa85fb35-26dd-4121-f8fc-f20a921a5bba"
      },
      "execution_count": null,
      "outputs": [
        {
          "output_type": "stream",
          "name": "stdout",
          "text": [
            "['cars', 'dress', 'house', 'pizza']\n"
          ]
        }
      ]
    },
    {
      "cell_type": "code",
      "source": [
        "#confusion mattix\n",
        "\n",
        "Y_pred = model.predict(test_data)\n",
        "y_pred = np.argmax(Y_pred, axis=1)\n",
        "\n",
        "print('Confusion Matrix')\n",
        "\n",
        "cm = confusion_matrix(test_data.classes, y_pred)\n",
        "plot_confusion_matrix(cm, target_names, title='Confusion Matrix', normalize=True)"
      ],
      "metadata": {
        "colab": {
          "base_uri": "https://localhost:8080/",
          "height": 472
        },
        "id": "LNbG_A9c2OL_",
        "outputId": "8d8421c8-97d5-45e4-9583-c6ab6f579aa2"
      },
      "execution_count": null,
      "outputs": [
        {
          "output_type": "stream",
          "name": "stdout",
          "text": [
            "Confusion Matrix\n",
            "Normalized confusion matrix\n"
          ]
        },
        {
          "output_type": "display_data",
          "data": {
            "text/plain": [
              "<Figure size 432x432 with 2 Axes>"
            ],
            "image/png": "[encoded data removed]"
          },
          "metadata": {
            "needs_background": "light"
          }
        }
      ]
    }
  ]
}