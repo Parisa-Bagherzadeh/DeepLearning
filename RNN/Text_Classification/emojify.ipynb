{
  "nbformat": 4,
  "nbformat_minor": 0,
  "metadata": {
    "colab": {
      "provenance": []
    },
    "kernelspec": {
      "name": "python3",
      "display_name": "Python 3"
    },
    "language_info": {
      "name": "python"
    },
    "accelerator": "GPU",
    "gpuClass": "standard"
  },
  "cells": [
    {
      "cell_type": "code",
      "execution_count": 41,
      "metadata": {
        "id": "J2js3hKba2l9"
      },
      "outputs": [],
      "source": [
        "import pandas as pd\n",
        "import numpy as np\n",
        "import tensorflow as tf\n",
        "from tensorflow.keras.models import Model\n",
        "from tensorflow.keras.layers import Dense, Dropout, LSTM\n",
        "from tensorflow.keras.preprocessing import sequence\n"
      ]
    },
    {
      "cell_type": "code",
      "source": [
        "def read_csv(filename):\n",
        "  data_frame = pd.read_csv(filename)\n",
        "  X = np.asarray(data_frame['sentence'])\n",
        "  Y = np.asarray(data_frame['label'], dtype = int)\n",
        "  return X, Y\n",
        "\n"
      ],
      "metadata": {
        "id": "OOTQFzCMbmxh"
      },
      "execution_count": 42,
      "outputs": []
    },
    {
      "cell_type": "code",
      "source": [
        "X_train, Y_train = read_csv('train.csv')\n",
        "X_test, Y_test = read_csv('test.csv')\n",
        "\n"
      ],
      "metadata": {
        "id": "4WMeZkdVcq3W"
      },
      "execution_count": 43,
      "outputs": []
    },
    {
      "cell_type": "code",
      "source": [
        "def label_to_emoji(label):\n",
        "  emojies = ['❤️','⚾️','😄','😔','🍴']\n",
        "  return emojies[label]\n"
      ],
      "metadata": {
        "id": "58Mtaw_nbcD9"
      },
      "execution_count": 44,
      "outputs": []
    },
    {
      "cell_type": "code",
      "source": [
        "index = 5\n",
        "print(X_train[index], label_to_emoji(Y_train[index]))"
      ],
      "metadata": {
        "id": "v_2kUwT_dgaS",
        "colab": {
          "base_uri": "https://localhost:8080/"
        },
        "outputId": "830c95d4-e8f9-47cb-8359-6ffc82fc5dba"
      },
      "execution_count": 45,
      "outputs": [
        {
          "output_type": "stream",
          "name": "stdout",
          "text": [
            "I love you mum ❤️\n"
          ]
        }
      ]
    },
    {
      "cell_type": "code",
      "source": [
        "max_len = len(max(X_train, key = len).split(' '))\n",
        "max_len"
      ],
      "metadata": {
        "id": "TkAMC2MDeN5L",
        "colab": {
          "base_uri": "https://localhost:8080/"
        },
        "outputId": "8345f434-6464-4b30-edef-6d62fc064a88"
      },
      "execution_count": 46,
      "outputs": [
        {
          "output_type": "execute_result",
          "data": {
            "text/plain": [
              "10"
            ]
          },
          "metadata": {},
          "execution_count": 46
        }
      ]
    },
    {
      "cell_type": "markdown",
      "source": [
        "## Emojifier-V1"
      ],
      "metadata": {
        "id": "PMa_43RovLdK"
      }
    },
    {
      "cell_type": "code",
      "source": [
        "# One hot encoding (lenght = 5)\n",
        "Y_train_oh = tf.keras.utils.to_categorical(Y_train, 5)\n",
        "Y_test_oh = tf.keras.utils.to_categorical(Y_test, 5)\n"
      ],
      "metadata": {
        "id": "Tl9n9zaseVbV"
      },
      "execution_count": 47,
      "outputs": []
    },
    {
      "cell_type": "code",
      "source": [
        "index = 7\n",
        "print(Y_train[index], 'is converted into one hot : ', Y_train_oh[index])"
      ],
      "metadata": {
        "id": "FuC8FEl7fvKQ",
        "colab": {
          "base_uri": "https://localhost:8080/"
        },
        "outputId": "70dc776a-6a69-466f-8fcc-c9fe09a8fb92"
      },
      "execution_count": 48,
      "outputs": [
        {
          "output_type": "stream",
          "name": "stdout",
          "text": [
            "2 is converted into one hot :  [0. 0. 1. 0. 0.]\n"
          ]
        }
      ]
    },
    {
      "cell_type": "code",
      "source": [
        "!wget http://nlp.stanford.edu/data/glove.6B.zip\n",
        "!unzip -q glove.6B.zip -d glove.6B"
      ],
      "metadata": {
        "id": "C-twrHS0hm7I"
      },
      "execution_count": null,
      "outputs": []
    },
    {
      "cell_type": "code",
      "source": [
        "def read_glove_vectors(glove_file):\n",
        "  f = open(glove_file, encoding = 'utf8')\n",
        "\n",
        "  words = set()\n",
        "  words_to_vec = dict()\n",
        "  for line in f:\n",
        "    line = line.strip().split()\n",
        "    word = line[0]\n",
        "    vec = line[1:]\n",
        "    words.add(word)\n",
        "    words_to_vec[word] = np.array(vec, dtype = np.float64)\n",
        "\n",
        "  return words_to_vec  \n",
        "\n",
        "\n"
      ],
      "metadata": {
        "id": "yY01pVwIj3Dl"
      },
      "execution_count": 50,
      "outputs": []
    },
    {
      "cell_type": "code",
      "source": [
        "words_to_vec = read_glove_vectors('/content/glove.6B/glove.6B.50d.txt')"
      ],
      "metadata": {
        "id": "1gcB6H2yl43E"
      },
      "execution_count": 51,
      "outputs": []
    },
    {
      "cell_type": "code",
      "source": [
        "words_to_vec['hello']\n"
      ],
      "metadata": {
        "id": "s7v1kVeUmDI0",
        "colab": {
          "base_uri": "https://localhost:8080/"
        },
        "outputId": "41d8fb07-4978-4b7f-cf3f-93bea5353d81"
      },
      "execution_count": 52,
      "outputs": [
        {
          "output_type": "execute_result",
          "data": {
            "text/plain": [
              "array([-0.38497 ,  0.80092 ,  0.064106, -0.28355 , -0.026759, -0.34532 ,\n",
              "       -0.64253 , -0.11729 , -0.33257 ,  0.55243 , -0.087813,  0.9035  ,\n",
              "        0.47102 ,  0.56657 ,  0.6985  , -0.35229 , -0.86542 ,  0.90573 ,\n",
              "        0.03576 , -0.071705, -0.12327 ,  0.54923 ,  0.47005 ,  0.35572 ,\n",
              "        1.2611  , -0.67581 , -0.94983 ,  0.68666 ,  0.3871  , -1.3492  ,\n",
              "        0.63512 ,  0.46416 , -0.48814 ,  0.83827 , -0.9246  , -0.33722 ,\n",
              "        0.53741 , -1.0616  , -0.081403, -0.67111 ,  0.30923 , -0.3923  ,\n",
              "       -0.55002 , -0.68827 ,  0.58049 , -0.11626 ,  0.013139, -0.57654 ,\n",
              "        0.048833,  0.67204 ])"
            ]
          },
          "metadata": {},
          "execution_count": 52
        }
      ]
    },
    {
      "cell_type": "code",
      "source": [
        "def sentence_to_avg(sentence):\n",
        "  words = sentence.lower().split()\n",
        "  sum_vectors = np.zeros((50,))\n",
        "  for w in words:\n",
        "    sum_vectors += words_to_vec[w]\n",
        "\n",
        "  avg_vectors = sum_vectors / len(words)\n",
        "  return avg_vectors\n",
        "    "
      ],
      "metadata": {
        "id": "uFtAGcM8jOuO"
      },
      "execution_count": 53,
      "outputs": []
    },
    {
      "cell_type": "code",
      "source": [
        "sentence_to_avg('Pasta is my favorite food')\n"
      ],
      "metadata": {
        "id": "IrUDEVhtnbD8",
        "colab": {
          "base_uri": "https://localhost:8080/"
        },
        "outputId": "79cb6d0d-a139-483e-eb84-666bb3560014"
      },
      "execution_count": 54,
      "outputs": [
        {
          "output_type": "execute_result",
          "data": {
            "text/plain": [
              "array([ 0.242832  ,  0.370774  , -0.524396  ,  0.018644  ,  0.568756  ,\n",
              "        0.0219878 , -0.48206322, -0.152204  ,  0.235412  ,  0.1979466 ,\n",
              "       -0.178818  ,  0.3203976 ,  0.3379962 ,  0.1399654 ,  0.56775044,\n",
              "        0.118648  , -0.04531252,  0.335416  ,  0.149832  , -0.522814  ,\n",
              "        0.095746  , -0.0468764 ,  0.5508066 ,  0.39369132,  0.275182  ,\n",
              "       -1.275018  , -0.76076   ,  0.449102  ,  0.7542772 , -0.2332608 ,\n",
              "        2.82554   ,  0.287742  , -0.325976  ,  0.608572  , -0.020543  ,\n",
              "        0.286476  , -0.24984   ,  0.899408  ,  0.38995   , -0.270266  ,\n",
              "        0.3004734 ,  0.315962  , -0.2408782 ,  0.1586226 ,  0.5400462 ,\n",
              "        0.412066  , -0.1657008 , -0.253566  ,  0.3091806 ,  0.371192  ])"
            ]
          },
          "metadata": {},
          "execution_count": 54
        }
      ]
    },
    {
      "cell_type": "code",
      "source": [
        "X_train_avg = []\n",
        "for i in range(X_train.shape[0]):\n",
        "  X_train_avg.append(sentence_to_avg(X_train[i]))\n",
        "\n",
        "X_train_avg = np.array(X_train_avg)\n",
        "\n"
      ],
      "metadata": {
        "id": "nb4BXNxSE6HS"
      },
      "execution_count": 55,
      "outputs": []
    },
    {
      "cell_type": "code",
      "source": [
        "print(X_train_avg.shape)\n",
        "print(Y_train_oh.shape)\n"
      ],
      "metadata": {
        "id": "OUxOJwrVoXaw",
        "colab": {
          "base_uri": "https://localhost:8080/"
        },
        "outputId": "05aac230-53eb-4623-d91c-b18c8a3d6011"
      },
      "execution_count": 56,
      "outputs": [
        {
          "output_type": "stream",
          "name": "stdout",
          "text": [
            "(132, 50)\n",
            "(132, 5)\n"
          ]
        }
      ]
    },
    {
      "cell_type": "code",
      "source": [
        "class EmojiNet_V1(Model):\n",
        "  def __init__(self):\n",
        "    super().__init__()\n",
        "    self.dense = Dense(5, input_shape = (50,), activation = 'softmax')\n",
        "\n",
        "  def call(self,x):\n",
        "    x = self.dense(x)\n",
        "    return x \n"
      ],
      "metadata": {
        "id": "cpDYffKaI2UE"
      },
      "execution_count": 57,
      "outputs": []
    },
    {
      "cell_type": "code",
      "source": [
        "model_v1 = EmojiNet_V1()\n"
      ],
      "metadata": {
        "id": "xzGtsdF0JN1F"
      },
      "execution_count": 58,
      "outputs": []
    },
    {
      "cell_type": "code",
      "source": [
        "model_v1.compile(optimizer = tf.keras.optimizers.Adam(),\n",
        "                 loss = 'categorical_crossentropy',\n",
        "                 metrics = ['accuracy'])"
      ],
      "metadata": {
        "id": "pvlCSOGiJVeR"
      },
      "execution_count": 59,
      "outputs": []
    },
    {
      "cell_type": "code",
      "source": [
        "model_v1.fit(X_train_avg, Y_train_oh, epochs = 400, shuffle = True)"
      ],
      "metadata": {
        "colab": {
          "base_uri": "https://localhost:8080/"
        },
        "id": "Yc611cKSJvCo",
        "outputId": "60a75a49-c443-4132-c089-8de7fbe97da4"
      },
      "execution_count": 60,
      "outputs": [
        {
          "output_type": "stream",
          "name": "stdout",
          "text": [
            "Epoch 1/400\n",
            "5/5 [==============================] - 0s 4ms/step - loss: 1.7684 - accuracy: 0.1818\n",
            "Epoch 2/400\n",
            "5/5 [==============================] - 0s 3ms/step - loss: 1.7395 - accuracy: 0.1894\n",
            "Epoch 3/400\n",
            "5/5 [==============================] - 0s 3ms/step - loss: 1.7144 - accuracy: 0.1970\n",
            "Epoch 4/400\n",
            "5/5 [==============================] - 0s 3ms/step - loss: 1.6948 - accuracy: 0.2273\n",
            "Epoch 5/400\n",
            "5/5 [==============================] - 0s 3ms/step - loss: 1.6748 - accuracy: 0.2576\n",
            "Epoch 6/400\n",
            "5/5 [==============================] - 0s 3ms/step - loss: 1.6572 - accuracy: 0.2727\n",
            "Epoch 7/400\n",
            "5/5 [==============================] - 0s 3ms/step - loss: 1.6413 - accuracy: 0.2803\n",
            "Epoch 8/400\n",
            "5/5 [==============================] - 0s 3ms/step - loss: 1.6275 - accuracy: 0.2879\n",
            "Epoch 9/400\n",
            "5/5 [==============================] - 0s 3ms/step - loss: 1.6161 - accuracy: 0.2879\n",
            "Epoch 10/400\n",
            "5/5 [==============================] - 0s 4ms/step - loss: 1.6051 - accuracy: 0.2879\n",
            "Epoch 11/400\n",
            "5/5 [==============================] - 0s 3ms/step - loss: 1.5941 - accuracy: 0.2955\n",
            "Epoch 12/400\n",
            "5/5 [==============================] - 0s 3ms/step - loss: 1.5832 - accuracy: 0.3182\n",
            "Epoch 13/400\n",
            "5/5 [==============================] - 0s 3ms/step - loss: 1.5720 - accuracy: 0.3409\n",
            "Epoch 14/400\n",
            "5/5 [==============================] - 0s 3ms/step - loss: 1.5607 - accuracy: 0.3409\n",
            "Epoch 15/400\n",
            "5/5 [==============================] - 0s 3ms/step - loss: 1.5501 - accuracy: 0.3333\n",
            "Epoch 16/400\n",
            "5/5 [==============================] - 0s 3ms/step - loss: 1.5398 - accuracy: 0.3333\n",
            "Epoch 17/400\n",
            "5/5 [==============================] - 0s 3ms/step - loss: 1.5296 - accuracy: 0.3258\n",
            "Epoch 18/400\n",
            "5/5 [==============================] - 0s 3ms/step - loss: 1.5200 - accuracy: 0.3333\n",
            "Epoch 19/400\n",
            "5/5 [==============================] - 0s 4ms/step - loss: 1.5105 - accuracy: 0.3409\n",
            "Epoch 20/400\n",
            "5/5 [==============================] - 0s 3ms/step - loss: 1.5033 - accuracy: 0.3409\n",
            "Epoch 21/400\n",
            "5/5 [==============================] - 0s 3ms/step - loss: 1.4940 - accuracy: 0.3485\n",
            "Epoch 22/400\n",
            "5/5 [==============================] - 0s 3ms/step - loss: 1.4862 - accuracy: 0.3561\n",
            "Epoch 23/400\n",
            "5/5 [==============================] - 0s 3ms/step - loss: 1.4779 - accuracy: 0.3636\n",
            "Epoch 24/400\n",
            "5/5 [==============================] - 0s 3ms/step - loss: 1.4700 - accuracy: 0.3636\n",
            "Epoch 25/400\n",
            "5/5 [==============================] - 0s 4ms/step - loss: 1.4627 - accuracy: 0.3561\n",
            "Epoch 26/400\n",
            "5/5 [==============================] - 0s 4ms/step - loss: 1.4551 - accuracy: 0.3636\n",
            "Epoch 27/400\n",
            "5/5 [==============================] - 0s 3ms/step - loss: 1.4467 - accuracy: 0.3788\n",
            "Epoch 28/400\n",
            "5/5 [==============================] - 0s 4ms/step - loss: 1.4385 - accuracy: 0.3788\n",
            "Epoch 29/400\n",
            "5/5 [==============================] - 0s 3ms/step - loss: 1.4312 - accuracy: 0.3788\n",
            "Epoch 30/400\n",
            "5/5 [==============================] - 0s 3ms/step - loss: 1.4226 - accuracy: 0.3939\n",
            "Epoch 31/400\n",
            "5/5 [==============================] - 0s 3ms/step - loss: 1.4153 - accuracy: 0.3939\n",
            "Epoch 32/400\n",
            "5/5 [==============================] - 0s 3ms/step - loss: 1.4077 - accuracy: 0.3939\n",
            "Epoch 33/400\n",
            "5/5 [==============================] - 0s 3ms/step - loss: 1.3997 - accuracy: 0.3939\n",
            "Epoch 34/400\n",
            "5/5 [==============================] - 0s 3ms/step - loss: 1.3926 - accuracy: 0.3939\n",
            "Epoch 35/400\n",
            "5/5 [==============================] - 0s 3ms/step - loss: 1.3846 - accuracy: 0.3939\n",
            "Epoch 36/400\n",
            "5/5 [==============================] - 0s 3ms/step - loss: 1.3769 - accuracy: 0.3939\n",
            "Epoch 37/400\n",
            "5/5 [==============================] - 0s 4ms/step - loss: 1.3697 - accuracy: 0.3939\n",
            "Epoch 38/400\n",
            "5/5 [==============================] - 0s 3ms/step - loss: 1.3624 - accuracy: 0.4167\n",
            "Epoch 39/400\n",
            "5/5 [==============================] - 0s 3ms/step - loss: 1.3551 - accuracy: 0.4167\n",
            "Epoch 40/400\n",
            "5/5 [==============================] - 0s 5ms/step - loss: 1.3482 - accuracy: 0.4167\n",
            "Epoch 41/400\n",
            "5/5 [==============================] - 0s 3ms/step - loss: 1.3408 - accuracy: 0.4394\n",
            "Epoch 42/400\n",
            "5/5 [==============================] - 0s 3ms/step - loss: 1.3344 - accuracy: 0.4470\n",
            "Epoch 43/400\n",
            "5/5 [==============================] - 0s 3ms/step - loss: 1.3274 - accuracy: 0.4545\n",
            "Epoch 44/400\n",
            "5/5 [==============================] - 0s 3ms/step - loss: 1.3203 - accuracy: 0.4545\n",
            "Epoch 45/400\n",
            "5/5 [==============================] - 0s 3ms/step - loss: 1.3137 - accuracy: 0.4621\n",
            "Epoch 46/400\n",
            "5/5 [==============================] - 0s 3ms/step - loss: 1.3074 - accuracy: 0.4697\n",
            "Epoch 47/400\n",
            "5/5 [==============================] - 0s 3ms/step - loss: 1.3005 - accuracy: 0.4697\n",
            "Epoch 48/400\n",
            "5/5 [==============================] - 0s 3ms/step - loss: 1.2941 - accuracy: 0.4697\n",
            "Epoch 49/400\n",
            "5/5 [==============================] - 0s 3ms/step - loss: 1.2875 - accuracy: 0.4697\n",
            "Epoch 50/400\n",
            "5/5 [==============================] - 0s 3ms/step - loss: 1.2809 - accuracy: 0.4848\n",
            "Epoch 51/400\n",
            "5/5 [==============================] - 0s 5ms/step - loss: 1.2745 - accuracy: 0.4924\n",
            "Epoch 52/400\n",
            "5/5 [==============================] - 0s 4ms/step - loss: 1.2683 - accuracy: 0.4848\n",
            "Epoch 53/400\n",
            "5/5 [==============================] - 0s 3ms/step - loss: 1.2620 - accuracy: 0.5000\n",
            "Epoch 54/400\n",
            "5/5 [==============================] - 0s 4ms/step - loss: 1.2561 - accuracy: 0.5000\n",
            "Epoch 55/400\n",
            "5/5 [==============================] - 0s 3ms/step - loss: 1.2502 - accuracy: 0.5076\n",
            "Epoch 56/400\n",
            "5/5 [==============================] - 0s 3ms/step - loss: 1.2442 - accuracy: 0.5152\n",
            "Epoch 57/400\n",
            "5/5 [==============================] - 0s 3ms/step - loss: 1.2387 - accuracy: 0.5227\n",
            "Epoch 58/400\n",
            "5/5 [==============================] - 0s 3ms/step - loss: 1.2331 - accuracy: 0.5303\n",
            "Epoch 59/400\n",
            "5/5 [==============================] - 0s 3ms/step - loss: 1.2279 - accuracy: 0.5379\n",
            "Epoch 60/400\n",
            "5/5 [==============================] - 0s 3ms/step - loss: 1.2221 - accuracy: 0.5455\n",
            "Epoch 61/400\n",
            "5/5 [==============================] - 0s 3ms/step - loss: 1.2164 - accuracy: 0.5530\n",
            "Epoch 62/400\n",
            "5/5 [==============================] - 0s 3ms/step - loss: 1.2105 - accuracy: 0.5530\n",
            "Epoch 63/400\n",
            "5/5 [==============================] - 0s 3ms/step - loss: 1.2048 - accuracy: 0.5530\n",
            "Epoch 64/400\n",
            "5/5 [==============================] - 0s 3ms/step - loss: 1.1993 - accuracy: 0.5530\n",
            "Epoch 65/400\n",
            "5/5 [==============================] - 0s 3ms/step - loss: 1.1939 - accuracy: 0.5379\n",
            "Epoch 66/400\n",
            "5/5 [==============================] - 0s 3ms/step - loss: 1.1886 - accuracy: 0.5455\n",
            "Epoch 67/400\n",
            "5/5 [==============================] - 0s 3ms/step - loss: 1.1833 - accuracy: 0.5455\n",
            "Epoch 68/400\n",
            "5/5 [==============================] - 0s 3ms/step - loss: 1.1784 - accuracy: 0.5530\n",
            "Epoch 69/400\n",
            "5/5 [==============================] - 0s 3ms/step - loss: 1.1733 - accuracy: 0.5758\n",
            "Epoch 70/400\n",
            "5/5 [==============================] - 0s 3ms/step - loss: 1.1681 - accuracy: 0.5682\n",
            "Epoch 71/400\n",
            "5/5 [==============================] - 0s 3ms/step - loss: 1.1625 - accuracy: 0.5833\n",
            "Epoch 72/400\n",
            "5/5 [==============================] - 0s 3ms/step - loss: 1.1575 - accuracy: 0.5758\n",
            "Epoch 73/400\n",
            "5/5 [==============================] - 0s 3ms/step - loss: 1.1524 - accuracy: 0.5758\n",
            "Epoch 74/400\n",
            "5/5 [==============================] - 0s 3ms/step - loss: 1.1477 - accuracy: 0.5758\n",
            "Epoch 75/400\n",
            "5/5 [==============================] - 0s 4ms/step - loss: 1.1436 - accuracy: 0.5758\n",
            "Epoch 76/400\n",
            "5/5 [==============================] - 0s 3ms/step - loss: 1.1390 - accuracy: 0.5909\n",
            "Epoch 77/400\n",
            "5/5 [==============================] - 0s 4ms/step - loss: 1.1352 - accuracy: 0.6061\n",
            "Epoch 78/400\n",
            "5/5 [==============================] - 0s 3ms/step - loss: 1.1306 - accuracy: 0.5985\n",
            "Epoch 79/400\n",
            "5/5 [==============================] - 0s 3ms/step - loss: 1.1263 - accuracy: 0.5985\n",
            "Epoch 80/400\n",
            "5/5 [==============================] - 0s 4ms/step - loss: 1.1211 - accuracy: 0.5909\n",
            "Epoch 81/400\n",
            "5/5 [==============================] - 0s 3ms/step - loss: 1.1160 - accuracy: 0.5985\n",
            "Epoch 82/400\n",
            "5/5 [==============================] - 0s 3ms/step - loss: 1.1112 - accuracy: 0.5985\n",
            "Epoch 83/400\n",
            "5/5 [==============================] - 0s 3ms/step - loss: 1.1065 - accuracy: 0.6136\n",
            "Epoch 84/400\n",
            "5/5 [==============================] - 0s 3ms/step - loss: 1.1021 - accuracy: 0.6136\n",
            "Epoch 85/400\n",
            "5/5 [==============================] - 0s 3ms/step - loss: 1.0976 - accuracy: 0.6136\n",
            "Epoch 86/400\n",
            "5/5 [==============================] - 0s 3ms/step - loss: 1.0936 - accuracy: 0.6288\n",
            "Epoch 87/400\n",
            "5/5 [==============================] - 0s 3ms/step - loss: 1.0894 - accuracy: 0.6364\n",
            "Epoch 88/400\n",
            "5/5 [==============================] - 0s 3ms/step - loss: 1.0847 - accuracy: 0.6364\n",
            "Epoch 89/400\n",
            "5/5 [==============================] - 0s 3ms/step - loss: 1.0802 - accuracy: 0.6364\n",
            "Epoch 90/400\n",
            "5/5 [==============================] - 0s 3ms/step - loss: 1.0767 - accuracy: 0.6439\n",
            "Epoch 91/400\n",
            "5/5 [==============================] - 0s 3ms/step - loss: 1.0722 - accuracy: 0.6439\n",
            "Epoch 92/400\n",
            "5/5 [==============================] - 0s 4ms/step - loss: 1.0680 - accuracy: 0.6515\n",
            "Epoch 93/400\n",
            "5/5 [==============================] - 0s 3ms/step - loss: 1.0637 - accuracy: 0.6667\n",
            "Epoch 94/400\n",
            "5/5 [==============================] - 0s 3ms/step - loss: 1.0596 - accuracy: 0.6818\n",
            "Epoch 95/400\n",
            "5/5 [==============================] - 0s 3ms/step - loss: 1.0557 - accuracy: 0.6742\n",
            "Epoch 96/400\n",
            "5/5 [==============================] - 0s 3ms/step - loss: 1.0520 - accuracy: 0.6591\n",
            "Epoch 97/400\n",
            "5/5 [==============================] - 0s 3ms/step - loss: 1.0482 - accuracy: 0.6591\n",
            "Epoch 98/400\n",
            "5/5 [==============================] - 0s 3ms/step - loss: 1.0445 - accuracy: 0.6742\n",
            "Epoch 99/400\n",
            "5/5 [==============================] - 0s 3ms/step - loss: 1.0410 - accuracy: 0.6667\n",
            "Epoch 100/400\n",
            "5/5 [==============================] - 0s 3ms/step - loss: 1.0377 - accuracy: 0.6818\n",
            "Epoch 101/400\n",
            "5/5 [==============================] - 0s 3ms/step - loss: 1.0339 - accuracy: 0.6818\n",
            "Epoch 102/400\n",
            "5/5 [==============================] - 0s 3ms/step - loss: 1.0306 - accuracy: 0.6742\n",
            "Epoch 103/400\n",
            "5/5 [==============================] - 0s 3ms/step - loss: 1.0267 - accuracy: 0.6818\n",
            "Epoch 104/400\n",
            "5/5 [==============================] - 0s 3ms/step - loss: 1.0232 - accuracy: 0.6742\n",
            "Epoch 105/400\n",
            "5/5 [==============================] - 0s 3ms/step - loss: 1.0189 - accuracy: 0.6894\n",
            "Epoch 106/400\n",
            "5/5 [==============================] - 0s 4ms/step - loss: 1.0155 - accuracy: 0.6970\n",
            "Epoch 107/400\n",
            "5/5 [==============================] - 0s 3ms/step - loss: 1.0118 - accuracy: 0.6970\n",
            "Epoch 108/400\n",
            "5/5 [==============================] - 0s 3ms/step - loss: 1.0083 - accuracy: 0.6970\n",
            "Epoch 109/400\n",
            "5/5 [==============================] - 0s 3ms/step - loss: 1.0048 - accuracy: 0.6970\n",
            "Epoch 110/400\n",
            "5/5 [==============================] - 0s 3ms/step - loss: 1.0012 - accuracy: 0.7045\n",
            "Epoch 111/400\n",
            "5/5 [==============================] - 0s 6ms/step - loss: 0.9976 - accuracy: 0.7045\n",
            "Epoch 112/400\n",
            "5/5 [==============================] - 0s 3ms/step - loss: 0.9949 - accuracy: 0.7045\n",
            "Epoch 113/400\n",
            "5/5 [==============================] - 0s 3ms/step - loss: 0.9902 - accuracy: 0.7121\n",
            "Epoch 114/400\n",
            "5/5 [==============================] - 0s 5ms/step - loss: 0.9865 - accuracy: 0.7197\n",
            "Epoch 115/400\n",
            "5/5 [==============================] - 0s 3ms/step - loss: 0.9832 - accuracy: 0.7197\n",
            "Epoch 116/400\n",
            "5/5 [==============================] - 0s 3ms/step - loss: 0.9801 - accuracy: 0.7121\n",
            "Epoch 117/400\n",
            "5/5 [==============================] - 0s 3ms/step - loss: 0.9770 - accuracy: 0.7197\n",
            "Epoch 118/400\n",
            "5/5 [==============================] - 0s 3ms/step - loss: 0.9742 - accuracy: 0.7348\n",
            "Epoch 119/400\n",
            "5/5 [==============================] - 0s 3ms/step - loss: 0.9709 - accuracy: 0.7348\n",
            "Epoch 120/400\n",
            "5/5 [==============================] - 0s 3ms/step - loss: 0.9673 - accuracy: 0.7197\n",
            "Epoch 121/400\n",
            "5/5 [==============================] - 0s 3ms/step - loss: 0.9637 - accuracy: 0.7197\n",
            "Epoch 122/400\n",
            "5/5 [==============================] - 0s 3ms/step - loss: 0.9612 - accuracy: 0.7045\n",
            "Epoch 123/400\n",
            "5/5 [==============================] - 0s 4ms/step - loss: 0.9578 - accuracy: 0.7045\n",
            "Epoch 124/400\n",
            "5/5 [==============================] - 0s 3ms/step - loss: 0.9554 - accuracy: 0.7045\n",
            "Epoch 125/400\n",
            "5/5 [==============================] - 0s 3ms/step - loss: 0.9526 - accuracy: 0.7045\n",
            "Epoch 126/400\n",
            "5/5 [==============================] - 0s 3ms/step - loss: 0.9496 - accuracy: 0.7045\n",
            "Epoch 127/400\n",
            "5/5 [==============================] - 0s 3ms/step - loss: 0.9465 - accuracy: 0.7045\n",
            "Epoch 128/400\n",
            "5/5 [==============================] - 0s 4ms/step - loss: 0.9431 - accuracy: 0.7045\n",
            "Epoch 129/400\n",
            "5/5 [==============================] - 0s 3ms/step - loss: 0.9396 - accuracy: 0.6970\n",
            "Epoch 130/400\n",
            "5/5 [==============================] - 0s 3ms/step - loss: 0.9367 - accuracy: 0.6970\n",
            "Epoch 131/400\n",
            "5/5 [==============================] - 0s 4ms/step - loss: 0.9342 - accuracy: 0.7045\n",
            "Epoch 132/400\n",
            "5/5 [==============================] - 0s 4ms/step - loss: 0.9314 - accuracy: 0.7197\n",
            "Epoch 133/400\n",
            "5/5 [==============================] - 0s 4ms/step - loss: 0.9289 - accuracy: 0.7045\n",
            "Epoch 134/400\n",
            "5/5 [==============================] - 0s 4ms/step - loss: 0.9261 - accuracy: 0.7197\n",
            "Epoch 135/400\n",
            "5/5 [==============================] - 0s 4ms/step - loss: 0.9226 - accuracy: 0.7197\n",
            "Epoch 136/400\n",
            "5/5 [==============================] - 0s 3ms/step - loss: 0.9196 - accuracy: 0.7197\n",
            "Epoch 137/400\n",
            "5/5 [==============================] - 0s 4ms/step - loss: 0.9169 - accuracy: 0.7197\n",
            "Epoch 138/400\n",
            "5/5 [==============================] - 0s 4ms/step - loss: 0.9142 - accuracy: 0.7273\n",
            "Epoch 139/400\n",
            "5/5 [==============================] - 0s 4ms/step - loss: 0.9110 - accuracy: 0.7273\n",
            "Epoch 140/400\n",
            "5/5 [==============================] - 0s 3ms/step - loss: 0.9081 - accuracy: 0.7273\n",
            "Epoch 141/400\n",
            "5/5 [==============================] - 0s 3ms/step - loss: 0.9053 - accuracy: 0.7197\n",
            "Epoch 142/400\n",
            "5/5 [==============================] - 0s 3ms/step - loss: 0.9026 - accuracy: 0.7197\n",
            "Epoch 143/400\n",
            "5/5 [==============================] - 0s 4ms/step - loss: 0.8998 - accuracy: 0.7197\n",
            "Epoch 144/400\n",
            "5/5 [==============================] - 0s 4ms/step - loss: 0.8973 - accuracy: 0.7197\n",
            "Epoch 145/400\n",
            "5/5 [==============================] - 0s 4ms/step - loss: 0.8944 - accuracy: 0.7197\n",
            "Epoch 146/400\n",
            "5/5 [==============================] - 0s 3ms/step - loss: 0.8921 - accuracy: 0.7197\n",
            "Epoch 147/400\n",
            "5/5 [==============================] - 0s 3ms/step - loss: 0.8899 - accuracy: 0.7121\n",
            "Epoch 148/400\n",
            "5/5 [==============================] - 0s 3ms/step - loss: 0.8874 - accuracy: 0.7197\n",
            "Epoch 149/400\n",
            "5/5 [==============================] - 0s 4ms/step - loss: 0.8849 - accuracy: 0.7197\n",
            "Epoch 150/400\n",
            "5/5 [==============================] - 0s 3ms/step - loss: 0.8823 - accuracy: 0.7348\n",
            "Epoch 151/400\n",
            "5/5 [==============================] - 0s 4ms/step - loss: 0.8798 - accuracy: 0.7348\n",
            "Epoch 152/400\n",
            "5/5 [==============================] - 0s 3ms/step - loss: 0.8773 - accuracy: 0.7348\n",
            "Epoch 153/400\n",
            "5/5 [==============================] - 0s 3ms/step - loss: 0.8750 - accuracy: 0.7273\n",
            "Epoch 154/400\n",
            "5/5 [==============================] - 0s 4ms/step - loss: 0.8719 - accuracy: 0.7348\n",
            "Epoch 155/400\n",
            "5/5 [==============================] - 0s 3ms/step - loss: 0.8696 - accuracy: 0.7348\n",
            "Epoch 156/400\n",
            "5/5 [==============================] - 0s 3ms/step - loss: 0.8674 - accuracy: 0.7348\n",
            "Epoch 157/400\n",
            "5/5 [==============================] - 0s 3ms/step - loss: 0.8650 - accuracy: 0.7348\n",
            "Epoch 158/400\n",
            "5/5 [==============================] - 0s 3ms/step - loss: 0.8628 - accuracy: 0.7348\n",
            "Epoch 159/400\n",
            "5/5 [==============================] - 0s 4ms/step - loss: 0.8606 - accuracy: 0.7424\n",
            "Epoch 160/400\n",
            "5/5 [==============================] - 0s 3ms/step - loss: 0.8582 - accuracy: 0.7424\n",
            "Epoch 161/400\n",
            "5/5 [==============================] - 0s 3ms/step - loss: 0.8558 - accuracy: 0.7424\n",
            "Epoch 162/400\n",
            "5/5 [==============================] - 0s 3ms/step - loss: 0.8534 - accuracy: 0.7348\n",
            "Epoch 163/400\n",
            "5/5 [==============================] - 0s 3ms/step - loss: 0.8517 - accuracy: 0.7348\n",
            "Epoch 164/400\n",
            "5/5 [==============================] - 0s 3ms/step - loss: 0.8491 - accuracy: 0.7424\n",
            "Epoch 165/400\n",
            "5/5 [==============================] - 0s 4ms/step - loss: 0.8473 - accuracy: 0.7424\n",
            "Epoch 166/400\n",
            "5/5 [==============================] - 0s 4ms/step - loss: 0.8449 - accuracy: 0.7424\n",
            "Epoch 167/400\n",
            "5/5 [==============================] - 0s 4ms/step - loss: 0.8432 - accuracy: 0.7424\n",
            "Epoch 168/400\n",
            "5/5 [==============================] - 0s 3ms/step - loss: 0.8408 - accuracy: 0.7424\n",
            "Epoch 169/400\n",
            "5/5 [==============================] - 0s 3ms/step - loss: 0.8387 - accuracy: 0.7424\n",
            "Epoch 170/400\n",
            "5/5 [==============================] - 0s 4ms/step - loss: 0.8363 - accuracy: 0.7424\n",
            "Epoch 171/400\n",
            "5/5 [==============================] - 0s 3ms/step - loss: 0.8347 - accuracy: 0.7424\n",
            "Epoch 172/400\n",
            "5/5 [==============================] - 0s 4ms/step - loss: 0.8326 - accuracy: 0.7500\n",
            "Epoch 173/400\n",
            "5/5 [==============================] - 0s 4ms/step - loss: 0.8302 - accuracy: 0.7500\n",
            "Epoch 174/400\n",
            "5/5 [==============================] - 0s 3ms/step - loss: 0.8280 - accuracy: 0.7424\n",
            "Epoch 175/400\n",
            "5/5 [==============================] - 0s 4ms/step - loss: 0.8260 - accuracy: 0.7424\n",
            "Epoch 176/400\n",
            "5/5 [==============================] - 0s 3ms/step - loss: 0.8243 - accuracy: 0.7424\n",
            "Epoch 177/400\n",
            "5/5 [==============================] - 0s 3ms/step - loss: 0.8223 - accuracy: 0.7576\n",
            "Epoch 178/400\n",
            "5/5 [==============================] - 0s 3ms/step - loss: 0.8204 - accuracy: 0.7576\n",
            "Epoch 179/400\n",
            "5/5 [==============================] - 0s 4ms/step - loss: 0.8180 - accuracy: 0.7500\n",
            "Epoch 180/400\n",
            "5/5 [==============================] - 0s 4ms/step - loss: 0.8161 - accuracy: 0.7576\n",
            "Epoch 181/400\n",
            "5/5 [==============================] - 0s 4ms/step - loss: 0.8138 - accuracy: 0.7652\n",
            "Epoch 182/400\n",
            "5/5 [==============================] - 0s 4ms/step - loss: 0.8119 - accuracy: 0.7500\n",
            "Epoch 183/400\n",
            "5/5 [==============================] - 0s 5ms/step - loss: 0.8097 - accuracy: 0.7500\n",
            "Epoch 184/400\n",
            "5/5 [==============================] - 0s 3ms/step - loss: 0.8077 - accuracy: 0.7500\n",
            "Epoch 185/400\n",
            "5/5 [==============================] - 0s 3ms/step - loss: 0.8057 - accuracy: 0.7576\n",
            "Epoch 186/400\n",
            "5/5 [==============================] - 0s 3ms/step - loss: 0.8035 - accuracy: 0.7576\n",
            "Epoch 187/400\n",
            "5/5 [==============================] - 0s 3ms/step - loss: 0.8019 - accuracy: 0.7652\n",
            "Epoch 188/400\n",
            "5/5 [==============================] - 0s 3ms/step - loss: 0.7998 - accuracy: 0.7576\n",
            "Epoch 189/400\n",
            "5/5 [==============================] - 0s 3ms/step - loss: 0.7980 - accuracy: 0.7652\n",
            "Epoch 190/400\n",
            "5/5 [==============================] - 0s 4ms/step - loss: 0.7967 - accuracy: 0.7803\n",
            "Epoch 191/400\n",
            "5/5 [==============================] - 0s 4ms/step - loss: 0.7947 - accuracy: 0.7727\n",
            "Epoch 192/400\n",
            "5/5 [==============================] - 0s 3ms/step - loss: 0.7928 - accuracy: 0.7727\n",
            "Epoch 193/400\n",
            "5/5 [==============================] - 0s 4ms/step - loss: 0.7909 - accuracy: 0.7727\n",
            "Epoch 194/400\n",
            "5/5 [==============================] - 0s 3ms/step - loss: 0.7889 - accuracy: 0.7803\n",
            "Epoch 195/400\n",
            "5/5 [==============================] - 0s 3ms/step - loss: 0.7870 - accuracy: 0.7803\n",
            "Epoch 196/400\n",
            "5/5 [==============================] - 0s 4ms/step - loss: 0.7853 - accuracy: 0.7803\n",
            "Epoch 197/400\n",
            "5/5 [==============================] - 0s 3ms/step - loss: 0.7824 - accuracy: 0.7727\n",
            "Epoch 198/400\n",
            "5/5 [==============================] - 0s 3ms/step - loss: 0.7811 - accuracy: 0.7652\n",
            "Epoch 199/400\n",
            "5/5 [==============================] - 0s 4ms/step - loss: 0.7791 - accuracy: 0.7576\n",
            "Epoch 200/400\n",
            "5/5 [==============================] - 0s 4ms/step - loss: 0.7774 - accuracy: 0.7652\n",
            "Epoch 201/400\n",
            "5/5 [==============================] - 0s 4ms/step - loss: 0.7755 - accuracy: 0.7576\n",
            "Epoch 202/400\n",
            "5/5 [==============================] - 0s 3ms/step - loss: 0.7737 - accuracy: 0.7652\n",
            "Epoch 203/400\n",
            "5/5 [==============================] - 0s 4ms/step - loss: 0.7726 - accuracy: 0.7652\n",
            "Epoch 204/400\n",
            "5/5 [==============================] - 0s 3ms/step - loss: 0.7704 - accuracy: 0.7652\n",
            "Epoch 205/400\n",
            "5/5 [==============================] - 0s 3ms/step - loss: 0.7686 - accuracy: 0.7652\n",
            "Epoch 206/400\n",
            "5/5 [==============================] - 0s 3ms/step - loss: 0.7668 - accuracy: 0.7652\n",
            "Epoch 207/400\n",
            "5/5 [==============================] - 0s 3ms/step - loss: 0.7652 - accuracy: 0.7727\n",
            "Epoch 208/400\n",
            "5/5 [==============================] - 0s 4ms/step - loss: 0.7636 - accuracy: 0.7803\n",
            "Epoch 209/400\n",
            "5/5 [==============================] - 0s 3ms/step - loss: 0.7617 - accuracy: 0.7955\n",
            "Epoch 210/400\n",
            "5/5 [==============================] - 0s 3ms/step - loss: 0.7603 - accuracy: 0.8030\n",
            "Epoch 211/400\n",
            "5/5 [==============================] - 0s 4ms/step - loss: 0.7592 - accuracy: 0.8182\n",
            "Epoch 212/400\n",
            "5/5 [==============================] - 0s 3ms/step - loss: 0.7573 - accuracy: 0.8106\n",
            "Epoch 213/400\n",
            "5/5 [==============================] - 0s 4ms/step - loss: 0.7555 - accuracy: 0.8106\n",
            "Epoch 214/400\n",
            "5/5 [==============================] - 0s 3ms/step - loss: 0.7541 - accuracy: 0.8106\n",
            "Epoch 215/400\n",
            "5/5 [==============================] - 0s 4ms/step - loss: 0.7527 - accuracy: 0.8030\n",
            "Epoch 216/400\n",
            "5/5 [==============================] - 0s 3ms/step - loss: 0.7512 - accuracy: 0.8182\n",
            "Epoch 217/400\n",
            "5/5 [==============================] - 0s 4ms/step - loss: 0.7500 - accuracy: 0.8182\n",
            "Epoch 218/400\n",
            "5/5 [==============================] - 0s 4ms/step - loss: 0.7485 - accuracy: 0.8182\n",
            "Epoch 219/400\n",
            "5/5 [==============================] - 0s 4ms/step - loss: 0.7470 - accuracy: 0.8258\n",
            "Epoch 220/400\n",
            "5/5 [==============================] - 0s 4ms/step - loss: 0.7454 - accuracy: 0.8258\n",
            "Epoch 221/400\n",
            "5/5 [==============================] - 0s 4ms/step - loss: 0.7431 - accuracy: 0.8182\n",
            "Epoch 222/400\n",
            "5/5 [==============================] - 0s 4ms/step - loss: 0.7418 - accuracy: 0.7879\n",
            "Epoch 223/400\n",
            "5/5 [==============================] - 0s 4ms/step - loss: 0.7403 - accuracy: 0.7955\n",
            "Epoch 224/400\n",
            "5/5 [==============================] - 0s 4ms/step - loss: 0.7385 - accuracy: 0.8106\n",
            "Epoch 225/400\n",
            "5/5 [==============================] - 0s 4ms/step - loss: 0.7372 - accuracy: 0.8030\n",
            "Epoch 226/400\n",
            "5/5 [==============================] - 0s 4ms/step - loss: 0.7355 - accuracy: 0.8106\n",
            "Epoch 227/400\n",
            "5/5 [==============================] - 0s 4ms/step - loss: 0.7341 - accuracy: 0.8182\n",
            "Epoch 228/400\n",
            "5/5 [==============================] - 0s 3ms/step - loss: 0.7327 - accuracy: 0.8182\n",
            "Epoch 229/400\n",
            "5/5 [==============================] - 0s 3ms/step - loss: 0.7314 - accuracy: 0.8106\n",
            "Epoch 230/400\n",
            "5/5 [==============================] - 0s 4ms/step - loss: 0.7296 - accuracy: 0.8106\n",
            "Epoch 231/400\n",
            "5/5 [==============================] - 0s 4ms/step - loss: 0.7276 - accuracy: 0.8106\n",
            "Epoch 232/400\n",
            "5/5 [==============================] - 0s 4ms/step - loss: 0.7260 - accuracy: 0.8106\n",
            "Epoch 233/400\n",
            "5/5 [==============================] - 0s 6ms/step - loss: 0.7245 - accuracy: 0.8030\n",
            "Epoch 234/400\n",
            "5/5 [==============================] - 0s 3ms/step - loss: 0.7233 - accuracy: 0.7955\n",
            "Epoch 235/400\n",
            "5/5 [==============================] - 0s 4ms/step - loss: 0.7215 - accuracy: 0.7955\n",
            "Epoch 236/400\n",
            "5/5 [==============================] - 0s 4ms/step - loss: 0.7202 - accuracy: 0.7955\n",
            "Epoch 237/400\n",
            "5/5 [==============================] - 0s 4ms/step - loss: 0.7185 - accuracy: 0.7955\n",
            "Epoch 238/400\n",
            "5/5 [==============================] - 0s 4ms/step - loss: 0.7171 - accuracy: 0.8106\n",
            "Epoch 239/400\n",
            "5/5 [==============================] - 0s 3ms/step - loss: 0.7159 - accuracy: 0.8030\n",
            "Epoch 240/400\n",
            "5/5 [==============================] - 0s 3ms/step - loss: 0.7143 - accuracy: 0.7955\n",
            "Epoch 241/400\n",
            "5/5 [==============================] - 0s 4ms/step - loss: 0.7131 - accuracy: 0.7955\n",
            "Epoch 242/400\n",
            "5/5 [==============================] - 0s 4ms/step - loss: 0.7115 - accuracy: 0.7955\n",
            "Epoch 243/400\n",
            "5/5 [==============================] - 0s 4ms/step - loss: 0.7101 - accuracy: 0.7955\n",
            "Epoch 244/400\n",
            "5/5 [==============================] - 0s 4ms/step - loss: 0.7085 - accuracy: 0.7955\n",
            "Epoch 245/400\n",
            "5/5 [==============================] - 0s 4ms/step - loss: 0.7064 - accuracy: 0.7955\n",
            "Epoch 246/400\n",
            "5/5 [==============================] - 0s 3ms/step - loss: 0.7053 - accuracy: 0.8030\n",
            "Epoch 247/400\n",
            "5/5 [==============================] - 0s 4ms/step - loss: 0.7034 - accuracy: 0.7955\n",
            "Epoch 248/400\n",
            "5/5 [==============================] - 0s 3ms/step - loss: 0.7023 - accuracy: 0.8030\n",
            "Epoch 249/400\n",
            "5/5 [==============================] - 0s 4ms/step - loss: 0.7009 - accuracy: 0.8030\n",
            "Epoch 250/400\n",
            "5/5 [==============================] - 0s 4ms/step - loss: 0.6996 - accuracy: 0.8182\n",
            "Epoch 251/400\n",
            "5/5 [==============================] - 0s 4ms/step - loss: 0.6984 - accuracy: 0.8182\n",
            "Epoch 252/400\n",
            "5/5 [==============================] - 0s 4ms/step - loss: 0.6975 - accuracy: 0.8106\n",
            "Epoch 253/400\n",
            "5/5 [==============================] - 0s 4ms/step - loss: 0.6962 - accuracy: 0.8030\n",
            "Epoch 254/400\n",
            "5/5 [==============================] - 0s 4ms/step - loss: 0.6946 - accuracy: 0.7879\n",
            "Epoch 255/400\n",
            "5/5 [==============================] - 0s 4ms/step - loss: 0.6931 - accuracy: 0.7879\n",
            "Epoch 256/400\n",
            "5/5 [==============================] - 0s 4ms/step - loss: 0.6917 - accuracy: 0.7955\n",
            "Epoch 257/400\n",
            "5/5 [==============================] - 0s 4ms/step - loss: 0.6903 - accuracy: 0.8030\n",
            "Epoch 258/400\n",
            "5/5 [==============================] - 0s 4ms/step - loss: 0.6885 - accuracy: 0.8258\n",
            "Epoch 259/400\n",
            "5/5 [==============================] - 0s 4ms/step - loss: 0.6875 - accuracy: 0.8182\n",
            "Epoch 260/400\n",
            "5/5 [==============================] - 0s 4ms/step - loss: 0.6862 - accuracy: 0.8106\n",
            "Epoch 261/400\n",
            "5/5 [==============================] - 0s 4ms/step - loss: 0.6851 - accuracy: 0.8106\n",
            "Epoch 262/400\n",
            "5/5 [==============================] - 0s 4ms/step - loss: 0.6840 - accuracy: 0.8106\n",
            "Epoch 263/400\n",
            "5/5 [==============================] - 0s 4ms/step - loss: 0.6828 - accuracy: 0.8106\n",
            "Epoch 264/400\n",
            "5/5 [==============================] - 0s 4ms/step - loss: 0.6809 - accuracy: 0.8182\n",
            "Epoch 265/400\n",
            "5/5 [==============================] - 0s 4ms/step - loss: 0.6802 - accuracy: 0.8106\n",
            "Epoch 266/400\n",
            "5/5 [==============================] - 0s 4ms/step - loss: 0.6787 - accuracy: 0.8182\n",
            "Epoch 267/400\n",
            "5/5 [==============================] - 0s 4ms/step - loss: 0.6778 - accuracy: 0.8106\n",
            "Epoch 268/400\n",
            "5/5 [==============================] - 0s 4ms/step - loss: 0.6764 - accuracy: 0.8106\n",
            "Epoch 269/400\n",
            "5/5 [==============================] - 0s 4ms/step - loss: 0.6751 - accuracy: 0.8106\n",
            "Epoch 270/400\n",
            "5/5 [==============================] - 0s 4ms/step - loss: 0.6740 - accuracy: 0.8182\n",
            "Epoch 271/400\n",
            "5/5 [==============================] - 0s 4ms/step - loss: 0.6727 - accuracy: 0.8258\n",
            "Epoch 272/400\n",
            "5/5 [==============================] - 0s 5ms/step - loss: 0.6719 - accuracy: 0.8182\n",
            "Epoch 273/400\n",
            "5/5 [==============================] - 0s 4ms/step - loss: 0.6709 - accuracy: 0.8258\n",
            "Epoch 274/400\n",
            "5/5 [==============================] - 0s 4ms/step - loss: 0.6693 - accuracy: 0.8258\n",
            "Epoch 275/400\n",
            "5/5 [==============================] - 0s 4ms/step - loss: 0.6679 - accuracy: 0.8333\n",
            "Epoch 276/400\n",
            "5/5 [==============================] - 0s 5ms/step - loss: 0.6671 - accuracy: 0.8409\n",
            "Epoch 277/400\n",
            "5/5 [==============================] - 0s 4ms/step - loss: 0.6659 - accuracy: 0.8485\n",
            "Epoch 278/400\n",
            "5/5 [==============================] - 0s 4ms/step - loss: 0.6644 - accuracy: 0.8485\n",
            "Epoch 279/400\n",
            "5/5 [==============================] - 0s 4ms/step - loss: 0.6633 - accuracy: 0.8409\n",
            "Epoch 280/400\n",
            "5/5 [==============================] - 0s 4ms/step - loss: 0.6620 - accuracy: 0.8333\n",
            "Epoch 281/400\n",
            "5/5 [==============================] - 0s 5ms/step - loss: 0.6603 - accuracy: 0.8258\n",
            "Epoch 282/400\n",
            "5/5 [==============================] - 0s 4ms/step - loss: 0.6591 - accuracy: 0.8258\n",
            "Epoch 283/400\n",
            "5/5 [==============================] - 0s 4ms/step - loss: 0.6578 - accuracy: 0.8258\n",
            "Epoch 284/400\n",
            "5/5 [==============================] - 0s 4ms/step - loss: 0.6567 - accuracy: 0.8333\n",
            "Epoch 285/400\n",
            "5/5 [==============================] - 0s 3ms/step - loss: 0.6554 - accuracy: 0.8333\n",
            "Epoch 286/400\n",
            "5/5 [==============================] - 0s 4ms/step - loss: 0.6546 - accuracy: 0.8333\n",
            "Epoch 287/400\n",
            "5/5 [==============================] - 0s 4ms/step - loss: 0.6534 - accuracy: 0.8333\n",
            "Epoch 288/400\n",
            "5/5 [==============================] - 0s 4ms/step - loss: 0.6521 - accuracy: 0.8333\n",
            "Epoch 289/400\n",
            "5/5 [==============================] - 0s 4ms/step - loss: 0.6513 - accuracy: 0.8258\n",
            "Epoch 290/400\n",
            "5/5 [==============================] - 0s 4ms/step - loss: 0.6501 - accuracy: 0.8333\n",
            "Epoch 291/400\n",
            "5/5 [==============================] - 0s 4ms/step - loss: 0.6490 - accuracy: 0.8333\n",
            "Epoch 292/400\n",
            "5/5 [==============================] - 0s 3ms/step - loss: 0.6478 - accuracy: 0.8409\n",
            "Epoch 293/400\n",
            "5/5 [==============================] - 0s 4ms/step - loss: 0.6468 - accuracy: 0.8333\n",
            "Epoch 294/400\n",
            "5/5 [==============================] - 0s 4ms/step - loss: 0.6458 - accuracy: 0.8409\n",
            "Epoch 295/400\n",
            "5/5 [==============================] - 0s 4ms/step - loss: 0.6446 - accuracy: 0.8333\n",
            "Epoch 296/400\n",
            "5/5 [==============================] - 0s 4ms/step - loss: 0.6437 - accuracy: 0.8485\n",
            "Epoch 297/400\n",
            "5/5 [==============================] - 0s 4ms/step - loss: 0.6423 - accuracy: 0.8485\n",
            "Epoch 298/400\n",
            "5/5 [==============================] - 0s 3ms/step - loss: 0.6412 - accuracy: 0.8409\n",
            "Epoch 299/400\n",
            "5/5 [==============================] - 0s 4ms/step - loss: 0.6400 - accuracy: 0.8409\n",
            "Epoch 300/400\n",
            "5/5 [==============================] - 0s 4ms/step - loss: 0.6394 - accuracy: 0.8333\n",
            "Epoch 301/400\n",
            "5/5 [==============================] - 0s 4ms/step - loss: 0.6380 - accuracy: 0.8333\n",
            "Epoch 302/400\n",
            "5/5 [==============================] - 0s 4ms/step - loss: 0.6368 - accuracy: 0.8333\n",
            "Epoch 303/400\n",
            "5/5 [==============================] - 0s 4ms/step - loss: 0.6357 - accuracy: 0.8258\n",
            "Epoch 304/400\n",
            "5/5 [==============================] - 0s 4ms/step - loss: 0.6350 - accuracy: 0.8333\n",
            "Epoch 305/400\n",
            "5/5 [==============================] - 0s 3ms/step - loss: 0.6338 - accuracy: 0.8409\n",
            "Epoch 306/400\n",
            "5/5 [==============================] - 0s 4ms/step - loss: 0.6330 - accuracy: 0.8409\n",
            "Epoch 307/400\n",
            "5/5 [==============================] - 0s 4ms/step - loss: 0.6317 - accuracy: 0.8409\n",
            "Epoch 308/400\n",
            "5/5 [==============================] - 0s 3ms/step - loss: 0.6304 - accuracy: 0.8409\n",
            "Epoch 309/400\n",
            "5/5 [==============================] - 0s 4ms/step - loss: 0.6295 - accuracy: 0.8258\n",
            "Epoch 310/400\n",
            "5/5 [==============================] - 0s 4ms/step - loss: 0.6286 - accuracy: 0.8258\n",
            "Epoch 311/400\n",
            "5/5 [==============================] - 0s 4ms/step - loss: 0.6275 - accuracy: 0.8333\n",
            "Epoch 312/400\n",
            "5/5 [==============================] - 0s 5ms/step - loss: 0.6265 - accuracy: 0.8258\n",
            "Epoch 313/400\n",
            "5/5 [==============================] - 0s 4ms/step - loss: 0.6252 - accuracy: 0.8258\n",
            "Epoch 314/400\n",
            "5/5 [==============================] - 0s 4ms/step - loss: 0.6245 - accuracy: 0.8258\n",
            "Epoch 315/400\n",
            "5/5 [==============================] - 0s 3ms/step - loss: 0.6235 - accuracy: 0.8409\n",
            "Epoch 316/400\n",
            "5/5 [==============================] - 0s 4ms/step - loss: 0.6228 - accuracy: 0.8409\n",
            "Epoch 317/400\n",
            "5/5 [==============================] - 0s 5ms/step - loss: 0.6217 - accuracy: 0.8409\n",
            "Epoch 318/400\n",
            "5/5 [==============================] - 0s 4ms/step - loss: 0.6206 - accuracy: 0.8409\n",
            "Epoch 319/400\n",
            "5/5 [==============================] - 0s 4ms/step - loss: 0.6195 - accuracy: 0.8333\n",
            "Epoch 320/400\n",
            "5/5 [==============================] - 0s 4ms/step - loss: 0.6184 - accuracy: 0.8333\n",
            "Epoch 321/400\n",
            "5/5 [==============================] - 0s 4ms/step - loss: 0.6180 - accuracy: 0.8333\n",
            "Epoch 322/400\n",
            "5/5 [==============================] - 0s 4ms/step - loss: 0.6163 - accuracy: 0.8409\n",
            "Epoch 323/400\n",
            "5/5 [==============================] - 0s 4ms/step - loss: 0.6151 - accuracy: 0.8333\n",
            "Epoch 324/400\n",
            "5/5 [==============================] - 0s 4ms/step - loss: 0.6141 - accuracy: 0.8409\n",
            "Epoch 325/400\n",
            "5/5 [==============================] - 0s 4ms/step - loss: 0.6133 - accuracy: 0.8333\n",
            "Epoch 326/400\n",
            "5/5 [==============================] - 0s 3ms/step - loss: 0.6130 - accuracy: 0.8258\n",
            "Epoch 327/400\n",
            "5/5 [==============================] - 0s 4ms/step - loss: 0.6118 - accuracy: 0.8258\n",
            "Epoch 328/400\n",
            "5/5 [==============================] - 0s 4ms/step - loss: 0.6109 - accuracy: 0.8333\n",
            "Epoch 329/400\n",
            "5/5 [==============================] - 0s 4ms/step - loss: 0.6099 - accuracy: 0.8333\n",
            "Epoch 330/400\n",
            "5/5 [==============================] - 0s 5ms/step - loss: 0.6090 - accuracy: 0.8333\n",
            "Epoch 331/400\n",
            "5/5 [==============================] - 0s 4ms/step - loss: 0.6078 - accuracy: 0.8333\n",
            "Epoch 332/400\n",
            "5/5 [==============================] - 0s 3ms/step - loss: 0.6070 - accuracy: 0.8333\n",
            "Epoch 333/400\n",
            "5/5 [==============================] - 0s 3ms/step - loss: 0.6061 - accuracy: 0.8409\n",
            "Epoch 334/400\n",
            "5/5 [==============================] - 0s 4ms/step - loss: 0.6054 - accuracy: 0.8409\n",
            "Epoch 335/400\n",
            "5/5 [==============================] - 0s 4ms/step - loss: 0.6047 - accuracy: 0.8409\n",
            "Epoch 336/400\n",
            "5/5 [==============================] - 0s 4ms/step - loss: 0.6039 - accuracy: 0.8409\n",
            "Epoch 337/400\n",
            "5/5 [==============================] - 0s 4ms/step - loss: 0.6025 - accuracy: 0.8409\n",
            "Epoch 338/400\n",
            "5/5 [==============================] - 0s 4ms/step - loss: 0.6015 - accuracy: 0.8409\n",
            "Epoch 339/400\n",
            "5/5 [==============================] - 0s 4ms/step - loss: 0.6010 - accuracy: 0.8561\n",
            "Epoch 340/400\n",
            "5/5 [==============================] - 0s 4ms/step - loss: 0.5995 - accuracy: 0.8636\n",
            "Epoch 341/400\n",
            "5/5 [==============================] - 0s 4ms/step - loss: 0.5985 - accuracy: 0.8712\n",
            "Epoch 342/400\n",
            "5/5 [==============================] - 0s 4ms/step - loss: 0.5979 - accuracy: 0.8788\n",
            "Epoch 343/400\n",
            "5/5 [==============================] - 0s 4ms/step - loss: 0.5973 - accuracy: 0.8636\n",
            "Epoch 344/400\n",
            "5/5 [==============================] - 0s 4ms/step - loss: 0.5963 - accuracy: 0.8636\n",
            "Epoch 345/400\n",
            "5/5 [==============================] - 0s 3ms/step - loss: 0.5955 - accuracy: 0.8636\n",
            "Epoch 346/400\n",
            "5/5 [==============================] - 0s 4ms/step - loss: 0.5943 - accuracy: 0.8636\n",
            "Epoch 347/400\n",
            "5/5 [==============================] - 0s 4ms/step - loss: 0.5933 - accuracy: 0.8636\n",
            "Epoch 348/400\n",
            "5/5 [==============================] - 0s 4ms/step - loss: 0.5925 - accuracy: 0.8636\n",
            "Epoch 349/400\n",
            "5/5 [==============================] - 0s 4ms/step - loss: 0.5913 - accuracy: 0.8712\n",
            "Epoch 350/400\n",
            "5/5 [==============================] - 0s 4ms/step - loss: 0.5903 - accuracy: 0.8788\n",
            "Epoch 351/400\n",
            "5/5 [==============================] - 0s 4ms/step - loss: 0.5895 - accuracy: 0.8712\n",
            "Epoch 352/400\n",
            "5/5 [==============================] - 0s 5ms/step - loss: 0.5886 - accuracy: 0.8712\n",
            "Epoch 353/400\n",
            "5/5 [==============================] - 0s 4ms/step - loss: 0.5875 - accuracy: 0.8636\n",
            "Epoch 354/400\n",
            "5/5 [==============================] - 0s 4ms/step - loss: 0.5873 - accuracy: 0.8712\n",
            "Epoch 355/400\n",
            "5/5 [==============================] - 0s 4ms/step - loss: 0.5860 - accuracy: 0.8712\n",
            "Epoch 356/400\n",
            "5/5 [==============================] - 0s 4ms/step - loss: 0.5854 - accuracy: 0.8788\n",
            "Epoch 357/400\n",
            "5/5 [==============================] - 0s 3ms/step - loss: 0.5846 - accuracy: 0.8788\n",
            "Epoch 358/400\n",
            "5/5 [==============================] - 0s 4ms/step - loss: 0.5839 - accuracy: 0.8788\n",
            "Epoch 359/400\n",
            "5/5 [==============================] - 0s 4ms/step - loss: 0.5828 - accuracy: 0.8788\n",
            "Epoch 360/400\n",
            "5/5 [==============================] - 0s 4ms/step - loss: 0.5818 - accuracy: 0.8788\n",
            "Epoch 361/400\n",
            "5/5 [==============================] - 0s 4ms/step - loss: 0.5812 - accuracy: 0.8788\n",
            "Epoch 362/400\n",
            "5/5 [==============================] - 0s 4ms/step - loss: 0.5800 - accuracy: 0.8788\n",
            "Epoch 363/400\n",
            "5/5 [==============================] - 0s 4ms/step - loss: 0.5790 - accuracy: 0.8788\n",
            "Epoch 364/400\n",
            "5/5 [==============================] - 0s 4ms/step - loss: 0.5782 - accuracy: 0.8712\n",
            "Epoch 365/400\n",
            "5/5 [==============================] - 0s 4ms/step - loss: 0.5772 - accuracy: 0.8788\n",
            "Epoch 366/400\n",
            "5/5 [==============================] - 0s 4ms/step - loss: 0.5764 - accuracy: 0.8712\n",
            "Epoch 367/400\n",
            "5/5 [==============================] - 0s 4ms/step - loss: 0.5755 - accuracy: 0.8712\n",
            "Epoch 368/400\n",
            "5/5 [==============================] - 0s 4ms/step - loss: 0.5746 - accuracy: 0.8712\n",
            "Epoch 369/400\n",
            "5/5 [==============================] - 0s 4ms/step - loss: 0.5739 - accuracy: 0.8712\n",
            "Epoch 370/400\n",
            "5/5 [==============================] - 0s 4ms/step - loss: 0.5729 - accuracy: 0.8788\n",
            "Epoch 371/400\n",
            "5/5 [==============================] - 0s 4ms/step - loss: 0.5725 - accuracy: 0.8788\n",
            "Epoch 372/400\n",
            "5/5 [==============================] - 0s 4ms/step - loss: 0.5722 - accuracy: 0.8636\n",
            "Epoch 373/400\n",
            "5/5 [==============================] - 0s 4ms/step - loss: 0.5711 - accuracy: 0.8636\n",
            "Epoch 374/400\n",
            "5/5 [==============================] - 0s 4ms/step - loss: 0.5707 - accuracy: 0.8561\n",
            "Epoch 375/400\n",
            "5/5 [==============================] - 0s 4ms/step - loss: 0.5701 - accuracy: 0.8636\n",
            "Epoch 376/400\n",
            "5/5 [==============================] - 0s 4ms/step - loss: 0.5691 - accuracy: 0.8636\n",
            "Epoch 377/400\n",
            "5/5 [==============================] - 0s 4ms/step - loss: 0.5680 - accuracy: 0.8712\n",
            "Epoch 378/400\n",
            "5/5 [==============================] - 0s 4ms/step - loss: 0.5668 - accuracy: 0.8712\n",
            "Epoch 379/400\n",
            "5/5 [==============================] - 0s 4ms/step - loss: 0.5660 - accuracy: 0.8712\n",
            "Epoch 380/400\n",
            "5/5 [==============================] - 0s 5ms/step - loss: 0.5654 - accuracy: 0.8788\n",
            "Epoch 381/400\n",
            "5/5 [==============================] - 0s 4ms/step - loss: 0.5647 - accuracy: 0.8712\n",
            "Epoch 382/400\n",
            "5/5 [==============================] - 0s 4ms/step - loss: 0.5646 - accuracy: 0.8712\n",
            "Epoch 383/400\n",
            "5/5 [==============================] - 0s 4ms/step - loss: 0.5637 - accuracy: 0.8712\n",
            "Epoch 384/400\n",
            "5/5 [==============================] - 0s 4ms/step - loss: 0.5629 - accuracy: 0.8712\n",
            "Epoch 385/400\n",
            "5/5 [==============================] - 0s 4ms/step - loss: 0.5620 - accuracy: 0.8712\n",
            "Epoch 386/400\n",
            "5/5 [==============================] - 0s 4ms/step - loss: 0.5608 - accuracy: 0.8712\n",
            "Epoch 387/400\n",
            "5/5 [==============================] - 0s 3ms/step - loss: 0.5598 - accuracy: 0.8788\n",
            "Epoch 388/400\n",
            "5/5 [==============================] - 0s 5ms/step - loss: 0.5593 - accuracy: 0.8712\n",
            "Epoch 389/400\n",
            "5/5 [==============================] - 0s 4ms/step - loss: 0.5587 - accuracy: 0.8712\n",
            "Epoch 390/400\n",
            "5/5 [==============================] - 0s 5ms/step - loss: 0.5580 - accuracy: 0.8712\n",
            "Epoch 391/400\n",
            "5/5 [==============================] - 0s 5ms/step - loss: 0.5573 - accuracy: 0.8712\n",
            "Epoch 392/400\n",
            "5/5 [==============================] - 0s 4ms/step - loss: 0.5561 - accuracy: 0.8712\n",
            "Epoch 393/400\n",
            "5/5 [==============================] - 0s 4ms/step - loss: 0.5553 - accuracy: 0.8712\n",
            "Epoch 394/400\n",
            "5/5 [==============================] - 0s 4ms/step - loss: 0.5545 - accuracy: 0.8712\n",
            "Epoch 395/400\n",
            "5/5 [==============================] - 0s 4ms/step - loss: 0.5537 - accuracy: 0.8788\n",
            "Epoch 396/400\n",
            "5/5 [==============================] - 0s 4ms/step - loss: 0.5528 - accuracy: 0.8864\n",
            "Epoch 397/400\n",
            "5/5 [==============================] - 0s 4ms/step - loss: 0.5520 - accuracy: 0.8788\n",
            "Epoch 398/400\n",
            "5/5 [==============================] - 0s 4ms/step - loss: 0.5513 - accuracy: 0.8788\n",
            "Epoch 399/400\n",
            "5/5 [==============================] - 0s 5ms/step - loss: 0.5506 - accuracy: 0.8788\n",
            "Epoch 400/400\n",
            "5/5 [==============================] - 0s 4ms/step - loss: 0.5500 - accuracy: 0.8788\n"
          ]
        },
        {
          "output_type": "execute_result",
          "data": {
            "text/plain": [
              "<keras.callbacks.History at 0x7fd4ffbc8c10>"
            ]
          },
          "metadata": {},
          "execution_count": 60
        }
      ]
    },
    {
      "cell_type": "code",
      "source": [
        "X_test_avg = []\n",
        "for i in range(X_test.shape[0]):\n",
        "  X_test_avg.append(sentence_to_avg(X_test[i]))\n",
        "\n",
        "X_test_avg = np.array(X_test_avg)  "
      ],
      "metadata": {
        "id": "5miPhBeoKJdO"
      },
      "execution_count": 61,
      "outputs": []
    },
    {
      "cell_type": "code",
      "source": [
        "model_v1.evaluate(X_test_avg,Y_test_oh)"
      ],
      "metadata": {
        "colab": {
          "base_uri": "https://localhost:8080/"
        },
        "id": "CXp7adNdKceu",
        "outputId": "c6291d0e-8cc4-4aec-d9bc-1a5b7372797f"
      },
      "execution_count": 62,
      "outputs": [
        {
          "output_type": "stream",
          "name": "stdout",
          "text": [
            "2/2 [==============================] - 0s 7ms/step - loss: 0.6383 - accuracy: 0.8036\n"
          ]
        },
        {
          "output_type": "execute_result",
          "data": {
            "text/plain": [
              "[0.6382743120193481, 0.8035714030265808]"
            ]
          },
          "metadata": {},
          "execution_count": 62
        }
      ]
    },
    {
      "cell_type": "code",
      "source": [
        "X_me = np.array(['i adore you','playing football','delicious food','not bad'])\n",
        "Y_me = np.array([[0],[1],[4],[3]])\n",
        "\n",
        "X_avg_me = []\n",
        "for x in X_me:\n",
        "  X_avg_me.append(sentence_to_avg(x))\n",
        "X_avg_me = np.array(X_avg_me)\n",
        "\n",
        "pred = model_v1.predict(X_avg_me)\n",
        "\n",
        "for i in range(X_me.shape[0]): \n",
        "  print(X_me[i], label_to_emoji(np.argmax(pred[i]))) \n",
        "\n",
        "\n",
        "\n"
      ],
      "metadata": {
        "colab": {
          "base_uri": "https://localhost:8080/"
        },
        "id": "jRH7Scm-O4q4",
        "outputId": "6bb50466-7796-4ba4-d046-a82aa038404e"
      },
      "execution_count": 63,
      "outputs": [
        {
          "output_type": "stream",
          "name": "stdout",
          "text": [
            "1/1 [==============================] - 0s 31ms/step\n",
            "i adore you ❤️\n",
            "playing football ⚾️\n",
            "delicious food 🍴\n",
            "not bad 😔\n"
          ]
        }
      ]
    },
    {
      "cell_type": "markdown",
      "source": [
        "## Emojifier_v2:using RNN"
      ],
      "metadata": {
        "id": "ltJI6IYRt286"
      }
    },
    {
      "cell_type": "code",
      "source": [
        "class EmojiNet_V2(Model):\n",
        "  def __init__(self):\n",
        "    super().__init__()\n",
        "    self.lstm_1 = LSTM(128, return_sequences = True)\n",
        "    self.dropout_1 = Dropout(0.2)\n",
        "    self.lstm_2 = LSTM(128)\n",
        "    self.dropout_2 = Dropout(0.2)\n",
        "    self.dense = Dense(5, activation = 'softmax')\n",
        "\n",
        "  def call(self, x):\n",
        "    x = self.lstm_1(x)\n",
        "    x = self.dropout_1(x)\n",
        "    x = self.lstm_2(x)\n",
        "    x = self.dropout_2(x)\n",
        "    x = self.dense(x)\n",
        "    return x\n",
        "\n",
        "\n"
      ],
      "metadata": {
        "id": "sKN9TLL3thBU"
      },
      "execution_count": 96,
      "outputs": []
    },
    {
      "cell_type": "code",
      "source": [
        "model_V2 = EmojiNet_V2()\n"
      ],
      "metadata": {
        "id": "mGCZwxhNlYuC"
      },
      "execution_count": 97,
      "outputs": []
    },
    {
      "cell_type": "code",
      "source": [
        "model_V2.compile(optimizer = tf.keras.optimizers.Adam(),\n",
        "                 loss = 'categorical_crossentropy',\n",
        "                 metrics = ['accuracy'])"
      ],
      "metadata": {
        "id": "7hVx5MbPlgG_"
      },
      "execution_count": 98,
      "outputs": []
    },
    {
      "cell_type": "code",
      "source": [
        "def convert_sentences_to_embeddings(X):\n",
        "  emb_dim = 50 #size of feature vector\n",
        "  emb_matrix = np.zeros((X.shape[0], max_len, emb_dim))\n",
        "  for i in range(X.shape[0]):\n",
        "    words = X[i].lower().split()\n",
        "    for j in range(len(words)):\n",
        "      emb_matrix[i, j, :] = words_to_vec[words[j]]\n",
        "\n",
        "  return emb_matrix    "
      ],
      "metadata": {
        "id": "4me3Vtrtx2Mn"
      },
      "execution_count": 99,
      "outputs": []
    },
    {
      "cell_type": "code",
      "source": [
        "X_me = np.array(['i adore you','playing football','delicious food','not bad'])\n",
        "print(convert_sentences_to_embeddings(X_me))"
      ],
      "metadata": {
        "colab": {
          "base_uri": "https://localhost:8080/"
        },
        "id": "o08IOLRCung2",
        "outputId": "d2ffda1d-e403-4c37-cf94-786347bafd77"
      },
      "execution_count": 100,
      "outputs": [
        {
          "output_type": "stream",
          "name": "stdout",
          "text": [
            "[[[ 1.1891e-01  1.5255e-01 -8.2073e-02 ... -5.7512e-01 -2.6671e-01\n",
            "    9.2121e-01]\n",
            "  [ 1.3144e-01  5.0610e-03 -1.0851e-01 ... -4.2291e-01 -4.7042e-01\n",
            "    2.8576e-01]\n",
            "  [-1.0919e-03  3.3324e-01  3.5743e-01 ... -4.5697e-01 -4.8969e-02\n",
            "    1.1316e+00]\n",
            "  ...\n",
            "  [ 0.0000e+00  0.0000e+00  0.0000e+00 ...  0.0000e+00  0.0000e+00\n",
            "    0.0000e+00]\n",
            "  [ 0.0000e+00  0.0000e+00  0.0000e+00 ...  0.0000e+00  0.0000e+00\n",
            "    0.0000e+00]\n",
            "  [ 0.0000e+00  0.0000e+00  0.0000e+00 ...  0.0000e+00  0.0000e+00\n",
            "    0.0000e+00]]\n",
            "\n",
            " [[-1.0398e+00  2.5462e-01 -1.0193e+00 ... -5.3440e-01 -6.1264e-01\n",
            "    3.0941e-01]\n",
            "  [-1.8209e+00  7.0094e-01 -1.1403e+00 ...  9.6903e-01 -7.6259e-02\n",
            "   -5.9909e-01]\n",
            "  [ 0.0000e+00  0.0000e+00  0.0000e+00 ...  0.0000e+00  0.0000e+00\n",
            "    0.0000e+00]\n",
            "  ...\n",
            "  [ 0.0000e+00  0.0000e+00  0.0000e+00 ...  0.0000e+00  0.0000e+00\n",
            "    0.0000e+00]\n",
            "  [ 0.0000e+00  0.0000e+00  0.0000e+00 ...  0.0000e+00  0.0000e+00\n",
            "    0.0000e+00]\n",
            "  [ 0.0000e+00  0.0000e+00  0.0000e+00 ...  0.0000e+00  0.0000e+00\n",
            "    0.0000e+00]]\n",
            "\n",
            " [[ 6.6698e-01  6.4170e-02 -1.6304e+00 ...  2.4543e-01  1.9996e-01\n",
            "    6.4148e-01]\n",
            "  [ 4.7222e-01 -4.4545e-01 -5.1833e-01 ...  3.4932e-01  3.3934e-01\n",
            "    2.5499e-01]\n",
            "  [ 0.0000e+00  0.0000e+00  0.0000e+00 ...  0.0000e+00  0.0000e+00\n",
            "    0.0000e+00]\n",
            "  ...\n",
            "  [ 0.0000e+00  0.0000e+00  0.0000e+00 ...  0.0000e+00  0.0000e+00\n",
            "    0.0000e+00]\n",
            "  [ 0.0000e+00  0.0000e+00  0.0000e+00 ...  0.0000e+00  0.0000e+00\n",
            "    0.0000e+00]\n",
            "  [ 0.0000e+00  0.0000e+00  0.0000e+00 ...  0.0000e+00  0.0000e+00\n",
            "    0.0000e+00]]\n",
            "\n",
            " [[ 5.5025e-01 -2.4942e-01 -9.3860e-04 ...  3.3763e-01  5.0139e-02\n",
            "    3.3465e-01]\n",
            "  [-1.7981e-01 -4.0407e-01 -1.6530e-01 ...  3.3713e-01  9.9956e-01\n",
            "    7.2031e-01]\n",
            "  [ 0.0000e+00  0.0000e+00  0.0000e+00 ...  0.0000e+00  0.0000e+00\n",
            "    0.0000e+00]\n",
            "  ...\n",
            "  [ 0.0000e+00  0.0000e+00  0.0000e+00 ...  0.0000e+00  0.0000e+00\n",
            "    0.0000e+00]\n",
            "  [ 0.0000e+00  0.0000e+00  0.0000e+00 ...  0.0000e+00  0.0000e+00\n",
            "    0.0000e+00]\n",
            "  [ 0.0000e+00  0.0000e+00  0.0000e+00 ...  0.0000e+00  0.0000e+00\n",
            "    0.0000e+00]]]\n"
          ]
        }
      ]
    },
    {
      "cell_type": "code",
      "source": [
        "X_train_embs = convert_sentences_to_embeddings(X_train)\n",
        "X_train_embs.shape"
      ],
      "metadata": {
        "id": "pYxq58QM0y-A",
        "colab": {
          "base_uri": "https://localhost:8080/"
        },
        "outputId": "0624f7e9-ee17-4006-9dd3-e1c6327467b1"
      },
      "execution_count": 101,
      "outputs": [
        {
          "output_type": "execute_result",
          "data": {
            "text/plain": [
              "(132, 10, 50)"
            ]
          },
          "metadata": {},
          "execution_count": 101
        }
      ]
    },
    {
      "cell_type": "code",
      "source": [
        "model_V2.fit(X_train_embs, Y_train_oh, epochs = 40, batch_size = 32, shuffle = True)"
      ],
      "metadata": {
        "id": "KGEjIcwt1MNL",
        "colab": {
          "base_uri": "https://localhost:8080/"
        },
        "outputId": "fc08e1b1-ee35-4c4e-ab2d-236d0b88dc36"
      },
      "execution_count": 102,
      "outputs": [
        {
          "output_type": "stream",
          "name": "stdout",
          "text": [
            "Epoch 1/40\n",
            "5/5 [==============================] - 3s 7ms/step - loss: 1.5726 - accuracy: 0.3182\n",
            "Epoch 2/40\n",
            "5/5 [==============================] - 0s 6ms/step - loss: 1.4748 - accuracy: 0.3333\n",
            "Epoch 3/40\n",
            "5/5 [==============================] - 0s 6ms/step - loss: 1.3810 - accuracy: 0.5000\n",
            "Epoch 4/40\n",
            "5/5 [==============================] - 0s 8ms/step - loss: 1.2863 - accuracy: 0.5530\n",
            "Epoch 5/40\n",
            "5/5 [==============================] - 0s 8ms/step - loss: 1.2059 - accuracy: 0.5303\n",
            "Epoch 6/40\n",
            "5/5 [==============================] - 0s 6ms/step - loss: 1.0680 - accuracy: 0.5833\n",
            "Epoch 7/40\n",
            "5/5 [==============================] - 0s 6ms/step - loss: 1.0010 - accuracy: 0.6364\n",
            "Epoch 8/40\n",
            "5/5 [==============================] - 0s 6ms/step - loss: 0.8724 - accuracy: 0.6515\n",
            "Epoch 9/40\n",
            "5/5 [==============================] - 0s 7ms/step - loss: 0.7405 - accuracy: 0.7273\n",
            "Epoch 10/40\n",
            "5/5 [==============================] - 0s 7ms/step - loss: 0.6513 - accuracy: 0.7803\n",
            "Epoch 11/40\n",
            "5/5 [==============================] - 0s 6ms/step - loss: 0.6410 - accuracy: 0.7576\n",
            "Epoch 12/40\n",
            "5/5 [==============================] - 0s 7ms/step - loss: 0.5235 - accuracy: 0.7879\n",
            "Epoch 13/40\n",
            "5/5 [==============================] - 0s 7ms/step - loss: 0.5522 - accuracy: 0.7727\n",
            "Epoch 14/40\n",
            "5/5 [==============================] - 0s 7ms/step - loss: 0.4292 - accuracy: 0.8182\n",
            "Epoch 15/40\n",
            "5/5 [==============================] - 0s 7ms/step - loss: 0.5039 - accuracy: 0.8182\n",
            "Epoch 16/40\n",
            "5/5 [==============================] - 0s 7ms/step - loss: 0.3673 - accuracy: 0.8636\n",
            "Epoch 17/40\n",
            "5/5 [==============================] - 0s 6ms/step - loss: 0.3860 - accuracy: 0.8182\n",
            "Epoch 18/40\n",
            "5/5 [==============================] - 0s 8ms/step - loss: 0.4207 - accuracy: 0.8636\n",
            "Epoch 19/40\n",
            "5/5 [==============================] - 0s 7ms/step - loss: 0.2797 - accuracy: 0.9318\n",
            "Epoch 20/40\n",
            "5/5 [==============================] - 0s 7ms/step - loss: 0.3476 - accuracy: 0.8864\n",
            "Epoch 21/40\n",
            "5/5 [==============================] - 0s 6ms/step - loss: 0.3179 - accuracy: 0.8636\n",
            "Epoch 22/40\n",
            "5/5 [==============================] - 0s 7ms/step - loss: 0.2418 - accuracy: 0.9015\n",
            "Epoch 23/40\n",
            "5/5 [==============================] - 0s 7ms/step - loss: 0.3385 - accuracy: 0.8864\n",
            "Epoch 24/40\n",
            "5/5 [==============================] - 0s 7ms/step - loss: 0.2968 - accuracy: 0.8939\n",
            "Epoch 25/40\n",
            "5/5 [==============================] - 0s 7ms/step - loss: 0.2086 - accuracy: 0.9318\n",
            "Epoch 26/40\n",
            "5/5 [==============================] - 0s 6ms/step - loss: 0.2488 - accuracy: 0.9167\n",
            "Epoch 27/40\n",
            "5/5 [==============================] - 0s 7ms/step - loss: 0.2315 - accuracy: 0.9091\n",
            "Epoch 28/40\n",
            "5/5 [==============================] - 0s 6ms/step - loss: 0.2173 - accuracy: 0.9242\n",
            "Epoch 29/40\n",
            "5/5 [==============================] - 0s 7ms/step - loss: 0.1658 - accuracy: 0.9545\n",
            "Epoch 30/40\n",
            "5/5 [==============================] - 0s 8ms/step - loss: 0.1472 - accuracy: 0.9545\n",
            "Epoch 31/40\n",
            "5/5 [==============================] - 0s 7ms/step - loss: 0.1495 - accuracy: 0.9545\n",
            "Epoch 32/40\n",
            "5/5 [==============================] - 0s 7ms/step - loss: 0.1083 - accuracy: 0.9773\n",
            "Epoch 33/40\n",
            "5/5 [==============================] - 0s 7ms/step - loss: 0.1137 - accuracy: 0.9394\n",
            "Epoch 34/40\n",
            "5/5 [==============================] - 0s 7ms/step - loss: 0.0808 - accuracy: 0.9848\n",
            "Epoch 35/40\n",
            "5/5 [==============================] - 0s 6ms/step - loss: 0.0494 - accuracy: 0.9924\n",
            "Epoch 36/40\n",
            "5/5 [==============================] - 0s 6ms/step - loss: 0.0472 - accuracy: 0.9924\n",
            "Epoch 37/40\n",
            "5/5 [==============================] - 0s 6ms/step - loss: 0.0397 - accuracy: 1.0000\n",
            "Epoch 38/40\n",
            "5/5 [==============================] - 0s 6ms/step - loss: 0.3987 - accuracy: 0.8939\n",
            "Epoch 39/40\n",
            "5/5 [==============================] - 0s 7ms/step - loss: 0.2209 - accuracy: 0.9167\n",
            "Epoch 40/40\n",
            "5/5 [==============================] - 0s 7ms/step - loss: 0.2010 - accuracy: 0.9091\n"
          ]
        },
        {
          "output_type": "execute_result",
          "data": {
            "text/plain": [
              "<keras.callbacks.History at 0x7fd4ff71d050>"
            ]
          },
          "metadata": {},
          "execution_count": 102
        }
      ]
    },
    {
      "cell_type": "code",
      "source": [
        "X_test_embs = convert_sentences_to_embeddings(X_test)\n",
        "Y_test_oh = tf.keras.utils.to_categorical(Y_test, 5)\n",
        "model_V2.evaluate(X_test_embs, Y_test_oh)\n"
      ],
      "metadata": {
        "colab": {
          "base_uri": "https://localhost:8080/"
        },
        "id": "DiB_SCmD0XIc",
        "outputId": "4d9237a5-2c58-4925-a3cc-268fc491ec63"
      },
      "execution_count": 103,
      "outputs": [
        {
          "output_type": "stream",
          "name": "stdout",
          "text": [
            "2/2 [==============================] - 1s 8ms/step - loss: 0.7445 - accuracy: 0.8214\n"
          ]
        },
        {
          "output_type": "execute_result",
          "data": {
            "text/plain": [
              "[0.7444772124290466, 0.8214285969734192]"
            ]
          },
          "metadata": {},
          "execution_count": 103
        }
      ]
    },
    {
      "cell_type": "code",
      "source": [
        "X_me = np.array(['i adore you','playing football','delicious food','not bad'])\n",
        "Y_me = np.array([[0],[1],[4],[3]])\n",
        "\n",
        "X_avg_embs = convert_sentences_to_embeddings(X_me)\n",
        "\n",
        "pred = model_V2.predict(X_avg_embs)\n",
        "\n",
        "for i in range(X_me.shape[0]): \n",
        "  print(X_me[i], label_to_emoji(np.argmax(pred[i]))) "
      ],
      "metadata": {
        "colab": {
          "base_uri": "https://localhost:8080/"
        },
        "id": "tj_6FTgq6n-O",
        "outputId": "f74a1542-e4f7-4dae-b9b7-6e666bc98625"
      },
      "execution_count": 105,
      "outputs": [
        {
          "output_type": "stream",
          "name": "stdout",
          "text": [
            "1/1 [==============================] - 1s 641ms/step\n",
            "i adore you ❤️\n",
            "playing football ⚾️\n",
            "delicious food 🍴\n",
            "not bad 😔\n"
          ]
        }
      ]
    }
  ]
}