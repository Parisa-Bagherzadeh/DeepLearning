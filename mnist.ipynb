{
  "nbformat": 4,
  "nbformat_minor": 0,
  "metadata": {
    "colab": {
      "name": "mnist.ipynb",
      "provenance": [],
      "collapsed_sections": []
    },
    "kernelspec": {
      "display_name": "Python 3",
      "name": "python3"
    },
    "language_info": {
      "name": "python"
    }
  },
  "cells": [
    {
      "cell_type": "code",
      "metadata": {
        "id": "fSi092bbePhh"
      },
      "source": [
        "import tensorflow as tf\n",
        "from tensorflow.keras.layers import Dense\n",
        "import matplotlib.pyplot as plt\n",
        "from sklearn.model_selection import train_test_split\n",
        "from tensorflow.keras.layers import Dense, Conv2D, MaxPool2D, Flatten\n",
        "from tensorflow.keras import layers"
      ],
      "execution_count": 20,
      "outputs": []
    },
    {
      "cell_type": "code",
      "metadata": {
        "id": "bG7RO_zgechK"
      },
      "source": [
        "dataset=tf.keras.datasets.mnist\n",
        "#dataset=tf.keras.datasets.cifar10\n",
        "#dataset=tf.keras.datasets.fashion_mnist\n",
        "(X_train,Y_train),(X_test,Y_test)=dataset.load_data()\n",
        "(X_train_deep,Y_train_deep),(X_test_deep,Y_test_deep)=dataset.load_data()"
      ],
      "execution_count": 21,
      "outputs": []
    },
    {
      "cell_type": "code",
      "metadata": {
        "colab": {
          "base_uri": "https://localhost:8080/",
          "height": 284
        },
        "id": "vaYxhLqxfYj3",
        "outputId": "7166fffa-f17f-411f-e4f9-27f2366ebf30"
      },
      "source": [
        "plt.imshow(X_train[0])\n",
        "print(Y_train[0])"
      ],
      "execution_count": 22,
      "outputs": [
        {
          "output_type": "stream",
          "name": "stdout",
          "text": [
            "5\n"
          ]
        },
        {
          "output_type": "display_data",
          "data": {
            "image/png": "[encoded data removed]",
            "text/plain": [
              "<Figure size 432x288 with 1 Axes>"
            ]
          },
          "metadata": {
            "needs_background": "light"
          }
        }
      ]
    },
    {
      "cell_type": "code",
      "metadata": {
        "id": "vZiDcmSNiLqk",
        "colab": {
          "base_uri": "https://localhost:8080/"
        },
        "outputId": "42973803-7108-4f28-d2d2-6ed184096473"
      },
      "source": [
        "print(X_train.shape)\n",
        "X_train=X_train.reshape(60000,784)"
      ],
      "execution_count": 23,
      "outputs": [
        {
          "output_type": "stream",
          "name": "stdout",
          "text": [
            "(60000, 28, 28)\n"
          ]
        }
      ]
    },
    {
      "cell_type": "code",
      "metadata": {
        "id": "Nk-qBik0IpPi"
      },
      "source": [
        "X_train,X_valid,Y_train,Y_valid=train_test_split(X_train,Y_train,test_size=0.2,random_state=42)"
      ],
      "execution_count": 24,
      "outputs": []
    },
    {
      "cell_type": "code",
      "metadata": {
        "id": "5Y6wDitSgMZk"
      },
      "source": [
        "model=tf.keras.models.Sequential([\n",
        "    Dense(64,input_dim=784,activation='relu'),#input_layer\n",
        "    Dense(32,activation='relu'),\n",
        "    Dense(10,activation='softmax')#output_layer\n",
        "\n",
        "])"
      ],
      "execution_count": 25,
      "outputs": []
    },
    {
      "cell_type": "code",
      "metadata": {
        "id": "OF_Ar3NGiaXa"
      },
      "source": [
        "model.compile(optimizer=tf.keras.optimizers.Adam(),\n",
        "              loss=tf.keras.losses.sparse_categorical_crossentropy,\n",
        "              metrics=['accuracy'])"
      ],
      "execution_count": 26,
      "outputs": []
    },
    {
      "cell_type": "code",
      "metadata": {
        "colab": {
          "base_uri": "https://localhost:8080/"
        },
        "id": "q28pCruwi3BQ",
        "outputId": "7feb217a-4afa-49d6-8edb-06ed449b8967"
      },
      "source": [
        "model.fit(X_train,Y_train,validation_data=(X_valid,Y_valid),epochs=10)"
      ],
      "execution_count": 27,
      "outputs": [
        {
          "output_type": "stream",
          "name": "stdout",
          "text": [
            "Epoch 1/10\n",
            "1500/1500 [==============================] - 3s 2ms/step - loss: 1.8101 - accuracy: 0.6172 - val_loss: 0.7673 - val_accuracy: 0.8074\n",
            "Epoch 2/10\n",
            "1500/1500 [==============================] - 3s 2ms/step - loss: 0.5746 - accuracy: 0.8424 - val_loss: 0.4534 - val_accuracy: 0.8795\n",
            "Epoch 3/10\n",
            "1500/1500 [==============================] - 3s 2ms/step - loss: 0.3457 - accuracy: 0.9074 - val_loss: 0.2867 - val_accuracy: 0.9225\n",
            "Epoch 4/10\n",
            "1500/1500 [==============================] - 3s 2ms/step - loss: 0.2325 - accuracy: 0.9366 - val_loss: 0.2275 - val_accuracy: 0.9373\n",
            "Epoch 5/10\n",
            "1500/1500 [==============================] - 3s 2ms/step - loss: 0.1948 - accuracy: 0.9467 - val_loss: 0.2103 - val_accuracy: 0.9464\n",
            "Epoch 6/10\n",
            "1500/1500 [==============================] - 3s 2ms/step - loss: 0.1711 - accuracy: 0.9528 - val_loss: 0.1898 - val_accuracy: 0.9500\n",
            "Epoch 7/10\n",
            "1500/1500 [==============================] - 3s 2ms/step - loss: 0.1473 - accuracy: 0.9590 - val_loss: 0.2146 - val_accuracy: 0.9457\n",
            "Epoch 8/10\n",
            "1500/1500 [==============================] - 3s 2ms/step - loss: 0.1371 - accuracy: 0.9628 - val_loss: 0.1645 - val_accuracy: 0.9560\n",
            "Epoch 9/10\n",
            "1500/1500 [==============================] - 3s 2ms/step - loss: 0.1215 - accuracy: 0.9661 - val_loss: 0.1707 - val_accuracy: 0.9574\n",
            "Epoch 10/10\n",
            "1500/1500 [==============================] - 3s 2ms/step - loss: 0.1131 - accuracy: 0.9686 - val_loss: 0.1614 - val_accuracy: 0.9625\n"
          ]
        },
        {
          "output_type": "execute_result",
          "data": {
            "text/plain": [
              "<keras.callbacks.History at 0x7f4485f879d0>"
            ]
          },
          "metadata": {},
          "execution_count": 27
        }
      ]
    },
    {
      "cell_type": "code",
      "metadata": {
        "colab": {
          "base_uri": "https://localhost:8080/"
        },
        "id": "C3EKcBsWm9MM",
        "outputId": "500c03c6-188c-49e6-ae4d-ab817e20f275"
      },
      "source": [
        "print(X_test.shape)\n",
        "print(Y_test.shape)\n",
        "X_test=X_test.reshape(10000,784)\n",
        "print(X_test.shape)"
      ],
      "execution_count": 28,
      "outputs": [
        {
          "output_type": "stream",
          "name": "stdout",
          "text": [
            "(10000, 28, 28)\n",
            "(10000,)\n",
            "(10000, 784)\n"
          ]
        }
      ]
    },
    {
      "cell_type": "code",
      "metadata": {
        "colab": {
          "base_uri": "https://localhost:8080/"
        },
        "id": "SarkV5BUnIl4",
        "outputId": "29e8cdf1-2652-43ef-e30b-e1b1efb4f916"
      },
      "source": [
        "\n",
        "accuracy = model.evaluate(X_test,Y_test)\n",
        "\n",
        "print(\"accuracy =\", accuracy)"
      ],
      "execution_count": 29,
      "outputs": [
        {
          "output_type": "stream",
          "name": "stdout",
          "text": [
            "313/313 [==============================] - 1s 2ms/step - loss: 0.1566 - accuracy: 0.9614\n",
            "accuracy = [0.15656206011772156, 0.9613999724388123]\n"
          ]
        }
      ]
    },
    {
      "cell_type": "code",
      "metadata": {
        "id": "gQydhZWqZ3hH"
      },
      "source": [
        "#print(X_train_deep.shape,Y_train_deep.shape)"
      ],
      "execution_count": 30,
      "outputs": []
    },
    {
      "cell_type": "code",
      "metadata": {
        "colab": {
          "base_uri": "https://localhost:8080/"
        },
        "id": "ArX3wrkWdjft",
        "outputId": "4e562e31-64ac-443d-b4c5-727a33fe8f69"
      },
      "source": [
        "\n",
        "#(X_train_deep, Y_train),(x_test, y_test) = mnist.load_data()\n",
        "X_train_deep, X_test_deep = X_train_deep / 255.0, X_test_deep / 255.0\n",
        "\n",
        "model = tf.keras.models.Sequential([\n",
        "  tf.keras.layers.Flatten(input_shape=(28, 28)),\n",
        "  tf.keras.layers.Dense(128, activation='relu'),\n",
        "  tf.keras.layers.Dropout(0.2),\n",
        "  tf.keras.layers.Dense(10, activation='softmax')\n",
        "])\n",
        "\n",
        "model.compile(optimizer='adam',\n",
        "              loss='sparse_categorical_crossentropy',\n",
        "              metrics=['accuracy'])\n",
        "\n",
        "model.fit(X_train_deep, Y_train_deep, epochs=10)\n",
        "model.evaluate(X_test_deep, Y_test_deep)\n"
      ],
      "execution_count": 31,
      "outputs": [
        {
          "output_type": "stream",
          "name": "stdout",
          "text": [
            "Epoch 1/10\n",
            "1875/1875 [==============================] - 3s 2ms/step - loss: 0.2954 - accuracy: 0.9129\n",
            "Epoch 2/10\n",
            "1875/1875 [==============================] - 3s 2ms/step - loss: 0.1412 - accuracy: 0.9577\n",
            "Epoch 3/10\n",
            "1875/1875 [==============================] - 3s 2ms/step - loss: 0.1058 - accuracy: 0.9678\n",
            "Epoch 4/10\n",
            "1875/1875 [==============================] - 3s 2ms/step - loss: 0.0863 - accuracy: 0.9734\n",
            "Epoch 5/10\n",
            "1875/1875 [==============================] - 3s 2ms/step - loss: 0.0752 - accuracy: 0.9766\n",
            "Epoch 6/10\n",
            "1875/1875 [==============================] - 3s 2ms/step - loss: 0.0650 - accuracy: 0.9795\n",
            "Epoch 7/10\n",
            "1875/1875 [==============================] - 3s 2ms/step - loss: 0.0582 - accuracy: 0.9818\n",
            "Epoch 8/10\n",
            "1875/1875 [==============================] - 3s 2ms/step - loss: 0.0528 - accuracy: 0.9826\n",
            "Epoch 9/10\n",
            "1875/1875 [==============================] - 3s 2ms/step - loss: 0.0483 - accuracy: 0.9841\n",
            "Epoch 10/10\n",
            "1875/1875 [==============================] - 3s 2ms/step - loss: 0.0446 - accuracy: 0.9850\n",
            "313/313 [==============================] - 0s 1ms/step - loss: 0.0688 - accuracy: 0.9813\n"
          ]
        },
        {
          "output_type": "execute_result",
          "data": {
            "text/plain": [
              "[0.06884205341339111, 0.9812999963760376]"
            ]
          },
          "metadata": {},
          "execution_count": 31
        }
      ]
    },
    {
      "cell_type": "code",
      "metadata": {
        "colab": {
          "base_uri": "https://localhost:8080/"
        },
        "id": "ectBc55RwGc4",
        "outputId": "b613357a-108d-46d5-c62f-769588b83a7e"
      },
      "source": [
        "X_train_deep, X_test_deep = X_train_deep / 255.0, X_test_deep / 255.0\n",
        "\n",
        "X_train_deep=X_train_deep.reshape(X_train_deep.shape[0],X_train_deep.shape[1],X_train_deep.shape[2],1)\n",
        "X_test_deep=X_test_deep.reshape(X_test_deep.shape[0],X_test_deep.shape[1],X_test_deep.shape[2],1)\n",
        "deep_model=tf.keras.models.Sequential([\n",
        "                                       layers.Conv2D(32,(5,5),activation='relu',input_shape=(28,28,1)),\n",
        "                                       layers.Conv2D(64,(3,3),activation='relu'),\n",
        "                                       layers.Flatten(),\n",
        "                                       layers.Dense(64,activation='relu'),\n",
        "                                       layers.Dense(10,activation='softmax')\n",
        "])\n",
        "deep_model.compile(optimizer=tf.keras.optimizers.Adam(),\n",
        "              loss=tf.keras.losses.sparse_categorical_crossentropy,\n",
        "              metrics='accuracy')\n",
        "\n",
        "deep_model.fit(X_train_deep, Y_train_deep, epochs=2)\n",
        "deep_model.evaluate(X_test_deep, Y_test_deep)\n"
      ],
      "execution_count": 47,
      "outputs": [
        {
          "output_type": "stream",
          "name": "stdout",
          "text": [
            "Epoch 1/2\n",
            "1875/1875 [==============================] - 133s 71ms/step - loss: 2.3016 - accuracy: 0.1120\n",
            "Epoch 2/2\n",
            "1875/1875 [==============================] - 133s 71ms/step - loss: 2.3014 - accuracy: 0.1124\n",
            "313/313 [==============================] - 5s 15ms/step - loss: 2.3010 - accuracy: 0.1135\n"
          ]
        },
        {
          "output_type": "execute_result",
          "data": {
            "text/plain": [
              "[2.3010079860687256, 0.11349999904632568]"
            ]
          },
          "metadata": {},
          "execution_count": 47
        }
      ]
    },
    {
      "cell_type": "code",
      "metadata": {
        "id": "oJhww5AMccTk"
      },
      "source": [
        "#X_train_deep, X_test_deep= X_train_deep / 255.0, X_test_deep / 255.0\n",
        "#x_train, x_test = x_train / 255.0, x_test / 255.0\n",
        "#X_valid_deep,Y_valid_deep=X_valid_deep/255.0,Y_valid_deep/255.0"
      ],
      "execution_count": null,
      "outputs": []
    },
    {
      "cell_type": "code",
      "metadata": {
        "id": "nNV2bDpSbAlR"
      },
      "source": [
        "#X_train_deep,X_valid_deep,Y_train_deep,Y_valid_deep=train_test_split(X_train_deep,Y_train_deep,test_size=0.2,random_state=42)"
      ],
      "execution_count": null,
      "outputs": []
    },
    {
      "cell_type": "code",
      "metadata": {
        "id": "XQw4CmfxV9xQ"
      },
      "source": [
        "#deep_model=tf.keras.models.Sequential([\n",
        "                                       \n",
        "                                      # Conv2D(32,(3,3),activation='relu',input_shape=(28,28,1)),\n",
        "                                       #Conv2D(64,(3,3),activation='relu'),\n",
        "                                       #Conv2D(64,(3,3),activation='relu'),\n",
        "                                       #Flatten(),\n",
        "                                       #Dense(64,activation='relu'),\n",
        "                                       #Dense(10,activation='softmax')\n",
        "#])"
      ],
      "execution_count": null,
      "outputs": []
    },
    {
      "cell_type": "code",
      "metadata": {
        "id": "7lVYnPBwRM21"
      },
      "source": [
        "#deep_model.compile(optimizer=tf.keras.optimizers.Adam(),\n",
        "            #  loss=tf.keras.losses.sparse_categorical_crossentropy,\n",
        "            #  metrics=['accuracy'])"
      ],
      "execution_count": null,
      "outputs": []
    },
    {
      "cell_type": "code",
      "metadata": {
        "id": "WI_NLmNzZL8g"
      },
      "source": [
        "#deep_model.fit(X_train_deep,Y_train_deep,validation_data=(X_valid_deep,Y_valid_deep),epochs=10)"
      ],
      "execution_count": null,
      "outputs": []
    }
  ]
}