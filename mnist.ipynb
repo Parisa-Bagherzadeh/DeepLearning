{
  "nbformat": 4,
  "nbformat_minor": 0,
  "metadata": {
    "colab": {
      "name": "mnist.ipynb",
      "provenance": [],
      "collapsed_sections": []
    },
    "kernelspec": {
      "display_name": "Python 3",
      "name": "python3"
    },
    "language_info": {
      "name": "python"
    }
  },
  "cells": [
    {
      "cell_type": "code",
      "metadata": {
        "id": "fSi092bbePhh"
      },
      "source": [
        "import tensorflow as tf\n",
        "from tensorflow.keras.layers import Dense\n",
        "import matplotlib.pyplot as plt\n",
        "from sklearn.model_selection import train_test_split\n",
        "from tensorflow.keras.layers import Dense, Conv2D, MaxPool2D, Flatten"
      ],
      "execution_count": 376,
      "outputs": []
    },
    {
      "cell_type": "code",
      "metadata": {
        "id": "bG7RO_zgechK"
      },
      "source": [
        "dataset=tf.keras.datasets.mnist\n",
        "#dataset=tf.keras.datasets.cifar10\n",
        "#dataset=tf.keras.datasets.fashion_mnist\n",
        "(X_train,Y_train),(X_test,Y_test)=dataset.load_data()\n",
        "(X_train_deep,Y_train_deep),(X_test_deep,Y_test_deep)=dataset.load_data()"
      ],
      "execution_count": 377,
      "outputs": []
    },
    {
      "cell_type": "code",
      "metadata": {
        "colab": {
          "base_uri": "https://localhost:8080/",
          "height": 284
        },
        "id": "vaYxhLqxfYj3",
        "outputId": "e63947aa-cb59-42e5-8ea6-ef18daaa5c10"
      },
      "source": [
        "plt.imshow(X_train[0])\n",
        "print(Y_train[0])"
      ],
      "execution_count": 378,
      "outputs": [
        {
          "output_type": "stream",
          "name": "stdout",
          "text": [
            "5\n"
          ]
        },
        {
          "output_type": "display_data",
          "data": {
            "image/png": "[encoded data removed]",
            "text/plain": [
              "<Figure size 432x288 with 1 Axes>"
            ]
          },
          "metadata": {
            "needs_background": "light"
          }
        }
      ]
    },
    {
      "cell_type": "code",
      "metadata": {
        "id": "vZiDcmSNiLqk",
        "colab": {
          "base_uri": "https://localhost:8080/"
        },
        "outputId": "f82a2c7b-eda8-461b-9fe2-2a1929d41423"
      },
      "source": [
        "print(X_train.shape)\n",
        "X_train=X_train.reshape(60000,784)"
      ],
      "execution_count": 379,
      "outputs": [
        {
          "output_type": "stream",
          "name": "stdout",
          "text": [
            "(60000, 28, 28)\n"
          ]
        }
      ]
    },
    {
      "cell_type": "code",
      "metadata": {
        "id": "Nk-qBik0IpPi"
      },
      "source": [
        "X_train,X_valid,Y_train,Y_valid=train_test_split(X_train,Y_train,test_size=0.2,random_state=42)"
      ],
      "execution_count": 380,
      "outputs": []
    },
    {
      "cell_type": "code",
      "metadata": {
        "id": "5Y6wDitSgMZk"
      },
      "source": [
        "model=tf.keras.models.Sequential([\n",
        "    Dense(64,input_dim=784,activation='relu'),#input_layer\n",
        "    Dense(32,activation='relu'),\n",
        "    Dense(10,activation='softmax')#output_layer\n",
        "\n",
        "])"
      ],
      "execution_count": 381,
      "outputs": []
    },
    {
      "cell_type": "code",
      "metadata": {
        "id": "OF_Ar3NGiaXa"
      },
      "source": [
        "model.compile(optimizer=tf.keras.optimizers.Adam(),\n",
        "              loss=tf.keras.losses.sparse_categorical_crossentropy,\n",
        "              metrics=['accuracy'])"
      ],
      "execution_count": 382,
      "outputs": []
    },
    {
      "cell_type": "code",
      "metadata": {
        "colab": {
          "base_uri": "https://localhost:8080/"
        },
        "id": "q28pCruwi3BQ",
        "outputId": "c688cd18-215d-4aad-d33e-2c76eec34ae8"
      },
      "source": [
        "model.fit(X_train,Y_train,validation_data=(X_valid,Y_valid),epochs=10)"
      ],
      "execution_count": 383,
      "outputs": [
        {
          "output_type": "stream",
          "name": "stdout",
          "text": [
            "Epoch 1/10\n",
            "1500/1500 [==============================] - 3s 2ms/step - loss: 2.2218 - accuracy: 0.7961 - val_loss: 0.4354 - val_accuracy: 0.8867\n",
            "Epoch 2/10\n",
            "1500/1500 [==============================] - 2s 2ms/step - loss: 0.3882 - accuracy: 0.8959 - val_loss: 0.3852 - val_accuracy: 0.8968\n",
            "Epoch 3/10\n",
            "1500/1500 [==============================] - 2s 2ms/step - loss: 0.3077 - accuracy: 0.9151 - val_loss: 0.3223 - val_accuracy: 0.9153\n",
            "Epoch 4/10\n",
            "1500/1500 [==============================] - 2s 2ms/step - loss: 0.2838 - accuracy: 0.9226 - val_loss: 0.2760 - val_accuracy: 0.9293\n",
            "Epoch 5/10\n",
            "1500/1500 [==============================] - 2s 2ms/step - loss: 0.2529 - accuracy: 0.9317 - val_loss: 0.2431 - val_accuracy: 0.9362\n",
            "Epoch 6/10\n",
            "1500/1500 [==============================] - 2s 2ms/step - loss: 0.2253 - accuracy: 0.9380 - val_loss: 0.2528 - val_accuracy: 0.9340\n",
            "Epoch 7/10\n",
            "1500/1500 [==============================] - 2s 2ms/step - loss: 0.2013 - accuracy: 0.9439 - val_loss: 0.2368 - val_accuracy: 0.9413\n",
            "Epoch 8/10\n",
            "1500/1500 [==============================] - 2s 2ms/step - loss: 0.1840 - accuracy: 0.9477 - val_loss: 0.2287 - val_accuracy: 0.9397\n",
            "Epoch 9/10\n",
            "1500/1500 [==============================] - 2s 2ms/step - loss: 0.1728 - accuracy: 0.9510 - val_loss: 0.2150 - val_accuracy: 0.9404\n",
            "Epoch 10/10\n",
            "1500/1500 [==============================] - 2s 2ms/step - loss: 0.1585 - accuracy: 0.9554 - val_loss: 0.2117 - val_accuracy: 0.9431\n"
          ]
        },
        {
          "output_type": "execute_result",
          "data": {
            "text/plain": [
              "<keras.callbacks.History at 0x7f8a43973c90>"
            ]
          },
          "metadata": {},
          "execution_count": 383
        }
      ]
    },
    {
      "cell_type": "code",
      "metadata": {
        "colab": {
          "base_uri": "https://localhost:8080/"
        },
        "id": "C3EKcBsWm9MM",
        "outputId": "80e117fd-31c5-4686-f663-205ed78a72ac"
      },
      "source": [
        "print(X_test.shape)\n",
        "print(Y_test.shape)\n",
        "X_test=X_test.reshape(10000,784)\n",
        "print(X_test.shape)"
      ],
      "execution_count": 384,
      "outputs": [
        {
          "output_type": "stream",
          "name": "stdout",
          "text": [
            "(10000, 28, 28)\n",
            "(10000,)\n",
            "(10000, 784)\n"
          ]
        }
      ]
    },
    {
      "cell_type": "code",
      "metadata": {
        "colab": {
          "base_uri": "https://localhost:8080/"
        },
        "id": "SarkV5BUnIl4",
        "outputId": "139ab379-724e-4e30-adba-a7c5b78b230c"
      },
      "source": [
        "\n",
        "accuracy = model.evaluate(X_test,Y_test)\n",
        "\n",
        "print(\"accuracy =\", accuracy)"
      ],
      "execution_count": 385,
      "outputs": [
        {
          "output_type": "stream",
          "name": "stdout",
          "text": [
            "313/313 [==============================] - 0s 1ms/step - loss: 0.2128 - accuracy: 0.9464\n",
            "accuracy = [0.21275360882282257, 0.946399986743927]\n"
          ]
        }
      ]
    },
    {
      "cell_type": "code",
      "metadata": {
        "id": "gQydhZWqZ3hH"
      },
      "source": [
        "#print(X_train_deep.shape,Y_train_deep.shape)"
      ],
      "execution_count": 386,
      "outputs": []
    },
    {
      "cell_type": "code",
      "metadata": {
        "colab": {
          "base_uri": "https://localhost:8080/"
        },
        "id": "ArX3wrkWdjft",
        "outputId": "2e764374-ff4b-4fd4-99c8-28997ff71761"
      },
      "source": [
        "\n",
        "#(X_train_deep, Y_train),(x_test, y_test) = mnist.load_data()\n",
        "X_train_deep, X_test_deep = X_train_deep / 255.0, X_test_deep / 255.0\n",
        "\n",
        "model = tf.keras.models.Sequential([\n",
        "  tf.keras.layers.Flatten(input_shape=(28, 28)),\n",
        "  tf.keras.layers.Dense(128, activation='relu'),\n",
        "  tf.keras.layers.Dropout(0.2),\n",
        "  tf.keras.layers.Dense(10, activation='softmax')\n",
        "])\n",
        "\n",
        "model.compile(optimizer='adam',\n",
        "              loss='sparse_categorical_crossentropy',\n",
        "              metrics=['accuracy'])\n",
        "\n",
        "model.fit(X_train_deep, Y_train_deep, epochs=10)\n",
        "model.evaluate(X_test_deep, Y_test_deep)\n"
      ],
      "execution_count": 387,
      "outputs": [
        {
          "output_type": "stream",
          "name": "stdout",
          "text": [
            "Epoch 1/10\n",
            "1875/1875 [==============================] - 3s 2ms/step - loss: 0.2949 - accuracy: 0.9145\n",
            "Epoch 2/10\n",
            "1875/1875 [==============================] - 3s 2ms/step - loss: 0.1382 - accuracy: 0.9590\n",
            "Epoch 3/10\n",
            "1875/1875 [==============================] - 3s 2ms/step - loss: 0.1029 - accuracy: 0.9682\n",
            "Epoch 4/10\n",
            "1875/1875 [==============================] - 3s 2ms/step - loss: 0.0836 - accuracy: 0.9740\n",
            "Epoch 5/10\n",
            "1875/1875 [==============================] - 3s 2ms/step - loss: 0.0709 - accuracy: 0.9770\n",
            "Epoch 6/10\n",
            "1875/1875 [==============================] - 3s 2ms/step - loss: 0.0627 - accuracy: 0.9798\n",
            "Epoch 7/10\n",
            "1875/1875 [==============================] - 3s 1ms/step - loss: 0.0551 - accuracy: 0.9827\n",
            "Epoch 8/10\n",
            "1875/1875 [==============================] - 3s 2ms/step - loss: 0.0517 - accuracy: 0.9832\n",
            "Epoch 9/10\n",
            "1875/1875 [==============================] - 3s 2ms/step - loss: 0.0451 - accuracy: 0.9852\n",
            "Epoch 10/10\n",
            "1875/1875 [==============================] - 3s 2ms/step - loss: 0.0432 - accuracy: 0.9856\n",
            "313/313 [==============================] - 0s 993us/step - loss: 0.0721 - accuracy: 0.9787\n"
          ]
        },
        {
          "output_type": "execute_result",
          "data": {
            "text/plain": [
              "[0.07205910980701447, 0.9786999821662903]"
            ]
          },
          "metadata": {},
          "execution_count": 387
        }
      ]
    },
    {
      "cell_type": "code",
      "metadata": {
        "id": "oJhww5AMccTk"
      },
      "source": [
        "#X_train_deep, X_test_deep= X_train_deep / 255.0, X_test_deep / 255.0\n",
        "#x_train, x_test = x_train / 255.0, x_test / 255.0\n",
        "#X_valid_deep,Y_valid_deep=X_valid_deep/255.0,Y_valid_deep/255.0"
      ],
      "execution_count": 388,
      "outputs": []
    },
    {
      "cell_type": "code",
      "metadata": {
        "id": "nNV2bDpSbAlR"
      },
      "source": [
        "#X_train_deep,X_valid_deep,Y_train_deep,Y_valid_deep=train_test_split(X_train_deep,Y_train_deep,test_size=0.2,random_state=42)"
      ],
      "execution_count": 389,
      "outputs": []
    },
    {
      "cell_type": "code",
      "metadata": {
        "id": "XQw4CmfxV9xQ"
      },
      "source": [
        "#deep_model=tf.keras.models.Sequential([\n",
        "                                       \n",
        "                                      # Conv2D(32,(3,3),activation='relu',input_shape=(28,28,1)),\n",
        "                                       #Conv2D(64,(3,3),activation='relu'),\n",
        "                                       #Conv2D(64,(3,3),activation='relu'),\n",
        "                                       #Flatten(),\n",
        "                                       #Dense(64,activation='relu'),\n",
        "                                       #Dense(10,activation='softmax')\n",
        "#])"
      ],
      "execution_count": 390,
      "outputs": []
    },
    {
      "cell_type": "code",
      "metadata": {
        "id": "7lVYnPBwRM21"
      },
      "source": [
        "#deep_model.compile(optimizer=tf.keras.optimizers.Adam(),\n",
        "            #  loss=tf.keras.losses.sparse_categorical_crossentropy,\n",
        "            #  metrics=['accuracy'])"
      ],
      "execution_count": 391,
      "outputs": []
    },
    {
      "cell_type": "code",
      "metadata": {
        "id": "WI_NLmNzZL8g"
      },
      "source": [
        "#deep_model.fit(X_train_deep,Y_train_deep,validation_data=(X_valid_deep,Y_valid_deep),epochs=10)"
      ],
      "execution_count": 392,
      "outputs": []
    }
  ]
}