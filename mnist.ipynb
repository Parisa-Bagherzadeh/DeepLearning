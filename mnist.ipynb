{
  "nbformat": 4,
  "nbformat_minor": 0,
  "metadata": {
    "colab": {
      "name": "mnist.ipynb",
      "provenance": [],
      "collapsed_sections": []
    },
    "kernelspec": {
      "display_name": "Python 3",
      "name": "python3"
    },
    "language_info": {
      "name": "python"
    }
  },
  "cells": [
    {
      "cell_type": "code",
      "metadata": {
        "id": "fSi092bbePhh"
      },
      "source": [
        "import tensorflow as tf\n",
        "from tensorflow.keras.layers import Dense\n",
        "import matplotlib.pyplot as plt\n",
        "from sklearn.model_selection import train_test_split\n",
        "from tensorflow.keras.layers import Dense, Conv2D, MaxPool2D, Flatten\n",
        "from tensorflow.keras import layers"
      ],
      "execution_count": 48,
      "outputs": []
    },
    {
      "cell_type": "code",
      "metadata": {
        "id": "bG7RO_zgechK"
      },
      "source": [
        "dataset=tf.keras.datasets.mnist\n",
        "#dataset=tf.keras.datasets.cifar10\n",
        "#dataset=tf.keras.datasets.fashion_mnist\n",
        "(X_train,Y_train),(X_test,Y_test)=dataset.load_data()\n",
        "(X_train_deep,Y_train_deep),(X_test_deep,Y_test_deep)=dataset.load_data()"
      ],
      "execution_count": 49,
      "outputs": []
    },
    {
      "cell_type": "code",
      "metadata": {
        "colab": {
          "base_uri": "https://localhost:8080/",
          "height": 284
        },
        "id": "vaYxhLqxfYj3",
        "outputId": "1fc0bad7-3e32-4281-e4cc-399b7ad05915"
      },
      "source": [
        "plt.imshow(X_train[0])\n",
        "print(Y_train[0])"
      ],
      "execution_count": 50,
      "outputs": [
        {
          "output_type": "stream",
          "name": "stdout",
          "text": [
            "5\n"
          ]
        },
        {
          "output_type": "display_data",
          "data": {
            "image/png": "[encoded data removed]",
            "text/plain": [
              "<Figure size 432x288 with 1 Axes>"
            ]
          },
          "metadata": {
            "needs_background": "light"
          }
        }
      ]
    },
    {
      "cell_type": "code",
      "metadata": {
        "id": "vZiDcmSNiLqk",
        "colab": {
          "base_uri": "https://localhost:8080/"
        },
        "outputId": "8711709a-26f2-4969-c851-e8945e43f212"
      },
      "source": [
        "print(X_train.shape)\n",
        "X_train=X_train.reshape(60000,784)"
      ],
      "execution_count": 51,
      "outputs": [
        {
          "output_type": "stream",
          "name": "stdout",
          "text": [
            "(60000, 28, 28)\n"
          ]
        }
      ]
    },
    {
      "cell_type": "code",
      "metadata": {
        "id": "Nk-qBik0IpPi"
      },
      "source": [
        "X_train,X_valid,Y_train,Y_valid=train_test_split(X_train,Y_train,test_size=0.2,random_state=42)"
      ],
      "execution_count": 52,
      "outputs": []
    },
    {
      "cell_type": "code",
      "metadata": {
        "id": "5Y6wDitSgMZk"
      },
      "source": [
        "model=tf.keras.models.Sequential([\n",
        "    Dense(64,input_dim=784,activation='relu'),#input_layer\n",
        "    Dense(32,activation='relu'),\n",
        "    Dense(10,activation='softmax')#output_layer\n",
        "\n",
        "])"
      ],
      "execution_count": 53,
      "outputs": []
    },
    {
      "cell_type": "code",
      "metadata": {
        "id": "OF_Ar3NGiaXa"
      },
      "source": [
        "model.compile(optimizer=tf.keras.optimizers.Adam(),\n",
        "              loss=tf.keras.losses.sparse_categorical_crossentropy,\n",
        "              metrics=['accuracy'])"
      ],
      "execution_count": 54,
      "outputs": []
    },
    {
      "cell_type": "code",
      "metadata": {
        "colab": {
          "base_uri": "https://localhost:8080/"
        },
        "id": "q28pCruwi3BQ",
        "outputId": "8787ed04-75cc-41b2-93cd-990d661b79ae"
      },
      "source": [
        "model.fit(X_train,Y_train,validation_data=(X_valid,Y_valid),epochs=10)"
      ],
      "execution_count": 55,
      "outputs": [
        {
          "output_type": "stream",
          "name": "stdout",
          "text": [
            "Epoch 1/10\n",
            "1500/1500 [==============================] - 3s 2ms/step - loss: 2.0298 - accuracy: 0.8021 - val_loss: 0.4570 - val_accuracy: 0.8808\n",
            "Epoch 2/10\n",
            "1500/1500 [==============================] - 4s 2ms/step - loss: 0.3713 - accuracy: 0.9000 - val_loss: 0.3495 - val_accuracy: 0.9092\n",
            "Epoch 3/10\n",
            "1500/1500 [==============================] - 4s 3ms/step - loss: 0.2827 - accuracy: 0.9228 - val_loss: 0.2731 - val_accuracy: 0.9297\n",
            "Epoch 4/10\n",
            "1500/1500 [==============================] - 3s 2ms/step - loss: 0.2407 - accuracy: 0.9336 - val_loss: 0.2519 - val_accuracy: 0.9323\n",
            "Epoch 5/10\n",
            "1500/1500 [==============================] - 3s 2ms/step - loss: 0.2038 - accuracy: 0.9433 - val_loss: 0.2550 - val_accuracy: 0.9373\n",
            "Epoch 6/10\n",
            "1500/1500 [==============================] - 3s 2ms/step - loss: 0.1877 - accuracy: 0.9488 - val_loss: 0.2306 - val_accuracy: 0.9396\n",
            "Epoch 7/10\n",
            "1500/1500 [==============================] - 3s 2ms/step - loss: 0.1663 - accuracy: 0.9537 - val_loss: 0.2410 - val_accuracy: 0.9465\n",
            "Epoch 8/10\n",
            "1500/1500 [==============================] - 3s 2ms/step - loss: 0.1476 - accuracy: 0.9585 - val_loss: 0.2140 - val_accuracy: 0.9532\n",
            "Epoch 9/10\n",
            "1500/1500 [==============================] - 3s 2ms/step - loss: 0.1389 - accuracy: 0.9618 - val_loss: 0.1891 - val_accuracy: 0.9524\n",
            "Epoch 10/10\n",
            "1500/1500 [==============================] - 3s 2ms/step - loss: 0.1243 - accuracy: 0.9645 - val_loss: 0.2113 - val_accuracy: 0.9513\n"
          ]
        },
        {
          "output_type": "execute_result",
          "data": {
            "text/plain": [
              "<keras.callbacks.History at 0x7f44872ba790>"
            ]
          },
          "metadata": {},
          "execution_count": 55
        }
      ]
    },
    {
      "cell_type": "code",
      "metadata": {
        "colab": {
          "base_uri": "https://localhost:8080/"
        },
        "id": "C3EKcBsWm9MM",
        "outputId": "87f02be2-5c8c-45ea-d467-c841e9af0824"
      },
      "source": [
        "print(X_test.shape)\n",
        "print(Y_test.shape)\n",
        "X_test=X_test.reshape(10000,784)\n",
        "print(X_test.shape)"
      ],
      "execution_count": 56,
      "outputs": [
        {
          "output_type": "stream",
          "name": "stdout",
          "text": [
            "(10000, 28, 28)\n",
            "(10000,)\n",
            "(10000, 784)\n"
          ]
        }
      ]
    },
    {
      "cell_type": "code",
      "metadata": {
        "colab": {
          "base_uri": "https://localhost:8080/"
        },
        "id": "SarkV5BUnIl4",
        "outputId": "8eb76ea7-c938-4b1a-837c-96204186a8be"
      },
      "source": [
        "\n",
        "accuracy = model.evaluate(X_test,Y_test)\n",
        "\n",
        "print(\"accuracy =\", accuracy)"
      ],
      "execution_count": 57,
      "outputs": [
        {
          "output_type": "stream",
          "name": "stdout",
          "text": [
            "313/313 [==============================] - 1s 2ms/step - loss: 0.1917 - accuracy: 0.9537\n",
            "accuracy = [0.19168242812156677, 0.9537000060081482]\n"
          ]
        }
      ]
    },
    {
      "cell_type": "code",
      "metadata": {
        "id": "gQydhZWqZ3hH"
      },
      "source": [
        "#print(X_train_deep.shape,Y_train_deep.shape)"
      ],
      "execution_count": 58,
      "outputs": []
    },
    {
      "cell_type": "code",
      "metadata": {
        "colab": {
          "base_uri": "https://localhost:8080/"
        },
        "id": "ArX3wrkWdjft",
        "outputId": "e8fef08b-6226-46e6-dee4-d558f9ee4340"
      },
      "source": [
        "\n",
        "#(X_train_deep, Y_train),(x_test, y_test) = mnist.load_data()\n",
        "X_train_deep, X_test_deep = X_train_deep / 255.0, X_test_deep / 255.0\n",
        "\n",
        "model = tf.keras.models.Sequential([\n",
        "  tf.keras.layers.Flatten(input_shape=(28, 28)),\n",
        "  tf.keras.layers.Dense(128, activation='relu'),\n",
        "  tf.keras.layers.Dropout(0.2),\n",
        "  tf.keras.layers.Dense(10, activation='softmax')\n",
        "])\n",
        "\n",
        "model.compile(optimizer='adam',\n",
        "              loss='sparse_categorical_crossentropy',\n",
        "              metrics=['accuracy'])\n",
        "\n",
        "model.fit(X_train_deep, Y_train_deep, epochs=10)\n",
        "model.evaluate(X_test_deep, Y_test_deep)\n"
      ],
      "execution_count": 59,
      "outputs": [
        {
          "output_type": "stream",
          "name": "stdout",
          "text": [
            "Epoch 1/10\n",
            "1875/1875 [==============================] - 4s 2ms/step - loss: 0.2951 - accuracy: 0.9151\n",
            "Epoch 2/10\n",
            "1875/1875 [==============================] - 3s 2ms/step - loss: 0.1426 - accuracy: 0.9577\n",
            "Epoch 3/10\n",
            "1875/1875 [==============================] - 3s 2ms/step - loss: 0.1072 - accuracy: 0.9673\n",
            "Epoch 4/10\n",
            "1875/1875 [==============================] - 3s 2ms/step - loss: 0.0890 - accuracy: 0.9724\n",
            "Epoch 5/10\n",
            "1875/1875 [==============================] - 3s 2ms/step - loss: 0.0757 - accuracy: 0.9756\n",
            "Epoch 6/10\n",
            "1875/1875 [==============================] - 3s 2ms/step - loss: 0.0684 - accuracy: 0.9780\n",
            "Epoch 7/10\n",
            "1875/1875 [==============================] - 3s 2ms/step - loss: 0.0602 - accuracy: 0.9803\n",
            "Epoch 8/10\n",
            "1875/1875 [==============================] - 3s 2ms/step - loss: 0.0551 - accuracy: 0.9825\n",
            "Epoch 9/10\n",
            "1875/1875 [==============================] - 3s 2ms/step - loss: 0.0485 - accuracy: 0.9842\n",
            "Epoch 10/10\n",
            "1875/1875 [==============================] - 3s 2ms/step - loss: 0.0454 - accuracy: 0.9851\n",
            "313/313 [==============================] - 1s 1ms/step - loss: 0.0751 - accuracy: 0.9787\n"
          ]
        },
        {
          "output_type": "execute_result",
          "data": {
            "text/plain": [
              "[0.0750579908490181, 0.9786999821662903]"
            ]
          },
          "metadata": {},
          "execution_count": 59
        }
      ]
    },
    {
      "cell_type": "code",
      "metadata": {
        "colab": {
          "base_uri": "https://localhost:8080/"
        },
        "id": "ectBc55RwGc4",
        "outputId": "d407c02f-1fa4-453a-f04e-0478f3f72809"
      },
      "source": [
        "X_train_deep, X_test_deep = X_train_deep / 255.0, X_test_deep / 255.0\n",
        "\n",
        "X_train_deep=X_train_deep.reshape(X_train_deep.shape[0],X_train_deep.shape[1],X_train_deep.shape[2],1)\n",
        "X_test_deep=X_test_deep.reshape(X_test_deep.shape[0],X_test_deep.shape[1],X_test_deep.shape[2],1)\n",
        "deep_model=tf.keras.models.Sequential([\n",
        "                                       layers.Conv2D(32,(5,5),activation='relu',input_shape=(28,28,1)),\n",
        "                                       #layers.Conv2D(64,(3,3),activation='relu'),\n",
        "                                       layers.Flatten(),\n",
        "                                       layers.Dense(64,activation='relu'),\n",
        "                                       layers.Dense(10,activation='softmax')\n",
        "])\n",
        "deep_model.compile(optimizer=tf.keras.optimizers.Adam(),\n",
        "              loss=tf.keras.losses.sparse_categorical_crossentropy,\n",
        "              metrics='accuracy')\n",
        "\n",
        "deep_model.fit(X_train_deep, Y_train_deep, epochs=2)\n",
        "deep_model.evaluate(X_test_deep, Y_test_deep)\n"
      ],
      "execution_count": 60,
      "outputs": [
        {
          "output_type": "stream",
          "name": "stdout",
          "text": [
            "Epoch 1/2\n",
            "1875/1875 [==============================] - 36s 19ms/step - loss: 0.8708 - accuracy: 0.7532\n",
            "Epoch 2/2\n",
            "1875/1875 [==============================] - 36s 19ms/step - loss: 0.3843 - accuracy: 0.8878\n",
            "313/313 [==============================] - 2s 5ms/step - loss: 0.3388 - accuracy: 0.9007\n"
          ]
        },
        {
          "output_type": "execute_result",
          "data": {
            "text/plain": [
              "[0.3387521505355835, 0.9006999731063843]"
            ]
          },
          "metadata": {},
          "execution_count": 60
        }
      ]
    },
    {
      "cell_type": "code",
      "metadata": {
        "id": "oJhww5AMccTk"
      },
      "source": [
        "#X_train_deep, X_test_deep= X_train_deep / 255.0, X_test_deep / 255.0\n",
        "#x_train, x_test = x_train / 255.0, x_test / 255.0\n",
        "#X_valid_deep,Y_valid_deep=X_valid_deep/255.0,Y_valid_deep/255.0"
      ],
      "execution_count": 61,
      "outputs": []
    },
    {
      "cell_type": "code",
      "metadata": {
        "id": "nNV2bDpSbAlR"
      },
      "source": [
        "#X_train_deep,X_valid_deep,Y_train_deep,Y_valid_deep=train_test_split(X_train_deep,Y_train_deep,test_size=0.2,random_state=42)"
      ],
      "execution_count": 62,
      "outputs": []
    },
    {
      "cell_type": "code",
      "metadata": {
        "id": "XQw4CmfxV9xQ"
      },
      "source": [
        "#deep_model=tf.keras.models.Sequential([\n",
        "                                       \n",
        "                                      # Conv2D(32,(3,3),activation='relu',input_shape=(28,28,1)),\n",
        "                                       #Conv2D(64,(3,3),activation='relu'),\n",
        "                                       #Conv2D(64,(3,3),activation='relu'),\n",
        "                                       #Flatten(),\n",
        "                                       #Dense(64,activation='relu'),\n",
        "                                       #Dense(10,activation='softmax')\n",
        "#])"
      ],
      "execution_count": 63,
      "outputs": []
    },
    {
      "cell_type": "code",
      "metadata": {
        "id": "7lVYnPBwRM21"
      },
      "source": [
        "#deep_model.compile(optimizer=tf.keras.optimizers.Adam(),\n",
        "            #  loss=tf.keras.losses.sparse_categorical_crossentropy,\n",
        "            #  metrics=['accuracy'])"
      ],
      "execution_count": 64,
      "outputs": []
    },
    {
      "cell_type": "code",
      "metadata": {
        "id": "WI_NLmNzZL8g"
      },
      "source": [
        "#deep_model.fit(X_train_deep,Y_train_deep,validation_data=(X_valid_deep,Y_valid_deep),epochs=10)"
      ],
      "execution_count": 65,
      "outputs": []
    }
  ]
}