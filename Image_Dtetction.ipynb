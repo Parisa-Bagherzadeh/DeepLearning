{
  "nbformat": 4,
  "nbformat_minor": 0,
  "metadata": {
    "colab": {
      "name": "Image_Dtetction.ipynb",
      "provenance": []
    },
    "kernelspec": {
      "name": "python3",
      "display_name": "Python 3"
    },
    "language_info": {
      "name": "python"
    },
    "accelerator": "GPU"
  },
  "cells": [
    {
      "cell_type": "code",
      "metadata": {
        "id": "lX2MTr6MIp3H"
      },
      "source": [
        "import tensorflow as tf\n",
        "from tensorflow.keras.preprocessing.image import ImageDataGenerator\n",
        "from tensorflow.keras.layers import Dense,Conv2D,MaxPool2D,Flatten\n",
        "import numpy as np\n"
      ],
      "execution_count": 12,
      "outputs": []
    },
    {
      "cell_type": "code",
      "metadata": {
        "colab": {
          "base_uri": "https://localhost:8080/"
        },
        "id": "1jbUhJApga0z",
        "outputId": "cd2532dd-76b2-4890-e2ee-ad67d1a23d5d"
      },
      "source": [
        "from google.colab import drive\n",
        "drive.mount('/content/drive')"
      ],
      "execution_count": 13,
      "outputs": [
        {
          "output_type": "stream",
          "name": "stdout",
          "text": [
            "Drive already mounted at /content/drive; to attempt to forcibly remount, call drive.mount(\"/content/drive\", force_remount=True).\n"
          ]
        }
      ]
    },
    {
      "cell_type": "code",
      "metadata": {
        "id": "cM7Dj3FoJq2L"
      },
      "source": [
        "width=height=224"
      ],
      "execution_count": 14,
      "outputs": []
    },
    {
      "cell_type": "code",
      "metadata": {
        "colab": {
          "base_uri": "https://localhost:8080/"
        },
        "id": "DejncCHRJwdu",
        "outputId": "d565fcc1-acf7-4346-d5b0-45ca5481dee3"
      },
      "source": [
        "image_data_generator=ImageDataGenerator(\n",
        "    rescale=1./255,\n",
        "    horizontal_flip=True,\n",
        "\n",
        ")\n",
        "\n",
        "train_data=image_data_generator.flow_from_directory('/content/drive/MyDrive/datasets/Besco-Detection',\n",
        "                                                    target_size=(width,height),\n",
        "                                                    class_mode='categorical')\n"
      ],
      "execution_count": 15,
      "outputs": [
        {
          "output_type": "stream",
          "name": "stdout",
          "text": [
            "Found 156 images belonging to 2 classes.\n"
          ]
        }
      ]
    },
    {
      "cell_type": "code",
      "metadata": {
        "id": "AW4QrKaVKgW4"
      },
      "source": [
        "model=tf.keras.models.Sequential([\n",
        "                                  Conv2D(32,(3,3),activation='relu',input_shape=(width,height,3)),\n",
        "                                  Conv2D(32,(3,3),activation='relu'),\n",
        "                                  MaxPool2D((2,2)),\n",
        "                                  Conv2D(32,(3,3),activation='relu'),\n",
        "                                  Conv2D(32,(3,3),activation='relu'),\n",
        "                                  MaxPool2D((2,2)),\n",
        "                                  Conv2D(64,(3,3),activation='relu'),\n",
        "                                  Conv2D(64,(3,3),activation='relu'),\n",
        "                                  MaxPool2D((2,2)),\n",
        "                                  Conv2D(64,(3,3),activation='relu'),\n",
        "                                  Conv2D(64,(3,3),activation='relu'),\n",
        "                                  MaxPool2D((2,2)),\n",
        "                                  Flatten(),\n",
        "                                  Dense(128,activation='relu'),\n",
        "                                  Dense(32,activation='relu'),\n",
        "                                  Dense(2,activation='softmax')\n",
        "\n",
        "\n",
        "\n",
        "])"
      ],
      "execution_count": 16,
      "outputs": []
    },
    {
      "cell_type": "code",
      "metadata": {
        "colab": {
          "base_uri": "https://localhost:8080/"
        },
        "id": "mVwthq-FQk6W",
        "outputId": "39dca544-e226-44f6-a987-4d35e6de9034"
      },
      "source": [
        "model.summary()"
      ],
      "execution_count": 17,
      "outputs": [
        {
          "output_type": "stream",
          "name": "stdout",
          "text": [
            "Model: \"sequential_1\"\n",
            "_________________________________________________________________\n",
            "Layer (type)                 Output Shape              Param #   \n",
            "=================================================================\n",
            "conv2d_8 (Conv2D)            (None, 222, 222, 32)      896       \n",
            "_________________________________________________________________\n",
            "conv2d_9 (Conv2D)            (None, 220, 220, 32)      9248      \n",
            "_________________________________________________________________\n",
            "max_pooling2d_4 (MaxPooling2 (None, 110, 110, 32)      0         \n",
            "_________________________________________________________________\n",
            "conv2d_10 (Conv2D)           (None, 108, 108, 32)      9248      \n",
            "_________________________________________________________________\n",
            "conv2d_11 (Conv2D)           (None, 106, 106, 32)      9248      \n",
            "_________________________________________________________________\n",
            "max_pooling2d_5 (MaxPooling2 (None, 53, 53, 32)        0         \n",
            "_________________________________________________________________\n",
            "conv2d_12 (Conv2D)           (None, 51, 51, 64)        18496     \n",
            "_________________________________________________________________\n",
            "conv2d_13 (Conv2D)           (None, 49, 49, 64)        36928     \n",
            "_________________________________________________________________\n",
            "max_pooling2d_6 (MaxPooling2 (None, 24, 24, 64)        0         \n",
            "_________________________________________________________________\n",
            "conv2d_14 (Conv2D)           (None, 22, 22, 64)        36928     \n",
            "_________________________________________________________________\n",
            "conv2d_15 (Conv2D)           (None, 20, 20, 64)        36928     \n",
            "_________________________________________________________________\n",
            "max_pooling2d_7 (MaxPooling2 (None, 10, 10, 64)        0         \n",
            "_________________________________________________________________\n",
            "flatten_1 (Flatten)          (None, 6400)              0         \n",
            "_________________________________________________________________\n",
            "dense_3 (Dense)              (None, 128)               819328    \n",
            "_________________________________________________________________\n",
            "dense_4 (Dense)              (None, 32)                4128      \n",
            "_________________________________________________________________\n",
            "dense_5 (Dense)              (None, 2)                 66        \n",
            "=================================================================\n",
            "Total params: 981,442\n",
            "Trainable params: 981,442\n",
            "Non-trainable params: 0\n",
            "_________________________________________________________________\n"
          ]
        }
      ]
    },
    {
      "cell_type": "code",
      "metadata": {
        "id": "7MkSxlJNSN-1"
      },
      "source": [
        "model.compile(optimizer=tf.keras.optimizers.SGD(),\n",
        "              loss=tf.keras.losses.categorical_crossentropy,\n",
        "              metrics='accuracy')"
      ],
      "execution_count": 18,
      "outputs": []
    },
    {
      "cell_type": "code",
      "metadata": {
        "colab": {
          "base_uri": "https://localhost:8080/"
        },
        "id": "Q82QwzhkSEg_",
        "outputId": "9efad707-c77d-49b3-e5e8-1cd1de3af0f4"
      },
      "source": [
        "model.fit(train_data,epochs=10)"
      ],
      "execution_count": 19,
      "outputs": [
        {
          "output_type": "stream",
          "name": "stdout",
          "text": [
            "Epoch 1/10\n",
            "5/5 [==============================] - 3s 392ms/step - loss: 0.6930 - accuracy: 0.4808\n",
            "Epoch 2/10\n",
            "5/5 [==============================] - 2s 398ms/step - loss: 0.6925 - accuracy: 0.5577\n",
            "Epoch 3/10\n",
            "5/5 [==============================] - 2s 396ms/step - loss: 0.6916 - accuracy: 0.5449\n",
            "Epoch 4/10\n",
            "5/5 [==============================] - 2s 393ms/step - loss: 0.6908 - accuracy: 0.5705\n",
            "Epoch 5/10\n",
            "5/5 [==============================] - 2s 415ms/step - loss: 0.6901 - accuracy: 0.6154\n",
            "Epoch 6/10\n",
            "5/5 [==============================] - 2s 388ms/step - loss: 0.6882 - accuracy: 0.7692\n",
            "Epoch 7/10\n",
            "5/5 [==============================] - 2s 401ms/step - loss: 0.6872 - accuracy: 0.7115\n",
            "Epoch 8/10\n",
            "5/5 [==============================] - 2s 413ms/step - loss: 0.6873 - accuracy: 0.6987\n",
            "Epoch 9/10\n",
            "5/5 [==============================] - 2s 420ms/step - loss: 0.6866 - accuracy: 0.5577\n",
            "Epoch 10/10\n",
            "5/5 [==============================] - 2s 415ms/step - loss: 0.6844 - accuracy: 0.6667\n"
          ]
        },
        {
          "output_type": "execute_result",
          "data": {
            "text/plain": [
              "<keras.callbacks.History at 0x7f31dc0b6890>"
            ]
          },
          "metadata": {},
          "execution_count": 19
        }
      ]
    },
    {
      "cell_type": "code",
      "metadata": {
        "id": "B4KllARxS4Ue"
      },
      "source": [
        "#test the model\n",
        "#model.evaluate()"
      ],
      "execution_count": 20,
      "outputs": []
    },
    {
      "cell_type": "code",
      "metadata": {
        "colab": {
          "base_uri": "https://localhost:8080/"
        },
        "id": "FSj65E93S7g8",
        "outputId": "f8bdcf61-973b-4216-abbe-33f9833bc869"
      },
      "source": [
        "#predict the label of images\n",
        "import cv2\n",
        "image=cv2.imread('/content/drive/MyDrive/datasets/Besco-Detection/Normal-People/01.jpeg')\n",
        "image=cv2.cvtColor(image,cv2.COLOR_BGR2RGB)\n",
        "image=cv2.resize(image,(width,height))\n",
        "\n",
        "image=image/255\n",
        "image=image.reshape(1,224,224,3)\n",
        "pred=model.predict(image)\n",
        "pred\n"
      ],
      "execution_count": 21,
      "outputs": [
        {
          "output_type": "execute_result",
          "data": {
            "text/plain": [
              "array([[0.5041488, 0.4958512]], dtype=float32)"
            ]
          },
          "metadata": {},
          "execution_count": 21
        }
      ]
    },
    {
      "cell_type": "code",
      "metadata": {
        "colab": {
          "base_uri": "https://localhost:8080/"
        },
        "id": "9U_cqGJcWHdp",
        "outputId": "94d8db37-89fe-4cb1-df59-75a51910af99"
      },
      "source": [
        "np.argmax(pred)"
      ],
      "execution_count": 22,
      "outputs": [
        {
          "output_type": "execute_result",
          "data": {
            "text/plain": [
              "0"
            ]
          },
          "metadata": {},
          "execution_count": 22
        }
      ]
    }
  ]
}