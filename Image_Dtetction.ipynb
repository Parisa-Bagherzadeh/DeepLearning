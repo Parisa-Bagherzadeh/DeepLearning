{
  "nbformat": 4,
  "nbformat_minor": 0,
  "metadata": {
    "colab": {
      "name": "Image_Dtetction.ipynb",
      "provenance": []
    },
    "kernelspec": {
      "name": "python3",
      "display_name": "Python 3"
    },
    "language_info": {
      "name": "python"
    }
  },
  "cells": [
    {
      "cell_type": "code",
      "metadata": {
        "id": "lX2MTr6MIp3H"
      },
      "source": [
        "import tensorflow as tf\n",
        "from tensorflow.keras.preprocessing.image import ImageDataGenerator\n",
        "from tensorflow.keras.layers import Dense,Conv2D,MaxPool2D,Flatten\n",
        "import numpy as np\n"
      ],
      "execution_count": 37,
      "outputs": []
    },
    {
      "cell_type": "code",
      "metadata": {
        "id": "cM7Dj3FoJq2L"
      },
      "source": [
        "width=height=224"
      ],
      "execution_count": 38,
      "outputs": []
    },
    {
      "cell_type": "code",
      "metadata": {
        "colab": {
          "base_uri": "https://localhost:8080/"
        },
        "id": "DejncCHRJwdu",
        "outputId": "aeaa5688-cd93-42fc-ae35-682b1e785dd8"
      },
      "source": [
        "image_data_generator=ImageDataGenerator(\n",
        "    rescale=1./255,\n",
        "    horizontal_flip=True,\n",
        "\n",
        ")\n",
        "\n",
        "train_data=image_data_generator.flow_from_directory('/content/drive/MyDrive/datasets/Besco-Detection',\n",
        "                                                    target_size=(width,height),\n",
        "                                                    class_mode='categorical')\n"
      ],
      "execution_count": 39,
      "outputs": [
        {
          "output_type": "stream",
          "name": "stdout",
          "text": [
            "Found 115 images belonging to 2 classes.\n"
          ]
        }
      ]
    },
    {
      "cell_type": "code",
      "metadata": {
        "id": "AW4QrKaVKgW4"
      },
      "source": [
        "model=tf.keras.models.Sequential([\n",
        "                                  Conv2D(32,(3,3),activation='relu',input_shape=(width,height,3)),\n",
        "                                  Conv2D(32,(3,3),activation='relu'),\n",
        "                                  MaxPool2D((2,2)),\n",
        "                                  Conv2D(32,(3,3),activation='relu'),\n",
        "                                  Conv2D(32,(3,3),activation='relu'),\n",
        "                                  MaxPool2D((2,2)),\n",
        "                                  Conv2D(64,(3,3),activation='relu'),\n",
        "                                  Conv2D(64,(3,3),activation='relu'),\n",
        "                                  MaxPool2D((2,2)),\n",
        "                                  Conv2D(64,(3,3),activation='relu'),\n",
        "                                  Conv2D(64,(3,3),activation='relu'),\n",
        "                                  MaxPool2D((2,2)),\n",
        "                                  Flatten(),\n",
        "                                  Dense(128,activation='relu'),\n",
        "                                  Dense(32,activation='relu'),\n",
        "                                  Dense(2,activation='softmax')\n",
        "\n",
        "\n",
        "\n",
        "])"
      ],
      "execution_count": 40,
      "outputs": []
    },
    {
      "cell_type": "code",
      "metadata": {
        "colab": {
          "base_uri": "https://localhost:8080/"
        },
        "id": "mVwthq-FQk6W",
        "outputId": "90554377-e609-45bd-91e1-633a73a15d0a"
      },
      "source": [
        "model.summary()"
      ],
      "execution_count": 41,
      "outputs": [
        {
          "output_type": "stream",
          "name": "stdout",
          "text": [
            "Model: \"sequential_2\"\n",
            "_________________________________________________________________\n",
            "Layer (type)                 Output Shape              Param #   \n",
            "=================================================================\n",
            "conv2d_16 (Conv2D)           (None, 222, 222, 32)      896       \n",
            "_________________________________________________________________\n",
            "conv2d_17 (Conv2D)           (None, 220, 220, 32)      9248      \n",
            "_________________________________________________________________\n",
            "max_pooling2d_8 (MaxPooling2 (None, 110, 110, 32)      0         \n",
            "_________________________________________________________________\n",
            "conv2d_18 (Conv2D)           (None, 108, 108, 32)      9248      \n",
            "_________________________________________________________________\n",
            "conv2d_19 (Conv2D)           (None, 106, 106, 32)      9248      \n",
            "_________________________________________________________________\n",
            "max_pooling2d_9 (MaxPooling2 (None, 53, 53, 32)        0         \n",
            "_________________________________________________________________\n",
            "conv2d_20 (Conv2D)           (None, 51, 51, 64)        18496     \n",
            "_________________________________________________________________\n",
            "conv2d_21 (Conv2D)           (None, 49, 49, 64)        36928     \n",
            "_________________________________________________________________\n",
            "max_pooling2d_10 (MaxPooling (None, 24, 24, 64)        0         \n",
            "_________________________________________________________________\n",
            "conv2d_22 (Conv2D)           (None, 22, 22, 64)        36928     \n",
            "_________________________________________________________________\n",
            "conv2d_23 (Conv2D)           (None, 20, 20, 64)        36928     \n",
            "_________________________________________________________________\n",
            "max_pooling2d_11 (MaxPooling (None, 10, 10, 64)        0         \n",
            "_________________________________________________________________\n",
            "flatten_2 (Flatten)          (None, 6400)              0         \n",
            "_________________________________________________________________\n",
            "dense_6 (Dense)              (None, 128)               819328    \n",
            "_________________________________________________________________\n",
            "dense_7 (Dense)              (None, 32)                4128      \n",
            "_________________________________________________________________\n",
            "dense_8 (Dense)              (None, 2)                 66        \n",
            "=================================================================\n",
            "Total params: 981,442\n",
            "Trainable params: 981,442\n",
            "Non-trainable params: 0\n",
            "_________________________________________________________________\n"
          ]
        }
      ]
    },
    {
      "cell_type": "code",
      "metadata": {
        "id": "7MkSxlJNSN-1"
      },
      "source": [
        "model.compile(optimizer=tf.keras.optimizers.SGD(),\n",
        "              loss=tf.keras.losses.categorical_crossentropy,\n",
        "              metrics='accuracy')"
      ],
      "execution_count": 42,
      "outputs": []
    },
    {
      "cell_type": "code",
      "metadata": {
        "colab": {
          "base_uri": "https://localhost:8080/"
        },
        "id": "Q82QwzhkSEg_",
        "outputId": "40b22b26-ee7f-4cd2-9d66-4d7df1315496"
      },
      "source": [
        "model.fit(train_data,epochs=40)"
      ],
      "execution_count": 43,
      "outputs": [
        {
          "output_type": "stream",
          "name": "stdout",
          "text": [
            "Epoch 1/40\n",
            "4/4 [==============================] - 16s 4s/step - loss: 0.6892 - accuracy: 0.6000\n",
            "Epoch 2/40\n",
            "4/4 [==============================] - 15s 4s/step - loss: 0.6859 - accuracy: 0.6000\n",
            "Epoch 3/40\n",
            "4/4 [==============================] - 15s 4s/step - loss: 0.6837 - accuracy: 0.6000\n",
            "Epoch 4/40\n",
            "4/4 [==============================] - 15s 4s/step - loss: 0.6815 - accuracy: 0.6000\n",
            "Epoch 5/40\n",
            "4/4 [==============================] - 15s 4s/step - loss: 0.6798 - accuracy: 0.6000\n",
            "Epoch 6/40\n",
            "4/4 [==============================] - 15s 4s/step - loss: 0.6775 - accuracy: 0.6000\n",
            "Epoch 7/40\n",
            "4/4 [==============================] - 15s 4s/step - loss: 0.6766 - accuracy: 0.6000\n",
            "Epoch 8/40\n",
            "4/4 [==============================] - 15s 4s/step - loss: 0.6747 - accuracy: 0.6000\n",
            "Epoch 9/40\n",
            "4/4 [==============================] - 15s 4s/step - loss: 0.6738 - accuracy: 0.6000\n",
            "Epoch 10/40\n",
            "4/4 [==============================] - 15s 4s/step - loss: 0.6717 - accuracy: 0.6000\n",
            "Epoch 11/40\n",
            "4/4 [==============================] - 15s 4s/step - loss: 0.6714 - accuracy: 0.6000\n",
            "Epoch 12/40\n",
            "4/4 [==============================] - 15s 4s/step - loss: 0.6695 - accuracy: 0.6000\n",
            "Epoch 13/40\n",
            "4/4 [==============================] - 15s 4s/step - loss: 0.6689 - accuracy: 0.6000\n",
            "Epoch 14/40\n",
            "4/4 [==============================] - 15s 4s/step - loss: 0.6691 - accuracy: 0.6000\n",
            "Epoch 15/40\n",
            "4/4 [==============================] - 15s 4s/step - loss: 0.6706 - accuracy: 0.6000\n",
            "Epoch 16/40\n",
            "4/4 [==============================] - 15s 4s/step - loss: 0.6692 - accuracy: 0.6000\n",
            "Epoch 17/40\n",
            "4/4 [==============================] - 15s 4s/step - loss: 0.6683 - accuracy: 0.6000\n",
            "Epoch 18/40\n",
            "4/4 [==============================] - 15s 4s/step - loss: 0.6697 - accuracy: 0.6000\n",
            "Epoch 19/40\n",
            "4/4 [==============================] - 15s 4s/step - loss: 0.6667 - accuracy: 0.6000\n",
            "Epoch 20/40\n",
            "4/4 [==============================] - 15s 4s/step - loss: 0.6657 - accuracy: 0.6000\n",
            "Epoch 21/40\n",
            "4/4 [==============================] - 15s 4s/step - loss: 0.6659 - accuracy: 0.6000\n",
            "Epoch 22/40\n",
            "4/4 [==============================] - 15s 4s/step - loss: 0.6655 - accuracy: 0.6000\n",
            "Epoch 23/40\n",
            "4/4 [==============================] - 15s 4s/step - loss: 0.6638 - accuracy: 0.6000\n",
            "Epoch 24/40\n",
            "4/4 [==============================] - 15s 4s/step - loss: 0.6634 - accuracy: 0.6000\n",
            "Epoch 25/40\n",
            "4/4 [==============================] - 15s 4s/step - loss: 0.6630 - accuracy: 0.6000\n",
            "Epoch 26/40\n",
            "4/4 [==============================] - 15s 4s/step - loss: 0.6621 - accuracy: 0.6000\n",
            "Epoch 27/40\n",
            "4/4 [==============================] - 15s 4s/step - loss: 0.6616 - accuracy: 0.6000\n",
            "Epoch 28/40\n",
            "4/4 [==============================] - 15s 4s/step - loss: 0.6593 - accuracy: 0.6000\n",
            "Epoch 29/40\n",
            "4/4 [==============================] - 15s 4s/step - loss: 0.6587 - accuracy: 0.6000\n",
            "Epoch 30/40\n",
            "4/4 [==============================] - 15s 4s/step - loss: 0.6583 - accuracy: 0.6000\n",
            "Epoch 31/40\n",
            "4/4 [==============================] - 15s 4s/step - loss: 0.6559 - accuracy: 0.6000\n",
            "Epoch 32/40\n",
            "4/4 [==============================] - 15s 4s/step - loss: 0.6539 - accuracy: 0.6000\n",
            "Epoch 33/40\n",
            "4/4 [==============================] - 15s 4s/step - loss: 0.6518 - accuracy: 0.6000\n",
            "Epoch 34/40\n",
            "4/4 [==============================] - 15s 4s/step - loss: 0.6500 - accuracy: 0.6000\n",
            "Epoch 35/40\n",
            "4/4 [==============================] - 15s 4s/step - loss: 0.6442 - accuracy: 0.6000\n",
            "Epoch 36/40\n",
            "4/4 [==============================] - 15s 4s/step - loss: 0.6460 - accuracy: 0.6000\n",
            "Epoch 37/40\n",
            "4/4 [==============================] - 15s 4s/step - loss: 0.6386 - accuracy: 0.6000\n",
            "Epoch 38/40\n",
            "4/4 [==============================] - 15s 4s/step - loss: 0.6426 - accuracy: 0.6000\n",
            "Epoch 39/40\n",
            "4/4 [==============================] - 17s 4s/step - loss: 0.6362 - accuracy: 0.6000\n",
            "Epoch 40/40\n",
            "4/4 [==============================] - 15s 4s/step - loss: 0.6263 - accuracy: 0.6000\n"
          ]
        },
        {
          "output_type": "execute_result",
          "data": {
            "text/plain": [
              "<keras.callbacks.History at 0x7f2f64e76650>"
            ]
          },
          "metadata": {},
          "execution_count": 43
        }
      ]
    },
    {
      "cell_type": "code",
      "metadata": {
        "id": "B4KllARxS4Ue"
      },
      "source": [
        "#test the model\n",
        "#model.evaluate()"
      ],
      "execution_count": 44,
      "outputs": []
    },
    {
      "cell_type": "code",
      "metadata": {
        "colab": {
          "base_uri": "https://localhost:8080/"
        },
        "id": "FSj65E93S7g8",
        "outputId": "2d045256-6596-421d-ce2c-b0a16d564f53"
      },
      "source": [
        "#predict the label of images\n",
        "import cv2\n",
        "image=cv2.imread('/content/drive/MyDrive/datasets/Besco-Detection/Normal-People/01.jpeg')\n",
        "image=cv2.cvtColor(image,cv2.COLOR_BGR2RGB)\n",
        "image=cv2.resize(image,(width,height))\n",
        "\n",
        "image=image/255\n",
        "image=image.reshape(1,224,224,3)\n",
        "pred=model.predict(image)\n",
        "pred\n"
      ],
      "execution_count": 45,
      "outputs": [
        {
          "output_type": "execute_result",
          "data": {
            "text/plain": [
              "array([[0.42906323, 0.5709368 ]], dtype=float32)"
            ]
          },
          "metadata": {},
          "execution_count": 45
        }
      ]
    },
    {
      "cell_type": "code",
      "metadata": {
        "colab": {
          "base_uri": "https://localhost:8080/"
        },
        "id": "9U_cqGJcWHdp",
        "outputId": "66662121-c619-4b7c-b964-b2db7da4b796"
      },
      "source": [
        "np.argmax(pred)"
      ],
      "execution_count": 46,
      "outputs": [
        {
          "output_type": "execute_result",
          "data": {
            "text/plain": [
              "1"
            ]
          },
          "metadata": {},
          "execution_count": 46
        }
      ]
    }
  ]
}