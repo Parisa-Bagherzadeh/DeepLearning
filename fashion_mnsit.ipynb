{
  "nbformat": 4,
  "nbformat_minor": 0,
  "metadata": {
    "colab": {
      "name": "fashion_mnsit.ipynb",
      "provenance": []
    },
    "kernelspec": {
      "name": "python3",
      "display_name": "Python 3"
    },
    "language_info": {
      "name": "python"
    }
  },
  "cells": [
    {
      "cell_type": "code",
      "metadata": {
        "id": "jDqam22o-ZYg"
      },
      "source": [
        "import tensorflow as tf\n",
        "from tensorflow.keras.layers import Dense\n",
        "import matplotlib.pyplot as plt\n",
        "from sklearn.model_selection import train_test_split\n",
        "from tensorflow.keras import layers"
      ],
      "execution_count": 16,
      "outputs": []
    },
    {
      "cell_type": "code",
      "metadata": {
        "id": "1ZjFzPEN-2dv"
      },
      "source": [
        "dataset=tf.keras.datasets.fashion_mnist\n",
        "(X_train,Y_train),(X_test,Y_test)=dataset.load_data()\n",
        "(X_train_deep,Y_train_deep),(X_test_deep,Y_test_deep)=dataset.load_data()"
      ],
      "execution_count": 17,
      "outputs": []
    },
    {
      "cell_type": "code",
      "metadata": {
        "colab": {
          "base_uri": "https://localhost:8080/",
          "height": 284
        },
        "id": "2QzNbA9n_ETz",
        "outputId": "6068a059-b8a1-430f-d94d-57b3ea31585f"
      },
      "source": [
        "plt.imshow(X_train[28],cmap='gray')\n",
        "print(Y_train[28])"
      ],
      "execution_count": 18,
      "outputs": [
        {
          "output_type": "stream",
          "name": "stdout",
          "text": [
            "4\n"
          ]
        },
        {
          "output_type": "display_data",
          "data": {
            "image/png": "[encoded data removed]",
            "text/plain": [
              "<Figure size 432x288 with 1 Axes>"
            ]
          },
          "metadata": {
            "needs_background": "light"
          }
        }
      ]
    },
    {
      "cell_type": "code",
      "metadata": {
        "colab": {
          "base_uri": "https://localhost:8080/"
        },
        "id": "Sku8KQXU_KTR",
        "outputId": "4a8c6e3b-109a-4757-bc35-58caf7264c8e"
      },
      "source": [
        "print(X_train.shape)\n",
        "print(Y_train.shape)"
      ],
      "execution_count": 19,
      "outputs": [
        {
          "output_type": "stream",
          "name": "stdout",
          "text": [
            "(60000, 28, 28)\n",
            "(60000,)\n"
          ]
        }
      ]
    },
    {
      "cell_type": "code",
      "metadata": {
        "id": "-M15msWj_Oz5"
      },
      "source": [
        "X_train=X_train.reshape(60000,784)\n"
      ],
      "execution_count": 20,
      "outputs": []
    },
    {
      "cell_type": "code",
      "metadata": {
        "id": "KJ-P0DPRR5y1"
      },
      "source": [
        "X_train,X_valid,Y_train,Y_valid=train_test_split(X_train,Y_train,test_size=0.2,random_state=42)"
      ],
      "execution_count": 21,
      "outputs": []
    },
    {
      "cell_type": "code",
      "metadata": {
        "id": "UAEF9oYZ_aX1"
      },
      "source": [
        "model=tf.keras.models.Sequential([\n",
        "    Dense(64,input_dim=784,activation='relu'),#input_layer\n",
        "    Dense(32,activation='relu'),\n",
        "    Dense(10,activation='softmax')#output_layer\n",
        "\n",
        "])"
      ],
      "execution_count": 22,
      "outputs": []
    },
    {
      "cell_type": "code",
      "metadata": {
        "id": "BojcA2YC_f2d"
      },
      "source": [
        "model.compile(optimizer=tf.keras.optimizers.Adam(),\n",
        "              loss=tf.keras.losses.sparse_categorical_crossentropy,\n",
        "              metrics='accuracy')"
      ],
      "execution_count": 23,
      "outputs": []
    },
    {
      "cell_type": "code",
      "metadata": {
        "colab": {
          "base_uri": "https://localhost:8080/"
        },
        "id": "kzprFgEo_hbO",
        "outputId": "dbf5d3c9-85da-43b1-e164-0e2405404568"
      },
      "source": [
        "model.fit(X_train,Y_train,validation_data=(X_valid,Y_valid),epochs=10)"
      ],
      "execution_count": 24,
      "outputs": [
        {
          "output_type": "stream",
          "name": "stdout",
          "text": [
            "Epoch 1/10\n",
            "1500/1500 [==============================] - 3s 2ms/step - loss: 2.6851 - accuracy: 0.7103 - val_loss: 0.7994 - val_accuracy: 0.7604\n",
            "Epoch 2/10\n",
            "1500/1500 [==============================] - 3s 2ms/step - loss: 0.6708 - accuracy: 0.7858 - val_loss: 0.6389 - val_accuracy: 0.7949\n",
            "Epoch 3/10\n",
            "1500/1500 [==============================] - 3s 2ms/step - loss: 0.5877 - accuracy: 0.8055 - val_loss: 0.5314 - val_accuracy: 0.8232\n",
            "Epoch 4/10\n",
            "1500/1500 [==============================] - 3s 2ms/step - loss: 0.5374 - accuracy: 0.8164 - val_loss: 0.4983 - val_accuracy: 0.8265\n",
            "Epoch 5/10\n",
            "1500/1500 [==============================] - 3s 2ms/step - loss: 0.5128 - accuracy: 0.8246 - val_loss: 0.4878 - val_accuracy: 0.8319\n",
            "Epoch 6/10\n",
            "1500/1500 [==============================] - 3s 2ms/step - loss: 0.4903 - accuracy: 0.8303 - val_loss: 0.4597 - val_accuracy: 0.8400\n",
            "Epoch 7/10\n",
            "1500/1500 [==============================] - 3s 2ms/step - loss: 0.4912 - accuracy: 0.8314 - val_loss: 0.5209 - val_accuracy: 0.8322\n",
            "Epoch 8/10\n",
            "1500/1500 [==============================] - 3s 2ms/step - loss: 0.4717 - accuracy: 0.8373 - val_loss: 0.4946 - val_accuracy: 0.8304\n",
            "Epoch 9/10\n",
            "1500/1500 [==============================] - 3s 2ms/step - loss: 0.4542 - accuracy: 0.8419 - val_loss: 0.4767 - val_accuracy: 0.8439\n",
            "Epoch 10/10\n",
            "1500/1500 [==============================] - 3s 2ms/step - loss: 0.4445 - accuracy: 0.8470 - val_loss: 0.5045 - val_accuracy: 0.8391\n"
          ]
        },
        {
          "output_type": "execute_result",
          "data": {
            "text/plain": [
              "<keras.callbacks.History at 0x7fde6d469710>"
            ]
          },
          "metadata": {},
          "execution_count": 24
        }
      ]
    },
    {
      "cell_type": "code",
      "metadata": {
        "colab": {
          "base_uri": "https://localhost:8080/"
        },
        "id": "BBT6fJGnUfdi",
        "outputId": "1b3c38d9-bfae-4cc0-f26f-471a623de315"
      },
      "source": [
        "print(X_test.shape)\n",
        "print(Y_test.shape)\n",
        "X_test=X_test.reshape(10000,784)\n",
        "print(X_test.shape)\n"
      ],
      "execution_count": 25,
      "outputs": [
        {
          "output_type": "stream",
          "name": "stdout",
          "text": [
            "(10000, 28, 28)\n",
            "(10000,)\n",
            "(10000, 784)\n"
          ]
        }
      ]
    },
    {
      "cell_type": "code",
      "metadata": {
        "colab": {
          "base_uri": "https://localhost:8080/"
        },
        "id": "Ox8cafRpUlhY",
        "outputId": "da5a7b2d-6b4a-44af-de27-f03c7b176163"
      },
      "source": [
        "accuracy = model.evaluate(X_test,Y_test)\n",
        "\n",
        "print(\"accuracy =\", accuracy)"
      ],
      "execution_count": 26,
      "outputs": [
        {
          "output_type": "stream",
          "name": "stdout",
          "text": [
            "313/313 [==============================] - 1s 2ms/step - loss: 0.5371 - accuracy: 0.8280\n",
            "accuracy = [0.5371023416519165, 0.828000009059906]\n"
          ]
        }
      ]
    },
    {
      "cell_type": "code",
      "metadata": {
        "colab": {
          "base_uri": "https://localhost:8080/"
        },
        "id": "-WRG4ax8UxDh",
        "outputId": "4de4c565-deb4-4c77-916a-c83662bca70a"
      },
      "source": [
        "\n",
        "\n",
        "X_train_deep,X_test_deep = X_train_deep/255.0, X_test_deep/255.0\n",
        "\n",
        "model = tf.keras.models.Sequential([\n",
        "  tf.keras.layers.Flatten(input_shape=(28, 28)),\n",
        "  tf.keras.layers.Dense(128, activation='relu'),\n",
        "  tf.keras.layers.Dropout(0.2),\n",
        "  tf.keras.layers.Dense(10, activation='softmax')\n",
        "])\n",
        "\n",
        "model.compile(optimizer='adam',\n",
        "              loss='sparse_categorical_crossentropy',\n",
        "              metrics=['accuracy'])\n",
        "\n",
        "model.fit(X_train_deep,Y_train_deep, epochs=10)\n",
        "model.evaluate(X_test_deep, Y_test_deep)\n"
      ],
      "execution_count": 27,
      "outputs": [
        {
          "output_type": "stream",
          "name": "stdout",
          "text": [
            "Epoch 1/10\n",
            "1875/1875 [==============================] - 4s 2ms/step - loss: 0.5345 - accuracy: 0.8113\n",
            "Epoch 2/10\n",
            "1875/1875 [==============================] - 3s 2ms/step - loss: 0.4017 - accuracy: 0.8543\n",
            "Epoch 3/10\n",
            "1875/1875 [==============================] - 3s 2ms/step - loss: 0.3679 - accuracy: 0.8655\n",
            "Epoch 4/10\n",
            "1875/1875 [==============================] - 3s 2ms/step - loss: 0.3453 - accuracy: 0.8727\n",
            "Epoch 5/10\n",
            "1875/1875 [==============================] - 3s 2ms/step - loss: 0.3305 - accuracy: 0.8779\n",
            "Epoch 6/10\n",
            "1875/1875 [==============================] - 3s 2ms/step - loss: 0.3158 - accuracy: 0.8827\n",
            "Epoch 7/10\n",
            "1875/1875 [==============================] - 3s 2ms/step - loss: 0.3061 - accuracy: 0.8855\n",
            "Epoch 8/10\n",
            "1875/1875 [==============================] - 3s 2ms/step - loss: 0.2984 - accuracy: 0.8888\n",
            "Epoch 9/10\n",
            "1875/1875 [==============================] - 3s 2ms/step - loss: 0.2900 - accuracy: 0.8912\n",
            "Epoch 10/10\n",
            "1875/1875 [==============================] - 3s 2ms/step - loss: 0.2807 - accuracy: 0.8947\n",
            "313/313 [==============================] - 0s 1ms/step - loss: 0.3353 - accuracy: 0.8823\n"
          ]
        },
        {
          "output_type": "execute_result",
          "data": {
            "text/plain": [
              "[0.33526381850242615, 0.8823000192642212]"
            ]
          },
          "metadata": {},
          "execution_count": 27
        }
      ]
    },
    {
      "cell_type": "code",
      "metadata": {
        "colab": {
          "base_uri": "https://localhost:8080/"
        },
        "id": "uLWqqjhP1-Xz",
        "outputId": "98bea0a9-98f7-44cb-a739-5ffffd2c3340"
      },
      "source": [
        "X_train_deep, X_test_deep = X_train_deep / 255.0, X_test_deep / 255.0\n",
        "\n",
        "X_train_deep=X_train_deep.reshape(X_train_deep.shape[0],X_train_deep.shape[1],X_train_deep.shape[2],1)\n",
        "X_test_deep=X_test_deep.reshape(X_test_deep.shape[0],X_test_deep.shape[1],X_test_deep.shape[2],1)\n",
        "deep_model=tf.keras.models.Sequential([\n",
        "                                       layers.Conv2D(32,(5,5),activation='relu',input_shape=(28,28,1)),\n",
        "                                       #layers.Conv2D(64,(3,3),activation='relu'),\n",
        "                                       layers.Flatten(),\n",
        "                                       layers.Dense(64,activation='relu'),\n",
        "                                       layers.Dense(10,activation='softmax')\n",
        "])\n",
        "deep_model.compile(optimizer=tf.keras.optimizers.Adam(),\n",
        "              loss=tf.keras.losses.sparse_categorical_crossentropy,\n",
        "              metrics='accuracy')\n",
        "\n",
        "deep_model.fit(X_train_deep, Y_train_deep, epochs=2)\n",
        "deep_model.evaluate(X_test_deep, Y_test_deep)"
      ],
      "execution_count": 28,
      "outputs": [
        {
          "output_type": "stream",
          "name": "stdout",
          "text": [
            "Epoch 1/2\n",
            "1875/1875 [==============================] - 37s 19ms/step - loss: 0.8220 - accuracy: 0.7010\n",
            "Epoch 2/2\n",
            "1875/1875 [==============================] - 36s 19ms/step - loss: 0.5685 - accuracy: 0.7904\n",
            "313/313 [==============================] - 2s 5ms/step - loss: 0.5461 - accuracy: 0.7987\n"
          ]
        },
        {
          "output_type": "execute_result",
          "data": {
            "text/plain": [
              "[0.546076774597168, 0.7986999750137329]"
            ]
          },
          "metadata": {},
          "execution_count": 28
        }
      ]
    }
  ]
}