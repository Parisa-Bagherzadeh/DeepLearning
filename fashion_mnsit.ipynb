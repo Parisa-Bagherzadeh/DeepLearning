{
  "nbformat": 4,
  "nbformat_minor": 0,
  "metadata": {
    "colab": {
      "name": "fashion_mnsit.ipynb",
      "provenance": []
    },
    "kernelspec": {
      "name": "python3",
      "display_name": "Python 3"
    },
    "language_info": {
      "name": "python"
    }
  },
  "cells": [
    {
      "cell_type": "code",
      "metadata": {
        "id": "jDqam22o-ZYg"
      },
      "source": [
        "import tensorflow as tf\n",
        "from tensorflow.keras.layers import Dense\n",
        "import matplotlib.pyplot as plt\n",
        "from sklearn.model_selection import train_test_split\n",
        "from tensorflow.keras import layers"
      ],
      "execution_count": 14,
      "outputs": []
    },
    {
      "cell_type": "code",
      "metadata": {
        "id": "1ZjFzPEN-2dv",
        "colab": {
          "base_uri": "https://localhost:8080/"
        },
        "outputId": "cc3e2673-4b37-4b87-bde5-d438be0da6ac"
      },
      "source": [
        "dataset=tf.keras.datasets.fashion_mnist\n",
        "(X_train,Y_train),(X_test,Y_test)=dataset.load_data()\n",
        "(X_train_deep,Y_train_deep),(X_test_deep,Y_test_deep)=dataset.load_data()"
      ],
      "execution_count": 2,
      "outputs": [
        {
          "output_type": "stream",
          "name": "stdout",
          "text": [
            "Downloading data from https://storage.googleapis.com/tensorflow/tf-keras-datasets/train-labels-idx1-ubyte.gz\n",
            "32768/29515 [=================================] - 0s 0us/step\n",
            "40960/29515 [=========================================] - 0s 0us/step\n",
            "Downloading data from https://storage.googleapis.com/tensorflow/tf-keras-datasets/train-images-idx3-ubyte.gz\n",
            "26427392/26421880 [==============================] - 0s 0us/step\n",
            "26435584/26421880 [==============================] - 0s 0us/step\n",
            "Downloading data from https://storage.googleapis.com/tensorflow/tf-keras-datasets/t10k-labels-idx1-ubyte.gz\n",
            "16384/5148 [===============================================================================================] - 0s 0us/step\n",
            "Downloading data from https://storage.googleapis.com/tensorflow/tf-keras-datasets/t10k-images-idx3-ubyte.gz\n",
            "4423680/4422102 [==============================] - 0s 0us/step\n",
            "4431872/4422102 [==============================] - 0s 0us/step\n"
          ]
        }
      ]
    },
    {
      "cell_type": "code",
      "metadata": {
        "colab": {
          "base_uri": "https://localhost:8080/",
          "height": 284
        },
        "id": "2QzNbA9n_ETz",
        "outputId": "7139d672-7891-4a97-ffcf-97c35b209028"
      },
      "source": [
        "plt.imshow(X_train[28],cmap='gray')\n",
        "print(Y_train[28])"
      ],
      "execution_count": 3,
      "outputs": [
        {
          "output_type": "stream",
          "name": "stdout",
          "text": [
            "4\n"
          ]
        },
        {
          "output_type": "display_data",
          "data": {
            "image/png": "[encoded data removed]",
            "text/plain": [
              "<Figure size 432x288 with 1 Axes>"
            ]
          },
          "metadata": {
            "needs_background": "light"
          }
        }
      ]
    },
    {
      "cell_type": "code",
      "metadata": {
        "colab": {
          "base_uri": "https://localhost:8080/"
        },
        "id": "Sku8KQXU_KTR",
        "outputId": "142d42ec-7521-406e-aaa2-3a2d2f8ed1a1"
      },
      "source": [
        "print(X_train.shape)\n",
        "print(Y_train.shape)"
      ],
      "execution_count": 4,
      "outputs": [
        {
          "output_type": "stream",
          "name": "stdout",
          "text": [
            "(60000, 28, 28)\n",
            "(60000,)\n"
          ]
        }
      ]
    },
    {
      "cell_type": "code",
      "metadata": {
        "id": "-M15msWj_Oz5"
      },
      "source": [
        "X_train=X_train.reshape(60000,784)\n"
      ],
      "execution_count": 5,
      "outputs": []
    },
    {
      "cell_type": "code",
      "metadata": {
        "id": "KJ-P0DPRR5y1"
      },
      "source": [
        "X_train,X_valid,Y_train,Y_valid=train_test_split(X_train,Y_train,test_size=0.2,random_state=42)"
      ],
      "execution_count": 6,
      "outputs": []
    },
    {
      "cell_type": "code",
      "metadata": {
        "id": "UAEF9oYZ_aX1"
      },
      "source": [
        "model=tf.keras.models.Sequential([\n",
        "    Dense(64,input_dim=784,activation='relu'),#input_layer\n",
        "    Dense(32,activation='relu'),\n",
        "    Dense(10,activation='softmax')#output_layer\n",
        "\n",
        "])"
      ],
      "execution_count": 7,
      "outputs": []
    },
    {
      "cell_type": "code",
      "metadata": {
        "id": "BojcA2YC_f2d"
      },
      "source": [
        "model.compile(optimizer=tf.keras.optimizers.Adam(),\n",
        "              loss=tf.keras.losses.sparse_categorical_crossentropy,\n",
        "              metrics='accuracy')"
      ],
      "execution_count": 8,
      "outputs": []
    },
    {
      "cell_type": "code",
      "metadata": {
        "colab": {
          "base_uri": "https://localhost:8080/"
        },
        "id": "kzprFgEo_hbO",
        "outputId": "408a1ffd-7f92-49b7-823c-a8d740dd0ac1"
      },
      "source": [
        "model.fit(X_train,Y_train,validation_data=(X_valid,Y_valid),epochs=10)"
      ],
      "execution_count": 9,
      "outputs": [
        {
          "output_type": "stream",
          "name": "stdout",
          "text": [
            "Epoch 1/10\n",
            "1500/1500 [==============================] - 4s 2ms/step - loss: 2.7977 - accuracy: 0.7084 - val_loss: 0.7549 - val_accuracy: 0.7686\n",
            "Epoch 2/10\n",
            "1500/1500 [==============================] - 3s 2ms/step - loss: 0.6739 - accuracy: 0.7818 - val_loss: 0.7114 - val_accuracy: 0.7650\n",
            "Epoch 3/10\n",
            "1500/1500 [==============================] - 3s 2ms/step - loss: 0.5859 - accuracy: 0.8055 - val_loss: 0.6566 - val_accuracy: 0.7797\n",
            "Epoch 4/10\n",
            "1500/1500 [==============================] - 3s 2ms/step - loss: 0.5484 - accuracy: 0.8139 - val_loss: 0.5302 - val_accuracy: 0.8284\n",
            "Epoch 5/10\n",
            "1500/1500 [==============================] - 3s 2ms/step - loss: 0.5230 - accuracy: 0.8196 - val_loss: 0.5997 - val_accuracy: 0.8208\n",
            "Epoch 6/10\n",
            "1500/1500 [==============================] - 3s 2ms/step - loss: 0.5111 - accuracy: 0.8250 - val_loss: 0.5453 - val_accuracy: 0.8174\n",
            "Epoch 7/10\n",
            "1500/1500 [==============================] - 3s 2ms/step - loss: 0.4890 - accuracy: 0.8330 - val_loss: 0.5558 - val_accuracy: 0.8189\n",
            "Epoch 8/10\n",
            "1500/1500 [==============================] - 3s 2ms/step - loss: 0.4715 - accuracy: 0.8387 - val_loss: 0.5361 - val_accuracy: 0.8280\n",
            "Epoch 9/10\n",
            "1500/1500 [==============================] - 3s 2ms/step - loss: 0.4676 - accuracy: 0.8395 - val_loss: 0.4841 - val_accuracy: 0.8373\n",
            "Epoch 10/10\n",
            "1500/1500 [==============================] - 3s 2ms/step - loss: 0.4483 - accuracy: 0.8434 - val_loss: 0.5209 - val_accuracy: 0.8327\n"
          ]
        },
        {
          "output_type": "execute_result",
          "data": {
            "text/plain": [
              "<keras.callbacks.History at 0x7fde70c424d0>"
            ]
          },
          "metadata": {},
          "execution_count": 9
        }
      ]
    },
    {
      "cell_type": "code",
      "metadata": {
        "colab": {
          "base_uri": "https://localhost:8080/"
        },
        "id": "BBT6fJGnUfdi",
        "outputId": "464dbb56-2294-4575-c63c-752d6ec4d049"
      },
      "source": [
        "print(X_test.shape)\n",
        "print(Y_test.shape)\n",
        "X_test=X_test.reshape(10000,784)\n",
        "print(X_test.shape)\n"
      ],
      "execution_count": 10,
      "outputs": [
        {
          "output_type": "stream",
          "name": "stdout",
          "text": [
            "(10000, 28, 28)\n",
            "(10000,)\n",
            "(10000, 784)\n"
          ]
        }
      ]
    },
    {
      "cell_type": "code",
      "metadata": {
        "colab": {
          "base_uri": "https://localhost:8080/"
        },
        "id": "Ox8cafRpUlhY",
        "outputId": "222a83d6-476a-45f0-c91d-882c2be73b23"
      },
      "source": [
        "accuracy = model.evaluate(X_test,Y_test)\n",
        "\n",
        "print(\"accuracy =\", accuracy)"
      ],
      "execution_count": 11,
      "outputs": [
        {
          "output_type": "stream",
          "name": "stdout",
          "text": [
            "313/313 [==============================] - 1s 1ms/step - loss: 0.5526 - accuracy: 0.8207\n",
            "accuracy = [0.5525524616241455, 0.8206999897956848]\n"
          ]
        }
      ]
    },
    {
      "cell_type": "code",
      "metadata": {
        "colab": {
          "base_uri": "https://localhost:8080/"
        },
        "id": "-WRG4ax8UxDh",
        "outputId": "409e407b-873d-4761-ed8c-6b5fa49cbab0"
      },
      "source": [
        "\n",
        "\n",
        "X_train_deep,X_test_deep = X_train_deep/255.0, X_test_deep/255.0\n",
        "\n",
        "model = tf.keras.models.Sequential([\n",
        "  tf.keras.layers.Flatten(input_shape=(28, 28)),\n",
        "  tf.keras.layers.Dense(128, activation='relu'),\n",
        "  tf.keras.layers.Dropout(0.2),\n",
        "  tf.keras.layers.Dense(10, activation='softmax')\n",
        "])\n",
        "\n",
        "model.compile(optimizer='adam',\n",
        "              loss='sparse_categorical_crossentropy',\n",
        "              metrics=['accuracy'])\n",
        "\n",
        "model.fit(X_train_deep,Y_train_deep, epochs=10)\n",
        "model.evaluate(X_test_deep, Y_test_deep)\n"
      ],
      "execution_count": 12,
      "outputs": [
        {
          "output_type": "stream",
          "name": "stdout",
          "text": [
            "Epoch 1/10\n",
            "1875/1875 [==============================] - 4s 2ms/step - loss: 0.5343 - accuracy: 0.8117\n",
            "Epoch 2/10\n",
            "1875/1875 [==============================] - 3s 2ms/step - loss: 0.3996 - accuracy: 0.8566\n",
            "Epoch 3/10\n",
            "1875/1875 [==============================] - 3s 2ms/step - loss: 0.3650 - accuracy: 0.8667\n",
            "Epoch 4/10\n",
            "1875/1875 [==============================] - 3s 2ms/step - loss: 0.3455 - accuracy: 0.8741\n",
            "Epoch 5/10\n",
            "1875/1875 [==============================] - 3s 2ms/step - loss: 0.3274 - accuracy: 0.8800\n",
            "Epoch 6/10\n",
            "1875/1875 [==============================] - 3s 2ms/step - loss: 0.3167 - accuracy: 0.8826\n",
            "Epoch 7/10\n",
            "1875/1875 [==============================] - 3s 2ms/step - loss: 0.3025 - accuracy: 0.8882\n",
            "Epoch 8/10\n",
            "1875/1875 [==============================] - 3s 2ms/step - loss: 0.2962 - accuracy: 0.8902\n",
            "Epoch 9/10\n",
            "1875/1875 [==============================] - 3s 2ms/step - loss: 0.2893 - accuracy: 0.8931\n",
            "Epoch 10/10\n",
            "1875/1875 [==============================] - 3s 2ms/step - loss: 0.2812 - accuracy: 0.8952\n",
            "313/313 [==============================] - 0s 1ms/step - loss: 0.3659 - accuracy: 0.8682\n"
          ]
        },
        {
          "output_type": "execute_result",
          "data": {
            "text/plain": [
              "[0.36590659618377686, 0.8682000041007996]"
            ]
          },
          "metadata": {},
          "execution_count": 12
        }
      ]
    },
    {
      "cell_type": "code",
      "metadata": {
        "colab": {
          "base_uri": "https://localhost:8080/"
        },
        "id": "uLWqqjhP1-Xz",
        "outputId": "9412d2a8-98ba-485d-e290-bd2aa16036e6"
      },
      "source": [
        "X_train_deep, X_test_deep = X_train_deep / 255.0, X_test_deep / 255.0\n",
        "\n",
        "X_train_deep=X_train_deep.reshape(X_train_deep.shape[0],X_train_deep.shape[1],X_train_deep.shape[2],1)\n",
        "X_test_deep=X_test_deep.reshape(X_test_deep.shape[0],X_test_deep.shape[1],X_test_deep.shape[2],1)\n",
        "deep_model=tf.keras.models.Sequential([\n",
        "                                       layers.Conv2D(32,(5,5),activation='relu',input_shape=(28,28,1)),\n",
        "                                       layers.Conv2D(64,(3,3),activation='relu'),\n",
        "                                       layers.Flatten(),\n",
        "                                       layers.Dense(64,activation='relu'),\n",
        "                                       layers.Dense(10,activation='softmax')\n",
        "])\n",
        "deep_model.compile(optimizer=tf.keras.optimizers.Adam(),\n",
        "              loss=tf.keras.losses.sparse_categorical_crossentropy,\n",
        "              metrics='accuracy')\n",
        "\n",
        "deep_model.fit(X_train_deep, Y_train_deep, epochs=3)\n",
        "deep_model.evaluate(X_test_deep, Y_test_deep)"
      ],
      "execution_count": 15,
      "outputs": [
        {
          "output_type": "stream",
          "name": "stdout",
          "text": [
            "Epoch 1/3\n",
            "1875/1875 [==============================] - 131s 69ms/step - loss: 2.3028 - accuracy: 0.0999\n",
            "Epoch 2/3\n",
            "1875/1875 [==============================] - 130s 69ms/step - loss: 2.3028 - accuracy: 0.0982\n",
            "Epoch 3/3\n",
            "1875/1875 [==============================] - 130s 69ms/step - loss: 2.3028 - accuracy: 0.0969\n",
            "313/313 [==============================] - 5s 16ms/step - loss: 2.3027 - accuracy: 0.1000\n"
          ]
        },
        {
          "output_type": "execute_result",
          "data": {
            "text/plain": [
              "[2.302691698074341, 0.10000000149011612]"
            ]
          },
          "metadata": {},
          "execution_count": 15
        }
      ]
    }
  ]
}