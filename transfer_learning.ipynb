{
  "nbformat": 4,
  "nbformat_minor": 0,
  "metadata": {
    "colab": {
      "provenance": []
    },
    "kernelspec": {
      "name": "python3",
      "display_name": "Python 3"
    },
    "language_info": {
      "name": "python"
    }
  },
  "cells": [
    {
      "cell_type": "code",
      "execution_count": null,
      "metadata": {
        "id": "HprFoTjsLFWU"
      },
      "outputs": [],
      "source": [
        "import tensorflow as tf\n",
        "from tensorflow.keras import layers, models\n",
        "from tensorflow.keras.datasets import cifar10\n",
        "import matplotlib.pyplot as plt\n",
        "from tensorflow.keras.preprocessing.image import ImageDataGenerator\n",
        "from tensorflow.keras.optimizers import Adam, SGD\n",
        "from tensorflow.keras.regularizers import l2"
      ]
    },
    {
      "cell_type": "code",
      "source": [
        "(train_images, train_labels), (test_images, test_labels) = cifar10.load_data()\n",
        "\n",
        "val_images, val_labels = train_images[-5000:], train_labels[-5000:]\n",
        "train_images, train_labels = train_images[:-5000], train_labels[:-5000]\n",
        "\n",
        "train_images, val_images, test_images = train_images / 255.0, val_images / 255.0, test_images / 255.0\n",
        "\n",
        "print(train_images.shape)\n",
        "print(train_labels.shape)\n",
        "print(val_images.shape)\n",
        "print(val_labels.shape)"
      ],
      "metadata": {
        "id": "pqDEsbhWLHtt"
      },
      "execution_count": null,
      "outputs": []
    },
    {
      "cell_type": "code",
      "source": [
        "base_model = tf.keras.applications.VGG16(input_shape=(32, 32, 3),\n",
        "                                               include_top=False,\n",
        "                                               weights='imagenet',\n",
        "                                               pooling = \"avg\",\n",
        "                                               )\n",
        "base_model.trainable = False"
      ],
      "metadata": {
        "id": "RhYiWN98LKZ-"
      },
      "execution_count": null,
      "outputs": []
    },
    {
      "cell_type": "code",
      "source": [
        "\n",
        "model = models.Sequential([\n",
        "    base_model,\n",
        "    layers.Dropout(0.5),\n",
        "    layers.Dense(10, activation='softmax')\n",
        "])"
      ],
      "metadata": {
        "id": "T9baoOq0LNl7"
      },
      "execution_count": null,
      "outputs": []
    },
    {
      "cell_type": "code",
      "source": [
        "lr = 0.001\n",
        "\n",
        "model.compile(optimizer = Adam(learning_rate = lr),\n",
        "              loss='sparse_categorical_crossentropy',\n",
        "              metrics=['accuracy'])"
      ],
      "metadata": {
        "id": "Y81Hv4NCLOdV"
      },
      "execution_count": null,
      "outputs": []
    },
    {
      "cell_type": "code",
      "source": [
        "model.summary()"
      ],
      "metadata": {
        "id": "WKoCbuXnLWT-"
      },
      "execution_count": null,
      "outputs": []
    },
    {
      "cell_type": "code",
      "source": [
        "history = model.fit(train_images, train_labels, epochs = 100, validation_data=(val_images, val_labels))"
      ],
      "metadata": {
        "id": "MSVJ-L4rLYDY"
      },
      "execution_count": null,
      "outputs": []
    }
  ]
}